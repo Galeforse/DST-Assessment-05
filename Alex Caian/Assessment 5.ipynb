{
 "cells": [
  {
   "cell_type": "code",
   "execution_count": 1,
   "metadata": {},
   "outputs": [],
   "source": [
    "import findspark\n",
    "findspark.init()"
   ]
  },
  {
   "cell_type": "code",
   "execution_count": 2,
   "metadata": {},
   "outputs": [
    {
     "name": "stderr",
     "output_type": "stream",
     "text": [
      "/Users/User-MC/opt/anaconda3/lib/python3.7/site-packages/gensim/similarities/__init__.py:15: UserWarning: The gensim.similarities.levenshtein submodule is disabled, because the optional Levenshtein package <https://pypi.org/project/python-Levenshtein/> is unavailable. Install Levenhstein (e.g. `pip install python-Levenshtein`) to suppress this warning.\n",
      "  warnings.warn(msg)\n"
     ]
    }
   ],
   "source": [
    "import datetime\n",
    "import pickle\n",
    "from urllib.request import urlopen\n",
    "import os\n",
    "import pandas as pd\n",
    "import numpy as np\n",
    "import gensim\n",
    "import pickle\n",
    "import matplotlib.pyplot as plt"
   ]
  },
  {
   "cell_type": "code",
   "execution_count": 3,
   "metadata": {},
   "outputs": [],
   "source": [
    "df = pd.read_csv('https://raw.githubusercontent.com/Galeforse/DST-Assessment-05/main/Data/NCSC%20Reports.csv')"
   ]
  },
  {
   "cell_type": "code",
   "execution_count": 4,
   "metadata": {},
   "outputs": [
    {
     "data": {
      "text/html": [
       "<div>\n",
       "<style scoped>\n",
       "    .dataframe tbody tr th:only-of-type {\n",
       "        vertical-align: middle;\n",
       "    }\n",
       "\n",
       "    .dataframe tbody tr th {\n",
       "        vertical-align: top;\n",
       "    }\n",
       "\n",
       "    .dataframe thead th {\n",
       "        text-align: right;\n",
       "    }\n",
       "</style>\n",
       "<table border=\"1\" class=\"dataframe\">\n",
       "  <thead>\n",
       "    <tr style=\"text-align: right;\">\n",
       "      <th></th>\n",
       "      <th>Unnamed: 0</th>\n",
       "      <th>Title</th>\n",
       "      <th>Article</th>\n",
       "      <th>topics</th>\n",
       "      <th>Links</th>\n",
       "    </tr>\n",
       "  </thead>\n",
       "  <tbody>\n",
       "    <tr>\n",
       "      <td>0</td>\n",
       "      <td>0</td>\n",
       "      <td>23rd April 2021</td>\n",
       "      <td>['The NCSC is aware that a malicious piece of ...</td>\n",
       "      <td>['Cyber attack', 'Cyber strategy', 'Education'...</td>\n",
       "      <td>https://www.ncsc.gov.uk/report/weekly-threat-r...</td>\n",
       "    </tr>\n",
       "    <tr>\n",
       "      <td>1</td>\n",
       "      <td>1</td>\n",
       "      <td>16th April 2021</td>\n",
       "      <td>['Cyber security researchers have uncovered a ...</td>\n",
       "      <td>['Cyber strategy', 'Patching', 'Vulnerabilities']</td>\n",
       "      <td>https://www.ncsc.gov.uk/report/weekly-threat-r...</td>\n",
       "    </tr>\n",
       "    <tr>\n",
       "      <td>2</td>\n",
       "      <td>2</td>\n",
       "      <td>12th April 2021</td>\n",
       "      <td>['Cyber security researchers, Esentire, have w...</td>\n",
       "      <td>['Phishing', 'Social media', 'Personal data', ...</td>\n",
       "      <td>https://www.ncsc.gov.uk/report/weekly-threat-r...</td>\n",
       "    </tr>\n",
       "    <tr>\n",
       "      <td>3</td>\n",
       "      <td>3</td>\n",
       "      <td>2nd April 2021</td>\n",
       "      <td>['The UK education sector continues to face an...</td>\n",
       "      <td>['Education', 'Incident management', 'Secure d...</td>\n",
       "      <td>https://www.ncsc.gov.uk/report/weekly-threat-r...</td>\n",
       "    </tr>\n",
       "    <tr>\n",
       "      <td>4</td>\n",
       "      <td>4</td>\n",
       "      <td>26th March 2021</td>\n",
       "      <td>['Earlier this month Microsoft confirmed that ...</td>\n",
       "      <td>['Cyber attack', 'Education', 'Mitigation', 'P...</td>\n",
       "      <td>https://www.ncsc.gov.uk/report/weekly-threat-r...</td>\n",
       "    </tr>\n",
       "  </tbody>\n",
       "</table>\n",
       "</div>"
      ],
      "text/plain": [
       "   Unnamed: 0            Title  \\\n",
       "0           0  23rd April 2021   \n",
       "1           1  16th April 2021   \n",
       "2           2  12th April 2021   \n",
       "3           3   2nd April 2021   \n",
       "4           4  26th March 2021   \n",
       "\n",
       "                                             Article  \\\n",
       "0  ['The NCSC is aware that a malicious piece of ...   \n",
       "1  ['Cyber security researchers have uncovered a ...   \n",
       "2  ['Cyber security researchers, Esentire, have w...   \n",
       "3  ['The UK education sector continues to face an...   \n",
       "4  ['Earlier this month Microsoft confirmed that ...   \n",
       "\n",
       "                                              topics  \\\n",
       "0  ['Cyber attack', 'Cyber strategy', 'Education'...   \n",
       "1  ['Cyber strategy', 'Patching', 'Vulnerabilities']   \n",
       "2  ['Phishing', 'Social media', 'Personal data', ...   \n",
       "3  ['Education', 'Incident management', 'Secure d...   \n",
       "4  ['Cyber attack', 'Education', 'Mitigation', 'P...   \n",
       "\n",
       "                                               Links  \n",
       "0  https://www.ncsc.gov.uk/report/weekly-threat-r...  \n",
       "1  https://www.ncsc.gov.uk/report/weekly-threat-r...  \n",
       "2  https://www.ncsc.gov.uk/report/weekly-threat-r...  \n",
       "3  https://www.ncsc.gov.uk/report/weekly-threat-r...  \n",
       "4  https://www.ncsc.gov.uk/report/weekly-threat-r...  "
      ]
     },
     "execution_count": 4,
     "metadata": {},
     "output_type": "execute_result"
    }
   ],
   "source": [
    "df.head()"
   ]
  },
  {
   "cell_type": "code",
   "execution_count": 5,
   "metadata": {},
   "outputs": [
    {
     "name": "stdout",
     "output_type": "stream",
     "text": [
      "(221, 5)\n"
     ]
    }
   ],
   "source": [
    "print(np.shape(df))"
   ]
  },
  {
   "cell_type": "code",
   "execution_count": 6,
   "metadata": {},
   "outputs": [
    {
     "data": {
      "text/plain": [
       "\"['Earlier this month Microsoft confirmed that sophisticated actors had attacked a number of Exchange servers and have released multiple security updates since.\\\\nThe NCSC is strongly urging any organisation using affected versions to proactively search their system for evidence of compromise, in line with Microsoft guidance.\\\\nOur alert was updated last week with the most recent advice and guidance.', 'A new report has revealed that almost 40% of UK businesses experienced a cyber attack last year.', 'The Cyber Security Breaches Survey 2021 report, published by the Department of Digital, Culture, Media and Sport (DCMS), also revealed that a quarter of charities have suffered a cyber security breach or attack in the past 12 months.', 'The NCSC has produced guidance to address some of the most common breaches and attacks identified in the report:\\\\nphishing emails\\\\nviruses\\\\nransomware\\\\nWhere a breach has resulted in a loss of data or assets, the average cost of a cyber attack on a business is £8,460. This figure rises to £13,400 for medium and large businesses.\\\\nThe report also shows the cyber risk to organisations is heightened because of the pandemic, which has made securing digital environments more challenging as resources are diverted to facilitate remote working for staff.\\\\nThe NCSC encourages businesses, charities, and educational institutions to take advantage of free cyber security guidance, such as the secure use of video conferencing, secure home working and how to move your business from physical to digital.', 'A new report from the Learning & Work Institute shows that young people and employers recognise that basic digital skills are vital and the demand for advanced digital skills is only set to increase. It also shows that investment in digital training and re-training in the UK has been decreasing.\\\\nThe same report also reveals that student numbers enrolled on ICT or computer science courses has dropped and digital apprenticeship numbers have remained static over the last 5 years. There also remains a gap between male and female students in gaining digital skills and a career in cyber security.\\\\nThe NCSC has a number of initiatives under CyberFirst to encourage and interest students in exploring a career in cyber security;\\\\nfree courses for 11 – 17 year olds\\\\nBursary and Degree apprenticeship\\\\nAnnual Girls Competition', 'On Tuesday (23 March) this week, the NCSC issued an alert to the education sector warning of a sharp rise in ransomware attacks on schools, colleges, and universities since late February.\\\\nEach attack caused varying levels of disruption, and in some cases these incidents have led to the loss of student coursework, school financial records, and coronavirus testing data.\\\\nIn recent incidents, the NCSC has observed malicious actors targeting vulnerabilities related to:\\\\nRemote Desktop Protocol (RDP) configurations;\\\\nVPN vulnerabilities\\\\nunpatched software \\\\nunsecured devices\\\\nphishing emails\\\\nAlongside details of the threat, the alert highlights steps organisations should take to disrupt attack vectors and enable effective recovery from ransomware attacks.']\""
      ]
     },
     "execution_count": 6,
     "metadata": {},
     "output_type": "execute_result"
    }
   ],
   "source": [
    "df.iloc[4,2]"
   ]
  },
  {
   "cell_type": "code",
   "execution_count": 7,
   "metadata": {},
   "outputs": [],
   "source": [
    "import nltk\n",
    "from nltk.corpus import stopwords"
   ]
  },
  {
   "cell_type": "code",
   "execution_count": 8,
   "metadata": {},
   "outputs": [
    {
     "data": {
      "text/plain": [
       "180"
      ]
     },
     "execution_count": 8,
     "metadata": {},
     "output_type": "execute_result"
    }
   ],
   "source": [
    "l1 = stopwords.words('english')\n",
    "l2 = ['have', 'with', 'cannot', 'all', 'more', 'less', 'fewer', 'if', 'from', 'new', 'old', 'be', 'This']\n",
    "l1.append(l2)\n",
    "lst1 = [' {} '.format(x) for x in l1]\n",
    "\n",
    "len(lst1)"
   ]
  },
  {
   "cell_type": "code",
   "execution_count": 9,
   "metadata": {},
   "outputs": [],
   "source": [
    "df['Article'].replace(lst1, \" \", regex=True, inplace=True)\n",
    "df['Article'].replace(r'[^\\w\\s]', \" \", regex=True, inplace=True)\n",
    "df['Article'].replace('[0-9999999999]', \" \", regex=True, inplace=True)"
   ]
  },
  {
   "cell_type": "code",
   "execution_count": 10,
   "metadata": {},
   "outputs": [
    {
     "data": {
      "text/plain": [
       "'  Earlier month Microsoft confirmed sophisticated actors attacked number Exchange servers released multiple security updates since  nThe NCSC strongly urging organisation using affected versions proactively search system evidence compromise  line Microsoft guidance  nOur alert updated last week recent advice guidance     A new report revealed almost     UK businesses experienced cyber attack last year     The Cyber Security Breaches Survey      report  published Department Digital  Culture  Media Sport  DCMS   also revealed quarter charities suffered cyber security breach attack past    months     The NCSC produced guidance address common breaches attacks identified report  nphishing emails nviruses nransomware nWhere breach resulted loss data assets  average cost cyber attack business         This figure rises         medium large businesses  nThe report also shows cyber risk organisations heightened pandemic  made securing digital environments challenging resources diverted facilitate remote working staff  nThe NCSC encourages businesses  charities  educational institutions take advantage free cyber security guidance  secure use video conferencing  secure home working move business physical digital     A new report Learning   Work Institute shows young people employers recognise basic digital skills vital demand advanced digital skills set increase  It also shows investment digital training re training UK decreasing  nThe report also reveals student numbers enrolled ICT computer science courses dropped digital apprenticeship numbers remained static last   years  There also remains gap male female students gaining digital skills career cyber security  nThe NCSC number initiatives CyberFirst encourage interest students exploring career cyber security  nfree courses         year olds nBursary Degree apprenticeship nAnnual Girls Competition    On Tuesday     March  week  NCSC issued alert education sector warning sharp rise ransomware attacks schools  colleges  universities since late February  nEach attack caused varying levels disruption  cases incidents led loss student coursework  school financial records  coronavirus testing data  nIn recent incidents  NCSC observed malicious actors targeting vulnerabilities related to  nRemote Desktop Protocol  RDP  configurations  nVPN vulnerabilities nunpatched software  nunsecured devices nphishing emails nAlongside details threat  alert highlights steps organisations take disrupt attack vectors enable effective recovery ransomware attacks   '"
      ]
     },
     "execution_count": 10,
     "metadata": {},
     "output_type": "execute_result"
    }
   ],
   "source": [
    "df.iloc[4,2]"
   ]
  },
  {
   "cell_type": "code",
   "execution_count": 11,
   "metadata": {},
   "outputs": [],
   "source": [
    "w_tokenizer = nltk.tokenize.WhitespaceTokenizer()\n",
    "lemmatizer = nltk.stem.WordNetLemmatizer()"
   ]
  },
  {
   "cell_type": "code",
   "execution_count": 12,
   "metadata": {},
   "outputs": [
    {
     "name": "stderr",
     "output_type": "stream",
     "text": [
      "[nltk_data] Downloading package wordnet to /Users/User-MC/nltk_data...\n",
      "[nltk_data]   Unzipping corpora/wordnet.zip.\n"
     ]
    }
   ],
   "source": [
    "nltk.download('wordnet')\n",
    "def lemmatize_text(text):\n",
    "    return [lemmatizer.lemmatize(w) for w in w_tokenizer.tokenize(text)]"
   ]
  },
  {
   "cell_type": "code",
   "execution_count": 13,
   "metadata": {},
   "outputs": [],
   "source": [
    "df_lem = df['Article'].apply(lemmatize_text)"
   ]
  },
  {
   "cell_type": "code",
   "execution_count": 14,
   "metadata": {},
   "outputs": [
    {
     "data": {
      "text/plain": [
       "0      [The, NCSC, aware, malicious, piece, spyware, ...\n",
       "1      [Cyber, security, researcher, uncovered, serie...\n",
       "2      [Cyber, security, researcher, Esentire, warned...\n",
       "3      [The, UK, education, sector, continues, face, ...\n",
       "4      [Earlier, month, Microsoft, confirmed, sophist...\n",
       "                             ...                        \n",
       "216    [Malware, infected, ATMs, compromise, Indian, ...\n",
       "217    [Threat, assessment, trend, analysis, nOnline,...\n",
       "218    [New, Trojan, used, financial, attack, nSymant...\n",
       "219    [Threat, assessment, trend, analysis, nDressco...\n",
       "220    [Threat, assessment, trend, analysis, nYahoo, ...\n",
       "Name: Article, Length: 221, dtype: object"
      ]
     },
     "execution_count": 14,
     "metadata": {},
     "output_type": "execute_result"
    }
   ],
   "source": [
    "df_lem"
   ]
  },
  {
   "cell_type": "code",
   "execution_count": 15,
   "metadata": {},
   "outputs": [],
   "source": [
    "df_lem_list = df_lem.values.tolist()"
   ]
  },
  {
   "cell_type": "code",
   "execution_count": 16,
   "metadata": {},
   "outputs": [
    {
     "data": {
      "text/plain": [
       "[['NCSC',\n",
       "  'aware',\n",
       "  'malicious',\n",
       "  'piece',\n",
       "  'spyware',\n",
       "  'known',\n",
       "  'FluBot',\n",
       "  'affecting',\n",
       "  'Android',\n",
       "  'phone',\n",
       "  'device',\n",
       "  'across',\n",
       "  'UK',\n",
       "  'spyware',\n",
       "  'installed',\n",
       "  'victim',\n",
       "  'receives',\n",
       "  'message',\n",
       "  'asking',\n",
       "  'install',\n",
       "  'tracking',\n",
       "  'missed',\n",
       "  'package',\n",
       "  'delivery',\n",
       "  'nScammers',\n",
       "  'cyber',\n",
       "  'criminal',\n",
       "  'regularly',\n",
       "  'exploit',\n",
       "  'known',\n",
       "  'trusted',\n",
       "  'brand',\n",
       "  'personal',\n",
       "  'FluBot',\n",
       "  'campaign',\n",
       "  'prime',\n",
       "  'example',\n",
       "  'nAndroid',\n",
       "  'urged',\n",
       "  'familiarise',\n",
       "  'guidance',\n",
       "  'vigilant',\n",
       "  'suspicious',\n",
       "  'looking',\n",
       "  'message',\n",
       "  'forwarded',\n",
       "  'Earlier',\n",
       "  'FireEye',\n",
       "  'published',\n",
       "  'saying',\n",
       "  'APT',\n",
       "  'actor',\n",
       "  'actively',\n",
       "  'exploiting',\n",
       "  'vulnerability',\n",
       "  'Pulse',\n",
       "  'Connect',\n",
       "  'VPN',\n",
       "  'appliance',\n",
       "  'follows',\n",
       "  'security',\n",
       "  'update',\n",
       "  'Pulse',\n",
       "  'Secure',\n",
       "  'recently',\n",
       "  'discovered',\n",
       "  'limited',\n",
       "  'number',\n",
       "  'customer',\n",
       "  'experienced',\n",
       "  'evidence',\n",
       "  'exploit',\n",
       "  'behaviour',\n",
       "  'Pulse',\n",
       "  'Connect',\n",
       "  'Secure',\n",
       "  'PCS',\n",
       "  'appliance',\n",
       "  'NCSC',\n",
       "  'aware',\n",
       "  'unauthenticated',\n",
       "  'remote',\n",
       "  'execution',\n",
       "  'vulnerability',\n",
       "  'affecting',\n",
       "  'Pulse',\n",
       "  'Connect',\n",
       "  'Secure',\n",
       "  'PCS',\n",
       "  'version',\n",
       "  'R',\n",
       "  'higher',\n",
       "  'CVE',\n",
       "  'published',\n",
       "  'advice',\n",
       "  'UK',\n",
       "  'organisation',\n",
       "  'using',\n",
       "  'PCS',\n",
       "  'VPN',\n",
       "  'appliance',\n",
       "  'international',\n",
       "  'partner',\n",
       "  'Department',\n",
       "  'Homeland',\n",
       "  'Security',\n",
       "  'DHS',\n",
       "  'Cybersecurity',\n",
       "  'Infrastructure',\n",
       "  'Security',\n",
       "  'Agency',\n",
       "  'CISA',\n",
       "  'published',\n",
       "  'Emergency',\n",
       "  'Directive',\n",
       "  'Alert',\n",
       "  'Media',\n",
       "  'reported',\n",
       "  'University',\n",
       "  'Portsmouth',\n",
       "  'IT',\n",
       "  'system',\n",
       "  'continue',\n",
       "  'offline',\n",
       "  'following',\n",
       "  'cyber',\n",
       "  'attack',\n",
       "  'university',\n",
       "  'posted',\n",
       "  'website',\n",
       "  'continues',\n",
       "  'impacted',\n",
       "  'cyber',\n",
       "  'incident',\n",
       "  'IT',\n",
       "  'system',\n",
       "  'remain',\n",
       "  'offline',\n",
       "  'whilst',\n",
       "  'expert',\n",
       "  'investigate',\n",
       "  'issue',\n",
       "  'securely',\n",
       "  'restore',\n",
       "  'IT',\n",
       "  'system',\n",
       "  'education',\n",
       "  'sector',\n",
       "  'appealing',\n",
       "  'target',\n",
       "  'cyber',\n",
       "  'criminal',\n",
       "  'encourage',\n",
       "  'network',\n",
       "  'defender',\n",
       "  'familiarise',\n",
       "  'NCSC',\n",
       "  'mitigating',\n",
       "  'malware',\n",
       "  'ransomware',\n",
       "  'guidance',\n",
       "  'rehearse',\n",
       "  'scenario',\n",
       "  'event',\n",
       "  'defence',\n",
       "  'breached',\n",
       "  'nSeparately',\n",
       "  'NCSC',\n",
       "  'recently',\n",
       "  'published',\n",
       "  'alert',\n",
       "  'direct',\n",
       "  'response',\n",
       "  'attack',\n",
       "  'education',\n",
       "  'sector',\n",
       "  'cyber',\n",
       "  'criminal']]"
      ]
     },
     "execution_count": 16,
     "metadata": {},
     "output_type": "execute_result"
    }
   ],
   "source": [
    "lister = [[] for x in range(len(df_lem))]\n",
    "for i in range(len(df_lem_list)):\n",
    "    l = df_lem_list[i]\n",
    "    for token in l:\n",
    "        if (len(token)>4 or token.isupper()):\n",
    "            lister[i].append(token)\n",
    "\n",
    "lister[0:1]"
   ]
  },
  {
   "cell_type": "code",
   "execution_count": 17,
   "metadata": {},
   "outputs": [],
   "source": [
    "dictionary = gensim.corpora.Dictionary(lister)"
   ]
  },
  {
   "cell_type": "code",
   "execution_count": 18,
   "metadata": {},
   "outputs": [],
   "source": [
    "bow_corpus = [dictionary.doc2bow(doc) for doc in lister]\n",
    "tfidf=gensim.models.TfidfModel(bow_corpus)\n",
    "tfidf_corp = tfidf[bow_corpus]"
   ]
  },
  {
   "cell_type": "code",
   "execution_count": 19,
   "metadata": {},
   "outputs": [
    {
     "data": {
      "text/plain": [
       "[[(0, 1),\n",
       "  (1, 1),\n",
       "  (2, 1),\n",
       "  (3, 1),\n",
       "  (4, 1),\n",
       "  (5, 1),\n",
       "  (6, 3),\n",
       "  (7, 1),\n",
       "  (8, 1),\n",
       "  (9, 1),\n",
       "  (10, 1),\n",
       "  (11, 1),\n",
       "  (12, 1),\n",
       "  (13, 1),\n",
       "  (14, 2),\n",
       "  (15, 1),\n",
       "  (16, 3),\n",
       "  (17, 1),\n",
       "  (18, 1),\n",
       "  (19, 4),\n",
       "  (20, 3),\n",
       "  (21, 1),\n",
       "  (22, 4),\n",
       "  (23, 1),\n",
       "  (24, 3),\n",
       "  (25, 2),\n",
       "  (26, 2),\n",
       "  (27, 1),\n",
       "  (28, 2),\n",
       "  (29, 1),\n",
       "  (30, 1),\n",
       "  (31, 1),\n",
       "  (32, 1),\n",
       "  (33, 2),\n",
       "  (34, 1),\n",
       "  (35, 1),\n",
       "  (36, 3),\n",
       "  (37, 1),\n",
       "  (38, 2),\n",
       "  (39, 2),\n",
       "  (40, 1),\n",
       "  (41, 1),\n",
       "  (42, 1),\n",
       "  (43, 1),\n",
       "  (44, 1),\n",
       "  (45, 1),\n",
       "  (46, 3),\n",
       "  (47, 1),\n",
       "  (48, 5),\n",
       "  (49, 1),\n",
       "  (50, 1),\n",
       "  (51, 1),\n",
       "  (52, 1),\n",
       "  (53, 1),\n",
       "  (54, 1),\n",
       "  (55, 2),\n",
       "  (56, 1),\n",
       "  (57, 1),\n",
       "  (58, 1),\n",
       "  (59, 1),\n",
       "  (60, 1),\n",
       "  (61, 1),\n",
       "  (62, 1),\n",
       "  (63, 2),\n",
       "  (64, 1),\n",
       "  (65, 2),\n",
       "  (66, 1),\n",
       "  (67, 1),\n",
       "  (68, 1),\n",
       "  (69, 2),\n",
       "  (70, 1),\n",
       "  (71, 1),\n",
       "  (72, 1),\n",
       "  (73, 1),\n",
       "  (74, 1),\n",
       "  (75, 1),\n",
       "  (76, 1),\n",
       "  (77, 1),\n",
       "  (78, 2),\n",
       "  (79, 1),\n",
       "  (80, 1),\n",
       "  (81, 1),\n",
       "  (82, 1),\n",
       "  (83, 2),\n",
       "  (84, 1),\n",
       "  (85, 1),\n",
       "  (86, 1),\n",
       "  (87, 1),\n",
       "  (88, 1),\n",
       "  (89, 1),\n",
       "  (90, 1),\n",
       "  (91, 2),\n",
       "  (92, 1),\n",
       "  (93, 1),\n",
       "  (94, 1),\n",
       "  (95, 1),\n",
       "  (96, 1),\n",
       "  (97, 1),\n",
       "  (98, 1),\n",
       "  (99, 1),\n",
       "  (100, 4),\n",
       "  (101, 1),\n",
       "  (102, 1),\n",
       "  (103, 2),\n",
       "  (104, 1),\n",
       "  (105, 1),\n",
       "  (106, 1),\n",
       "  (107, 1),\n",
       "  (108, 1),\n",
       "  (109, 1),\n",
       "  (110, 1),\n",
       "  (111, 1),\n",
       "  (112, 1),\n",
       "  (113, 2),\n",
       "  (114, 1),\n",
       "  (115, 1),\n",
       "  (116, 2),\n",
       "  (117, 1),\n",
       "  (118, 3),\n",
       "  (119, 1),\n",
       "  (120, 1),\n",
       "  (121, 1),\n",
       "  (122, 1),\n",
       "  (123, 1),\n",
       "  (124, 1),\n",
       "  (125, 1),\n",
       "  (126, 1),\n",
       "  (127, 1),\n",
       "  (128, 1),\n",
       "  (129, 1),\n",
       "  (130, 2),\n",
       "  (131, 1),\n",
       "  (132, 1)]]"
      ]
     },
     "execution_count": 19,
     "metadata": {},
     "output_type": "execute_result"
    }
   ],
   "source": [
    "bow_corpus[0:1]"
   ]
  },
  {
   "cell_type": "code",
   "execution_count": 20,
   "metadata": {},
   "outputs": [],
   "source": [
    "lda_model_tfidf = gensim.models.LdaMulticore(tfidf_corp, num_topics=6, id2word=dictionary, passes=2, workers=4)"
   ]
  },
  {
   "cell_type": "code",
   "execution_count": 27,
   "metadata": {},
   "outputs": [
    {
     "name": "stdout",
     "output_type": "stream",
     "text": [
      "Requirement already satisfied: pyldavis in /Users/User-MC/opt/anaconda3/lib/python3.7/site-packages (3.3.1)\n",
      "Requirement already satisfied: numpy>=1.20.0 in /Users/User-MC/opt/anaconda3/lib/python3.7/site-packages (from pyldavis) (1.20.2)\n",
      "Requirement already satisfied: sklearn in /Users/User-MC/opt/anaconda3/lib/python3.7/site-packages (from pyldavis) (0.0)\n",
      "Requirement already satisfied: pandas>=1.2.0 in /Users/User-MC/opt/anaconda3/lib/python3.7/site-packages (from pyldavis) (1.2.4)\n",
      "Requirement already satisfied: setuptools in /Users/User-MC/opt/anaconda3/lib/python3.7/site-packages (from pyldavis) (41.4.0)\n",
      "Requirement already satisfied: gensim in /Users/User-MC/opt/anaconda3/lib/python3.7/site-packages (from pyldavis) (4.0.1)\n",
      "Requirement already satisfied: future in /Users/User-MC/opt/anaconda3/lib/python3.7/site-packages (from pyldavis) (0.18.2)\n",
      "Requirement already satisfied: jinja2 in /Users/User-MC/opt/anaconda3/lib/python3.7/site-packages (from pyldavis) (2.10.3)\n",
      "Requirement already satisfied: scikit-learn in /Users/User-MC/opt/anaconda3/lib/python3.7/site-packages (from pyldavis) (0.21.3)\n",
      "Requirement already satisfied: numexpr in /Users/User-MC/opt/anaconda3/lib/python3.7/site-packages (from pyldavis) (2.7.0)\n",
      "Requirement already satisfied: joblib in /Users/User-MC/opt/anaconda3/lib/python3.7/site-packages (from pyldavis) (0.13.2)\n",
      "Requirement already satisfied: funcy in /Users/User-MC/opt/anaconda3/lib/python3.7/site-packages (from pyldavis) (1.15)\n",
      "Requirement already satisfied: scipy in /Users/User-MC/opt/anaconda3/lib/python3.7/site-packages (from pyldavis) (1.3.1)\n",
      "Requirement already satisfied: pytz>=2017.3 in /Users/User-MC/opt/anaconda3/lib/python3.7/site-packages (from pandas>=1.2.0->pyldavis) (2019.3)\n",
      "Requirement already satisfied: python-dateutil>=2.7.3 in /Users/User-MC/opt/anaconda3/lib/python3.7/site-packages (from pandas>=1.2.0->pyldavis) (2.8.0)\n",
      "Requirement already satisfied: smart-open>=1.8.1 in /Users/User-MC/opt/anaconda3/lib/python3.7/site-packages (from gensim->pyldavis) (5.0.0)\n",
      "Requirement already satisfied: MarkupSafe>=0.23 in /Users/User-MC/opt/anaconda3/lib/python3.7/site-packages (from jinja2->pyldavis) (1.1.1)\n",
      "Requirement already satisfied: six>=1.5 in /Users/User-MC/opt/anaconda3/lib/python3.7/site-packages (from python-dateutil>=2.7.3->pandas>=1.2.0->pyldavis) (1.15.0)\n"
     ]
    },
    {
     "ename": "ModuleNotFoundError",
     "evalue": "No module named 'pyLDAvis.gensim'",
     "output_type": "error",
     "traceback": [
      "\u001b[0;31m---------------------------------------------------------------------------\u001b[0m",
      "\u001b[0;31mModuleNotFoundError\u001b[0m                       Traceback (most recent call last)",
      "\u001b[0;32m<ipython-input-27-d7e14388e87a>\u001b[0m in \u001b[0;36m<module>\u001b[0;34m\u001b[0m\n\u001b[1;32m      1\u001b[0m \u001b[0mget_ipython\u001b[0m\u001b[0;34m(\u001b[0m\u001b[0;34m)\u001b[0m\u001b[0;34m.\u001b[0m\u001b[0msystem\u001b[0m\u001b[0;34m(\u001b[0m\u001b[0;34m'pip install pyldavis'\u001b[0m\u001b[0;34m)\u001b[0m\u001b[0;34m\u001b[0m\u001b[0;34m\u001b[0m\u001b[0m\n\u001b[0;32m----> 2\u001b[0;31m \u001b[0;32mimport\u001b[0m \u001b[0mpyLDAvis\u001b[0m\u001b[0;34m.\u001b[0m\u001b[0mgensim\u001b[0m\u001b[0;34m\u001b[0m\u001b[0;34m\u001b[0m\u001b[0m\n\u001b[0m\u001b[1;32m      3\u001b[0m \u001b[0mpyLDAvis\u001b[0m\u001b[0;34m.\u001b[0m\u001b[0menable_notebook\u001b[0m\u001b[0;34m(\u001b[0m\u001b[0;34m)\u001b[0m\u001b[0;34m\u001b[0m\u001b[0;34m\u001b[0m\u001b[0m\n",
      "\u001b[0;31mModuleNotFoundError\u001b[0m: No module named 'pyLDAvis.gensim'"
     ]
    }
   ],
   "source": [
    "!pip install pyldavis\n",
    "import pyLDAvis.gensim\n",
    "pyLDAvis.enable_notebook()"
   ]
  },
  {
   "cell_type": "code",
   "execution_count": null,
   "metadata": {},
   "outputs": [],
   "source": [
    "lda_display = pyLDAvis.gensim.prepare(lda_model_tfidf, tfidf_corp, \n",
    "                                          dictionary, mds='mmds')\n",
    "pyLDAvis.display(lda_display, template_type='notebook')"
   ]
  },
  {
   "cell_type": "code",
   "execution_count": null,
   "metadata": {},
   "outputs": [],
   "source": [
    "from gensim.models.coherencemodel import CoherenceModel\n",
    "def getCoherence(m,t,d):\n",
    "    coherence_model_lda = CoherenceModel(model=m,texts=t, dictionary=d, coherence='c_v')\n",
    "    coherence_lda = coherence_model_lda.get_coherence()\n",
    "    return(coherence_lda) # Need high coherence"
   ]
  },
  {
   "cell_type": "code",
   "execution_count": null,
   "metadata": {},
   "outputs": [],
   "source": [
    "getCoherence(m=lda_model_tfidf, t=lister, d =dictionary)"
   ]
  },
  {
   "cell_type": "code",
   "execution_count": null,
   "metadata": {},
   "outputs": [],
   "source": [
    "perplex = lda_model_tfidf.log_perplexity(tfidf_corp)"
   ]
  },
  {
   "cell_type": "code",
   "execution_count": null,
   "metadata": {},
   "outputs": [],
   "source": [
    "perplex"
   ]
  },
  {
   "cell_type": "code",
   "execution_count": null,
   "metadata": {},
   "outputs": [],
   "source": [
    "begin_time = datetime.datetime.now()\n",
    "gCH = [0] * 50\n",
    "for i in range(1,50):\n",
    "    locals()['lda_model_tfidf_{}'.format(i)] = gensim.models.LdaMulticore(tfidf_corp, num_topics=i, id2word=dictionary, passes=2, workers=1)\n",
    "    gCH[i]=getCoherence(m=locals()['lda_model_tfidf_{}'.format(i)], t=lister, d =dictionary)\n",
    "end_time = datetime.datetime.now()\n",
    "time_weak_coh = (end_time - begin_time)\n",
    "\n",
    "print(time_weak_coh)"
   ]
  },
  {
   "cell_type": "code",
   "execution_count": null,
   "metadata": {},
   "outputs": [],
   "source": [
    "begin_time = datetime.datetime.now()\n",
    "gCH = [0] * 50\n",
    "for i in range(1,50):\n",
    "    locals()['lda_model_tfidf_{}'.format(i)] = gensim.models.LdaMulticore(tfidf_corp, num_topics=i, id2word=dictionary, passes=2, workers=6)\n",
    "    gCH[i]=getCoherence(m=locals()['lda_model_tfidf_{}'.format(i)], t=lister, d =dictionary)\n",
    "end_time = datetime.datetime.now()\n",
    "time_coh = (end_time - begin_time)\n",
    "\n",
    "print(time_coh)"
   ]
  },
  {
   "cell_type": "code",
   "execution_count": null,
   "metadata": {},
   "outputs": [],
   "source": [
    "begin_time = datetime.datetime.now()\n",
    "perplexity = [0] * 50\n",
    "for i in range(1,50):\n",
    "    perplexity[i]=locals()['lda_model_tfidf_{}'.format(i)].log_perplexity(tfidf_corp)\n",
    "end_time = datetime.datetime.now()\n",
    "time_perp = (end_time - begin_time)\n",
    "\n",
    "print(time_perp)"
   ]
  },
  {
   "cell_type": "code",
   "execution_count": null,
   "metadata": {},
   "outputs": [],
   "source": [
    "plt.plot(gCH)\n",
    "plt.show()\n",
    "plt.plot(perplexity)\n",
    "plt.show()"
   ]
  },
  {
   "cell_type": "code",
   "execution_count": null,
   "metadata": {},
   "outputs": [],
   "source": [
    "print(\"The maximum coherence achieved is\", max(gCH), \"and its corresponding number of topics is\", np.argmax(gCH))\n",
    "print(\"The minimum perplexity achieved is\", min(perplexity), \"and its corresponding number of topics is\", np.argmin(perplexity))"
   ]
  },
  {
   "cell_type": "code",
   "execution_count": null,
   "metadata": {},
   "outputs": [],
   "source": [
    "lda_display = pyLDAvis.gensim.prepare(lda_model_tfidf_16, tfidf_corp, \n",
    "                                          dictionary, mds='mmds')\n",
    "pyLDAvis.display(lda_display, template_type='notebook')"
   ]
  },
  {
   "cell_type": "markdown",
   "metadata": {},
   "source": [
    "## pyspark"
   ]
  },
  {
   "cell_type": "code",
   "execution_count": null,
   "metadata": {},
   "outputs": [],
   "source": [
    "# !pip create -n sparknlp python=3.7 -y\n",
    "# !pip activate sparknlp\n",
    "# !pip install spark-nlp==3.0.2 pyspark==3.1.1"
   ]
  },
  {
   "cell_type": "code",
   "execution_count": null,
   "metadata": {},
   "outputs": [],
   "source": [
    "import sparknlp\n",
    "sparknlp = sparknlp.start()"
   ]
  },
  {
   "cell_type": "code",
   "execution_count": null,
   "metadata": {},
   "outputs": [],
   "source": [
    "# from pyspark import SparkContext\n",
    "# print(SparkContext.version)\n",
    "\n",
    "# sc = SparkContext()\n",
    "# sc"
   ]
  },
  {
   "cell_type": "code",
   "execution_count": null,
   "metadata": {},
   "outputs": [],
   "source": [
    "from sparknlp.base import Finisher, DocumentAssembler\n",
    "from sparknlp.annotator import (Tokenizer, Normalizer,\n",
    "                                Lemmatizer, StopWordsCleaner)\n",
    "from pyspark.ml import Pipeline"
   ]
  },
  {
   "cell_type": "code",
   "execution_count": null,
   "metadata": {},
   "outputs": [],
   "source": [
    "eng_stopwords = stopwords.words('english')"
   ]
  },
  {
   "cell_type": "code",
   "execution_count": null,
   "metadata": {},
   "outputs": [],
   "source": [
    "documentAssembler = DocumentAssembler() \\\n",
    "     .setInputCol('Article') \\\n",
    "     .setOutputCol('Articles')\n",
    "\n",
    "tokenizer = Tokenizer() \\\n",
    "     .setInputCols(['Articles']) \\\n",
    "     .setOutputCol('token')\n",
    "\n",
    "normalizer = Normalizer() \\\n",
    "     .setInputCols(['token']) \\\n",
    "     .setOutputCol('normalized') \\\n",
    "     .setLowercase(True)\n",
    "\n",
    "lemmatizer = Lemmatizer() \\\n",
    "     .setInputCols(['normalized']) \\\n",
    "     .setOutputCol('lemma') \\\n",
    "     .setDictionary('https://raw.githubusercontent.com/mahavivo/vocabulary/master/lemmas/AntBNC_lemmas_ver_001.txt', key_delimiter = '->', value_delimiter = '\\t')\n",
    "\n",
    "stopwords_cleaner = StopWordsCleaner() \\\n",
    "     .setInputCols(['lemma']) \\\n",
    "     .setOutputCol('clean_lemma') \\\n",
    "     .setCaseSensitive(False) \\\n",
    "     .setStopWords(eng_stopwords)\n",
    "\n",
    "finisher = Finisher() \\\n",
    "     .setInputCols(['clean_lemma']) \\\n",
    "     .setCleanAnnotations(False)"
   ]
  },
  {
   "cell_type": "code",
   "execution_count": null,
   "metadata": {},
   "outputs": [],
   "source": [
    "pipeline = Pipeline() \\\n",
    "     .setStages([\n",
    "           documentAssembler,\n",
    "           tokenizer,\n",
    "           normalizer,\n",
    "           lemmatizer,\n",
    "           stopwords_cleaner,\n",
    "           finisher\n",
    "     ])"
   ]
  },
  {
   "cell_type": "code",
   "execution_count": null,
   "metadata": {},
   "outputs": [],
   "source": [
    "df.to_csv('NCSC Reports.csv')"
   ]
  },
  {
   "cell_type": "code",
   "execution_count": null,
   "metadata": {
    "scrolled": true
   },
   "outputs": [],
   "source": [
    "#df = sparknlp.read.format(\"NCSC Reports.csv\", format=\"csv\", header=\"true\")\n",
    "# df = sparknlp.sql(\"SELECT * FROM csv.`NCSC Reports.csv`\")\n",
    "dfs = sparknlp.read.load(\"NCSC Reports.csv\",format='csv', header = \"true\")"
   ]
  },
  {
   "cell_type": "code",
   "execution_count": null,
   "metadata": {},
   "outputs": [],
   "source": [
    "dfs.printSchema()"
   ]
  },
  {
   "cell_type": "code",
   "execution_count": null,
   "metadata": {},
   "outputs": [],
   "source": [
    "pd.DataFrame(dfs.take(10), columns=dfs.columns)"
   ]
  },
  {
   "cell_type": "code",
   "execution_count": null,
   "metadata": {},
   "outputs": [],
   "source": [
    "NCSC_pipeline = pipeline.fit(dfs).transform(dfs)"
   ]
  },
  {
   "cell_type": "code",
   "execution_count": null,
   "metadata": {},
   "outputs": [],
   "source": []
  }
 ],
 "metadata": {
  "kernelspec": {
   "display_name": "Python 3",
   "language": "python",
   "name": "python3"
  },
  "language_info": {
   "codemirror_mode": {
    "name": "ipython",
    "version": 3
   },
   "file_extension": ".py",
   "mimetype": "text/x-python",
   "name": "python",
   "nbconvert_exporter": "python",
   "pygments_lexer": "ipython3",
   "version": "3.7.4"
  }
 },
 "nbformat": 4,
 "nbformat_minor": 4
}
