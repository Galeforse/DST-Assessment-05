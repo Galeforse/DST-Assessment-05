{
 "cells": [
  {
   "cell_type": "code",
   "execution_count": 1,
   "metadata": {},
   "outputs": [],
   "source": [
    "import findspark\n",
    "findspark.init()"
   ]
  },
  {
   "cell_type": "code",
   "execution_count": 2,
   "metadata": {},
   "outputs": [],
   "source": [
    "import datetime\n",
    "import pickle\n",
    "from urllib.request import urlopen\n",
    "import os\n",
    "import pandas as pd\n",
    "import numpy as np\n",
    "import gensim\n",
    "import pickle\n",
    "import matplotlib.pyplot as plt\n",
    "\n",
    "import heapq"
   ]
  },
  {
   "cell_type": "code",
   "execution_count": 12,
   "metadata": {},
   "outputs": [],
   "source": [
    "df = pd.read_csv('https://raw.githubusercontent.com/Galeforse/DST-Assessment-05/main/Data/NCSC%20Reports.csv')"
   ]
  },
  {
   "cell_type": "code",
   "execution_count": 13,
   "metadata": {},
   "outputs": [
    {
     "data": {
      "text/html": [
       "<div>\n",
       "<style scoped>\n",
       "    .dataframe tbody tr th:only-of-type {\n",
       "        vertical-align: middle;\n",
       "    }\n",
       "\n",
       "    .dataframe tbody tr th {\n",
       "        vertical-align: top;\n",
       "    }\n",
       "\n",
       "    .dataframe thead th {\n",
       "        text-align: right;\n",
       "    }\n",
       "</style>\n",
       "<table border=\"1\" class=\"dataframe\">\n",
       "  <thead>\n",
       "    <tr style=\"text-align: right;\">\n",
       "      <th></th>\n",
       "      <th>Unnamed: 0</th>\n",
       "      <th>Title</th>\n",
       "      <th>Article</th>\n",
       "      <th>topics</th>\n",
       "      <th>Links</th>\n",
       "    </tr>\n",
       "  </thead>\n",
       "  <tbody>\n",
       "    <tr>\n",
       "      <th>0</th>\n",
       "      <td>0</td>\n",
       "      <td>23rd April 2021</td>\n",
       "      <td>['The NCSC is aware that a malicious piece of ...</td>\n",
       "      <td>['Cyber attack', 'Cyber strategy', 'Education'...</td>\n",
       "      <td>https://www.ncsc.gov.uk/report/weekly-threat-r...</td>\n",
       "    </tr>\n",
       "    <tr>\n",
       "      <th>1</th>\n",
       "      <td>1</td>\n",
       "      <td>16th April 2021</td>\n",
       "      <td>['Cyber security researchers have uncovered a ...</td>\n",
       "      <td>['Cyber strategy', 'Patching', 'Vulnerabilities']</td>\n",
       "      <td>https://www.ncsc.gov.uk/report/weekly-threat-r...</td>\n",
       "    </tr>\n",
       "    <tr>\n",
       "      <th>2</th>\n",
       "      <td>2</td>\n",
       "      <td>12th April 2021</td>\n",
       "      <td>['Cyber security researchers, Esentire, have w...</td>\n",
       "      <td>['Phishing', 'Social media', 'Personal data', ...</td>\n",
       "      <td>https://www.ncsc.gov.uk/report/weekly-threat-r...</td>\n",
       "    </tr>\n",
       "    <tr>\n",
       "      <th>3</th>\n",
       "      <td>3</td>\n",
       "      <td>2nd April 2021</td>\n",
       "      <td>['The UK education sector continues to face an...</td>\n",
       "      <td>['Education', 'Incident management', 'Secure d...</td>\n",
       "      <td>https://www.ncsc.gov.uk/report/weekly-threat-r...</td>\n",
       "    </tr>\n",
       "    <tr>\n",
       "      <th>4</th>\n",
       "      <td>4</td>\n",
       "      <td>26th March 2021</td>\n",
       "      <td>['Earlier this month Microsoft confirmed that ...</td>\n",
       "      <td>['Cyber attack', 'Education', 'Mitigation', 'P...</td>\n",
       "      <td>https://www.ncsc.gov.uk/report/weekly-threat-r...</td>\n",
       "    </tr>\n",
       "  </tbody>\n",
       "</table>\n",
       "</div>"
      ],
      "text/plain": [
       "   Unnamed: 0            Title  \\\n",
       "0           0  23rd April 2021   \n",
       "1           1  16th April 2021   \n",
       "2           2  12th April 2021   \n",
       "3           3   2nd April 2021   \n",
       "4           4  26th March 2021   \n",
       "\n",
       "                                             Article  \\\n",
       "0  ['The NCSC is aware that a malicious piece of ...   \n",
       "1  ['Cyber security researchers have uncovered a ...   \n",
       "2  ['Cyber security researchers, Esentire, have w...   \n",
       "3  ['The UK education sector continues to face an...   \n",
       "4  ['Earlier this month Microsoft confirmed that ...   \n",
       "\n",
       "                                              topics  \\\n",
       "0  ['Cyber attack', 'Cyber strategy', 'Education'...   \n",
       "1  ['Cyber strategy', 'Patching', 'Vulnerabilities']   \n",
       "2  ['Phishing', 'Social media', 'Personal data', ...   \n",
       "3  ['Education', 'Incident management', 'Secure d...   \n",
       "4  ['Cyber attack', 'Education', 'Mitigation', 'P...   \n",
       "\n",
       "                                               Links  \n",
       "0  https://www.ncsc.gov.uk/report/weekly-threat-r...  \n",
       "1  https://www.ncsc.gov.uk/report/weekly-threat-r...  \n",
       "2  https://www.ncsc.gov.uk/report/weekly-threat-r...  \n",
       "3  https://www.ncsc.gov.uk/report/weekly-threat-r...  \n",
       "4  https://www.ncsc.gov.uk/report/weekly-threat-r...  "
      ]
     },
     "execution_count": 13,
     "metadata": {},
     "output_type": "execute_result"
    }
   ],
   "source": [
    "df.head()"
   ]
  },
  {
   "cell_type": "code",
   "execution_count": 10,
   "metadata": {},
   "outputs": [
    {
     "name": "stdout",
     "output_type": "stream",
     "text": [
      "(221, 5)\n"
     ]
    }
   ],
   "source": [
    "print(np.shape(df))"
   ]
  },
  {
   "cell_type": "code",
   "execution_count": 11,
   "metadata": {},
   "outputs": [
    {
     "data": {
      "text/plain": [
       "\"['Earlier this month Microsoft confirmed that sophisticated actors had attacked a number of Exchange servers and have released multiple security updates since.\\\\nThe NCSC is strongly urging any organisation using affected versions to proactively search their system for evidence of compromise, in line with Microsoft guidance.\\\\nOur alert was updated last week with the most recent advice and guidance.', 'A new report has revealed that almost 40% of UK businesses experienced a cyber attack last year.', 'The Cyber Security Breaches Survey 2021 report, published by the Department of Digital, Culture, Media and Sport (DCMS), also revealed that a quarter of charities have suffered a cyber security breach or attack in the past 12 months.', 'The NCSC has produced guidance to address some of the most common breaches and attacks identified in the report:\\\\nphishing emails\\\\nviruses\\\\nransomware\\\\nWhere a breach has resulted in a loss of data or assets, the average cost of a cyber attack on a business is £8,460. This figure rises to £13,400 for medium and large businesses.\\\\nThe report also shows the cyber risk to organisations is heightened because of the pandemic, which has made securing digital environments more challenging as resources are diverted to facilitate remote working for staff.\\\\nThe NCSC encourages businesses, charities, and educational institutions to take advantage of free cyber security guidance, such as the secure use of video conferencing, secure home working and how to move your business from physical to digital.', 'A new report from the Learning & Work Institute shows that young people and employers recognise that basic digital skills are vital and the demand for advanced digital skills is only set to increase. It also shows that investment in digital training and re-training in the UK has been decreasing.\\\\nThe same report also reveals that student numbers enrolled on ICT or computer science courses has dropped and digital apprenticeship numbers have remained static over the last 5 years. There also remains a gap between male and female students in gaining digital skills and a career in cyber security.\\\\nThe NCSC has a number of initiatives under CyberFirst to encourage and interest students in exploring a career in cyber security;\\\\nfree courses for 11 – 17 year olds\\\\nBursary and Degree apprenticeship\\\\nAnnual Girls Competition', 'On Tuesday (23 March) this week, the NCSC issued an alert to the education sector warning of a sharp rise in ransomware attacks on schools, colleges, and universities since late February.\\\\nEach attack caused varying levels of disruption, and in some cases these incidents have led to the loss of student coursework, school financial records, and coronavirus testing data.\\\\nIn recent incidents, the NCSC has observed malicious actors targeting vulnerabilities related to:\\\\nRemote Desktop Protocol (RDP) configurations;\\\\nVPN vulnerabilities\\\\nunpatched software \\\\nunsecured devices\\\\nphishing emails\\\\nAlongside details of the threat, the alert highlights steps organisations should take to disrupt attack vectors and enable effective recovery from ransomware attacks.']\""
      ]
     },
     "execution_count": 11,
     "metadata": {},
     "output_type": "execute_result"
    }
   ],
   "source": [
    "df.iloc[4,2]"
   ]
  },
  {
   "cell_type": "code",
   "execution_count": 60,
   "metadata": {},
   "outputs": [
    {
     "name": "stderr",
     "output_type": "stream",
     "text": [
      "[nltk_data] Downloading package words to\n",
      "[nltk_data]     C:\\Users\\axl_a\\AppData\\Roaming\\nltk_data...\n",
      "[nltk_data]   Unzipping corpora\\words.zip.\n"
     ]
    },
    {
     "data": {
      "text/plain": [
       "True"
      ]
     },
     "execution_count": 60,
     "metadata": {},
     "output_type": "execute_result"
    }
   ],
   "source": [
    "# nltk.download('stopwords')\n",
    "# nltk.download('words')"
   ]
  },
  {
   "cell_type": "code",
   "execution_count": 10,
   "metadata": {},
   "outputs": [],
   "source": [
    "import nltk\n",
    "from nltk.corpus import stopwords"
   ]
  },
  {
   "cell_type": "code",
   "execution_count": 13,
   "metadata": {},
   "outputs": [
    {
     "data": {
      "text/plain": [
       "180"
      ]
     },
     "execution_count": 13,
     "metadata": {},
     "output_type": "execute_result"
    }
   ],
   "source": [
    "l1 = stopwords.words('english')\n",
    "l2 = ['have', 'with', 'cannot', 'all', 'more', 'less', 'fewer', 'if', 'from', 'new', 'old', 'be', 'This']\n",
    "l1.append(l2)\n",
    "lst1 = [' {} '.format(x) for x in l1]\n",
    "\n",
    "len(lst1)"
   ]
  },
  {
   "cell_type": "code",
   "execution_count": 14,
   "metadata": {},
   "outputs": [],
   "source": [
    "df['Article'].replace(lst1, \" \", regex=True, inplace=True)\n",
    "df['Article'].replace(r'[^\\w\\s]', \" \", regex=True, inplace=True)\n",
    "df['Article'].replace('[0-9999999999]', \" \", regex=True, inplace=True)"
   ]
  },
  {
   "cell_type": "code",
   "execution_count": 15,
   "metadata": {},
   "outputs": [
    {
     "data": {
      "text/plain": [
       "'  Earlier month Microsoft confirmed sophisticated actors attacked number Exchange servers released multiple security updates since  nThe NCSC strongly urging organisation using affected versions proactively search system evidence compromise  line Microsoft guidance  nOur alert updated last week recent advice guidance     A new report revealed almost     UK businesses experienced cyber attack last year     The Cyber Security Breaches Survey      report  published Department Digital  Culture  Media Sport  DCMS   also revealed quarter charities suffered cyber security breach attack past    months     The NCSC produced guidance address common breaches attacks identified report  nphishing emails nviruses nransomware nWhere breach resulted loss data assets  average cost cyber attack business         This figure rises         medium large businesses  nThe report also shows cyber risk organisations heightened pandemic  made securing digital environments challenging resources diverted facilitate remote working staff  nThe NCSC encourages businesses  charities  educational institutions take advantage free cyber security guidance  secure use video conferencing  secure home working move business physical digital     A new report Learning   Work Institute shows young people employers recognise basic digital skills vital demand advanced digital skills set increase  It also shows investment digital training re training UK decreasing  nThe report also reveals student numbers enrolled ICT computer science courses dropped digital apprenticeship numbers remained static last   years  There also remains gap male female students gaining digital skills career cyber security  nThe NCSC number initiatives CyberFirst encourage interest students exploring career cyber security  nfree courses         year olds nBursary Degree apprenticeship nAnnual Girls Competition    On Tuesday     March  week  NCSC issued alert education sector warning sharp rise ransomware attacks schools  colleges  universities since late February  nEach attack caused varying levels disruption  cases incidents led loss student coursework  school financial records  coronavirus testing data  nIn recent incidents  NCSC observed malicious actors targeting vulnerabilities related to  nRemote Desktop Protocol  RDP  configurations  nVPN vulnerabilities nunpatched software  nunsecured devices nphishing emails nAlongside details threat  alert highlights steps organisations take disrupt attack vectors enable effective recovery ransomware attacks   '"
      ]
     },
     "execution_count": 15,
     "metadata": {},
     "output_type": "execute_result"
    }
   ],
   "source": [
    "df.iloc[4,2]"
   ]
  },
  {
   "cell_type": "code",
   "execution_count": 16,
   "metadata": {},
   "outputs": [],
   "source": [
    "w_tokenizer = nltk.tokenize.WhitespaceTokenizer()\n",
    "lemmatizer = nltk.stem.WordNetLemmatizer()"
   ]
  },
  {
   "cell_type": "code",
   "execution_count": 17,
   "metadata": {},
   "outputs": [],
   "source": [
    "# nltk.download('wordnet')\n",
    "def lemmatize_text(text):\n",
    "    return [lemmatizer.lemmatize(w) for w in w_tokenizer.tokenize(text)]"
   ]
  },
  {
   "cell_type": "code",
   "execution_count": 18,
   "metadata": {},
   "outputs": [],
   "source": [
    "df_lem = df['Article'].apply(lemmatize_text)"
   ]
  },
  {
   "cell_type": "code",
   "execution_count": 19,
   "metadata": {},
   "outputs": [
    {
     "data": {
      "text/plain": [
       "0      [The, NCSC, aware, malicious, piece, spyware, ...\n",
       "1      [Cyber, security, researcher, uncovered, serie...\n",
       "2      [Cyber, security, researcher, Esentire, warned...\n",
       "3      [The, UK, education, sector, continues, face, ...\n",
       "4      [Earlier, month, Microsoft, confirmed, sophist...\n",
       "                             ...                        \n",
       "216    [Malware, infected, ATMs, compromise, Indian, ...\n",
       "217    [Threat, assessment, trend, analysis, nOnline,...\n",
       "218    [New, Trojan, used, financial, attack, nSymant...\n",
       "219    [Threat, assessment, trend, analysis, nDressco...\n",
       "220    [Threat, assessment, trend, analysis, nYahoo, ...\n",
       "Name: Article, Length: 221, dtype: object"
      ]
     },
     "execution_count": 19,
     "metadata": {},
     "output_type": "execute_result"
    }
   ],
   "source": [
    "df_lem"
   ]
  },
  {
   "cell_type": "code",
   "execution_count": 20,
   "metadata": {},
   "outputs": [],
   "source": [
    "df_lem_list = df_lem.values.tolist()"
   ]
  },
  {
   "cell_type": "code",
   "execution_count": 21,
   "metadata": {},
   "outputs": [
    {
     "data": {
      "text/plain": [
       "[['NCSC',\n",
       "  'aware',\n",
       "  'malicious',\n",
       "  'piece',\n",
       "  'spyware',\n",
       "  'known',\n",
       "  'FluBot',\n",
       "  'affecting',\n",
       "  'Android',\n",
       "  'phone',\n",
       "  'device',\n",
       "  'across',\n",
       "  'UK',\n",
       "  'spyware',\n",
       "  'installed',\n",
       "  'victim',\n",
       "  'receives',\n",
       "  'message',\n",
       "  'asking',\n",
       "  'install',\n",
       "  'tracking',\n",
       "  'missed',\n",
       "  'package',\n",
       "  'delivery',\n",
       "  'nScammers',\n",
       "  'cyber',\n",
       "  'criminal',\n",
       "  'regularly',\n",
       "  'exploit',\n",
       "  'known',\n",
       "  'trusted',\n",
       "  'brand',\n",
       "  'personal',\n",
       "  'FluBot',\n",
       "  'campaign',\n",
       "  'prime',\n",
       "  'example',\n",
       "  'nAndroid',\n",
       "  'urged',\n",
       "  'familiarise',\n",
       "  'guidance',\n",
       "  'vigilant',\n",
       "  'suspicious',\n",
       "  'looking',\n",
       "  'message',\n",
       "  'forwarded',\n",
       "  'Earlier',\n",
       "  'FireEye',\n",
       "  'published',\n",
       "  'saying',\n",
       "  'APT',\n",
       "  'actor',\n",
       "  'actively',\n",
       "  'exploiting',\n",
       "  'vulnerability',\n",
       "  'Pulse',\n",
       "  'Connect',\n",
       "  'VPN',\n",
       "  'appliance',\n",
       "  'follows',\n",
       "  'security',\n",
       "  'update',\n",
       "  'Pulse',\n",
       "  'Secure',\n",
       "  'recently',\n",
       "  'discovered',\n",
       "  'limited',\n",
       "  'number',\n",
       "  'customer',\n",
       "  'experienced',\n",
       "  'evidence',\n",
       "  'exploit',\n",
       "  'behaviour',\n",
       "  'Pulse',\n",
       "  'Connect',\n",
       "  'Secure',\n",
       "  'PCS',\n",
       "  'appliance',\n",
       "  'NCSC',\n",
       "  'aware',\n",
       "  'unauthenticated',\n",
       "  'remote',\n",
       "  'execution',\n",
       "  'vulnerability',\n",
       "  'affecting',\n",
       "  'Pulse',\n",
       "  'Connect',\n",
       "  'Secure',\n",
       "  'PCS',\n",
       "  'version',\n",
       "  'R',\n",
       "  'higher',\n",
       "  'CVE',\n",
       "  'published',\n",
       "  'advice',\n",
       "  'UK',\n",
       "  'organisation',\n",
       "  'using',\n",
       "  'PCS',\n",
       "  'VPN',\n",
       "  'appliance',\n",
       "  'international',\n",
       "  'partner',\n",
       "  'Department',\n",
       "  'Homeland',\n",
       "  'Security',\n",
       "  'DHS',\n",
       "  'Cybersecurity',\n",
       "  'Infrastructure',\n",
       "  'Security',\n",
       "  'Agency',\n",
       "  'CISA',\n",
       "  'published',\n",
       "  'Emergency',\n",
       "  'Directive',\n",
       "  'Alert',\n",
       "  'Media',\n",
       "  'reported',\n",
       "  'University',\n",
       "  'Portsmouth',\n",
       "  'IT',\n",
       "  'system',\n",
       "  'continue',\n",
       "  'offline',\n",
       "  'following',\n",
       "  'cyber',\n",
       "  'attack',\n",
       "  'university',\n",
       "  'posted',\n",
       "  'website',\n",
       "  'continues',\n",
       "  'impacted',\n",
       "  'cyber',\n",
       "  'incident',\n",
       "  'IT',\n",
       "  'system',\n",
       "  'remain',\n",
       "  'offline',\n",
       "  'whilst',\n",
       "  'expert',\n",
       "  'investigate',\n",
       "  'issue',\n",
       "  'securely',\n",
       "  'restore',\n",
       "  'IT',\n",
       "  'system',\n",
       "  'education',\n",
       "  'sector',\n",
       "  'appealing',\n",
       "  'target',\n",
       "  'cyber',\n",
       "  'criminal',\n",
       "  'encourage',\n",
       "  'network',\n",
       "  'defender',\n",
       "  'familiarise',\n",
       "  'NCSC',\n",
       "  'mitigating',\n",
       "  'malware',\n",
       "  'ransomware',\n",
       "  'guidance',\n",
       "  'rehearse',\n",
       "  'scenario',\n",
       "  'event',\n",
       "  'defence',\n",
       "  'breached',\n",
       "  'nSeparately',\n",
       "  'NCSC',\n",
       "  'recently',\n",
       "  'published',\n",
       "  'alert',\n",
       "  'direct',\n",
       "  'response',\n",
       "  'attack',\n",
       "  'education',\n",
       "  'sector',\n",
       "  'cyber',\n",
       "  'criminal']]"
      ]
     },
     "execution_count": 21,
     "metadata": {},
     "output_type": "execute_result"
    }
   ],
   "source": [
    "lister = [[] for x in range(len(df_lem))]\n",
    "for i in range(len(df_lem_list)):\n",
    "    l = df_lem_list[i]\n",
    "    for token in l:\n",
    "        if (len(token)>4 or token.isupper()):\n",
    "            lister[i].append(token)\n",
    "\n",
    "lister[0:1]"
   ]
  },
  {
   "cell_type": "code",
   "execution_count": 22,
   "metadata": {},
   "outputs": [],
   "source": [
    "dictionary = gensim.corpora.Dictionary(lister)"
   ]
  },
  {
   "cell_type": "code",
   "execution_count": 23,
   "metadata": {},
   "outputs": [],
   "source": [
    "bow_corpus = [dictionary.doc2bow(doc) for doc in lister]\n",
    "tfidf=gensim.models.TfidfModel(bow_corpus)\n",
    "tfidf_corp = tfidf[bow_corpus]"
   ]
  },
  {
   "cell_type": "code",
   "execution_count": 24,
   "metadata": {},
   "outputs": [
    {
     "data": {
      "text/plain": [
       "[[(0, 1),\n",
       "  (1, 1),\n",
       "  (2, 1),\n",
       "  (3, 1),\n",
       "  (4, 1),\n",
       "  (5, 1),\n",
       "  (6, 3),\n",
       "  (7, 1),\n",
       "  (8, 1),\n",
       "  (9, 1),\n",
       "  (10, 1),\n",
       "  (11, 1),\n",
       "  (12, 1),\n",
       "  (13, 1),\n",
       "  (14, 2),\n",
       "  (15, 1),\n",
       "  (16, 3),\n",
       "  (17, 1),\n",
       "  (18, 1),\n",
       "  (19, 4),\n",
       "  (20, 3),\n",
       "  (21, 1),\n",
       "  (22, 4),\n",
       "  (23, 1),\n",
       "  (24, 3),\n",
       "  (25, 2),\n",
       "  (26, 2),\n",
       "  (27, 1),\n",
       "  (28, 2),\n",
       "  (29, 1),\n",
       "  (30, 1),\n",
       "  (31, 1),\n",
       "  (32, 1),\n",
       "  (33, 2),\n",
       "  (34, 1),\n",
       "  (35, 1),\n",
       "  (36, 3),\n",
       "  (37, 1),\n",
       "  (38, 2),\n",
       "  (39, 2),\n",
       "  (40, 1),\n",
       "  (41, 1),\n",
       "  (42, 1),\n",
       "  (43, 1),\n",
       "  (44, 1),\n",
       "  (45, 1),\n",
       "  (46, 3),\n",
       "  (47, 1),\n",
       "  (48, 5),\n",
       "  (49, 1),\n",
       "  (50, 1),\n",
       "  (51, 1),\n",
       "  (52, 1),\n",
       "  (53, 1),\n",
       "  (54, 1),\n",
       "  (55, 2),\n",
       "  (56, 1),\n",
       "  (57, 1),\n",
       "  (58, 1),\n",
       "  (59, 1),\n",
       "  (60, 1),\n",
       "  (61, 1),\n",
       "  (62, 1),\n",
       "  (63, 2),\n",
       "  (64, 1),\n",
       "  (65, 2),\n",
       "  (66, 1),\n",
       "  (67, 1),\n",
       "  (68, 1),\n",
       "  (69, 2),\n",
       "  (70, 1),\n",
       "  (71, 1),\n",
       "  (72, 1),\n",
       "  (73, 1),\n",
       "  (74, 1),\n",
       "  (75, 1),\n",
       "  (76, 1),\n",
       "  (77, 1),\n",
       "  (78, 2),\n",
       "  (79, 1),\n",
       "  (80, 1),\n",
       "  (81, 1),\n",
       "  (82, 1),\n",
       "  (83, 2),\n",
       "  (84, 1),\n",
       "  (85, 1),\n",
       "  (86, 1),\n",
       "  (87, 1),\n",
       "  (88, 1),\n",
       "  (89, 1),\n",
       "  (90, 1),\n",
       "  (91, 2),\n",
       "  (92, 1),\n",
       "  (93, 1),\n",
       "  (94, 1),\n",
       "  (95, 1),\n",
       "  (96, 1),\n",
       "  (97, 1),\n",
       "  (98, 1),\n",
       "  (99, 1),\n",
       "  (100, 4),\n",
       "  (101, 1),\n",
       "  (102, 1),\n",
       "  (103, 2),\n",
       "  (104, 1),\n",
       "  (105, 1),\n",
       "  (106, 1),\n",
       "  (107, 1),\n",
       "  (108, 1),\n",
       "  (109, 1),\n",
       "  (110, 1),\n",
       "  (111, 1),\n",
       "  (112, 1),\n",
       "  (113, 2),\n",
       "  (114, 1),\n",
       "  (115, 1),\n",
       "  (116, 2),\n",
       "  (117, 1),\n",
       "  (118, 3),\n",
       "  (119, 1),\n",
       "  (120, 1),\n",
       "  (121, 1),\n",
       "  (122, 1),\n",
       "  (123, 1),\n",
       "  (124, 1),\n",
       "  (125, 1),\n",
       "  (126, 1),\n",
       "  (127, 1),\n",
       "  (128, 1),\n",
       "  (129, 1),\n",
       "  (130, 2),\n",
       "  (131, 1),\n",
       "  (132, 1)]]"
      ]
     },
     "execution_count": 24,
     "metadata": {},
     "output_type": "execute_result"
    }
   ],
   "source": [
    "bow_corpus[0:1]"
   ]
  },
  {
   "cell_type": "code",
   "execution_count": 25,
   "metadata": {},
   "outputs": [],
   "source": [
    "lda_model_tfidf = gensim.models.LdaMulticore(tfidf_corp, num_topics=6, id2word=dictionary, passes=2, workers=4)"
   ]
  },
  {
   "cell_type": "code",
   "execution_count": 26,
   "metadata": {},
   "outputs": [],
   "source": [
    "import pyLDAvis.gensim\n",
    "pyLDAvis.enable_notebook()"
   ]
  },
  {
   "cell_type": "code",
   "execution_count": 27,
   "metadata": {},
   "outputs": [
    {
     "data": {
      "text/html": [
       "\n",
       "\n",
       "<link rel=\"stylesheet\" type=\"text/css\" href=\"https://cdn.jsdelivr.net/gh/bmabey/pyLDAvis/pyLDAvis/js/ldavis.v1.0.0.css\">\n",
       "\n",
       "<div id=\"ldavis_el2856027897250585445875282038\"></div>\n",
       "<script type=\"text/javascript\">\n",
       "\n",
       "var ldavis_el2856027897250585445875282038_data = {\"mdsDat\": {\"x\": [-0.0006346613639948509, -0.005098005844661123, -0.011871963500241405, 0.00706834797312581, 0.01216073339752854, -0.0016244506617569738], \"y\": [0.015156126948741001, -0.013610743325025359, 0.0026830718247848736, 0.003334681856868204, -0.004424928078330486, -0.003138209227038237], \"topics\": [1, 2, 3, 4, 5, 6], \"cluster\": [1, 1, 1, 1, 1, 1], \"Freq\": [25.289658566547814, 18.16914238925828, 16.189790126891644, 13.883869057910253, 13.619305238111167, 12.848234621280843]}, \"tinfo\": {\"Term\": [\"Exchange\", \"currency\", \"unlicensed\", \"coronavirus\", \"smart\", \"FIN\", \"student\", \"insider\", \"Bluetooth\", \"school\", \"printer\", \"FA\", \"router\", \"HMRC\", \"SacRT\", \"Instagram\", \"citizen\", \"Owari\", \"digital\", \"Toyota\", \"Polar\", \"airline\", \"Explorer\", \"FTP\", \"charity\", \"ComRAT\", \"Sophos\", \"LastPass\", \"Trickbot\", \"database\", \"FTP\", \"console\", \"router\", \"EasyJet\", \"Carbanak\", \"former\", \"misconfigured\", \"spammer\", \"professionalisation\", \"facility\", \"Travelex\", \"Mylobot\", \"Union\", \"Apple\", \"gamers\", \"letter\", \"Flash\", \"fraud\", \"SFMTA\", \"RoughTed\", \"GWR\", \"Cloud\", \"clipboard\", \"Momentive\", \"allowing\", \"compromising\", \"conduct\", \"fixed\", \"Superdrug\", \"storing\", \"development\", \"vehicle\", \"environment\", \"mobile\", \"employee\", \"released\", \"certificate\", \"server\", \"criminal\", \"healthcare\", \"update\", \"cryptocurrency\", \"ransomware\", \"breach\", \"malware\", \"software\", \"network\", \"password\", \"vulnerability\", \"version\", \"campaign\", \"email\", \"customer\", \"UK\", \"device\", \"system\", \"business\", \"detail\", \"malicious\", \"company\", \"currency\", \"finder\", \"nFacebook\", \"Meltdown\", \"airline\", \"Spectre\", \"FTSE\", \"Soleil\", \"primary\", \"Fortinet\", \"Oilpro\", \"Rigzone\", \"Bitbucket\", \"coronavirus\", \"dating\", \"Spirit\", \"Orion\", \"EDR\", \"BR\", \"Bluetooth\", \"Odinaff\", \"EDP\", \"pandemic\", \"Slack\", \"AV\", \"Felismus\", \"IcedID\", \"HTTPS\", \"Cirque\", \"North\", \"database\", \"alert\", \"SWIFT\", \"working\", \"digital\", \"ransomware\", \"contact\", \"vulnerability\", \"CVE\", \"Windows\", \"Microsoft\", \"FA\", \"Facebook\", \"found\", \"detail\", \"phishing\", \"included\", \"account\", \"email\", \"patch\", \"breach\", \"update\", \"issued\", \"address\", \"report\", \"customer\", \"device\", \"attacker\", \"system\", \"Owari\", \"memcached\", \"ArbiterSports\", \"BA\", \"Fireball\", \"Cellebrite\", \"Bodybuilding\", \"C\", \"routing\", \"petrol\", \"nWindows\", \"PCS\", \"shipping\", \"Cequence\", \"Zendesk\", \"Panda\", \"SharePoint\", \"Steam\", \"hijacked\", \"SP\", \"R\", \"experimenting\", \"fridge\", \"Oracle\", \"Airways\", \"alleged\", \"counterproductive\", \"forensics\", \"spreadsheet\", \"nTrue\", \"personnel\", \"Server\", \"gaming\", \"mitigated\", \"password\", \"ECSEPA\", \"domain\", \"FA\", \"AWS\", \"supply\", \"breach\", \"phone\", \"online\", \"chain\", \"university\", \"staying\", \"account\", \"secure\", \"following\", \"website\", \"personal\", \"ensure\", \"would\", \"affected\", \"service\", \"vulnerability\", \"update\", \"device\", \"important\", \"hacker\", \"support\", \"advice\", \"credential\", \"CVE\", \"Microsoft\", \"server\", \"Exchange\", \"unlicensed\", \"SacRT\", \"boarding\", \"TV\", \"Emotet\", \"Hajime\", \"Games\", \"pager\", \"nExchange\", \"GDS\", \"printer\", \"Doorbell\", \"California\", \"Mandia\", \"HMRC\", \"morning\", \"ICS\", \"VMware\", \"Dresscode\", \"BlueBorne\", \"Sacramento\", \"recording\", \"QNAP\", \"Coinrail\", \"saving\", \"Harvey\", \"Hurricane\", \"reducing\", \"council\", \"NSA\", \"smart\", \"trading\", \"child\", \"store\", \"Micro\", \"insider\", \"Bluetooth\", \"device\", \"vulnerability\", \"server\", \"Trend\", \"charity\", \"breach\", \"cryptocurrency\", \"update\", \"website\", \"system\", \"message\", \"ransomware\", \"Microsoft\", \"phishing\", \"compromise\", \"attacker\", \"email\", \"password\", \"personal\", \"malware\", \"affected\", \"Polar\", \"Toyota\", \"LastPass\", \"irrigation\", \"Reaper\", \"localisation\", \"Timehop\", \"citizen\", \"Trickbot\", \"pageant\", \"Avalanche\", \"NHSD\", \"Boots\", \"HNS\", \"student\", \"spraying\", \"Fastway\", \"Explorer\", \"average\", \"Breaches\", \"handing\", \"nSmall\", \"BestBuy\", \"macro\", \"Rabbit\", \"professional\", \"arrest\", \"legislation\", \"utilise\", \"Ecuadorian\", \"TikTok\", \"looking\", \"suspected\", \"scammer\", \"privacy\", \"quarter\", \"three\", \"advisory\", \"charity\", \"social\", \"survey\", \"Instagram\", \"Windows\", \"password\", \"vulnerable\", \"update\", \"digital\", \"account\", \"business\", \"online\", \"Security\", \"Microsoft\", \"device\", \"email\", \"criminal\", \"phishing\", \"breach\", \"campaign\", \"people\", \"ransomware\", \"FIN\", \"ComRAT\", \"Sophos\", \"Foods\", \"Lottery\", \"steganography\", \"driver\", \"automated\", \"heavily\", \"smishing\", \"Dharma\", \"Bitcoins\", \"PowerPoint\", \"nDetails\", \"Polish\", \"Firewall\", \"biometric\", \"Market\", \"knowledge\", \"opinion\", \"Twitterbots\", \"catch\", \"FaceTime\", \"seemingly\", \"MFA\", \"ShellTea\", \"BADHATCH\", \"MyNewsDesk\", \"UEFI\", \"trending\", \"African\", \"SamSam\", \"CCleaner\", \"Australian\", \"Twitter\", \"infected\", \"Google\", \"school\", \"insider\", \"malware\", \"computer\", \"nCyber\", \"tactic\", \"Christmas\", \"sharing\", \"connected\", \"group\", \"internet\", \"Microsoft\", \"account\", \"detail\", \"ransomware\", \"phishing\", \"email\", \"password\", \"operation\", \"victim\", \"network\", \"device\", \"customer\"], \"Freq\": [0.0, 0.0, 0.0, 0.0, 0.0, 0.0, 0.0, 0.0, 0.0, 0.0, 0.0, 0.0, 0.0, 0.0, 0.0, 0.0, 0.0, 0.0, 0.0, 0.0, 0.0, 0.0, 0.0, 0.0, 0.0, 0.0, 0.0, 0.0, 0.0, 0.0, 0.39649571856161947, 0.2805645041713824, 0.4283302500322348, 0.2495907421810609, 0.2624538860028525, 0.2887212590731359, 0.25237527661246273, 0.2269013999782159, 0.22688887583534603, 0.2470554346548761, 0.20911483516171034, 0.20658387924448882, 0.20556132189599177, 0.3362923053018776, 0.2053727698637178, 0.241016215129367, 0.2795666059403439, 0.4247658223651734, 0.19545120756428663, 0.1947580457869477, 0.18955477741906795, 0.29837903603573723, 0.18464465890378642, 0.18058704888755547, 0.2842012640703575, 0.20523687937568622, 0.23525629460353645, 0.29382444043486067, 0.1712301874537104, 0.20454214323575487, 0.29123371180752994, 0.20872993004206972, 0.26800142678391514, 0.3344994777879487, 0.3503400419929121, 0.3646524131152083, 0.3145635542434715, 0.37649508694564787, 0.3848843168270566, 0.28118510375373235, 0.4211041380067299, 0.3190780124429755, 0.42486835051782, 0.4212495454281852, 0.3834706099769513, 0.34575917753304997, 0.3340439386252581, 0.4036344092395779, 0.3876509848964548, 0.3298114151560648, 0.3186424977573028, 0.3317255924158798, 0.32134880936416993, 0.30650080117111134, 0.32148250635825254, 0.31217554691174637, 0.3061342046501576, 0.30715619593570004, 0.3026065710751433, 0.3009522520904109, 0.3146212558920693, 0.1786197583217883, 0.1706261973447236, 0.17288824536930283, 0.23866132992069783, 0.17077715305254962, 0.16140230540967535, 0.15998584064997268, 0.18295690720289484, 0.17813862671824585, 0.1553970565596596, 0.1553854025451726, 0.15123645900816401, 0.2790612865057112, 0.1718083109297915, 0.1452760596860922, 0.1668495595377001, 0.14156845634656415, 0.1415499268447953, 0.20650937817757362, 0.13907379825965627, 0.13887451079927407, 0.2339773565517506, 0.13731546546320333, 0.1373104327590192, 0.13432677629106893, 0.13431451225183236, 0.18483383897774755, 0.130978553782144, 0.18216870439102675, 0.30315495110406926, 0.25771011525763154, 0.21514365577444372, 0.27334914183902526, 0.244155339904009, 0.3964232618017897, 0.2161071390310278, 0.3782003991404072, 0.2644578531898429, 0.28664178447420874, 0.3210897549951551, 0.25021463948860834, 0.2350331314694083, 0.2387510798119815, 0.25602324431882345, 0.2667543167773782, 0.2119815162318421, 0.26243168140177237, 0.25169122981269265, 0.22616888725079112, 0.26619672873855366, 0.2601526797726941, 0.21441188025191282, 0.22048513415265908, 0.21848903150120386, 0.22581875846222346, 0.22636722154750208, 0.2166869675555146, 0.21737016985735924, 0.19271712262722845, 0.1565939864774481, 0.1471556223552174, 0.15150125964390762, 0.14833171197930675, 0.14091577356653387, 0.14057200049139562, 0.16225860394799344, 0.13455834412629847, 0.130403929690551, 0.15320762294511997, 0.12506084428583564, 0.16108493773326862, 0.12145712131732464, 0.12144353210593466, 0.12954865869869361, 0.13863981846991014, 0.12901591631483478, 0.155828834605792, 0.11252468353514318, 0.11847109595254557, 0.10840201123233419, 0.10818587482517641, 0.12209183940832252, 0.12487128611128813, 0.13617703436535974, 0.10740125640820415, 0.1073872821691581, 0.11419942927118817, 0.10850485891387075, 0.12982384022934088, 0.20356190218226602, 0.17814515079385904, 0.12160004584811884, 0.35911427560667153, 0.14742222003400332, 0.2217878657419466, 0.21825815867813972, 0.15895561022754287, 0.17247560723418484, 0.2942483040130135, 0.21286029742717985, 0.24284489235918905, 0.17290152709217554, 0.18831462581321395, 0.16314343147462404, 0.22847337271816476, 0.18564311142171333, 0.1832895732523956, 0.1982938405487662, 0.1917704302157449, 0.17283795223155604, 0.18393389438610908, 0.1881552696609807, 0.1849233701647854, 0.20312654914670208, 0.20166380643268375, 0.19353043692891925, 0.17406063020202742, 0.17721842319877595, 0.17276447989530752, 0.17664857094347963, 0.17337426178340476, 0.17259216869488248, 0.1750919494274421, 0.17307798300207455, 0.28369268640862316, 0.1859989686178454, 0.15643766904761033, 0.13416856056987872, 0.14244666373713893, 0.14816563551172415, 0.1258722679313168, 0.11851673902149909, 0.11777693350399142, 0.11533108571128135, 0.12036136312023335, 0.16125741279487016, 0.10889673261583754, 0.12037404622195252, 0.10454844869948185, 0.1638993922279481, 0.10412638110084704, 0.13678818433667983, 0.13959454881018693, 0.10444280797934312, 0.09903083330395125, 0.09610054152490174, 0.1055220078604662, 0.12340332640515483, 0.09658759788058457, 0.10242467011459315, 0.09217874389882115, 0.09216606079710198, 0.10551799704805423, 0.12473973298538385, 0.12198251795889109, 0.19344241492418968, 0.10962118439382147, 0.14442862659889966, 0.20113109376086521, 0.14103674178170766, 0.157127363688494, 0.1311868857194692, 0.1963727164146494, 0.19726177659549704, 0.16928067884711287, 0.12660586785770767, 0.14090956115374875, 0.18698902746475693, 0.15254480171251092, 0.17604656006391134, 0.15997800248109584, 0.1611901030107847, 0.1535977128062268, 0.16625829376515144, 0.1581407687655226, 0.1569220644768988, 0.14055835771533204, 0.14588315306137242, 0.15018961964541358, 0.14980903919114655, 0.14415197765657645, 0.1454140433917363, 0.1422952531407349, 0.14818647536087842, 0.14949705406782182, 0.1392978435222717, 0.13517964806296914, 0.11526774742734966, 0.11462529007351635, 0.11048263093561585, 0.14982274107868856, 0.13521978259487452, 0.10740899073121345, 0.10433008245272044, 0.10425592930855913, 0.1037477078173128, 0.0990678289647812, 0.19949325872278278, 0.09799927682265822, 0.0959994282554056, 0.1480293286154924, 0.15273131813703714, 0.10907063465766254, 0.09090497197728871, 0.09088215635803558, 0.09046864588416485, 0.1523582946701918, 0.11459569168979215, 0.12285210700575434, 0.09351439292231543, 0.10083653006415998, 0.0967938119123073, 0.08716448695129184, 0.10466759166963858, 0.17467186550984753, 0.10976442953640402, 0.13260585568412475, 0.1566569859699908, 0.1174464723548177, 0.14235381233890188, 0.17620953345760762, 0.15131572089704723, 0.1738691367663213, 0.15069012519084568, 0.13218111363818744, 0.1811531780161436, 0.22237750583440447, 0.1510121921869666, 0.19757644186217327, 0.1466317647647493, 0.17736306068271093, 0.1587586712678555, 0.16665029388734173, 0.14984530901272222, 0.16642876803760806, 0.1648507464517869, 0.16201179751916736, 0.15722304195997858, 0.1589472930888208, 0.16277293419853528, 0.15007924770249217, 0.14582439668653568, 0.14868471323251004, 0.15444037313356904, 0.128849645102125, 0.13495786448941993, 0.10888435425496401, 0.12057933972044448, 0.11702137328420839, 0.12585226141863037, 0.11068441650616405, 0.10049967119089832, 0.09958168401835829, 0.09955117311777703, 0.10516916905738226, 0.09968544804136602, 0.09490952599677213, 0.11589195770310437, 0.09222458471964219, 0.09382186406636046, 0.09010890764737786, 0.1327768338769415, 0.08938436587543036, 0.08938078904525912, 0.08989859362811346, 0.09015501101114277, 0.09529309160407941, 0.09432801249662161, 0.08538905556117175, 0.08538519114666514, 0.08537668044774012, 0.09231192947450206, 0.08433567907574314, 0.09562242060313693, 0.12412165078442355, 0.11175956851798687, 0.10483117658022154, 0.13997393742807343, 0.1635345986490903, 0.15725267832322848, 0.14848084383467378, 0.1422727787609406, 0.20222793861056335, 0.15449255171641876, 0.12728169037060455, 0.10623545987687132, 0.11224951336835169, 0.11505079149615156, 0.12840954221188497, 0.14076268240289355, 0.13553551357506385, 0.15568787803238668, 0.1549339397491575, 0.1457465009609326, 0.15278915374994687, 0.14040001159495344, 0.13874496374486656, 0.14540045612238137, 0.12168295359445902, 0.1277494283180721, 0.12779676290227282, 0.12837957951894302, 0.12291601636743452], \"Total\": [0.0, 0.0, 0.0, 0.0, 0.0, 0.0, 0.0, 0.0, 0.0, 0.0, 0.0, 0.0, 0.0, 0.0, 0.0, 0.0, 0.0, 0.0, 0.0, 0.0, 0.0, 0.0, 0.0, 0.0, 0.0, 0.0, 0.0, 0.0, 0.0, 0.0, 0.6093635098597685, 0.4878193986258571, 0.7534966723343121, 0.4391214115636464, 0.47380767123445044, 0.5357910327438212, 0.47159765280339555, 0.428105605402372, 0.42809715912659135, 0.4674737521918193, 0.3986359350568438, 0.3960963007043538, 0.395071287569178, 0.6466408889953902, 0.39490839008758005, 0.4639564762641765, 0.5402869451520498, 0.8347250134158829, 0.3849646286762115, 0.3842652441067454, 0.3790904867322182, 0.6044640444602516, 0.374148885120425, 0.37009859115979254, 0.5868496588537108, 0.42498467296353154, 0.49080024542470546, 0.6140998464607267, 0.3607335663494289, 0.4337365543922047, 0.6245687025621144, 0.4431723126408012, 0.583631994285136, 0.7521105039904655, 0.8034999125650066, 0.8447718469505843, 0.7185418530206319, 1.0040049826184234, 1.1042025352253422, 0.6762237521529453, 1.3622096600440095, 0.8465727242332023, 1.4373022379865616, 1.4456118925759518, 1.2347692760164628, 1.0170566613557854, 0.9680529461338899, 1.495498227118165, 1.390504411294661, 0.9566672804079125, 0.9737811073615039, 1.183671764253753, 1.0802716957581395, 0.914682702198299, 1.2309832072200533, 1.0629269931896168, 0.9390221434633508, 1.0545322083656705, 0.9356004700011047, 0.9316792119996185, 0.6123194685404836, 0.3815413734114333, 0.37786312015566365, 0.3833079480884048, 0.5306936582255879, 0.38312669645594183, 0.3643119359582242, 0.36289975952613884, 0.4202870159132149, 0.4100468745255027, 0.3583051902314601, 0.3582977232474919, 0.3541426587060062, 0.6619107263761606, 0.41069032914416553, 0.34819932536996756, 0.4042922966430126, 0.3444747687674715, 0.3444629561277575, 0.5059125606221252, 0.3419768747057268, 0.3417793189019166, 0.5794891921739797, 0.34021743210489075, 0.34021289199973526, 0.3372235282431526, 0.3372140095373288, 0.46644896305998024, 0.3338828382315358, 0.4683464956993972, 0.7957290946427276, 0.7040487594464606, 0.5860433939516068, 0.7940786896479824, 0.7037929322866566, 1.4373022379865616, 0.62881890199873, 1.390504411294661, 0.8511871423787118, 0.9651507978526392, 1.1931363323173627, 0.7982792687221762, 0.7338606159550053, 0.8417245371283101, 1.0545322083656705, 1.1760912542353759, 0.6992307030862217, 1.2529443016730228, 1.183671764253753, 0.8788544594835518, 1.4456118925759518, 1.3622096600440095, 0.7802766323157411, 0.8783108054540808, 0.9191648453361323, 1.0802716957581395, 1.2309832072200533, 0.9296695798907642, 1.0629269931896168, 0.4235168188928963, 0.36308433059968115, 0.35364500518476094, 0.36416423739172027, 0.3651544625732002, 0.34740866502375595, 0.34706077086400405, 0.4134773095619502, 0.3456948245654402, 0.33688121191491427, 0.40237685823820124, 0.33155266162540015, 0.42818124318509376, 0.3279419517685536, 0.3279355957211735, 0.3498544404058396, 0.3773893911587383, 0.35681004536255406, 0.4379719024818043, 0.31900017104358885, 0.3433757204479263, 0.3148767973231546, 0.3146630159407052, 0.3564039615754207, 0.36462451767675663, 0.39768752005677893, 0.3138809927117654, 0.31387388138023653, 0.3343627547383167, 0.31858736773593416, 0.3813950669851377, 0.6493154772166925, 0.5710369630755524, 0.3645033149012932, 1.495498227118165, 0.47104030912325, 0.8141977887007454, 0.7982792687221762, 0.5238412516122042, 0.5973197368795784, 1.4456118925759518, 0.8700716570538294, 1.1047822188985206, 0.6458228074971115, 0.791401607130384, 0.5870562202529067, 1.2529443016730228, 0.8371500105300638, 0.827196022201719, 1.0219603976033507, 0.9750050258477131, 0.7183453604572406, 0.8637077916376845, 0.9718100116303915, 0.9354622153214166, 1.390504411294661, 1.3622096600440095, 1.2309832072200533, 0.7589384885155811, 0.8639665894247103, 0.7827548405940964, 0.9261393393276545, 0.8497146765262175, 0.8511871423787118, 1.1931363323173627, 1.0040049826184234, 0.5102857846081941, 0.3972077654769716, 0.3675994352399153, 0.3589780206257432, 0.3837355325620448, 0.4115079033043375, 0.3500666204829166, 0.32965769457737953, 0.3289183083695841, 0.32647786051550126, 0.34130533070584423, 0.46445018944021915, 0.3200407604954306, 0.3629936826851498, 0.3157088039966944, 0.49913716788284, 0.31775217349214097, 0.4198359111682808, 0.429128234059086, 0.3223323258286167, 0.31017978515149797, 0.30723626389423475, 0.3394452856261671, 0.3973124112350434, 0.3156807796602849, 0.3355693625892999, 0.30331485843543315, 0.30330985148983053, 0.3495583815068328, 0.41778590846323915, 0.41028739347374715, 0.6836469239680458, 0.36945296667754046, 0.5458186979606994, 0.8905163374621006, 0.5453747667259418, 0.6696890179343649, 0.5059125606221252, 1.2309832072200533, 1.390504411294661, 1.0040049826184234, 0.5105193543092253, 0.6754686790884477, 1.4456118925759518, 0.8465727242332023, 1.3622096600440095, 1.0219603976033507, 1.0629269931896168, 0.9328515151581124, 1.4373022379865616, 1.1931363323173627, 1.1760912542353759, 0.6995683667317206, 0.9296695798907642, 1.183671764253753, 1.495498227118165, 0.9750050258477131, 1.2347692760164628, 0.9718100116303915, 0.3600697038855989, 0.36492843423293897, 0.3511738203227225, 0.35419624254652954, 0.3272040303886202, 0.3264900496040516, 0.3223464165691665, 0.43742243830611816, 0.3956714456222398, 0.3192789968884695, 0.31618270390306985, 0.31612478575742975, 0.3156031344463385, 0.3110306260726945, 0.6277669237515179, 0.3098597679821438, 0.3078571114042104, 0.48149759058127994, 0.49983273505932957, 0.3613052714949023, 0.3027758452614894, 0.3027538510870624, 0.3023161194716415, 0.5103156650099099, 0.38550518305914994, 0.417371587248025, 0.3180927208829144, 0.3434388106054431, 0.3304702213414408, 0.2990216319024133, 0.36034436062605646, 0.6474324368405804, 0.38168468368949704, 0.48934081549430664, 0.6393732336925808, 0.4334632363055465, 0.5709026297076175, 0.7901151588276925, 0.6754686790884477, 0.8651837104455493, 0.6852114154884612, 0.53828647423346, 0.9651507978526392, 1.495498227118165, 0.7351895364242206, 1.3622096600440095, 0.7037929322866566, 1.2529443016730228, 0.9390221434633508, 1.1047822188985206, 0.8038318143760343, 1.1931363323173627, 1.2309832072200533, 1.183671764253753, 1.1042025352253422, 1.1760912542353759, 1.4456118925759518, 0.9737811073615039, 0.8155427462019379, 1.4373022379865616, 0.37632386095656467, 0.34200888281765673, 0.3744951679283296, 0.32204812949272565, 0.3583613674375665, 0.3480056153192863, 0.378840472049633, 0.3381785605255109, 0.3144289873267572, 0.31273493319633866, 0.3126937471439709, 0.3321981428906435, 0.3209423221895194, 0.30872697490166157, 0.3814432366821223, 0.30537710689594694, 0.3131353831721243, 0.30325413503726467, 0.4486327143696056, 0.30253297189520567, 0.3025343112684158, 0.3062356714419518, 0.31056248250421686, 0.32844892678927845, 0.32547646580242473, 0.2985315936153087, 0.29853149825921677, 0.2985290507480519, 0.3231374075024963, 0.29753062861513585, 0.3391223786508656, 0.4529573936344196, 0.41257029288138963, 0.3869775968418412, 0.6030545747388016, 0.8063363495224374, 0.7835938858797404, 0.7156367378441024, 0.6696890179343649, 1.2347692760164628, 0.7824127344826681, 0.5748071045377441, 0.4084863623362047, 0.4606214190013596, 0.5008291487435164, 0.6514572576895937, 0.8222553098494033, 0.7624776713636383, 1.1931363323173627, 1.2529443016730228, 1.0545322083656705, 1.4373022379865616, 1.1760912542353759, 1.183671764253753, 1.495498227118165, 0.6520837931630539, 0.9543803281319451, 0.9680529461338899, 1.2309832072200533, 1.0802716957581395], \"Category\": [\"Default\", \"Default\", \"Default\", \"Default\", \"Default\", \"Default\", \"Default\", \"Default\", \"Default\", \"Default\", \"Default\", \"Default\", \"Default\", \"Default\", \"Default\", \"Default\", \"Default\", \"Default\", \"Default\", \"Default\", \"Default\", \"Default\", \"Default\", \"Default\", \"Default\", \"Default\", \"Default\", \"Default\", \"Default\", \"Default\", \"Topic1\", \"Topic1\", \"Topic1\", \"Topic1\", \"Topic1\", \"Topic1\", \"Topic1\", \"Topic1\", \"Topic1\", \"Topic1\", \"Topic1\", \"Topic1\", \"Topic1\", \"Topic1\", \"Topic1\", \"Topic1\", \"Topic1\", \"Topic1\", \"Topic1\", \"Topic1\", \"Topic1\", \"Topic1\", \"Topic1\", \"Topic1\", \"Topic1\", \"Topic1\", \"Topic1\", \"Topic1\", \"Topic1\", \"Topic1\", \"Topic1\", \"Topic1\", \"Topic1\", \"Topic1\", \"Topic1\", \"Topic1\", \"Topic1\", \"Topic1\", \"Topic1\", \"Topic1\", \"Topic1\", \"Topic1\", \"Topic1\", \"Topic1\", \"Topic1\", \"Topic1\", \"Topic1\", \"Topic1\", \"Topic1\", \"Topic1\", \"Topic1\", \"Topic1\", \"Topic1\", \"Topic1\", \"Topic1\", \"Topic1\", \"Topic1\", \"Topic1\", \"Topic1\", \"Topic1\", \"Topic2\", \"Topic2\", \"Topic2\", \"Topic2\", \"Topic2\", \"Topic2\", \"Topic2\", \"Topic2\", \"Topic2\", \"Topic2\", \"Topic2\", \"Topic2\", \"Topic2\", \"Topic2\", \"Topic2\", \"Topic2\", \"Topic2\", \"Topic2\", \"Topic2\", \"Topic2\", \"Topic2\", \"Topic2\", \"Topic2\", \"Topic2\", \"Topic2\", \"Topic2\", \"Topic2\", \"Topic2\", \"Topic2\", \"Topic2\", \"Topic2\", \"Topic2\", \"Topic2\", \"Topic2\", \"Topic2\", \"Topic2\", \"Topic2\", \"Topic2\", \"Topic2\", \"Topic2\", \"Topic2\", \"Topic2\", \"Topic2\", \"Topic2\", \"Topic2\", \"Topic2\", \"Topic2\", \"Topic2\", \"Topic2\", \"Topic2\", \"Topic2\", \"Topic2\", \"Topic2\", \"Topic2\", \"Topic2\", \"Topic2\", \"Topic2\", \"Topic2\", \"Topic2\", \"Topic3\", \"Topic3\", \"Topic3\", \"Topic3\", \"Topic3\", \"Topic3\", \"Topic3\", \"Topic3\", \"Topic3\", \"Topic3\", \"Topic3\", \"Topic3\", \"Topic3\", \"Topic3\", \"Topic3\", \"Topic3\", \"Topic3\", \"Topic3\", \"Topic3\", \"Topic3\", \"Topic3\", \"Topic3\", \"Topic3\", \"Topic3\", \"Topic3\", \"Topic3\", \"Topic3\", \"Topic3\", \"Topic3\", \"Topic3\", \"Topic3\", \"Topic3\", \"Topic3\", \"Topic3\", \"Topic3\", \"Topic3\", \"Topic3\", \"Topic3\", \"Topic3\", \"Topic3\", \"Topic3\", \"Topic3\", \"Topic3\", \"Topic3\", \"Topic3\", \"Topic3\", \"Topic3\", \"Topic3\", \"Topic3\", \"Topic3\", \"Topic3\", \"Topic3\", \"Topic3\", \"Topic3\", \"Topic3\", \"Topic3\", \"Topic3\", \"Topic3\", \"Topic3\", \"Topic3\", \"Topic3\", \"Topic3\", \"Topic3\", \"Topic3\", \"Topic3\", \"Topic3\", \"Topic4\", \"Topic4\", \"Topic4\", \"Topic4\", \"Topic4\", \"Topic4\", \"Topic4\", \"Topic4\", \"Topic4\", \"Topic4\", \"Topic4\", \"Topic4\", \"Topic4\", \"Topic4\", \"Topic4\", \"Topic4\", \"Topic4\", \"Topic4\", \"Topic4\", \"Topic4\", \"Topic4\", \"Topic4\", \"Topic4\", \"Topic4\", \"Topic4\", \"Topic4\", \"Topic4\", \"Topic4\", \"Topic4\", \"Topic4\", \"Topic4\", \"Topic4\", \"Topic4\", \"Topic4\", \"Topic4\", \"Topic4\", \"Topic4\", \"Topic4\", \"Topic4\", \"Topic4\", \"Topic4\", \"Topic4\", \"Topic4\", \"Topic4\", \"Topic4\", \"Topic4\", \"Topic4\", \"Topic4\", \"Topic4\", \"Topic4\", \"Topic4\", \"Topic4\", \"Topic4\", \"Topic4\", \"Topic4\", \"Topic4\", \"Topic4\", \"Topic4\", \"Topic4\", \"Topic5\", \"Topic5\", \"Topic5\", \"Topic5\", \"Topic5\", \"Topic5\", \"Topic5\", \"Topic5\", \"Topic5\", \"Topic5\", \"Topic5\", \"Topic5\", \"Topic5\", \"Topic5\", \"Topic5\", \"Topic5\", \"Topic5\", \"Topic5\", \"Topic5\", \"Topic5\", \"Topic5\", \"Topic5\", \"Topic5\", \"Topic5\", \"Topic5\", \"Topic5\", \"Topic5\", \"Topic5\", \"Topic5\", \"Topic5\", \"Topic5\", \"Topic5\", \"Topic5\", \"Topic5\", \"Topic5\", \"Topic5\", \"Topic5\", \"Topic5\", \"Topic5\", \"Topic5\", \"Topic5\", \"Topic5\", \"Topic5\", \"Topic5\", \"Topic5\", \"Topic5\", \"Topic5\", \"Topic5\", \"Topic5\", \"Topic5\", \"Topic5\", \"Topic5\", \"Topic5\", \"Topic5\", \"Topic5\", \"Topic5\", \"Topic5\", \"Topic5\", \"Topic5\", \"Topic5\", \"Topic6\", \"Topic6\", \"Topic6\", \"Topic6\", \"Topic6\", \"Topic6\", \"Topic6\", \"Topic6\", \"Topic6\", \"Topic6\", \"Topic6\", \"Topic6\", \"Topic6\", \"Topic6\", \"Topic6\", \"Topic6\", \"Topic6\", \"Topic6\", \"Topic6\", \"Topic6\", \"Topic6\", \"Topic6\", \"Topic6\", \"Topic6\", \"Topic6\", \"Topic6\", \"Topic6\", \"Topic6\", \"Topic6\", \"Topic6\", \"Topic6\", \"Topic6\", \"Topic6\", \"Topic6\", \"Topic6\", \"Topic6\", \"Topic6\", \"Topic6\", \"Topic6\", \"Topic6\", \"Topic6\", \"Topic6\", \"Topic6\", \"Topic6\", \"Topic6\", \"Topic6\", \"Topic6\", \"Topic6\", \"Topic6\", \"Topic6\", \"Topic6\", \"Topic6\", \"Topic6\", \"Topic6\", \"Topic6\", \"Topic6\", \"Topic6\", \"Topic6\", \"Topic6\", \"Topic6\"], \"logprob\": [30.0, 29.0, 28.0, 27.0, 26.0, 25.0, 24.0, 23.0, 22.0, 21.0, 20.0, 19.0, 18.0, 17.0, 16.0, 15.0, 14.0, 13.0, 12.0, 11.0, 10.0, 9.0, 8.0, 7.0, 6.0, 5.0, 4.0, 3.0, 2.0, 1.0, -7.3349, -7.6808, -7.2577, -7.7978, -7.7475, -7.6521, -7.7867, -7.8931, -7.8931, -7.808, -7.9747, -7.9869, -7.9919, -7.4996, -7.9928, -7.8327, -7.6844, -7.2661, -8.0423, -8.0459, -8.0729, -7.6192, -8.0992, -8.1214, -7.6679, -7.9934, -7.8569, -7.6346, -8.1746, -7.9968, -7.6435, -7.9766, -7.7266, -7.505, -7.4587, -7.4187, -7.5664, -7.3867, -7.3647, -7.6786, -7.2747, -7.5522, -7.2658, -7.2744, -7.3683, -7.4719, -7.5063, -7.3171, -7.3575, -7.5191, -7.5535, -7.5133, -7.5451, -7.5924, -7.5447, -7.574, -7.5936, -7.5903, -7.6052, -7.6107, -7.2356, -7.8017, -7.8475, -7.8343, -7.5119, -7.8466, -7.903, -7.9119, -7.7777, -7.8044, -7.941, -7.941, -7.9681, -7.3555, -7.8406, -8.0083, -7.8698, -8.0342, -8.0343, -7.6566, -8.0519, -8.0534, -7.5317, -8.0647, -8.0647, -8.0867, -8.0868, -7.7675, -8.1119, -7.782, -7.2727, -7.4351, -7.6156, -7.3762, -7.4891, -7.0045, -7.6112, -7.0515, -7.4093, -7.3287, -7.2152, -7.4646, -7.5272, -7.5115, -7.4417, -7.4006, -7.6304, -7.4169, -7.4587, -7.5657, -7.4027, -7.4257, -7.619, -7.5911, -7.6002, -7.5672, -7.5648, -7.6085, -7.6053, -7.6104, -7.8179, -7.8801, -7.851, -7.8721, -7.9234, -7.9259, -7.7824, -7.9696, -8.001, -7.8398, -8.0428, -7.7897, -8.072, -8.0721, -8.0075, -7.9397, -8.0117, -7.8228, -8.1484, -8.0969, -8.1857, -8.1877, -8.0668, -8.0443, -7.9576, -8.195, -8.1952, -8.1336, -8.1848, -8.0054, -7.5556, -7.689, -8.0709, -6.988, -7.8783, -7.4699, -7.4859, -7.803, -7.7213, -7.1872, -7.511, -7.3792, -7.7189, -7.6335, -7.777, -7.4402, -7.6478, -7.6605, -7.5818, -7.6153, -7.7192, -7.657, -7.6343, -7.6517, -7.5578, -7.565, -7.6062, -7.7122, -7.6942, -7.7197, -7.6974, -7.7161, -7.7207, -7.7063, -7.7179, -7.0701, -7.4922, -7.6653, -7.8188, -7.759, -7.7196, -7.8827, -7.9429, -7.9491, -7.9701, -7.9274, -7.6349, -8.0275, -7.9273, -8.0683, -7.6187, -8.0723, -7.7995, -7.7792, -8.0693, -8.1225, -8.1525, -8.059, -7.9025, -8.1475, -8.0888, -8.1942, -8.1944, -8.0591, -7.8917, -7.9141, -7.453, -8.0209, -7.7452, -7.414, -7.7689, -7.6609, -7.8413, -7.4379, -7.4334, -7.5864, -7.8769, -7.7698, -7.4869, -7.6905, -7.5472, -7.6429, -7.6354, -7.6836, -7.6044, -7.6545, -7.6622, -7.7723, -7.7351, -7.706, -7.7086, -7.7471, -7.7384, -7.76, -7.7002, -7.6914, -7.7621, -7.7921, -7.9514, -7.957, -7.9938, -7.6893, -7.7918, -8.0221, -8.0511, -8.0519, -8.0567, -8.1029, -7.4029, -8.1137, -8.1344, -7.7013, -7.67, -8.0067, -8.1889, -8.1891, -8.1937, -7.6725, -7.9573, -7.8877, -8.1606, -8.0852, -8.1261, -8.2309, -8.0479, -7.5358, -8.0004, -7.8113, -7.6446, -7.9327, -7.7404, -7.527, -7.6793, -7.5404, -7.6835, -7.8145, -7.4994, -7.2943, -7.6813, -7.4126, -7.7108, -7.5205, -7.6313, -7.5828, -7.6891, -7.5841, -7.5937, -7.611, -7.641, -7.6301, -7.6063, -7.6875, -7.7163, -7.6969, -7.6006, -7.7818, -7.7355, -7.9501, -7.8481, -7.8781, -7.8053, -7.9337, -8.0303, -8.0394, -8.0397, -7.9849, -8.0384, -8.0875, -7.8878, -8.1162, -8.099, -8.1394, -7.7518, -8.1475, -8.1475, -8.1417, -8.1389, -8.0835, -8.0936, -8.1932, -8.1932, -8.1933, -8.1152, -8.2056, -8.08, -7.8192, -7.9241, -7.9881, -7.699, -7.5434, -7.5826, -7.64, -7.6827, -7.331, -7.6003, -7.794, -7.9748, -7.9197, -7.895, -7.7852, -7.6933, -7.7312, -7.5926, -7.5974, -7.6586, -7.6114, -7.6959, -7.7078, -7.6609, -7.839, -7.7904, -7.79, -7.7854, -7.8289], \"loglift\": [30.0, 29.0, 28.0, 27.0, 26.0, 25.0, 24.0, 23.0, 22.0, 21.0, 20.0, 19.0, 18.0, 17.0, 16.0, 15.0, 14.0, 13.0, 12.0, 11.0, 10.0, 9.0, 8.0, 7.0, 6.0, 5.0, 4.0, 3.0, 2.0, 1.0, 0.945, 0.8216, 0.8099, 0.8098, 0.784, 0.7565, 0.7496, 0.7399, 0.7399, 0.737, 0.7296, 0.7238, 0.7215, 0.721, 0.7209, 0.7198, 0.7159, 0.6992, 0.6969, 0.6952, 0.6817, 0.6688, 0.6686, 0.6572, 0.6497, 0.6469, 0.6394, 0.6376, 0.6296, 0.6231, 0.6118, 0.6219, 0.5965, 0.5645, 0.5447, 0.5347, 0.5487, 0.3939, 0.3208, 0.4973, 0.2008, 0.399, 0.156, 0.1417, 0.2054, 0.2958, 0.3108, 0.0651, 0.0975, 0.3098, 0.2577, 0.1027, 0.1623, 0.2814, 0.0321, 0.1496, 0.254, 0.1413, 0.246, 0.2447, 1.0396, 0.9465, 0.9104, 0.9093, 0.9063, 0.8974, 0.8913, 0.8864, 0.8738, 0.8717, 0.87, 0.87, 0.8546, 0.8417, 0.834, 0.8313, 0.8204, 0.8162, 0.8161, 0.8094, 0.8057, 0.8049, 0.7985, 0.7981, 0.7981, 0.785, 0.7849, 0.7798, 0.7697, 0.7612, 0.7404, 0.7004, 0.7034, 0.639, 0.6468, 0.4174, 0.6374, 0.4034, 0.5365, 0.4914, 0.3928, 0.5453, 0.5669, 0.4454, 0.2899, 0.2218, 0.512, 0.1422, 0.1573, 0.3481, 0.0134, 0.0499, 0.4137, 0.3233, 0.2687, 0.1402, 0.012, 0.2491, 0.1183, 1.0334, 0.9798, 0.944, 0.9438, 0.9199, 0.9184, 0.917, 0.8854, 0.8772, 0.8717, 0.8552, 0.8458, 0.8432, 0.8275, 0.8274, 0.8273, 0.8194, 0.8035, 0.7874, 0.7788, 0.7566, 0.7545, 0.7531, 0.7495, 0.7492, 0.7491, 0.7483, 0.7482, 0.7465, 0.7437, 0.7431, 0.6608, 0.6559, 0.723, 0.3942, 0.6591, 0.5203, 0.524, 0.6282, 0.5786, 0.2289, 0.4128, 0.3058, 0.503, 0.3851, 0.5403, 0.119, 0.3146, 0.3138, 0.1811, 0.1946, 0.3962, 0.2741, 0.1789, 0.1997, -0.1028, -0.0895, -0.0293, 0.3483, 0.2366, 0.3099, 0.1639, 0.2313, 0.2251, -0.0982, 0.0628, 1.3874, 1.2157, 1.1201, 0.9903, 0.9835, 0.9529, 0.9516, 0.9514, 0.9474, 0.9339, 0.9322, 0.9166, 0.8964, 0.8707, 0.8693, 0.8608, 0.8588, 0.853, 0.8514, 0.8475, 0.8327, 0.8122, 0.806, 0.8052, 0.7902, 0.7877, 0.7834, 0.7833, 0.7767, 0.7657, 0.7615, 0.712, 0.7594, 0.6449, 0.4866, 0.622, 0.5247, 0.6247, 0.1389, 0.0216, 0.1942, 0.5801, 0.4072, -0.0708, 0.2607, -0.0717, 0.12, 0.0882, 0.1705, -0.1825, -0.0464, -0.0398, 0.3696, 0.1224, -0.09, -0.3264, 0.0629, -0.1646, 0.0532, 1.1059, 1.1013, 1.069, 1.0304, 0.9504, 0.947, 0.9229, 0.9222, 0.92, 0.9043, 0.8849, 0.8844, 0.8812, 0.8496, 0.8473, 0.8425, 0.8284, 0.8142, 0.8081, 0.796, 0.7905, 0.7903, 0.7872, 0.7849, 0.7805, 0.7707, 0.7695, 0.7682, 0.7657, 0.761, 0.7574, 0.6836, 0.7474, 0.688, 0.5873, 0.6879, 0.6048, 0.4932, 0.4976, 0.389, 0.4792, 0.5895, 0.3207, 0.0878, 0.4109, 0.0629, 0.4251, 0.0386, 0.2162, 0.1022, 0.3139, 0.0239, -0.0168, 0.005, 0.0445, -0.0077, -0.1902, 0.1237, 0.2722, -0.275, 1.1613, 1.0758, 1.0313, 0.9675, 0.9627, 0.9621, 0.95, 0.9351, 0.9114, 0.9076, 0.9074, 0.9018, 0.8827, 0.8724, 0.8607, 0.8546, 0.8467, 0.8384, 0.8344, 0.8327, 0.8327, 0.8263, 0.8151, 0.8145, 0.8135, 0.8003, 0.8003, 0.8002, 0.7991, 0.7913, 0.786, 0.7574, 0.7459, 0.7459, 0.5914, 0.4565, 0.4459, 0.4792, 0.5029, 0.2427, 0.4297, 0.5443, 0.7052, 0.6401, 0.5811, 0.428, 0.287, 0.3246, 0.0155, -0.0383, 0.073, -0.1895, -0.0735, -0.0918, -0.2788, 0.3732, 0.041, 0.0271, -0.2086, -0.1215]}, \"token.table\": {\"Topic\": [], \"Freq\": [], \"Term\": []}, \"R\": 30, \"lambda.step\": 0.01, \"plot.opts\": {\"xlab\": \"PC1\", \"ylab\": \"PC2\"}, \"topic.order\": [2, 4, 5, 6, 1, 3]};\n",
       "if(typeof(window.LDAvis) !== \"undefined\"){\n",
       "   !function(LDAvis){\n",
       "       new LDAvis(\"#\" + \"ldavis_el2856027897250585445875282038\", ldavis_el2856027897250585445875282038_data);\n",
       "   }(LDAvis);\n",
       "}else{\n",
       "  require.config({paths: {d3: \"https://d3js.org/d3.v5\"}});\n",
       "  require([\"d3\"], function(d3){\n",
       "    window.d3 = d3;\n",
       "    $.getScript(\"https://cdn.jsdelivr.net/gh/bmabey/pyLDAvis/pyLDAvis/js/ldavis.v3.0.0.js\", function(){\n",
       "       new LDAvis(\"#\" + \"ldavis_el2856027897250585445875282038\", ldavis_el2856027897250585445875282038_data);\n",
       "    });\n",
       "  });\n",
       "}\n",
       "</script>"
      ],
      "text/plain": [
       "<IPython.core.display.HTML object>"
      ]
     },
     "execution_count": 27,
     "metadata": {},
     "output_type": "execute_result"
    }
   ],
   "source": [
    "lda_display = pyLDAvis.gensim.prepare(lda_model_tfidf, tfidf_corp, \n",
    "                                          dictionary, mds='mmds')\n",
    "pyLDAvis.display(lda_display, template_type='notebook')"
   ]
  },
  {
   "cell_type": "code",
   "execution_count": 28,
   "metadata": {},
   "outputs": [],
   "source": [
    "from gensim.models.coherencemodel import CoherenceModel\n",
    "def getCoherence(m,t,d):\n",
    "    coherence_model_lda = CoherenceModel(model=m,texts=t, dictionary=d, coherence='c_v')\n",
    "    coherence_lda = coherence_model_lda.get_coherence()\n",
    "    return(coherence_lda) # Need high coherence"
   ]
  },
  {
   "cell_type": "code",
   "execution_count": 29,
   "metadata": {},
   "outputs": [
    {
     "data": {
      "text/plain": [
       "0.31375572009056085"
      ]
     },
     "execution_count": 29,
     "metadata": {},
     "output_type": "execute_result"
    }
   ],
   "source": [
    "getCoherence(m=lda_model_tfidf, t=lister, d =dictionary)"
   ]
  },
  {
   "cell_type": "code",
   "execution_count": 30,
   "metadata": {},
   "outputs": [],
   "source": [
    "perplex = lda_model_tfidf.log_perplexity(tfidf_corp)"
   ]
  },
  {
   "cell_type": "code",
   "execution_count": 31,
   "metadata": {},
   "outputs": [
    {
     "data": {
      "text/plain": [
       "-11.769003617608053"
      ]
     },
     "execution_count": 31,
     "metadata": {},
     "output_type": "execute_result"
    }
   ],
   "source": [
    "perplex"
   ]
  },
  {
   "cell_type": "code",
   "execution_count": 32,
   "metadata": {},
   "outputs": [
    {
     "name": "stdout",
     "output_type": "stream",
     "text": [
      "0:09:16.785849\n"
     ]
    }
   ],
   "source": [
    "begin_time = datetime.datetime.now()\n",
    "gCH = [0] * 50\n",
    "for i in range(1,50):\n",
    "    locals()['lda_model_tfidf_{}'.format(i)] = gensim.models.LdaMulticore(tfidf_corp, num_topics=i, id2word=dictionary, passes=2, workers=1)\n",
    "    gCH[i]=getCoherence(m=locals()['lda_model_tfidf_{}'.format(i)], t=lister, d =dictionary)\n",
    "end_time = datetime.datetime.now()\n",
    "time_weak_coh = (end_time - begin_time)\n",
    "\n",
    "print(time_weak_coh)"
   ]
  },
  {
   "cell_type": "code",
   "execution_count": 33,
   "metadata": {},
   "outputs": [
    {
     "name": "stdout",
     "output_type": "stream",
     "text": [
      "0:09:41.060481\n"
     ]
    }
   ],
   "source": [
    "begin_time = datetime.datetime.now()\n",
    "gCH = [0] * 50\n",
    "for i in range(1,50):\n",
    "    locals()['lda_model_tfidf_{}'.format(i)] = gensim.models.LdaMulticore(tfidf_corp, num_topics=i, id2word=dictionary, passes=2, workers=6)\n",
    "    gCH[i]=getCoherence(m=locals()['lda_model_tfidf_{}'.format(i)], t=lister, d =dictionary)\n",
    "end_time = datetime.datetime.now()\n",
    "time_coh = (end_time - begin_time)\n",
    "\n",
    "print(time_coh)"
   ]
  },
  {
   "cell_type": "code",
   "execution_count": 34,
   "metadata": {},
   "outputs": [
    {
     "name": "stdout",
     "output_type": "stream",
     "text": [
      "0:00:28.353731\n"
     ]
    }
   ],
   "source": [
    "begin_time = datetime.datetime.now()\n",
    "perplexity = [0] * 50\n",
    "for i in range(1,50):\n",
    "    perplexity[i]=locals()['lda_model_tfidf_{}'.format(i)].log_perplexity(tfidf_corp)\n",
    "end_time = datetime.datetime.now()\n",
    "time_perp = (end_time - begin_time)\n",
    "\n",
    "print(time_perp)"
   ]
  },
  {
   "cell_type": "code",
   "execution_count": 35,
   "metadata": {},
   "outputs": [
    {
     "data": {
      "image/png": "[encoded data removed]",
      "text/plain": [
       "<Figure size 432x288 with 1 Axes>"
      ]
     },
     "metadata": {
      "needs_background": "light"
     },
     "output_type": "display_data"
    },
    {
     "data": {
      "image/png": "[encoded data removed]",
      "text/plain": [
       "<Figure size 432x288 with 1 Axes>"
      ]
     },
     "metadata": {
      "needs_background": "light"
     },
     "output_type": "display_data"
    }
   ],
   "source": [
    "plt.plot(gCH)\n",
    "plt.show()\n",
    "plt.plot(perplexity)\n",
    "plt.show()"
   ]
  },
  {
   "cell_type": "code",
   "execution_count": 36,
   "metadata": {},
   "outputs": [
    {
     "name": "stdout",
     "output_type": "stream",
     "text": [
      "The maximum coherence achieved is 0.5300425989437229 and its corresponding number of topics is 16\n",
      "The minimum perplexity achieved is -25.023112522673884 and its corresponding number of topics is 46\n"
     ]
    }
   ],
   "source": [
    "print(\"The maximum coherence achieved is\", max(gCH), \"and its corresponding number of topics is\", np.argmax(gCH))\n",
    "print(\"The minimum perplexity achieved is\", min(perplexity), \"and its corresponding number of topics is\", np.argmin(perplexity))"
   ]
  },
  {
   "cell_type": "code",
   "execution_count": 38,
   "metadata": {},
   "outputs": [
    {
     "data": {
      "text/html": [
       "\n",
       "\n",
       "<link rel=\"stylesheet\" type=\"text/css\" href=\"https://cdn.jsdelivr.net/gh/bmabey/pyLDAvis/pyLDAvis/js/ldavis.v1.0.0.css\">\n",
       "\n",
       "<div id=\"ldavis_el2856027896422774881441110739\"></div>\n",
       "<script type=\"text/javascript\">\n",
       "\n",
       "var ldavis_el2856027896422774881441110739_data = {\"mdsDat\": {\"x\": [-0.01813313027038938, -0.03429513579961247, 0.008914810873989838, 0.03138950348532498, -0.015426959822354995, 0.01395466581864936, 0.015924473586156167, -0.011008936537982239, -0.018229649556453162, 0.0066209078551987075, 0.021341819059799046, -0.00815389321000618, 0.013025623214299509, 0.00020715258273239126, -0.012951992104668193, 0.006820740825316626], \"y\": [0.07650968088756566, 0.012676915375825, 0.027059706020102405, 0.009995313390560003, 0.01335716315422604, -0.028798356703651693, 0.00922857234414063, -0.028121948640915786, -0.005369216538057974, -0.001336673515594698, -0.012865546265047491, -0.011514503982459692, -0.010280352085487136, -0.01646130109120489, -0.017188638002125833, -0.016890814347874535], \"topics\": [1, 2, 3, 4, 5, 6, 7, 8, 9, 10, 11, 12, 13, 14, 15, 16], \"cluster\": [1, 1, 1, 1, 1, 1, 1, 1, 1, 1, 1, 1, 1, 1, 1, 1], \"Freq\": [46.894373542813206, 6.937882512215824, 5.7477272185893, 5.0483764964321605, 4.756618535224714, 3.710365451144361, 3.4391674755642256, 3.3468464387012333, 3.1429583689170757, 2.6385113595358805, 2.622000221149977, 2.507815081288773, 2.501002763944491, 2.3685837645843493, 2.326198724344385, 2.0115720455500483]}, \"tinfo\": {\"Term\": [\"FA\", \"vulnerability\", \"chain\", \"Windows\", \"smart\", \"breach\", \"update\", \"supply\", \"CVE\", \"malware\", \"router\", \"database\", \"school\", \"student\", \"client\", \"message\", \"support\", \"device\", \"Bluetooth\", \"online\", \"browser\", \"account\", \"social\", \"Instagram\", \"insider\", \"ransomware\", \"product\", \"store\", \"Android\", \"exploit\", \"university\", \"Office\", \"vaccine\", \"airline\", \"NHS\", \"macro\", \"never\", \"Microsoft\", \"investigation\", \"banking\", \"Cloud\", \"impact\", \"noted\", \"place\", \"council\", \"followed\", \"incident\", \"charge\", \"source\", \"spread\", \"tactic\", \"financial\", \"camera\", \"regarding\", \"default\", \"taken\", \"credential\", \"stated\", \"customer\", \"password\", \"industry\", \"detail\", \"company\", \"UK\", \"reportedly\", \"number\", \"cryptocurrency\", \"practice\", \"computer\", \"ransomware\", \"account\", \"malware\", \"breach\", \"attacker\", \"threat\", \"system\", \"phishing\", \"software\", \"personal\", \"criminal\", \"email\", \"device\", \"US\", \"finder\", \"Emotet\", \"SWIFT\", \"Bodybuilding\", \"charity\", \"localisation\", \"Momentive\", \"dating\", \"smishing\", \"nreport\", \"telegram\", \"Bangladesh\", \"currency\", \"CPR\", \"Union\", \"spraying\", \"nIran\", \"commented\", \"nReports\", \"India\", \"LinkedIn\", \"T\", \"earliest\", \"inadvertently\", \"sextortion\", \"preparing\", \"supporter\", \"nVulnerability\", \"advanced\", \"weekend\", \"industrial\", \"manufacturer\", \"domain\", \"telephone\", \"Yahoo\", \"political\", \"digital\", \"Russian\", \"GDPR\", \"remote\", \"fixed\", \"breach\", \"update\", \"Google\", \"Exchange\", \"healthcare\", \"patched\", \"Facebook\", \"process\", \"money\", \"vulnerability\", \"disclosure\", \"released\", \"likely\", \"account\", \"message\", \"issue\", \"Mylobot\", \"Panda\", \"nExchange\", \"Point\", \"QNAP\", \"FTP\", \"paying\", \"Check\", \"Equation\", \"LPE\", \"CNI\", \"agenda\", \"joint\", \"Games\", \"NAS\", \"MS\", \"Italian\", \"nUnfortunately\", \"Esteves\", \"aimed\", \"station\", \"saved\", \"Chinese\", \"MobileIron\", \"improving\", \"Proofpoint\", \"president\", \"professionalisation\", \"nConfidential\", \"spammer\", \"child\", \"encouraging\", \"school\", \"learn\", \"healthcare\", \"misconfigured\", \"advisory\", \"asking\", \"ransom\", \"criminal\", \"ransomware\", \"following\", \"device\", \"phishing\", \"campaign\", \"malware\", \"Exchange\", \"email\", \"Evidence\", \"CVE\", \"website\", \"server\", \"cyber\", \"mobile\", \"victim\", \"FIN\", \"BA\", \"Soleil\", \"modern\", \"printer\", \"Dresscode\", \"Cirque\", \"Nintendo\", \"TikTok\", \"Marriott\", \"gaming\", \"Airways\", \"nSmall\", \"BAS\", \"ShellTea\", \"BADHATCH\", \"MyNewsDesk\", \"VEC\", \"voter\", \"motivated\", \"nKinomap\", \"V\", \"hardware\", \"facility\", \"teacher\", \"FTP\", \"AMEX\", \"Thousands\", \"streaming\", \"OT\", \"hospitality\", \"staying\", \"Carbanak\", \"Action\", \"video\", \"vigilant\", \"authentication\", \"connected\", \"online\", \"school\", \"Fraud\", \"previously\", \"secure\", \"vulnerable\", \"survey\", \"phone\", \"phishing\", \"account\", \"business\", \"issue\", \"device\", \"campaign\", \"breach\", \"email\", \"operation\", \"SacRT\", \"LastPass\", \"memcached\", \"FTSE\", \"ArbiterSports\", \"RoughTed\", \"DMARC\", \"Polish\", \"SIM\", \"IcedID\", \"Felismus\", \"Unicode\", \"nSextortion\", \"swapping\", \"Sacramento\", \"ESA\", \"Aptos\", \"RCM\", \"cookie\", \"upstream\", \"Ecuadorian\", \"Ecuador\", \"Marriott\", \"cooky\", \"visited\", \"packet\", \"DYN\", \"listed\", \"photograph\", \"PewDiePie\", \"insurance\", \"printer\", \"response\", \"insider\", \"manager\", \"coronavirus\", \"domain\", \"store\", \"pandemic\", \"gaming\", \"securely\", \"Yahoo\", \"breach\", \"provider\", \"password\", \"server\", \"Windows\", \"claim\", \"working\", \"email\", \"website\", \"Microsoft\", \"Polar\", \"Fireball\", \"ComRAT\", \"Travelex\", \"Hajime\", \"Timehop\", \"cryptomining\", \"Fakebank\", \"Qakbot\", \"Spectre\", \"Meltdown\", \"willing\", \"fitness\", \"Marche\", \"OneLogin\", \"privacy\", \"whitepaper\", \"Camelot\", \"interface\", \"Netcraft\", \"insight\", \"CDOT\", \"Cambridge\", \"Analytica\", \"plugin\", \"Indonesia\", \"njust\", \"Automation\", \"ESET\", \"P\", \"Manchester\", \"JavaScript\", \"currency\", \"video\", \"Carbanak\", \"certificate\", \"conferencing\", \"letter\", \"allow\", \"Facebook\", \"infected\", \"platform\", \"social\", \"malware\", \"product\", \"update\", \"Cisco\", \"ICO\", \"Bitcoin\", \"SharePoint\", \"SHA\", \"petrol\", \"pageant\", \"Cequence\", \"Zendesk\", \"collision\", \"Fastway\", \"Carnival\", \"wireless\", \"quote\", \"organiser\", \"opinion\", \"Twitterbots\", \"drone\", \"original\", \"Hermes\", \"Magento\", \"Volusion\", \"Sesame\", \"transparency\", \"discussed\", \"gapped\", \"impossible\", \"CDOT\", \"Beijing\", \"tweet\", \"Phone\", \"Posing\", \"invariably\", \"recover\", \"scammer\", \"engineering\", \"FA\", \"SamSam\", \"Twitter\", \"CVE\", \"Cisco\", \"router\", \"follow\", \"client\", \"account\", \"vulnerability\", \"social\", \"CCleaner\", \"nMicrosoft\", \"affected\", \"update\", \"setting\", \"Windows\", \"EasyJet\", \"Owari\", \"Steam\", \"GDS\", \"C\", \"Foods\", \"school\", \"QTS\", \"Mandia\", \"Lottery\", \"nTrue\", \"Dialog\", \"Firewall\", \"travel\", \"Market\", \"endpoint\", \"provisioning\", \"establishment\", \"NSA\", \"terminal\", \"Conduent\", \"education\", \"VMware\", \"secondary\", \"VPN\", \"nExamples\", \"booking\", \"celebrity\", \"FireEye\", \"Grammar\", \"weakness\", \"Sophos\", \"domain\", \"suspect\", \"primary\", \"police\", \"urged\", \"sponsored\", \"hotel\", \"vulnerability\", \"TV\", \"corporate\", \"customer\", \"remote\", \"unlicensed\", \"irrigation\", \"saving\", \"SFMTA\", \"Slack\", \"AV\", \"pager\", \"NHSD\", \"nClarksons\", \"maritime\", \"shipbroking\", \"whoever\", \"RAT\", \"Ovidiy\", \"ETERNALSYNERGY\", \"Stealer\", \"module\", \"environment\", \"nGandCrab\", \"outbreak\", \"gained\", \"TRITON\", \"Morrisons\", \"Indian\", \"flagged\", \"Clarksons\", \"GandCrab\", \"Deutsche\", \"Telekom\", \"Municipal\", \"shipping\", \"TalkTalk\", \"illustrates\", \"newer\", \"Mirai\", \"Windows\", \"Micro\", \"development\", \"protecting\", \"GDPR\", \"potentially\", \"ransomware\", \"effective\", \"limited\", \"Huawei\", \"Fortinet\", \"HMRC\", \"GWR\", \"HNS\", \"Telef\\u00f3nica\", \"Spanish\", \"jackpotting\", \"Filmology\", \"Sodexo\", \"Revenue\", \"IE\", \"Finnish\", \"sanction\", \"cancel\", \"cease\", \"belonged\", \"Fighter\", \"dependency\", \"Resident\", \"Updates\", \"cornerstone\", \"WellMail\", \"postal\", \"Imperva\", \"traveller\", \"custom\", \"prepare\", \"Q\", \"nReusing\", \"fixing\", \"political\", \"outsourcing\", \"Capcom\", \"logging\", \"warned\", \"ATM\", \"Flash\", \"series\", \"physical\", \"VPN\", \"APT\", \"successful\", \"RDP\", \"harmful\", \"support\", \"breach\", \"insider\", \"password\", \"leaked\", \"produced\", \"database\", \"CVE\", \"Orion\", \"UEFI\", \"PowerPoint\", \"Doorbell\", \"Superdrug\", \"fileless\", \"Reaper\", \"qualification\", \"MegaCortex\", \"SolarWinds\", \"slide\", \"K\", \"nhttps\", \"modification\", \"POST\", \"Rabbit\", \"science\", \"Adidas\", \"F\", \"LoJax\", \"Spotify\", \"nSpotify\", \"leaking\", \"designated\", \"leverage\", \"Industroyer\", \"hover\", \"CrashOverride\", \"program\", \"Researchers\", \"Mirai\", \"installation\", \"Micro\", \"close\", \"passport\", \"modified\", \"suspicious\", \"malware\", \"insider\", \"infection\", \"database\", \"botnet\", \"student\", \"Toyota\", \"driver\", \"Bitbucket\", \"terrorist\", \"Christmas\", \"Canva\", \"commercial\", \"MANRS\", \"routing\", \"gadget\", \"CHECK\", \"Visma\", \"ISOC\", \"round\", \"nSWIFT\", \"destructive\", \"certified\", \"campaigning\", \"Guard\", \"resolution\", \"nTurn\", \"Boxing\", \"nRyuk\", \"maximising\", \"nAlways\", \"Managed\", \"Providers\", \"Commission\", \"MyEtherWallet\", \"identifying\", \"Breaches\", \"there\", \"risen\", \"supply\", \"repository\", \"stuffing\", \"chain\", \"noticed\", \"survey\", \"every\", \"shopping\", \"token\", \"Digital\", \"critical\", \"error\", \"development\", \"ICO\", \"business\", \"common\", \"found\", \"Rigzone\", \"Oilpro\", \"steganography\", \"EDP\", \"Ursnif\", \"Avalanche\", \"fridge\", \"nasty\", \"BestBuy\", \"Bitcoins\", \"electronics\", \"nWindows\", \"Locker\", \"doesn\", \"Annie\", \"CloudFlare\", \"pixel\", \"mixing\", \"confiscated\", \"refrigerator\", \"Chase\", \"FEIB\", \"auction\", \"Stalker\", \"labelling\", \"hesitate\", \"nEquifax\", \"MMO\", \"sandbox\", \"lockdown\", \"student\", \"shopping\", \"Equifax\", \"I\", \"Fraud\", \"Action\", \"tweet\", \"fraud\", \"smart\", \"forward\", \"Instagram\", \"message\", \"router\", \"money\", \"large\", \"university\", \"confirmed\", \"PCS\", \"Pulse\", \"nexcluded\", \"supervision\", \"Magecart\", \"TrickBooster\", \"ACD\", \"Firefox\", \"Citrix\", \"Explorer\", \"familiarise\", \"FluBot\", \"confirms\", \"Swedish\", \"ADC\", \"Watchdog\", \"Chtrbox\", \"stressed\", \"field\", \"Telecoms\", \"sporting\", \"TalkTalk\", \"Delivery\", \"HR\", \"BBC\", \"RiskIQ\", \"nnumber\", \"outbox\", \"saying\", \"Connect\", \"child\", \"HTTPS\", \"DHS\", \"appliance\", \"alert\", \"smart\", \"Internet\", \"charity\", \"event\", \"database\", \"Instagram\", \"patch\", \"EDR\", \"BR\", \"boarding\", \"Coinrail\", \"FaceTime\", \"personnel\", \"Disdain\", \"Explorer\", \"Python\", \"NATO\", \"Harvey\", \"Hurricane\", \"nPenetration\", \"KRACK\", \"Trafikverket\", \"biometric\", \"Anonymous\", \"alter\", \"B\", \"transport\", \"recovery\", \"sticker\", \"concert\", \"REvil\", \"serving\", \"characteristic\", \"Routers\", \"CERT\", \"lowest\", \"Initial\", \"Offerings\", \"booking\", \"Software\", \"Australian\", \"Internet\", \"Bluetooth\", \"browser\", \"Cisco\", \"exploit\", \"exchange\", \"study\", \"allow\", \"cloud\", \"everyone\", \"MyFitnessPal\", \"Malaysia\", \"Liberian\", \"NASA\", \"Lonestar\", \"nSocial\", \"Overlord\", \"XS\", \"jailbreaking\", \"Fortigate\", \"MFA\", \"MyHeritage\", \"cyberscoop\", \"Negara\", \"iPhone\", \"Oracle\", \"Q\", \"SWIFT\", \"nSWIFT\", \"Proofpoint\", \"Prosecution\", \"Notice\", \"signing\", \"nAndroid\", \"Availability\", \"escape\", \"nProof\", \"Advisory\", \"unrewarding\", \"PayPal\", \"thing\", \"PNG\", \"Chrome\", \"OS\", \"certificate\", \"VPN\", \"tweet\", \"Apple\", \"Android\", \"update\", \"CVE\", \"medium\", \"vulnerability\"], \"Freq\": [1.0, 1.0, 1.0, 1.0, 1.0, 2.0, 1.0, 0.0, 0.0, 2.0, 1.0, 0.0, 0.0, 0.0, 1.0, 1.0, 1.0, 2.0, 0.0, 1.0, 0.0, 2.0, 1.0, 0.0, 0.0, 2.0, 1.0, 1.0, 0.0, 1.0, 1.788860271326347, 1.5638198897520201, 1.0186429800105081, 1.1700083735907607, 1.2451737265184617, 1.1028724125851597, 1.1165373494169455, 2.481623327218921, 1.1625064283658328, 1.2980317579138716, 1.0585767960489796, 1.3881584906621043, 0.9023492492397579, 1.2702528985294734, 0.7757565312813147, 0.9019835791041811, 1.7593277172766746, 0.7534460608135184, 1.1230160218082303, 0.935297283064912, 0.7516398838898191, 1.4801821946411113, 0.8946938590117597, 0.7951318002410421, 1.0352250775740295, 1.0904575375462364, 1.5543032818317992, 0.9292107843497087, 1.8158525528625995, 2.6274072326156657, 1.2319639420728674, 1.7337138822579572, 1.5476299002617573, 1.4972454889115676, 1.2288352122368558, 1.3967476058703077, 1.3251278231161596, 1.2078665819113428, 1.3038216006633272, 1.9837781982663036, 1.7548072891528759, 1.6658587831062865, 1.8332495030909932, 1.3859560726872955, 1.3199643561210075, 1.42428806459581, 1.5079984476346375, 1.3780080282657543, 1.3903981710403948, 1.457779486604133, 1.404137239062206, 1.3969920419889226, 1.308145351523678, 0.14213816134549553, 0.1500621036053065, 0.1611820495626513, 0.11800271865751875, 0.1950792749433408, 0.10938535938484191, 0.10441465110442445, 0.12428251797233131, 0.09612216241926574, 0.09221932837378151, 0.0922170863474396, 0.1030778210601367, 0.17418067771413934, 0.09109109413096782, 0.09787175824826826, 0.0897754323094148, 0.08847485321052559, 0.09998948315572367, 0.09361666401207586, 0.15108804903592332, 0.09027429772910425, 0.08922162268573573, 0.08128244241139311, 0.09892134686576348, 0.09236138160988679, 0.07887119646223945, 0.07874830236032875, 0.08284137864965689, 0.09021389889825682, 0.08958103600810621, 0.09920422070877305, 0.11182184996826107, 0.15772695108937068, 0.09925214766148471, 0.13139399259109472, 0.10206006727554837, 0.18611190721203943, 0.1304313771253308, 0.13602745546327563, 0.1282372874418658, 0.1202091249272517, 0.20284792533531326, 0.17746832302518134, 0.14171195310847104, 0.12680507907349997, 0.10892535575507904, 0.12279590892151332, 0.12809507891389268, 0.1236076971606391, 0.12184230038408403, 0.1443064822846411, 0.1182380828947115, 0.12313164993978017, 0.12259470889524506, 0.1357226757611591, 0.12108619398532008, 0.11758186798993467, 0.10641196919522998, 0.10215334128893555, 0.09289125235690673, 0.1183051848204372, 0.10273714983749391, 0.1327880045739555, 0.12660324105114235, 0.12057983981178327, 0.08164680670581227, 0.08164621168842262, 0.0922084940246038, 0.08203965487616893, 0.10910618381326292, 0.08055126712059922, 0.08484016854678625, 0.07822636532292941, 0.07653977245040017, 0.07838229204212126, 0.06433302286472224, 0.09334362638855553, 0.09462946700837635, 0.06737455074125213, 0.08145447135499394, 0.07200577210432833, 0.0697652984497853, 0.0695665385193138, 0.05964399234593081, 0.07287530157077877, 0.05870935671996633, 0.07285063247143468, 0.09664374560631944, 0.08391578490963002, 0.12180140247197023, 0.13572005729156436, 0.10096378895615694, 0.08225898311046123, 0.11170980301333307, 0.08337619258574348, 0.12877749087837184, 0.16146592905076715, 0.15617503442195155, 0.11198431509012813, 0.12668672842353143, 0.12719045084775238, 0.1130231672078132, 0.12177131388991495, 0.09708292472531387, 0.10907082852323165, 0.09196358808333185, 0.09540633457755127, 0.09849542364137591, 0.09862553947109758, 0.09813888761333929, 0.09443000753043322, 0.09475487094363398, 0.13314734755930951, 0.10071509877137853, 0.0962850476721293, 0.09434303055158576, 0.11094948429152589, 0.07712466757721227, 0.07518758002565452, 0.07173753147822916, 0.07543722243899144, 0.09232517010534276, 0.10426270052281608, 0.07421960477466555, 0.06288242947291396, 0.06274397073370748, 0.060810894636567955, 0.060810435579284186, 0.06081020958185217, 0.06041768735454504, 0.06025624750147079, 0.06284744224547051, 0.05764640796933002, 0.05764603366108326, 0.08146765316577866, 0.0707338627578217, 0.06083712446352092, 0.09423440347340496, 0.05494280775258304, 0.05741869436931808, 0.05796827068703447, 0.058810619615503434, 0.06256654156231835, 0.08050902149611947, 0.07249434037868135, 0.07202112294330623, 0.0772946529581845, 0.07121213688573812, 0.10601886300520824, 0.09836959148565551, 0.13518543477571765, 0.08238391737935524, 0.07526993490236386, 0.08739644860993796, 0.09905750648144261, 0.10009138117112251, 0.07814766614047655, 0.09020070243296756, 0.0960853295040079, 0.09300811315762558, 0.08750329595834166, 0.08504452864708158, 0.08816006568302953, 0.08271349932184686, 0.08664007051709054, 0.08351880585872502, 0.07851570295850907, 0.11481123004926348, 0.10258413728388796, 0.0995288446665798, 0.09324918120421734, 0.09236954056183798, 0.08486635733342088, 0.08347409205288657, 0.09978848744545447, 0.07788457571912777, 0.07436814916878094, 0.07436428304062476, 0.07004328926934103, 0.06974177785301591, 0.06836971492202062, 0.06310740212302247, 0.05804417828840452, 0.05793226019983502, 0.05793222692850838, 0.05793100919795316, 0.057922465121270646, 0.05697752617321719, 0.05697572286731302, 0.08028749081784002, 0.06082555472770717, 0.06839987205249194, 0.05545174638598791, 0.05545108428658767, 0.05871348425799756, 0.05785763261416959, 0.0541201813137853, 0.0612150355316825, 0.07953279731554445, 0.09129967443649671, 0.10383358872192995, 0.0803912308143201, 0.10022331706764735, 0.08256022852391984, 0.11535709274273709, 0.06956967858881037, 0.06807035283339678, 0.07959625238972239, 0.07086157758538646, 0.1081518875157554, 0.08785993163980199, 0.09367699723075339, 0.08540605152293446, 0.07958848020781804, 0.07583438991697844, 0.07521975539132897, 0.07576637001678477, 0.07441648575213125, 0.07365153137269827, 0.09318853300120332, 0.08617259701622533, 0.0825327330045878, 0.07815625901402794, 0.07449188493755819, 0.0653422808500536, 0.06063679479480595, 0.05578860846374983, 0.0533551202924305, 0.06063497808097891, 0.060632585209338154, 0.05012810190268223, 0.0540066924924146, 0.047237803634859306, 0.04772730938963868, 0.08785551246520877, 0.04606529134027712, 0.04421766742512334, 0.05233886614941745, 0.04140394364511013, 0.04126632238210096, 0.04910814685407294, 0.04353866025104548, 0.04305794739118898, 0.05024031252986205, 0.03932419041835913, 0.0411568679693273, 0.04368138907521411, 0.047134380711991414, 0.038074013607671, 0.04115810333472969, 0.05311761350790524, 0.07725937854128417, 0.06476750373884392, 0.05620637997541582, 0.0641703239508414, 0.04798816354214687, 0.057062508961713616, 0.06178758957323861, 0.06860181322669495, 0.0659979743951196, 0.06578022307581066, 0.06446444991943907, 0.069906867771487, 0.06255519269005025, 0.058857749231317445, 0.05229042736817764, 0.0528605692638229, 0.05239334161117396, 0.08592297097863087, 0.06911744598261853, 0.0627903275050359, 0.05889675721462317, 0.057463875197072745, 0.057454118045187574, 0.05497903460544142, 0.05101627417634004, 0.0508334959711539, 0.055882773959538924, 0.051418723013071016, 0.05248131438087293, 0.04880909383739356, 0.04880020751612536, 0.049071584316955165, 0.06030940805679039, 0.04692313452685594, 0.05249018145726562, 0.04627557814437061, 0.04626872696868793, 0.04588312220924983, 0.04584716797057239, 0.043459489944188086, 0.04626484431505315, 0.0476529819970355, 0.04112424939235824, 0.05091022528982483, 0.03860905000960492, 0.03860816715094076, 0.03860678392551325, 0.04616998151242996, 0.0544601735167314, 0.05300284088484152, 0.1317653036742306, 0.05395810358190661, 0.06863416385751345, 0.06846291814397856, 0.05894170362138412, 0.07021327325043165, 0.058589166369296494, 0.06530457907767019, 0.07267954253719279, 0.06747164347360951, 0.062120625082053814, 0.056364819601392294, 0.05681610230973789, 0.05599296530550834, 0.056484618951461646, 0.05368859353400158, 0.05271821398722092, 0.08797145016463054, 0.0911970849553993, 0.07539018035745634, 0.07039447160432066, 0.07809145647653438, 0.0613248265728626, 0.12740778448135326, 0.060555436633822485, 0.054226481357100884, 0.05898000553930915, 0.050974673814689155, 0.050973142778949036, 0.04968939974429354, 0.05859014390942451, 0.048180205844322796, 0.046027223120799286, 0.046026183702039945, 0.04543403338973411, 0.05662620898430676, 0.039318187051077154, 0.039241721882301274, 0.060057920249281894, 0.05068984030016321, 0.04148831550206337, 0.06809192026698058, 0.03727025351221151, 0.04698395658604514, 0.04610881749340788, 0.05068624447310385, 0.036041887618890045, 0.05222664902825386, 0.05185112388594181, 0.08091215806540801, 0.04690392134157557, 0.05451624976970047, 0.05642993675731691, 0.05654357519293882, 0.056620759058919924, 0.05251924072694302, 0.08299073338837515, 0.05042307488019723, 0.05308773723937403, 0.052562470246785516, 0.05057876295490779, 0.10442701068010021, 0.0783115896448792, 0.06552316783880363, 0.0635079389113623, 0.05695986507570112, 0.05695637398670006, 0.05753173974940699, 0.05359074874464211, 0.0438630974502866, 0.043860934206220455, 0.04386026588691547, 0.0438600020766635, 0.047360768517130114, 0.041343841449108305, 0.04134327865390411, 0.041341634236666834, 0.04251208118157785, 0.08263925612963016, 0.04001506878147808, 0.052740022237767435, 0.05112810642353637, 0.03819213994037205, 0.03819181017755709, 0.03835793149322199, 0.039742165869491176, 0.03930057828555775, 0.05537353885591105, 0.035966663035786474, 0.035965669350504055, 0.035963607233701164, 0.053741696573981264, 0.041343085193052666, 0.04428509712301133, 0.04307448946407556, 0.049624344018937554, 0.07261033352752602, 0.04549173443765497, 0.05080814855627327, 0.046952416628107244, 0.04863548646413189, 0.04929965955132666, 0.05671721680277753, 0.045200413173243095, 0.04272760096692395, 0.09877596507377624, 0.0667020077556042, 0.08006638548898258, 0.052257155232120524, 0.042917233359874775, 0.041249320695836, 0.041057676600939265, 0.0393710572290242, 0.03725238598977945, 0.0372498169549172, 0.03402236724837785, 0.03538969914239108, 0.03338437180187503, 0.03189572683346125, 0.031114965395001273, 0.03294813417946804, 0.02750892632248978, 0.02750859965641893, 0.027507931559709067, 0.027507780222885282, 0.02750742587324911, 0.02750640342690307, 0.02738466587116753, 0.02714657982707991, 0.027144036630211962, 0.02714306770542555, 0.027941406362296518, 0.029178780527243417, 0.03107246558551281, 0.02594973071062822, 0.03474124669047913, 0.04097791102137997, 0.031111986643372194, 0.042639958460711676, 0.033938438060593525, 0.045976880057976136, 0.037312296916286944, 0.04217777210973913, 0.034763777421512446, 0.0339437348494259, 0.03864063558575301, 0.035198745291056474, 0.04208006019756451, 0.03308622718559818, 0.034914527353709625, 0.04879302949775415, 0.045306959923939384, 0.03693815168533514, 0.04287238598404666, 0.037908822381931426, 0.03608467105747684, 0.036952923635793083, 0.035279142055905204, 0.0615922657150366, 0.04956704993259453, 0.04917586773266355, 0.04704080213734611, 0.04589794239204958, 0.04769800554639693, 0.04405676413466014, 0.04065882773674124, 0.040655530165357986, 0.05071808574753874, 0.038685838325117045, 0.037722430287031504, 0.03771655408085134, 0.03985049725476358, 0.03621030490355583, 0.05137174582627118, 0.04272331650115201, 0.03544785431352665, 0.046235006273639676, 0.03260495530047877, 0.03215433978672935, 0.03215201791499899, 0.04110601362953033, 0.0308538165144404, 0.029483393165327332, 0.02814753562703745, 0.028146415039654156, 0.028144817606575844, 0.0518610481980619, 0.03598997284810646, 0.048200179083909354, 0.03354860725461529, 0.0385548268044324, 0.03613706140480087, 0.041518653885737174, 0.03621724484244027, 0.04453677168344179, 0.04745803845244419, 0.03917694537446122, 0.038956899426428854, 0.037833685723767115, 0.036695286319740915, 0.0368569590186153, 0.06987013251063957, 0.05754903322159596, 0.05247455120314015, 0.04265661676021466, 0.06632010008051324, 0.03565283381290188, 0.04297835285517085, 0.03477838887775157, 0.03728470418144949, 0.03211509097398049, 0.02966812916842851, 0.030145963770684906, 0.027767610370957593, 0.027525946067284868, 0.029039314675362908, 0.031872095268691364, 0.02560152168189775, 0.025179807675048096, 0.02517974627971664, 0.025179621734901406, 0.02517929546256853, 0.025178925336427474, 0.02517852012723987, 0.025177930732057905, 0.025176025722630477, 0.02608395742570861, 0.02489981514302425, 0.02896681906798098, 0.02503839668518422, 0.027525691715197413, 0.03299245131029875, 0.029839285319306113, 0.03168054183455212, 0.06380071634197708, 0.02946276353886424, 0.03607655632416627, 0.06264052700932177, 0.028565235713239222, 0.04222055203317551, 0.02990124197950573, 0.03202154203036652, 0.032294572331803384, 0.03168839342036903, 0.035566466368915806, 0.030314120321082858, 0.03158817869791139, 0.03189553074378386, 0.031769035311158864, 0.030191638388982686, 0.02992076920321304, 0.05480175746399865, 0.054799875123278885, 0.053507333329448764, 0.04771177419447194, 0.04456750945715691, 0.044280970316029414, 0.0386464632733788, 0.0372187183337608, 0.036817965195503184, 0.041075484021252585, 0.0328129914171392, 0.04618223590745461, 0.03062658969318991, 0.034707595341779196, 0.029319188603752277, 0.029316211146591456, 0.02830831215807077, 0.028305374936817534, 0.02806027353233416, 0.02805938484359286, 0.02750680938033011, 0.02605049519694401, 0.026092805877843853, 0.02605368782874101, 0.026713073882139414, 0.02586950533771895, 0.053493271754443676, 0.02579205121563011, 0.026555249409355924, 0.03252536765589437, 0.06664512688427367, 0.04040662328631306, 0.04912723843534203, 0.030824088520233207, 0.03385833079235543, 0.031557484152154265, 0.029183282204275417, 0.03952421484536823, 0.03982919252849044, 0.03343703984735986, 0.03471581396324895, 0.038370546411852065, 0.0352445767667743, 0.03246858254458994, 0.03274757482896551, 0.033518456331651555, 0.031759352948638055, 0.044390803469482765, 0.04671927866565159, 0.038853061221493186, 0.03696960266680936, 0.035901748947473125, 0.035897003976544654, 0.03589365068703375, 0.04724868753100339, 0.05293950810787114, 0.044506359416521535, 0.03180504310446797, 0.03180356527134359, 0.03173231449629127, 0.03307386556108265, 0.03079783024613868, 0.0302430994060415, 0.030242012569124926, 0.030241134484420982, 0.028224054632487477, 0.028096944416155702, 0.028093730294786557, 0.0348410325656927, 0.028710178892225713, 0.027754615638887734, 0.033844446189044704, 0.02611302137399577, 0.026112868951745274, 0.026109293655912996, 0.027939773881204447, 0.03667030832385252, 0.04540030597509667, 0.046385036551477854, 0.028599798674649422, 0.03077802860768299, 0.04110178644538097, 0.04694415781509474, 0.03453489910262666, 0.03444975802161613, 0.03527681772044117, 0.037378289796241464, 0.035139356045184436, 0.037032990441852424, 0.04556613707471611, 0.04556526494035582, 0.05487930845106651, 0.039905353755326785, 0.039527192391628094, 0.04541311979951107, 0.03869118326840874, 0.04978588758383466, 0.04055465778655876, 0.036924047054743295, 0.03427056850087893, 0.03426732403088936, 0.033665606644248586, 0.03268259406783094, 0.0326815787472324, 0.03533614421481443, 0.031322965888241225, 0.030065904614500226, 0.028498754016420373, 0.03099826831336761, 0.03580139535369946, 0.02496627629841672, 0.02496538463866031, 0.029684166849077834, 0.023899590891134737, 0.026818889814971783, 0.028090748084743437, 0.02933750971202809, 0.02172269146014104, 0.023187714473785013, 0.023186808169981508, 0.02799791133463074, 0.029854089863095103, 0.03783780305110281, 0.03641033713690678, 0.0500433396944511, 0.03852408492836433, 0.03281615754002932, 0.03489313575634935, 0.03123964451450716, 0.030880208005693095, 0.03015772604401438, 0.030087460651823085, 0.038206334863513366, 0.032026272532158964, 0.031942148242181015, 0.030214057363228707, 0.03021270660189903, 0.030211358654655456, 0.03437857836241685, 0.02814571251941643, 0.02763323929910852, 0.027632769346729234, 0.027630278880527638, 0.028186457672108967, 0.025876129564256948, 0.025874621214105473, 0.025786450268310692, 0.031879880958968924, 0.028464041939444056, 0.02742151871702579, 0.03919107645596852, 0.02320090735362273, 0.027418245934887422, 0.020622730309310673, 0.02061713590613692, 0.025687113028857234, 0.02174388050450371, 0.01997259199681967, 0.019972171290947197, 0.0199714916891532, 0.01997144947786165, 0.01997139319613958, 0.025949903645546238, 0.029354362500868564, 0.023275223146486942, 0.029518308343172216, 0.022868537050981706, 0.03693917158971121, 0.030065659346646876, 0.024844764193239048, 0.03691091816523209, 0.03754918384845245, 0.03922265894430807, 0.031204899894356247, 0.03141959215136427, 0.031034855927466312], \"Total\": [1.0, 1.0, 1.0, 1.0, 1.0, 2.0, 1.0, 0.0, 0.0, 2.0, 1.0, 0.0, 0.0, 0.0, 1.0, 1.0, 1.0, 2.0, 0.0, 1.0, 0.0, 2.0, 1.0, 0.0, 0.0, 2.0, 1.0, 1.0, 0.0, 1.0, 2.0274173244820597, 1.7826407384248268, 1.1624413906741198, 1.336791031368874, 1.423691915827286, 1.2644023250692196, 1.3022191889116215, 2.9227267309733587, 1.3744435807852795, 1.5398911063487557, 1.2583413440661795, 1.6533318799987573, 1.080359755228365, 1.5224439356669073, 0.9308797408152542, 1.0841418492519832, 2.1191762274566, 0.909610887245422, 1.3567249508479688, 1.13036877392689, 0.9089590056871573, 1.7901511700843715, 1.0863859924894024, 0.965810572200481, 1.2575463129549975, 1.3255819440743664, 1.8963131811267757, 1.1373357498460739, 2.2238253547768316, 3.2216484011235242, 1.514250729063825, 2.157851515986768, 1.9200620233893861, 1.8640856436727797, 1.5159736123743797, 1.7369515163141458, 1.6483919149158806, 1.4920948516147128, 1.637872322902816, 2.639950251377645, 2.33223535193831, 2.225731168642191, 2.5195349671923557, 1.7737626167835376, 1.681739634173553, 1.8952153729059753, 2.0805567414612596, 1.808410355506185, 1.8354913736331202, 1.984091206982713, 1.9810728699698723, 2.0057516939949327, 1.732095896649286, 0.337245680386421, 0.3733923325391252, 0.4190296113171871, 0.31311023769844426, 0.524134682332256, 0.30449287842576744, 0.29952217014535, 0.35777459463637473, 0.29122968146019124, 0.28732684741470704, 0.28732460538836513, 0.32293502924936957, 0.5462926647855473, 0.28619868697506934, 0.31044132872431884, 0.28488295135034036, 0.2835823722514511, 0.3286063422981229, 0.30821062889729434, 0.501383093357924, 0.30379711440965085, 0.3016524856021273, 0.27638996145231864, 0.33767177228953926, 0.3198852022817066, 0.273978715503165, 0.2738558214012543, 0.28911171048811013, 0.31931476607367903, 0.32116401834912134, 0.35571908767455374, 0.40392470867791475, 0.6023201313854903, 0.3572395490808635, 0.5219285880312523, 0.3764964620213461, 0.950513269842441, 0.6599230678643737, 0.7443976274623862, 0.6580060419851851, 0.577071700187393, 2.5195349671923557, 1.8982807073931798, 1.03661496601561, 0.8356375042564089, 0.5067056533234368, 0.803897497703105, 0.9526321259511303, 0.8611352104175697, 0.8582346137715233, 1.9339823275032075, 0.8107028766034898, 1.07738843577595, 1.1044065022288683, 2.33223535193831, 1.1712405481213204, 1.304134468210819, 0.30363659218937444, 0.3024344941442998, 0.2901158507499926, 0.3705111511059185, 0.32340338661729306, 0.42554723318801413, 0.40586826322583514, 0.39436213453873453, 0.2788714050988982, 0.2788708100815085, 0.3208510492553911, 0.2865475273505339, 0.3819273003072319, 0.2849161331976191, 0.30551145083379727, 0.28631582538440603, 0.2807431055934939, 0.2900367546998819, 0.2615576540592196, 0.3813087774048235, 0.39051664896837746, 0.27849096026226927, 0.33777898226021463, 0.3006642338287462, 0.2936840899867773, 0.2985616451788407, 0.2568685907390167, 0.31766557073302015, 0.25593395511305217, 0.3176687226927577, 0.427131632128514, 0.3734888871485734, 0.5669991870119788, 0.7239575461938407, 0.5067056533234368, 0.37904881026832954, 0.6052988926398929, 0.3962914525228425, 0.9420396356221766, 1.984091206982713, 2.639950251377645, 1.1723635720631638, 2.0057516939949327, 2.0805567414612596, 1.4079466662392588, 2.225731168642191, 0.8356375042564089, 1.9810728699698723, 0.6454861744860865, 0.8669070783185098, 1.708231063308078, 1.7608730211412305, 1.7065050043380359, 1.1165561661539307, 1.7203297649399136, 0.3317904124896831, 0.30300723177697453, 0.2949281044021501, 0.3145367206635101, 0.39061178163214605, 0.2757677489082918, 0.2738306367556754, 0.2787615597184572, 0.29363000849817045, 0.36279876457087035, 0.4167137320233625, 0.3028955047893236, 0.2615254862029348, 0.2613870602651398, 0.2594539513665888, 0.25945349230930503, 0.25945326631187304, 0.2598397685027175, 0.25988090689123855, 0.27856334703723873, 0.2562894646993509, 0.25628909039110415, 0.3648705524663658, 0.31849161149059924, 0.2746333215433897, 0.42554723318801413, 0.2536854266379799, 0.2664082692770505, 0.2722914356217324, 0.27628226067751227, 0.2943723322097731, 0.4233337134094839, 0.3835806948397785, 0.3930867191927654, 0.4615176956324057, 0.39769021674517746, 0.9457378440594779, 0.8451554087245751, 1.8244165061213247, 0.5669991870119788, 0.46402731814534337, 0.7812744059590447, 1.2050402795495458, 1.3619235088161208, 0.6994288419761316, 1.4635552447190652, 2.0805567414612596, 2.33223535193831, 1.5346420854862244, 1.304134468210819, 2.0057516939949327, 1.4079466662392588, 2.5195349671923557, 1.9810728699698723, 0.9117500510145556, 0.3139561130890337, 0.30172900392295243, 0.29867371130564435, 0.2923940478432818, 0.2915144072009025, 0.2840112649742499, 0.28261898329300983, 0.3474982741592142, 0.277029532344549, 0.2735130568096099, 0.27350919068145374, 0.2691881559084056, 0.26888664449208044, 0.2675146985749359, 0.2622523097638514, 0.25718911053029214, 0.25707719244172267, 0.257077159170396, 0.2570759414398408, 0.2570673973631582, 0.2561223928122818, 0.2561205895063776, 0.36279876457087035, 0.27516596366339147, 0.31170592443633494, 0.2545966130250525, 0.25459595092565224, 0.2713990821352402, 0.26833793975092435, 0.2532652119599075, 0.2885651828772158, 0.39061178163214605, 0.4867651998556115, 0.7418571284411047, 0.47797062597953577, 0.8974820720164415, 0.6023201313854903, 1.421478614882846, 0.4416178606470792, 0.4167137320233625, 0.7330491447825875, 0.5219285880312523, 2.5195349671923557, 1.2863619698206574, 3.2216484011235242, 1.7608730211412305, 1.4676202557552875, 0.9582194882665904, 1.3109023693786443, 1.9810728699698723, 1.708231063308078, 2.9227267309733587, 0.29412433319608344, 0.2871084382128699, 0.2834685413998209, 0.27909208380996686, 0.28170428504701306, 0.2662780810449338, 0.26832990722320316, 0.2567244988625117, 0.25429101889154526, 0.3088121943830966, 0.3088096607782005, 0.2564455967834768, 0.28083255491871806, 0.24817367763291545, 0.25197513427756524, 0.4671160519906371, 0.247001116136216, 0.24515360702600253, 0.3014137888877684, 0.2425094775439722, 0.242202155962735, 0.28861834908096173, 0.256310719665962, 0.25643181803761483, 0.30307344847610773, 0.240887266821421, 0.2563551693214573, 0.2726370533805764, 0.2957413238230352, 0.23949362597942833, 0.25954295174244635, 0.3404838739659899, 0.5462926647855473, 0.4615176956324057, 0.3835806948397785, 0.5832302479198935, 0.3348993825376956, 0.5139728385937284, 0.6891552806369026, 0.9526321259511303, 1.320595574441128, 1.4123478392493212, 1.3464514828015353, 2.225731168642191, 1.2007346938070003, 1.8982807073931798, 0.5714786435084326, 0.7884557044088336, 0.9025259717571563, 0.2875056270264206, 0.284323014770267, 0.2643730081538843, 0.2604793886613542, 0.2590465066438038, 0.2590367494919187, 0.2565616906532312, 0.2525989548251884, 0.25241617662000226, 0.27840823721057206, 0.25679078549668966, 0.26271349076530026, 0.2503917252841247, 0.25038283896285646, 0.25721139810546134, 0.316907313723615, 0.24850587257817447, 0.27904995692714163, 0.2478582915946305, 0.2478514404189478, 0.24746584293881604, 0.24742988962118515, 0.24504217059303646, 0.262529521815586, 0.28861834908096173, 0.24997385975879702, 0.3153308929386558, 0.24019168145633601, 0.24019079859767184, 0.24018941537224434, 0.2935924334319243, 0.35414008484104875, 0.343420006181386, 1.1091367078793521, 0.3936206365689386, 0.7465552235864491, 0.8669070783185098, 0.5714786435084326, 1.0851844696348332, 0.5879129323576201, 1.2215057028410008, 2.33223535193831, 1.9339823275032075, 1.3464514828015353, 0.7452227167436324, 0.8569931008565651, 1.5727662505987834, 1.8982807073931798, 1.0902741345423836, 1.4676202557552875, 0.28976083873608116, 0.32822050470805153, 0.27717958532961273, 0.2721839257785944, 0.3083451953266274, 0.26311425614607764, 0.5669991870119788, 0.2808489413343688, 0.2560158699285515, 0.28811731653708783, 0.25276409518755133, 0.2527625641518112, 0.2514787883157442, 0.30262473000608514, 0.24996966821894936, 0.24781664449366148, 0.24781560507490213, 0.25748276920580127, 0.33554720340445243, 0.241107698627821, 0.24103119245728072, 0.37324090332143556, 0.3204768070905514, 0.26519598634736163, 0.4376588384814845, 0.2402618638918911, 0.30317259963355103, 0.2983742471885189, 0.3297691839432074, 0.23783141559633966, 0.34482302159012457, 0.3530513413860902, 0.6023201313854903, 0.31521167143698425, 0.41391014530182046, 0.46375568267965334, 0.4710555185352559, 0.4809154490962586, 0.41154366318669566, 1.9339823275032075, 0.43157081751143667, 0.7714117242897881, 2.2238253547768316, 0.6580060419851851, 0.30650875449532844, 0.28039337135779796, 0.2676049249506638, 0.2655897042235753, 0.259041638588267, 0.2590381474992659, 0.26241848022755354, 0.25567251405685515, 0.24594492016496977, 0.24594275692090362, 0.24594208860159864, 0.24594182479134666, 0.2673296683175007, 0.2434256559634386, 0.2434250931682344, 0.24342344875099714, 0.25468109631689634, 0.4962612090677422, 0.24209684229404396, 0.3191515449647172, 0.316244882696888, 0.24027397905576098, 0.240273649292946, 0.24167211992617066, 0.2522896080265044, 0.25058154685947076, 0.36608593860501304, 0.2380484939508225, 0.23804750026554009, 0.23804543814873722, 0.370434177064224, 0.28911869138644986, 0.3242245424768727, 0.312974868088429, 0.436447113169159, 1.4676202557552875, 0.40078675199013203, 0.6929781894078829, 0.5232435266980461, 0.7443976274623862, 0.8646306193616817, 2.639950251377645, 0.8689800039878832, 0.5799913118561236, 0.302109187997999, 0.2850526704053815, 0.35013397596184503, 0.25559037815634333, 0.24625051368656772, 0.24868563641969746, 0.24883129973311685, 0.24270436215677582, 0.24058564171541377, 0.2405830726805515, 0.23735570497754097, 0.2480613513168466, 0.2498917117311595, 0.2508785455195885, 0.2448961458814645, 0.2611712462975705, 0.23084211644530106, 0.23084178977923023, 0.23084112168252036, 0.23084097034569656, 0.2308406159960604, 0.23083959354971437, 0.23071820040879976, 0.23048005696224197, 0.230477513765374, 0.2304765448405876, 0.2386057921730502, 0.24917842472023893, 0.2732934344612297, 0.2292831668440259, 0.31259102112374126, 0.3764964620213461, 0.28017549729749947, 0.4462752550163678, 0.3201820953756339, 0.5187925547675374, 0.37733542939903986, 0.4768390982808135, 0.3496046700233037, 0.34228175446541376, 0.4376588384814845, 0.3700670668279152, 0.5439316274111724, 0.3301250531932616, 0.40271239938881975, 1.3278848017287794, 2.5195349671923557, 0.7418571284411047, 3.2216484011235242, 0.9493834223616642, 0.6528219961508087, 0.8904584666911711, 0.8669070783185098, 0.29934570591285936, 0.2529156684908643, 0.2525244698902276, 0.2503894042949101, 0.24924657642997852, 0.26824026755385966, 0.25371486133413296, 0.2440073970928937, 0.24400409952151045, 0.30593215894879533, 0.24203447328409256, 0.24107106524600702, 0.24106518903982685, 0.2573063206652463, 0.23955898600933778, 0.3416494966434698, 0.28569820045403804, 0.23879659788728347, 0.32905277059552973, 0.23595364766192445, 0.23550303214817503, 0.23550071027644467, 0.3011913218787334, 0.23420253548713857, 0.23283198712253844, 0.2314962689902475, 0.2314951484028642, 0.23149355917013878, 0.4290738602145183, 0.3007483195795809, 0.436447113169159, 0.2992885608595426, 0.40078675199013203, 0.38907910287372455, 0.585269445925805, 0.41237535016160465, 1.0979145066802944, 2.225731168642191, 0.7418571284411047, 1.2557552302253148, 0.8904584666911711, 0.5834862925353907, 0.7438092115214516, 0.27351698463269947, 0.27759193679857064, 0.25612139148519397, 0.2563883991367222, 0.4434169080975726, 0.2392997806995431, 0.2944098487533219, 0.2384253910325987, 0.26524315284342664, 0.23576201325956309, 0.23331514985824564, 0.23828515074525145, 0.23141475557145677, 0.23419736311165995, 0.24997958911533766, 0.28138185173145375, 0.22924871365807878, 0.22882682016451236, 0.2288267587691809, 0.22882663422436567, 0.2288263079520328, 0.22882593782589172, 0.22882553261670413, 0.22882494322152216, 0.22882303821209474, 0.2379445769638596, 0.22993878052115996, 0.2676529085877072, 0.23296166243574756, 0.26014843646566854, 0.3165811865735505, 0.2841652642998521, 0.3129931276238118, 0.9131224256831718, 0.2897213412897224, 0.3949270573947746, 1.1217773617614408, 0.2960007258479346, 0.6994288419761316, 0.3489750116241426, 0.42187697247430866, 0.4602970898782983, 0.5084555500610628, 1.2194497820778558, 0.4698401034383369, 0.6929781894078829, 0.7884557044088336, 1.5346420854862244, 0.9733887952117484, 0.866404486252416, 0.25837737913223646, 0.2583754967915167, 0.2643061528881442, 0.2512874204637684, 0.24814321099465925, 0.24785667398779607, 0.24222209314196955, 0.24079437280341018, 0.24039372626973995, 0.2963237870212776, 0.2369118352730038, 0.3591842300566034, 0.23936111232235843, 0.27140759197452247, 0.23289508908398798, 0.2328921116268272, 0.23188400762948455, 0.2318810704082313, 0.2316359772041008, 0.2316350885153595, 0.23718654567543734, 0.22962628907259233, 0.23015174172992756, 0.2301550004793089, 0.23764056028727723, 0.23017611317633144, 0.4762918298597626, 0.23018738599009014, 0.24232013362954588, 0.30367023222451894, 0.7438092115214516, 0.42187697247430866, 0.5510158884592031, 0.328606319126179, 0.46402731814534337, 0.3930867191927654, 0.3153308929386558, 0.9384472267145163, 1.0001614033464126, 0.5406702188897451, 0.6563800400380788, 1.1712405481213204, 1.0851844696348332, 0.8582346137715233, 1.0586980994962871, 2.0274173244820597, 1.2395923298426126, 0.24829307589675012, 0.2791426163648314, 0.24275536645017204, 0.24087189149478247, 0.239804054176152, 0.23979930920522352, 0.2397959559157126, 0.32036332625170694, 0.3623544917616527, 0.3194952847411766, 0.23570737293420546, 0.2357058951010811, 0.23563464432602876, 0.2519857111598147, 0.23470016007587619, 0.23414548663824916, 0.2341443998013326, 0.23414352171662864, 0.23228909080399252, 0.2319993480490691, 0.23199613392769997, 0.28911869138644986, 0.2392386987247989, 0.23562164351083711, 0.29565379923060997, 0.23001543320726206, 0.23001528078501157, 0.2300117054891793, 0.24799358844858063, 0.3293162726552128, 0.427131632128514, 0.496387171554696, 0.2637115226628495, 0.3002008959563641, 0.5256561968700432, 1.0001614033464126, 0.4792830532440382, 0.524134682332256, 0.6536714148994034, 0.8904584666911711, 0.6563800400380788, 1.3240196355297684, 0.24962077683408287, 0.2496199046997226, 0.32393213462297, 0.24396008757938567, 0.2435819059541708, 0.2837313567286833, 0.24274604502164554, 0.3194952847411766, 0.2607938840258036, 0.24656912807031447, 0.23832532306518603, 0.23832207859519647, 0.2377203530082028, 0.2367373240310794, 0.23673630871048085, 0.2688941319569007, 0.2484029714362617, 0.24376726273190097, 0.232553541382139, 0.26602393561734106, 0.3157394707508012, 0.22902117026872276, 0.22902027860896634, 0.2805100670838053, 0.2279544438596764, 0.2676550479626243, 0.28444991658576546, 0.2980434195608531, 0.2257777571591255, 0.24135307738248118, 0.2413541798451093, 0.30317259963355103, 0.33192161571609446, 0.4925878954823364, 0.4792830532440382, 0.8614550881595833, 0.9594986853734467, 0.5714786435084326, 1.2674096690612628, 0.5822628884153993, 0.6990822464738642, 0.6891552806369026, 1.045385063143644, 0.2805617744626362, 0.23678010124426802, 0.24300642495881142, 0.23496788607533778, 0.2349665353140081, 0.23496518736676453, 0.280299226626706, 0.23289963143540715, 0.23238692040486575, 0.23238645045248646, 0.23238395998628486, 0.24560490156462716, 0.23063008128165918, 0.2306285729315077, 0.2305403363828899, 0.28695542065681495, 0.26602654560680405, 0.2732934344612297, 0.4190296113171871, 0.24997958911533766, 0.2985616451788407, 0.22537697723941655, 0.2253713828362428, 0.28624286961421525, 0.2427355612629527, 0.2247264371096345, 0.22472601640376202, 0.22472533680196805, 0.22472529459067647, 0.2247252383089544, 0.3052929341683629, 0.3554257915454312, 0.27386918728022613, 0.37569710500260955, 0.2716445371938174, 0.5832302479198935, 0.4376588384814845, 0.3153308929386558, 0.6593515842062393, 0.8105631341531345, 1.8982807073931798, 0.8669070783185098, 1.3079121920249945, 1.9339823275032075], \"Category\": [\"Default\", \"Default\", \"Default\", \"Default\", \"Default\", \"Default\", \"Default\", \"Default\", \"Default\", \"Default\", \"Default\", \"Default\", \"Default\", \"Default\", \"Default\", \"Default\", \"Default\", \"Default\", \"Default\", \"Default\", \"Default\", \"Default\", \"Default\", \"Default\", \"Default\", \"Default\", \"Default\", \"Default\", \"Default\", \"Default\", \"Topic1\", \"Topic1\", \"Topic1\", \"Topic1\", \"Topic1\", \"Topic1\", \"Topic1\", \"Topic1\", \"Topic1\", \"Topic1\", \"Topic1\", \"Topic1\", \"Topic1\", \"Topic1\", \"Topic1\", \"Topic1\", \"Topic1\", \"Topic1\", \"Topic1\", \"Topic1\", \"Topic1\", \"Topic1\", \"Topic1\", \"Topic1\", \"Topic1\", \"Topic1\", \"Topic1\", \"Topic1\", \"Topic1\", \"Topic1\", \"Topic1\", \"Topic1\", \"Topic1\", \"Topic1\", \"Topic1\", \"Topic1\", \"Topic1\", \"Topic1\", \"Topic1\", \"Topic1\", \"Topic1\", \"Topic1\", \"Topic1\", \"Topic1\", \"Topic1\", \"Topic1\", \"Topic1\", \"Topic1\", \"Topic1\", \"Topic1\", \"Topic1\", \"Topic1\", \"Topic1\", \"Topic2\", \"Topic2\", \"Topic2\", \"Topic2\", \"Topic2\", \"Topic2\", \"Topic2\", \"Topic2\", \"Topic2\", \"Topic2\", \"Topic2\", \"Topic2\", \"Topic2\", \"Topic2\", \"Topic2\", \"Topic2\", \"Topic2\", \"Topic2\", \"Topic2\", \"Topic2\", \"Topic2\", \"Topic2\", \"Topic2\", \"Topic2\", \"Topic2\", \"Topic2\", \"Topic2\", \"Topic2\", \"Topic2\", \"Topic2\", \"Topic2\", \"Topic2\", \"Topic2\", \"Topic2\", \"Topic2\", \"Topic2\", \"Topic2\", \"Topic2\", \"Topic2\", \"Topic2\", \"Topic2\", \"Topic2\", \"Topic2\", \"Topic2\", \"Topic2\", \"Topic2\", \"Topic2\", \"Topic2\", \"Topic2\", \"Topic2\", \"Topic2\", \"Topic2\", \"Topic2\", \"Topic2\", \"Topic2\", \"Topic2\", \"Topic2\", \"Topic3\", \"Topic3\", \"Topic3\", \"Topic3\", \"Topic3\", \"Topic3\", \"Topic3\", \"Topic3\", \"Topic3\", \"Topic3\", \"Topic3\", \"Topic3\", \"Topic3\", \"Topic3\", \"Topic3\", \"Topic3\", \"Topic3\", \"Topic3\", \"Topic3\", \"Topic3\", \"Topic3\", \"Topic3\", \"Topic3\", \"Topic3\", \"Topic3\", \"Topic3\", \"Topic3\", \"Topic3\", \"Topic3\", \"Topic3\", \"Topic3\", \"Topic3\", \"Topic3\", \"Topic3\", \"Topic3\", \"Topic3\", \"Topic3\", \"Topic3\", \"Topic3\", \"Topic3\", \"Topic3\", \"Topic3\", \"Topic3\", \"Topic3\", \"Topic3\", \"Topic3\", \"Topic3\", \"Topic3\", \"Topic3\", \"Topic3\", \"Topic3\", \"Topic3\", \"Topic3\", \"Topic3\", \"Topic3\", \"Topic4\", \"Topic4\", \"Topic4\", \"Topic4\", \"Topic4\", \"Topic4\", \"Topic4\", \"Topic4\", \"Topic4\", \"Topic4\", \"Topic4\", \"Topic4\", \"Topic4\", \"Topic4\", \"Topic4\", \"Topic4\", \"Topic4\", \"Topic4\", \"Topic4\", \"Topic4\", \"Topic4\", \"Topic4\", \"Topic4\", \"Topic4\", \"Topic4\", \"Topic4\", \"Topic4\", \"Topic4\", \"Topic4\", \"Topic4\", \"Topic4\", \"Topic4\", \"Topic4\", \"Topic4\", \"Topic4\", \"Topic4\", \"Topic4\", \"Topic4\", \"Topic4\", \"Topic4\", \"Topic4\", \"Topic4\", \"Topic4\", \"Topic4\", \"Topic4\", \"Topic4\", \"Topic4\", \"Topic4\", \"Topic4\", \"Topic4\", \"Topic4\", \"Topic4\", \"Topic4\", \"Topic4\", \"Topic4\", \"Topic5\", \"Topic5\", \"Topic5\", \"Topic5\", \"Topic5\", \"Topic5\", \"Topic5\", \"Topic5\", \"Topic5\", \"Topic5\", \"Topic5\", \"Topic5\", \"Topic5\", \"Topic5\", \"Topic5\", \"Topic5\", \"Topic5\", \"Topic5\", \"Topic5\", \"Topic5\", \"Topic5\", \"Topic5\", \"Topic5\", \"Topic5\", \"Topic5\", \"Topic5\", \"Topic5\", \"Topic5\", \"Topic5\", \"Topic5\", \"Topic5\", \"Topic5\", \"Topic5\", \"Topic5\", \"Topic5\", \"Topic5\", \"Topic5\", \"Topic5\", \"Topic5\", \"Topic5\", \"Topic5\", \"Topic5\", \"Topic5\", \"Topic5\", \"Topic5\", \"Topic5\", \"Topic5\", \"Topic5\", \"Topic5\", \"Topic5\", \"Topic5\", \"Topic5\", \"Topic6\", \"Topic6\", \"Topic6\", \"Topic6\", \"Topic6\", \"Topic6\", \"Topic6\", \"Topic6\", \"Topic6\", \"Topic6\", \"Topic6\", \"Topic6\", \"Topic6\", \"Topic6\", \"Topic6\", \"Topic6\", \"Topic6\", \"Topic6\", \"Topic6\", \"Topic6\", \"Topic6\", \"Topic6\", \"Topic6\", \"Topic6\", \"Topic6\", \"Topic6\", \"Topic6\", \"Topic6\", \"Topic6\", \"Topic6\", \"Topic6\", \"Topic6\", \"Topic6\", \"Topic6\", \"Topic6\", \"Topic6\", \"Topic6\", \"Topic6\", \"Topic6\", \"Topic6\", \"Topic6\", \"Topic6\", \"Topic6\", \"Topic6\", \"Topic6\", \"Topic6\", \"Topic6\", \"Topic6\", \"Topic6\", \"Topic7\", \"Topic7\", \"Topic7\", \"Topic7\", \"Topic7\", \"Topic7\", \"Topic7\", \"Topic7\", \"Topic7\", \"Topic7\", \"Topic7\", \"Topic7\", \"Topic7\", \"Topic7\", \"Topic7\", \"Topic7\", \"Topic7\", \"Topic7\", \"Topic7\", \"Topic7\", \"Topic7\", \"Topic7\", \"Topic7\", \"Topic7\", \"Topic7\", \"Topic7\", \"Topic7\", \"Topic7\", \"Topic7\", \"Topic7\", \"Topic7\", \"Topic7\", \"Topic7\", \"Topic7\", \"Topic7\", \"Topic7\", \"Topic7\", \"Topic7\", \"Topic7\", \"Topic7\", \"Topic7\", \"Topic7\", \"Topic7\", \"Topic7\", \"Topic7\", \"Topic7\", \"Topic7\", \"Topic7\", \"Topic7\", \"Topic7\", \"Topic8\", \"Topic8\", \"Topic8\", \"Topic8\", \"Topic8\", \"Topic8\", \"Topic8\", \"Topic8\", \"Topic8\", \"Topic8\", \"Topic8\", \"Topic8\", \"Topic8\", \"Topic8\", \"Topic8\", \"Topic8\", \"Topic8\", \"Topic8\", \"Topic8\", \"Topic8\", \"Topic8\", \"Topic8\", \"Topic8\", \"Topic8\", \"Topic8\", \"Topic8\", \"Topic8\", \"Topic8\", \"Topic8\", \"Topic8\", \"Topic8\", \"Topic8\", \"Topic8\", \"Topic8\", \"Topic8\", \"Topic8\", \"Topic8\", \"Topic8\", \"Topic8\", \"Topic8\", \"Topic8\", \"Topic8\", \"Topic8\", \"Topic8\", \"Topic9\", \"Topic9\", \"Topic9\", \"Topic9\", \"Topic9\", \"Topic9\", \"Topic9\", \"Topic9\", \"Topic9\", \"Topic9\", \"Topic9\", \"Topic9\", \"Topic9\", \"Topic9\", \"Topic9\", \"Topic9\", \"Topic9\", \"Topic9\", \"Topic9\", \"Topic9\", \"Topic9\", \"Topic9\", \"Topic9\", \"Topic9\", \"Topic9\", \"Topic9\", \"Topic9\", \"Topic9\", \"Topic9\", \"Topic9\", \"Topic9\", \"Topic9\", \"Topic9\", \"Topic9\", \"Topic9\", \"Topic9\", \"Topic9\", \"Topic9\", \"Topic9\", \"Topic9\", \"Topic9\", \"Topic9\", \"Topic9\", \"Topic9\", \"Topic10\", \"Topic10\", \"Topic10\", \"Topic10\", \"Topic10\", \"Topic10\", \"Topic10\", \"Topic10\", \"Topic10\", \"Topic10\", \"Topic10\", \"Topic10\", \"Topic10\", \"Topic10\", \"Topic10\", \"Topic10\", \"Topic10\", \"Topic10\", \"Topic10\", \"Topic10\", \"Topic10\", \"Topic10\", \"Topic10\", \"Topic10\", \"Topic10\", \"Topic10\", \"Topic10\", \"Topic10\", \"Topic10\", \"Topic10\", \"Topic10\", \"Topic10\", \"Topic10\", \"Topic10\", \"Topic10\", \"Topic10\", \"Topic10\", \"Topic10\", \"Topic10\", \"Topic10\", \"Topic10\", \"Topic10\", \"Topic10\", \"Topic10\", \"Topic10\", \"Topic10\", \"Topic10\", \"Topic10\", \"Topic10\", \"Topic10\", \"Topic10\", \"Topic10\", \"Topic10\", \"Topic11\", \"Topic11\", \"Topic11\", \"Topic11\", \"Topic11\", \"Topic11\", \"Topic11\", \"Topic11\", \"Topic11\", \"Topic11\", \"Topic11\", \"Topic11\", \"Topic11\", \"Topic11\", \"Topic11\", \"Topic11\", \"Topic11\", \"Topic11\", \"Topic11\", \"Topic11\", \"Topic11\", \"Topic11\", \"Topic11\", \"Topic11\", \"Topic11\", \"Topic11\", \"Topic11\", \"Topic11\", \"Topic11\", \"Topic11\", \"Topic11\", \"Topic11\", \"Topic11\", \"Topic11\", \"Topic11\", \"Topic11\", \"Topic11\", \"Topic11\", \"Topic11\", \"Topic11\", \"Topic11\", \"Topic11\", \"Topic11\", \"Topic12\", \"Topic12\", \"Topic12\", \"Topic12\", \"Topic12\", \"Topic12\", \"Topic12\", \"Topic12\", \"Topic12\", \"Topic12\", \"Topic12\", \"Topic12\", \"Topic12\", \"Topic12\", \"Topic12\", \"Topic12\", \"Topic12\", \"Topic12\", \"Topic12\", \"Topic12\", \"Topic12\", \"Topic12\", \"Topic12\", \"Topic12\", \"Topic12\", \"Topic12\", \"Topic12\", \"Topic12\", \"Topic12\", \"Topic12\", \"Topic12\", \"Topic12\", \"Topic12\", \"Topic12\", \"Topic12\", \"Topic12\", \"Topic12\", \"Topic12\", \"Topic12\", \"Topic12\", \"Topic12\", \"Topic12\", \"Topic12\", \"Topic12\", \"Topic12\", \"Topic12\", \"Topic12\", \"Topic12\", \"Topic12\", \"Topic12\", \"Topic13\", \"Topic13\", \"Topic13\", \"Topic13\", \"Topic13\", \"Topic13\", \"Topic13\", \"Topic13\", \"Topic13\", \"Topic13\", \"Topic13\", \"Topic13\", \"Topic13\", \"Topic13\", \"Topic13\", \"Topic13\", \"Topic13\", \"Topic13\", \"Topic13\", \"Topic13\", \"Topic13\", \"Topic13\", \"Topic13\", \"Topic13\", \"Topic13\", \"Topic13\", \"Topic13\", \"Topic13\", \"Topic13\", \"Topic13\", \"Topic13\", \"Topic13\", \"Topic13\", \"Topic13\", \"Topic13\", \"Topic13\", \"Topic13\", \"Topic13\", \"Topic13\", \"Topic13\", \"Topic13\", \"Topic13\", \"Topic13\", \"Topic13\", \"Topic13\", \"Topic13\", \"Topic13\", \"Topic14\", \"Topic14\", \"Topic14\", \"Topic14\", \"Topic14\", \"Topic14\", \"Topic14\", \"Topic14\", \"Topic14\", \"Topic14\", \"Topic14\", \"Topic14\", \"Topic14\", \"Topic14\", \"Topic14\", \"Topic14\", \"Topic14\", \"Topic14\", \"Topic14\", \"Topic14\", \"Topic14\", \"Topic14\", \"Topic14\", \"Topic14\", \"Topic14\", \"Topic14\", \"Topic14\", \"Topic14\", \"Topic14\", \"Topic14\", \"Topic14\", \"Topic14\", \"Topic14\", \"Topic14\", \"Topic14\", \"Topic14\", \"Topic14\", \"Topic14\", \"Topic14\", \"Topic14\", \"Topic14\", \"Topic14\", \"Topic15\", \"Topic15\", \"Topic15\", \"Topic15\", \"Topic15\", \"Topic15\", \"Topic15\", \"Topic15\", \"Topic15\", \"Topic15\", \"Topic15\", \"Topic15\", \"Topic15\", \"Topic15\", \"Topic15\", \"Topic15\", \"Topic15\", \"Topic15\", \"Topic15\", \"Topic15\", \"Topic15\", \"Topic15\", \"Topic15\", \"Topic15\", \"Topic15\", \"Topic15\", \"Topic15\", \"Topic15\", \"Topic15\", \"Topic15\", \"Topic15\", \"Topic15\", \"Topic15\", \"Topic15\", \"Topic15\", \"Topic15\", \"Topic15\", \"Topic15\", \"Topic15\", \"Topic15\", \"Topic15\", \"Topic15\", \"Topic15\", \"Topic16\", \"Topic16\", \"Topic16\", \"Topic16\", \"Topic16\", \"Topic16\", \"Topic16\", \"Topic16\", \"Topic16\", \"Topic16\", \"Topic16\", \"Topic16\", \"Topic16\", \"Topic16\", \"Topic16\", \"Topic16\", \"Topic16\", \"Topic16\", \"Topic16\", \"Topic16\", \"Topic16\", \"Topic16\", \"Topic16\", \"Topic16\", \"Topic16\", \"Topic16\", \"Topic16\", \"Topic16\", \"Topic16\", \"Topic16\", \"Topic16\", \"Topic16\", \"Topic16\", \"Topic16\", \"Topic16\", \"Topic16\", \"Topic16\", \"Topic16\", \"Topic16\", \"Topic16\", \"Topic16\", \"Topic16\", \"Topic16\", \"Topic16\"], \"logprob\": [30.0, 29.0, 28.0, 27.0, 26.0, 25.0, 24.0, 23.0, 22.0, 21.0, 20.0, 19.0, 18.0, 17.0, 16.0, 15.0, 14.0, 13.0, 12.0, 11.0, 10.0, 9.0, 8.0, 7.0, 6.0, 5.0, 4.0, 3.0, 2.0, 1.0, -6.4458, -6.5802, -7.0089, -6.8703, -6.8081, -6.9294, -6.9171, -6.1184, -6.8768, -6.7665, -6.9704, -6.6994, -7.1301, -6.7881, -7.2813, -7.1305, -6.4624, -7.3105, -6.9113, -7.0942, -7.3129, -6.6352, -7.1386, -7.2566, -6.9927, -6.9408, -6.5863, -7.1008, -6.4308, -6.0614, -6.8187, -6.4771, -6.5906, -6.6237, -6.8213, -6.6932, -6.7458, -6.8385, -6.7621, -6.3424, -6.465, -6.517, -6.4213, -6.701, -6.7498, -6.6737, -6.6166, -6.7067, -6.6978, -6.6504, -6.6879, -6.693, -6.7587, -7.0674, -7.0132, -6.9417, -7.2535, -6.7508, -7.3293, -7.3758, -7.2017, -7.4586, -7.5, -7.5001, -7.3887, -6.8641, -7.5124, -7.4406, -7.5269, -7.5415, -7.4191, -7.485, -7.0063, -7.5214, -7.5331, -7.6263, -7.4299, -7.4985, -7.6564, -7.658, -7.6073, -7.522, -7.5291, -7.427, -7.3073, -6.9633, -7.4265, -7.146, -7.3986, -6.7979, -7.1534, -7.1114, -7.1703, -7.235, -6.7118, -6.8454, -7.0704, -7.1816, -7.3335, -7.2137, -7.1714, -7.2071, -7.2215, -7.0523, -7.2515, -7.211, -7.2153, -7.1136, -7.2277, -7.2571, -7.1687, -7.2095, -7.3046, -7.0628, -7.2038, -6.9473, -6.995, -7.0437, -7.4336, -7.4336, -7.312, -7.4288, -7.1437, -7.4471, -7.3953, -7.4764, -7.4982, -7.4744, -7.6719, -7.2997, -7.2861, -7.6258, -7.436, -7.5593, -7.5909, -7.5937, -7.7476, -7.5473, -7.7634, -7.5476, -7.265, -7.4062, -7.0336, -6.9254, -7.2213, -7.4261, -7.1201, -7.4127, -6.9779, -6.7517, -6.785, -7.1177, -6.9943, -6.9903, -7.1084, -7.0339, -7.2605, -7.144, -7.3146, -7.2779, -7.246, -7.2447, -7.2496, -7.2882, -7.2847, -6.8148, -7.094, -7.139, -7.1593, -6.9972, -7.3609, -7.3863, -7.4333, -7.383, -7.181, -7.0594, -7.3993, -7.565, -7.5672, -7.5985, -7.5985, -7.5985, -7.605, -7.6077, -7.5656, -7.652, -7.652, -7.3061, -7.4474, -7.5981, -7.1605, -7.7, -7.6559, -7.6464, -7.632, -7.5701, -7.3179, -7.4228, -7.4293, -7.3587, -7.4406, -7.0427, -7.1175, -6.7996, -7.2949, -7.3852, -7.2358, -7.1106, -7.1002, -7.3477, -7.2042, -7.141, -7.1736, -7.2346, -7.2631, -7.2271, -7.2909, -7.2445, -7.2812, -7.343, -6.9035, -7.0161, -7.0463, -7.1115, -7.121, -7.2057, -7.2222, -7.0437, -7.2915, -7.3377, -7.3378, -7.3976, -7.402, -7.4218, -7.5019, -7.5855, -7.5875, -7.5875, -7.5875, -7.5876, -7.6041, -7.6041, -7.2611, -7.5387, -7.4214, -7.6312, -7.6313, -7.5741, -7.5888, -7.6555, -7.5324, -7.2706, -7.1326, -7.004, -7.2598, -7.0394, -7.2332, -6.8987, -7.4044, -7.4262, -7.2698, -7.386, -6.9632, -7.171, -7.1069, -7.1993, -7.2699, -7.3182, -7.3263, -7.3191, -7.3371, -7.3474, -6.8637, -6.942, -6.9852, -7.0396, -7.0877, -7.2187, -7.2934, -7.3768, -7.4214, -7.2935, -7.2935, -7.4838, -7.4092, -7.5432, -7.5328, -6.9227, -7.5683, -7.6092, -7.4406, -7.675, -7.6783, -7.5043, -7.6247, -7.6358, -7.4815, -7.7265, -7.681, -7.6214, -7.5453, -7.7588, -7.6809, -7.4258, -7.0512, -7.2275, -7.3693, -7.2368, -7.5274, -7.3542, -7.2746, -7.17, -7.2087, -7.212, -7.2322, -7.1512, -7.2623, -7.3232, -7.4415, -7.4307, -7.4396, -6.869, -7.0866, -7.1826, -7.2467, -7.2713, -7.2715, -7.3155, -7.3903, -7.3939, -7.2992, -7.3824, -7.362, -7.4345, -7.4347, -7.4292, -7.223, -7.4739, -7.3618, -7.4878, -7.488, -7.4963, -7.4971, -7.5506, -7.4881, -7.4585, -7.6058, -7.3924, -7.669, -7.669, -7.669, -7.4901, -7.325, -7.3521, -6.4414, -7.3342, -7.0937, -7.0962, -7.2459, -7.0709, -7.2519, -7.1434, -7.0364, -7.1107, -7.1934, -7.2906, -7.2826, -7.2972, -7.2885, -7.3392, -7.3575, -6.8182, -6.7822, -6.9726, -7.0411, -6.9374, -7.179, -6.4478, -7.1917, -7.3021, -7.218, -7.3639, -7.3639, -7.3894, -7.2247, -7.4203, -7.466, -7.466, -7.479, -7.2588, -7.6235, -7.6255, -7.1999, -7.3695, -7.5698, -7.0744, -7.677, -7.4454, -7.4642, -7.3696, -7.7106, -7.3396, -7.3469, -6.9019, -7.4471, -7.2967, -7.2622, -7.2602, -7.2589, -7.3341, -6.8765, -7.3748, -7.3233, -7.3332, -7.3717, -6.5839, -6.8717, -7.05, -7.0812, -7.19, -7.1901, -7.18, -7.251, -7.4513, -7.4514, -7.4514, -7.4514, -7.3746, -7.5105, -7.5105, -7.5105, -7.4826, -6.8179, -7.5431, -7.267, -7.298, -7.5897, -7.5898, -7.5854, -7.55, -7.5611, -7.2183, -7.6498, -7.6498, -7.6499, -7.2482, -7.5105, -7.4417, -7.4694, -7.3279, -6.9473, -7.4148, -7.3043, -7.3832, -7.348, -7.3345, -7.1943, -7.4213, -7.4775, -6.4646, -6.8572, -6.6746, -7.1013, -7.2982, -7.3378, -7.3425, -7.3844, -7.4397, -7.4398, -7.5304, -7.491, -7.5493, -7.595, -7.6197, -7.5625, -7.7429, -7.7429, -7.743, -7.743, -7.743, -7.743, -7.7474, -7.7562, -7.7563, -7.7563, -7.7273, -7.684, -7.6211, -7.8013, -7.5095, -7.3444, -7.6198, -7.3046, -7.5329, -7.2293, -7.4381, -7.3155, -7.5089, -7.5327, -7.4031, -7.4964, -7.3179, -7.5583, -7.5045, -7.1698, -7.244, -7.4482, -7.2992, -7.4222, -7.4716, -7.4478, -7.4941, -6.9306, -7.1478, -7.1557, -7.2001, -7.2247, -7.1863, -7.2657, -7.3459, -7.346, -7.1249, -7.3957, -7.4209, -7.4211, -7.366, -7.4618, -7.1121, -7.2964, -7.4831, -7.2174, -7.5667, -7.5806, -7.5807, -7.335, -7.6219, -7.6673, -7.7137, -7.7137, -7.7138, -7.1026, -7.4679, -7.1758, -7.5382, -7.3991, -7.4638, -7.325, -7.4616, -7.2548, -7.1913, -7.3831, -7.3887, -7.418, -7.4485, -7.4441, -6.76, -6.954, -7.0463, -7.2534, -6.8121, -7.4328, -7.2459, -7.4576, -7.388, -7.5373, -7.6166, -7.6006, -7.6828, -7.6915, -7.638, -7.5449, -7.764, -7.7806, -7.7806, -7.7806, -7.7806, -7.7806, -7.7806, -7.7807, -7.7807, -7.7453, -7.7918, -7.6405, -7.7862, -7.6915, -7.5103, -7.6108, -7.5509, -6.8509, -7.6235, -7.421, -6.8692, -7.6544, -7.2637, -7.6087, -7.5402, -7.5317, -7.5507, -7.4352, -7.595, -7.5538, -7.5442, -7.5481, -7.5991, -7.6081, -7.0002, -7.0002, -7.0241, -7.1387, -7.2069, -7.2134, -7.3495, -7.3871, -7.3979, -7.2885, -7.5131, -7.1713, -7.582, -7.4569, -7.6257, -7.6258, -7.6608, -7.6609, -7.6696, -7.6696, -7.6895, -7.7439, -7.7422, -7.7437, -7.7188, -7.7508, -7.0244, -7.7538, -7.7247, -7.5219, -6.8045, -7.3049, -7.1095, -7.5756, -7.4817, -7.5521, -7.6303, -7.327, -7.3193, -7.4942, -7.4567, -7.3566, -7.4416, -7.5236, -7.5151, -7.4918, -7.5457, -7.1565, -7.1053, -7.2897, -7.3394, -7.3687, -7.3689, -7.3689, -7.0941, -6.9804, -7.1539, -7.4899, -7.4899, -7.4922, -7.4508, -7.5221, -7.5402, -7.5403, -7.5403, -7.6093, -7.6138, -7.614, -7.3987, -7.5923, -7.6261, -7.4277, -7.6871, -7.6871, -7.6872, -7.6195, -7.3475, -7.134, -7.1125, -7.5961, -7.5227, -7.2335, -7.1005, -7.4075, -7.41, -7.3863, -7.3284, -7.3902, -7.3377, -7.1123, -7.1123, -6.9263, -7.2449, -7.2545, -7.1156, -7.2758, -7.0237, -7.2288, -7.3226, -7.3972, -7.3973, -7.415, -7.4446, -7.4446, -7.3665, -7.4871, -7.5281, -7.5816, -7.4975, -7.3535, -7.7139, -7.714, -7.5408, -7.7576, -7.6423, -7.596, -7.5526, -7.8531, -7.7878, -7.7879, -7.5993, -7.5351, -7.2981, -7.3366, -7.0186, -7.2802, -7.4405, -7.3792, -7.4898, -7.5013, -7.525, -7.5273, -7.1431, -7.3196, -7.3222, -7.3778, -7.3779, -7.3779, -7.2487, -7.4487, -7.4671, -7.4671, -7.4672, -7.4473, -7.5328, -7.5329, -7.5363, -7.3242, -7.4375, -7.4748, -7.1177, -7.6419, -7.4749, -7.7597, -7.76, -7.5401, -7.7068, -7.7918, -7.7918, -7.7918, -7.7918, -7.7918, -7.53, -7.4067, -7.6387, -7.4011, -7.6564, -7.1769, -7.3827, -7.5735, -7.1776, -7.1605, -7.1169, -7.3456, -7.3387, -7.351], \"loglift\": [30.0, 29.0, 28.0, 27.0, 26.0, 25.0, 24.0, 23.0, 22.0, 21.0, 20.0, 19.0, 18.0, 17.0, 16.0, 15.0, 14.0, 13.0, 12.0, 11.0, 10.0, 9.0, 8.0, 7.0, 6.0, 5.0, 4.0, 3.0, 2.0, 1.0, 0.6321, 0.6263, 0.6252, 0.624, 0.6233, 0.6206, 0.6034, 0.5937, 0.5898, 0.5864, 0.5844, 0.5825, 0.5772, 0.5762, 0.575, 0.5733, 0.5712, 0.5689, 0.5682, 0.5678, 0.5672, 0.5671, 0.5631, 0.5628, 0.5627, 0.562, 0.5584, 0.5552, 0.5546, 0.5534, 0.551, 0.5384, 0.5416, 0.5381, 0.5473, 0.5393, 0.539, 0.5459, 0.5292, 0.4715, 0.4728, 0.4675, 0.4393, 0.5106, 0.515, 0.4716, 0.4354, 0.4855, 0.4796, 0.449, 0.4131, 0.3956, 0.4766, 1.8042, 1.7566, 1.7128, 1.6923, 1.6798, 1.6444, 1.6144, 1.6108, 1.5597, 1.5317, 1.5317, 1.5262, 1.5251, 1.5233, 1.5138, 1.5134, 1.5034, 1.4784, 1.4766, 1.4687, 1.4547, 1.45, 1.4443, 1.4404, 1.4259, 1.4229, 1.4218, 1.4183, 1.4042, 1.3914, 1.3912, 1.3839, 1.3282, 1.3874, 1.2888, 1.3628, 1.0375, 1.0469, 0.9685, 1.0328, 1.0994, 0.1488, 0.2983, 0.6783, 0.7826, 1.1309, 0.7892, 0.6617, 0.727, 0.716, 0.0728, 0.743, 0.4991, 0.47, -0.1758, 0.3989, 0.262, 1.8079, 1.771, 1.7175, 1.7147, 1.7096, 1.6917, 1.6914, 1.6714, 1.628, 1.628, 1.6094, 1.6057, 1.6035, 1.5931, 1.5751, 1.5589, 1.5567, 1.548, 1.4538, 1.449, 1.4389, 1.4372, 1.434, 1.4271, 1.419, 1.3997, 1.3962, 1.3841, 1.384, 1.3838, 1.3703, 1.3633, 1.3184, 1.1822, 1.2432, 1.3286, 1.1665, 1.2976, 0.8664, 0.3477, 0.0288, 0.5079, 0.0943, 0.0617, 0.3341, -0.0493, 0.7037, -0.043, 0.9078, 0.6496, 0.0032, -0.0259, 0.0005, 0.3862, -0.0426, 2.0731, 1.8846, 1.8667, 1.7819, 1.7275, 1.712, 1.6936, 1.6288, 1.6271, 1.6176, 1.6006, 1.5797, 1.5608, 1.5592, 1.5353, 1.5353, 1.5353, 1.5273, 1.5245, 1.4972, 1.4941, 1.4941, 1.4868, 1.4814, 1.4789, 1.4785, 1.4563, 1.4514, 1.4391, 1.439, 1.4375, 1.3263, 1.3201, 1.289, 1.1992, 1.2661, 0.7978, 0.8353, 0.3837, 1.0571, 1.1672, 0.7956, 0.4875, 0.3755, 0.7944, 0.1995, -0.0891, -0.2358, 0.1217, 0.256, -0.1385, 0.1516, -0.384, -0.1802, 0.534, 2.0397, 1.9668, 1.9467, 1.9028, 1.8963, 1.8377, 1.8261, 1.7979, 1.7767, 1.7433, 1.7433, 1.6993, 1.6961, 1.6814, 1.6212, 1.557, 1.5555, 1.5555, 1.5555, 1.5554, 1.5426, 1.5426, 1.5374, 1.5363, 1.5289, 1.5215, 1.5215, 1.5147, 1.5114, 1.5024, 1.4951, 1.4541, 1.372, 1.0793, 1.263, 0.8534, 1.0584, 0.5342, 1.1975, 1.2338, 0.8254, 1.0488, -0.1027, 0.3618, -0.4922, 0.0195, 0.1311, 0.5091, 0.1876, -0.2181, -0.0879, -0.6353, 2.1447, 2.0905, 2.0601, 2.0212, 1.9639, 1.8891, 1.8067, 1.7676, 1.7325, 1.6662, 1.6661, 1.6617, 1.6454, 1.6351, 1.6302, 1.6232, 1.6147, 1.5813, 1.5433, 1.5264, 1.5243, 1.523, 1.5213, 1.5097, 1.4969, 1.4816, 1.4649, 1.4628, 1.4576, 1.455, 1.4525, 1.4362, 1.3381, 1.3303, 1.3735, 1.087, 1.3512, 1.096, 0.8823, 0.6631, 0.2978, 0.2274, 0.2549, -0.1666, 0.3394, -0.1795, 0.9026, 0.5916, 0.4476, 2.1621, 1.9556, 1.9324, 1.8832, 1.8641, 1.864, 1.8295, 1.7703, 1.7674, 1.7641, 1.7617, 1.7593, 1.7348, 1.7347, 1.7133, 1.7108, 1.703, 1.6992, 1.6917, 1.6916, 1.6848, 1.6841, 1.6403, 1.634, 1.5688, 1.5652, 1.5464, 1.542, 1.542, 1.5419, 1.5201, 1.4977, 1.5013, 1.2396, 1.3828, 0.9833, 0.8313, 1.0983, 0.632, 1.0639, 0.4412, -0.0986, 0.0143, 0.2938, 0.7881, 0.6563, 0.0346, -0.1448, 0.359, 0.0435, 2.2051, 2.1165, 2.0952, 2.0448, 2.0238, 1.9407, 1.9042, 1.8629, 1.8451, 1.811, 1.796, 1.796, 1.7756, 1.7552, 1.7508, 1.7137, 1.7137, 1.6625, 1.6179, 1.5836, 1.582, 1.5702, 1.5531, 1.5421, 1.5366, 1.5336, 1.5327, 1.5298, 1.5244, 1.5103, 1.5097, 1.4789, 1.3897, 1.492, 1.37, 1.2908, 1.2772, 1.2578, 1.3384, 0.2485, 1.2502, 0.7209, -0.3478, 0.8315, 2.3832, 2.1845, 2.0529, 2.0292, 1.9454, 1.9453, 1.9424, 1.8975, 1.736, 1.7359, 1.7359, 1.7359, 1.7293, 1.6871, 1.6871, 1.6871, 1.6698, 1.6674, 1.6599, 1.6597, 1.6378, 1.6209, 1.6208, 1.6194, 1.6118, 1.6075, 1.5712, 1.5701, 1.5701, 1.5701, 1.5295, 1.5151, 1.4692, 1.4768, 1.2858, 0.4537, 1.2841, 0.8471, 1.0491, 0.7318, 0.5956, -0.3804, 0.5038, 0.8518, 2.517, 2.1825, 2.1595, 2.0476, 1.8879, 1.8384, 1.8332, 1.8161, 1.7696, 1.7695, 1.6924, 1.6877, 1.622, 1.5725, 1.5718, 1.5647, 1.5077, 1.5077, 1.5077, 1.5077, 1.5077, 1.5077, 1.5037, 1.496, 1.496, 1.4959, 1.4903, 1.4902, 1.4607, 1.4562, 1.438, 1.4171, 1.4371, 1.2868, 1.3906, 1.2116, 1.3211, 1.2097, 1.3267, 1.324, 1.2078, 1.2823, 1.0757, 1.3346, 1.1896, 0.3312, -0.3834, 0.635, -0.6845, 0.4143, 0.7395, 0.4529, 0.4333, 2.0602, 2.0115, 2.0051, 1.9692, 1.9492, 1.9142, 1.8905, 1.8493, 1.8492, 1.8442, 1.8076, 1.7864, 1.7863, 1.7761, 1.7518, 1.7465, 1.741, 1.7337, 1.6788, 1.6621, 1.6501, 1.65, 1.6496, 1.6143, 1.5747, 1.5341, 1.5341, 1.534, 1.5282, 1.5182, 1.4379, 1.4528, 1.2999, 1.2648, 0.9953, 1.2088, 0.4364, -0.2068, 0.7002, 0.1682, 0.4827, 0.8749, 0.6365, 2.321, 2.1122, 2.1004, 1.8922, 1.7857, 1.7819, 1.7615, 1.7607, 1.7237, 1.6923, 1.6234, 1.6183, 1.5654, 1.5447, 1.533, 1.5078, 1.4936, 1.4788, 1.4788, 1.4788, 1.4788, 1.4788, 1.4788, 1.4788, 1.4787, 1.475, 1.4628, 1.4622, 1.4553, 1.4396, 1.4245, 1.432, 1.3953, 1.0247, 1.4, 1.2927, 0.8005, 1.3476, 0.8784, 1.2287, 1.1075, 1.0288, 0.9103, 0.151, 0.945, 0.5975, 0.4781, -0.1918, 0.2125, 0.32, 2.1378, 2.1378, 2.0912, 2.0271, 1.9715, 1.9662, 1.8531, 1.8213, 1.8122, 1.7124, 1.7116, 1.6372, 1.6324, 1.6318, 1.6161, 1.616, 1.5854, 1.5853, 1.5777, 1.5776, 1.5341, 1.5121, 1.5114, 1.5099, 1.5029, 1.5027, 1.502, 1.4997, 1.4774, 1.4546, 1.2761, 1.3428, 1.2711, 1.3219, 1.0707, 1.1663, 1.3085, 0.5212, 0.4652, 0.9053, 0.7489, 0.2699, 0.2613, 0.4139, 0.2125, -0.4139, 0.0241, 2.0213, 1.9553, 1.9106, 1.8687, 1.8438, 1.8437, 1.8437, 1.8288, 1.8194, 1.7718, 1.7399, 1.7399, 1.7379, 1.7122, 1.712, 1.6962, 1.6962, 1.6961, 1.6351, 1.6318, 1.6317, 1.6268, 1.6227, 1.6041, 1.5755, 1.5672, 1.5672, 1.567, 1.5595, 1.5478, 1.5013, 1.3725, 1.5214, 1.4652, 1.1943, 0.6839, 1.1126, 1.0206, 0.8235, 0.5722, 0.8155, 0.1663, 2.0602, 2.0601, 1.9855, 1.9504, 1.9425, 1.9287, 1.9245, 1.9019, 1.8999, 1.8622, 1.8216, 1.8215, 1.8063, 1.7808, 1.7808, 1.7315, 1.6902, 1.6681, 1.6617, 1.6113, 1.584, 1.5446, 1.5446, 1.5149, 1.5057, 1.4603, 1.4458, 1.4426, 1.4197, 1.4183, 1.4183, 1.3788, 1.3524, 1.1946, 1.1835, 0.9152, 0.5458, 0.9036, 0.1685, 0.8357, 0.6413, 0.6319, 0.2129, 1.9125, 1.9057, 1.8771, 1.8551, 1.8551, 1.855, 1.8078, 1.793, 1.7769, 1.7769, 1.7768, 1.7414, 1.7188, 1.7187, 1.7157, 1.7089, 1.6713, 1.607, 1.5368, 1.5291, 1.5185, 1.5149, 1.5146, 1.4954, 1.4936, 1.4857, 1.4857, 1.4857, 1.4857, 1.4857, 1.4411, 1.4124, 1.441, 1.3625, 1.4315, 1.1469, 1.2282, 1.3653, 1.0235, 0.8342, 0.0268, 0.5819, 0.1775, -0.226]}, \"token.table\": {\"Topic\": [1, 1, 1, 1, 1, 1, 1, 1, 1, 1, 1, 1, 1, 1, 1, 1, 1, 1, 1, 1, 1, 1, 1, 1, 1, 1, 1, 1, 1, 1, 1, 1, 1, 1, 1, 1, 1, 1, 1, 1, 1, 1, 1, 1, 1, 1, 1, 1, 1, 1, 1, 1, 1, 1, 1, 1, 1, 1, 1, 1, 1, 1, 1, 1, 1, 1, 1, 1, 1, 1, 1, 1, 1, 1, 1, 1, 1, 1, 1, 1, 1, 1, 1, 1, 1, 1, 1, 1, 1, 1, 1, 1, 1, 1, 1, 1, 1, 1, 1, 1, 1, 1, 1, 1, 1, 1, 1, 1, 1, 1, 1, 1, 1, 1, 1, 1, 1], \"Freq\": [1.1080013554103805, 1.1608266220081243, 1.341880725764315, 0.7946969275988498, 0.9016021135140145, 1.0497231541520569, 0.9646783355286241, 0.6842925063110289, 0.7023991559430293, 1.1219310525615136, 0.5364560385915076, 0.5773352398874019, 0.6813751691409886, 0.8575463871336181, 0.6358223923099062, 0.7480600756095738, 0.5637732978121703, 1.0573754727923412, 0.6493965682879392, 0.7937972784829815, 1.0422109120564242, 0.6516177351432191, 0.9204831495558471, 0.7102541765101672, 0.8914424859044907, 1.09937118609948, 1.043602235442936, 0.8186617530103881, 0.9565853150731236, 1.027338721093931, 1.0416330179113191, 0.6105482008681182, 0.8067168341764159, 1.1142283853684383, 1.0742526194889697, 1.0546781090302892, 0.5040090881309535, 0.820041968678752, 0.6066518471434211, 0.8993511993664209, 0.5859930076137728, 1.1230170046177124, 0.7951993415257907, 0.9268478322918415, 0.49856619989100526, 1.052063166004786, 1.2334975351137114, 1.150774465938049, 0.5047769898616641, 0.7890108655559444, 0.5586120416595147, 0.9223885238725561, 0.8529777142769519, 1.0655900209764364, 0.604839241351078, 0.9437629462276322, 0.6603926158373014, 0.757234099033837, 0.7963335337417422, 0.727567150794692, 0.7667920942017045, 0.9445563380871139, 1.0533152111634974, 0.905463701980965, 0.7908875048495779, 0.898581117152662, 0.7645773210904435, 0.8537955773508766, 0.8956110138593225, 1.1668705372312793, 0.7679198774791419, 0.9256175965094343, 0.5757213086304359, 0.5481204520156318, 1.0967918223719797, 0.9312003131545248, 0.7552758079753694, 1.2439396849190336, 0.5448132387681169, 0.9612811610200637, 0.6832676823155751, 0.6568386372546123, 0.7080408750662381, 0.6701986800087284, 1.1612578232808457, 0.8328234414793504, 0.7773861661499667, 0.7575900337350333, 1.0353997241111397, 0.9281703485890733, 0.6596420886467537, 0.9215023141056397, 0.8298477793404618, 0.5679001199938285, 0.9172005171155656, 0.9998386227004236, 0.7426929323285526, 0.5529718390271515, 0.7370690716456482, 0.884667042354691, 0.8792478387629503, 0.7034928204547185, 1.095143402322891, 0.7530773744063456, 0.9108177311762158, 0.5276445169747004, 1.1001596262793143, 0.7543856526337078, 0.594622365840491, 0.9864767237849938, 0.5267924791656621, 0.8602584250893568, 0.5812839028771483, 0.5170678065559219, 0.7342556270794312, 0.585400898906175, 0.7628333149431951], \"Term\": [\"Bitcoin\", \"Bluetooth\", \"CCleaner\", \"Cloud\", \"FA\", \"Facebook\", \"Google\", \"Microsoft\", \"NHS\", \"Office\", \"UK\", \"US\", \"Windows\", \"account\", \"affected\", \"airline\", \"attacker\", \"authentication\", \"banking\", \"breach\", \"browser\", \"business\", \"camera\", \"campaign\", \"chain\", \"charge\", \"claim\", \"client\", \"cloud\", \"common\", \"company\", \"computer\", \"confirmed\", \"coronavirus\", \"council\", \"credential\", \"criminal\", \"critical\", \"cryptocurrency\", \"customer\", \"cyber\", \"database\", \"default\", \"detail\", \"device\", \"digital\", \"disclosure\", \"effective\", \"email\", \"exploit\", \"financial\", \"followed\", \"following\", \"fraud\", \"impact\", \"incident\", \"industry\", \"infected\", \"infection\", \"investigation\", \"issue\", \"large\", \"leaked\", \"likely\", \"macro\", \"malware\", \"medium\", \"message\", \"mobile\", \"nMicrosoft\", \"never\", \"noted\", \"number\", \"online\", \"operation\", \"password\", \"patch\", \"patched\", \"personal\", \"phishing\", \"phone\", \"place\", \"platform\", \"practice\", \"process\", \"product\", \"provider\", \"ransomware\", \"regarding\", \"released\", \"reportedly\", \"router\", \"secure\", \"server\", \"setting\", \"smart\", \"social\", \"software\", \"source\", \"spread\", \"stated\", \"store\", \"supply\", \"support\", \"suspicious\", \"system\", \"tactic\", \"taken\", \"threat\", \"university\", \"update\", \"vaccine\", \"victim\", \"vulnerability\", \"vulnerable\", \"website\", \"working\"]}, \"R\": 30, \"lambda.step\": 0.01, \"plot.opts\": {\"xlab\": \"PC1\", \"ylab\": \"PC2\"}, \"topic.order\": [15, 9, 14, 13, 1, 2, 4, 12, 11, 3, 6, 7, 10, 16, 5, 8]};\n",
       "if(typeof(window.LDAvis) !== \"undefined\"){\n",
       "   !function(LDAvis){\n",
       "       new LDAvis(\"#\" + \"ldavis_el2856027896422774881441110739\", ldavis_el2856027896422774881441110739_data);\n",
       "   }(LDAvis);\n",
       "}else{\n",
       "  require.config({paths: {d3: \"https://d3js.org/d3.v5\"}});\n",
       "  require([\"d3\"], function(d3){\n",
       "    window.d3 = d3;\n",
       "    $.getScript(\"https://cdn.jsdelivr.net/gh/bmabey/pyLDAvis/pyLDAvis/js/ldavis.v3.0.0.js\", function(){\n",
       "       new LDAvis(\"#\" + \"ldavis_el2856027896422774881441110739\", ldavis_el2856027896422774881441110739_data);\n",
       "    });\n",
       "  });\n",
       "}\n",
       "</script>"
      ],
      "text/plain": [
       "<IPython.core.display.HTML object>"
      ]
     },
     "execution_count": 38,
     "metadata": {},
     "output_type": "execute_result"
    }
   ],
   "source": [
    "lda_display = pyLDAvis.gensim.prepare(lda_model_tfidf_16, tfidf_corp, \n",
    "                                          dictionary, mds='mmds')\n",
    "pyLDAvis.display(lda_display, template_type='notebook')"
   ]
  },
  {
   "cell_type": "markdown",
   "metadata": {},
   "source": [
    "## pyspark"
   ]
  },
  {
   "cell_type": "code",
   "execution_count": 3,
   "metadata": {},
   "outputs": [],
   "source": [
    "# !pip create -n sparknlp python=3.7 -y\n",
    "# !pip activate sparknlp\n",
    "# !pip install spark-nlp==3.0.2 pyspark==3.1.1"
   ]
  },
  {
   "cell_type": "code",
   "execution_count": 4,
   "metadata": {},
   "outputs": [],
   "source": [
    "import sparknlp\n",
    "sparknlp = sparknlp.start()"
   ]
  },
  {
   "cell_type": "code",
   "execution_count": 5,
   "metadata": {},
   "outputs": [],
   "source": [
    "# from pyspark import SparkContext\n",
    "# print(SparkContext.version)\n",
    "\n",
    "# sc = SparkContext()\n",
    "# sc"
   ]
  },
  {
   "cell_type": "code",
   "execution_count": 6,
   "metadata": {},
   "outputs": [],
   "source": [
    "from sparknlp.base import Finisher, DocumentAssembler\n",
    "from sparknlp.annotator import (Tokenizer, Normalizer,\n",
    "                                Lemmatizer, StopWordsCleaner)\n",
    "from pyspark.ml import Pipeline"
   ]
  },
  {
   "cell_type": "code",
   "execution_count": 43,
   "metadata": {},
   "outputs": [],
   "source": [
    "import nltk\n",
    "from nltk.corpus import stopwords\n",
    "\n",
    "from nltk.corpus import words"
   ]
  },
  {
   "cell_type": "code",
   "execution_count": 8,
   "metadata": {},
   "outputs": [],
   "source": [
    "eng_stopwords = stopwords.words('english')\n",
    "eng_words = words.words()"
   ]
  },
  {
   "cell_type": "code",
   "execution_count": 31,
   "metadata": {},
   "outputs": [],
   "source": [
    "documentAssembler = DocumentAssembler() \\\n",
    "     .setInputCol('Article') \\\n",
    "     .setOutputCol('Articles')\n",
    "\n",
    "tokenizer = Tokenizer() \\\n",
    "     .setInputCols(['Articles']) \\\n",
    "     .setOutputCol('token')\n",
    "\n",
    "normalizer = Normalizer() \\\n",
    "     .setInputCols(['token']) \\\n",
    "     .setOutputCol('normalized') \\\n",
    "     .setLowercase(True)\n",
    "\n",
    "lemmatizer = Lemmatizer() \\\n",
    "     .setInputCols(['normalized']) \\\n",
    "     .setOutputCol('lemma') \\\n",
    "     .setDictionary(\"AntBNC_lemmas_ver_001.txt\", \"->\", \"\\t\")\n",
    "\n",
    "stopwords_cleaner = StopWordsCleaner() \\\n",
    "     .setInputCols(['lemma']) \\\n",
    "     .setOutputCol('clean_lemma') \\\n",
    "     .setCaseSensitive(False) \\\n",
    "     .setStopWords(eng_stopwords)\n",
    "\n",
    "finisher = Finisher() \\\n",
    "     .setInputCols(['clean_lemma']) \\\n",
    "     .setCleanAnnotations(False)"
   ]
  },
  {
   "cell_type": "code",
   "execution_count": 32,
   "metadata": {},
   "outputs": [],
   "source": [
    "pipeline = Pipeline() \\\n",
    "     .setStages([\n",
    "           documentAssembler,\n",
    "           tokenizer,\n",
    "           normalizer,\n",
    "           # lemmatizer,\n",
    "           # stopwords_cleaner,\n",
    "           # finisher\n",
    "     ])"
   ]
  },
  {
   "cell_type": "code",
   "execution_count": 33,
   "metadata": {},
   "outputs": [],
   "source": [
    "df.to_csv('NCSC Reports.csv')"
   ]
  },
  {
   "cell_type": "code",
   "execution_count": 34,
   "metadata": {
    "scrolled": true
   },
   "outputs": [],
   "source": [
    "#df = sparknlp.read.format(\"NCSC Reports.csv\", format=\"csv\", header=\"true\")\n",
    "# df = sparknlp.sql(\"SELECT * FROM csv.`NCSC Reports.csv`\")\n",
    "dfs = sparknlp.read.load(\"NCSC Reports.csv\",format='csv', header = \"true\")"
   ]
  },
  {
   "cell_type": "code",
   "execution_count": 35,
   "metadata": {},
   "outputs": [
    {
     "name": "stdout",
     "output_type": "stream",
     "text": [
      "root\n",
      " |-- _c0: string (nullable = true)\n",
      " |-- Unnamed: 0: string (nullable = true)\n",
      " |-- Title: string (nullable = true)\n",
      " |-- Article: string (nullable = true)\n",
      " |-- topics: string (nullable = true)\n",
      " |-- Links: string (nullable = true)\n",
      "\n"
     ]
    }
   ],
   "source": [
    "dfs.printSchema()"
   ]
  },
  {
   "cell_type": "code",
   "execution_count": 36,
   "metadata": {},
   "outputs": [
    {
     "data": {
      "text/html": [
       "<div>\n",
       "<style scoped>\n",
       "    .dataframe tbody tr th:only-of-type {\n",
       "        vertical-align: middle;\n",
       "    }\n",
       "\n",
       "    .dataframe tbody tr th {\n",
       "        vertical-align: top;\n",
       "    }\n",
       "\n",
       "    .dataframe thead th {\n",
       "        text-align: right;\n",
       "    }\n",
       "</style>\n",
       "<table border=\"1\" class=\"dataframe\">\n",
       "  <thead>\n",
       "    <tr style=\"text-align: right;\">\n",
       "      <th></th>\n",
       "      <th>_c0</th>\n",
       "      <th>Unnamed: 0</th>\n",
       "      <th>Title</th>\n",
       "      <th>Article</th>\n",
       "      <th>topics</th>\n",
       "      <th>Links</th>\n",
       "    </tr>\n",
       "  </thead>\n",
       "  <tbody>\n",
       "    <tr>\n",
       "      <th>0</th>\n",
       "      <td>0</td>\n",
       "      <td>0</td>\n",
       "      <td>23rd April 2021</td>\n",
       "      <td>['The NCSC is aware that a malicious piece of ...</td>\n",
       "      <td>['Cyber attack', 'Cyber strategy', 'Education'...</td>\n",
       "      <td>https://www.ncsc.gov.uk/report/weekly-threat-r...</td>\n",
       "    </tr>\n",
       "    <tr>\n",
       "      <th>1</th>\n",
       "      <td>1</td>\n",
       "      <td>1</td>\n",
       "      <td>16th April 2021</td>\n",
       "      <td>['Cyber security researchers have uncovered a ...</td>\n",
       "      <td>['Cyber strategy', 'Patching', 'Vulnerabilities']</td>\n",
       "      <td>https://www.ncsc.gov.uk/report/weekly-threat-r...</td>\n",
       "    </tr>\n",
       "    <tr>\n",
       "      <th>2</th>\n",
       "      <td>2</td>\n",
       "      <td>2</td>\n",
       "      <td>12th April 2021</td>\n",
       "      <td>['Cyber security researchers, Esentire, have w...</td>\n",
       "      <td>['Phishing', 'Social media', 'Personal data', ...</td>\n",
       "      <td>https://www.ncsc.gov.uk/report/weekly-threat-r...</td>\n",
       "    </tr>\n",
       "    <tr>\n",
       "      <th>3</th>\n",
       "      <td>3</td>\n",
       "      <td>3</td>\n",
       "      <td>2nd April 2021</td>\n",
       "      <td>['The UK education sector continues to face an...</td>\n",
       "      <td>['Education', 'Incident management', 'Secure d...</td>\n",
       "      <td>https://www.ncsc.gov.uk/report/weekly-threat-r...</td>\n",
       "    </tr>\n",
       "    <tr>\n",
       "      <th>4</th>\n",
       "      <td>4</td>\n",
       "      <td>4</td>\n",
       "      <td>26th March 2021</td>\n",
       "      <td>['Earlier this month Microsoft confirmed that ...</td>\n",
       "      <td>['Cyber attack', 'Education', 'Mitigation', 'P...</td>\n",
       "      <td>https://www.ncsc.gov.uk/report/weekly-threat-r...</td>\n",
       "    </tr>\n",
       "    <tr>\n",
       "      <th>5</th>\n",
       "      <td>5</td>\n",
       "      <td>5</td>\n",
       "      <td>19th March 2021</td>\n",
       "      <td>['Courier service company Fastway said this we...</td>\n",
       "      <td>['Cyber attack', 'Personal data', 'Phishing', ...</td>\n",
       "      <td>https://www.ncsc.gov.uk/report/weekly-threat-r...</td>\n",
       "    </tr>\n",
       "    <tr>\n",
       "      <th>6</th>\n",
       "      <td>6</td>\n",
       "      <td>6</td>\n",
       "      <td>12th March 2021</td>\n",
       "      <td>['There has been a rise in vulnerability repor...</td>\n",
       "      <td>['Cyber threat', 'Risk management', 'Vulnerabi...</td>\n",
       "      <td>https://www.ncsc.gov.uk/report/weekly-threat-r...</td>\n",
       "    </tr>\n",
       "    <tr>\n",
       "      <th>7</th>\n",
       "      <td>7</td>\n",
       "      <td>7</td>\n",
       "      <td>5th March 2021</td>\n",
       "      <td>['Microsoft has released a number of security ...</td>\n",
       "      <td>['Cyber threat', 'Patching', 'Personal data', ...</td>\n",
       "      <td>https://www.ncsc.gov.uk/report/weekly-threat-r...</td>\n",
       "    </tr>\n",
       "    <tr>\n",
       "      <th>8</th>\n",
       "      <td>8</td>\n",
       "      <td>8</td>\n",
       "      <td>26th February 2021</td>\n",
       "      <td>['VMware have released security updates to add...</td>\n",
       "      <td>['Cyber attack', 'Vulnerabilities']</td>\n",
       "      <td>https://www.ncsc.gov.uk/report/weekly-threat-r...</td>\n",
       "    </tr>\n",
       "    <tr>\n",
       "      <th>9</th>\n",
       "      <td>9</td>\n",
       "      <td>9</td>\n",
       "      <td>19th February 2021</td>\n",
       "      <td>['Scam emails, which aim to convince people to...</td>\n",
       "      <td>['Cyber attack', 'Personal data', 'Phishing', ...</td>\n",
       "      <td>https://www.ncsc.gov.uk/report/weekly-threat-r...</td>\n",
       "    </tr>\n",
       "  </tbody>\n",
       "</table>\n",
       "</div>"
      ],
      "text/plain": [
       "  _c0 Unnamed: 0               Title  \\\n",
       "0   0          0     23rd April 2021   \n",
       "1   1          1     16th April 2021   \n",
       "2   2          2     12th April 2021   \n",
       "3   3          3      2nd April 2021   \n",
       "4   4          4     26th March 2021   \n",
       "5   5          5     19th March 2021   \n",
       "6   6          6     12th March 2021   \n",
       "7   7          7      5th March 2021   \n",
       "8   8          8  26th February 2021   \n",
       "9   9          9  19th February 2021   \n",
       "\n",
       "                                             Article  \\\n",
       "0  ['The NCSC is aware that a malicious piece of ...   \n",
       "1  ['Cyber security researchers have uncovered a ...   \n",
       "2  ['Cyber security researchers, Esentire, have w...   \n",
       "3  ['The UK education sector continues to face an...   \n",
       "4  ['Earlier this month Microsoft confirmed that ...   \n",
       "5  ['Courier service company Fastway said this we...   \n",
       "6  ['There has been a rise in vulnerability repor...   \n",
       "7  ['Microsoft has released a number of security ...   \n",
       "8  ['VMware have released security updates to add...   \n",
       "9  ['Scam emails, which aim to convince people to...   \n",
       "\n",
       "                                              topics  \\\n",
       "0  ['Cyber attack', 'Cyber strategy', 'Education'...   \n",
       "1  ['Cyber strategy', 'Patching', 'Vulnerabilities']   \n",
       "2  ['Phishing', 'Social media', 'Personal data', ...   \n",
       "3  ['Education', 'Incident management', 'Secure d...   \n",
       "4  ['Cyber attack', 'Education', 'Mitigation', 'P...   \n",
       "5  ['Cyber attack', 'Personal data', 'Phishing', ...   \n",
       "6  ['Cyber threat', 'Risk management', 'Vulnerabi...   \n",
       "7  ['Cyber threat', 'Patching', 'Personal data', ...   \n",
       "8                ['Cyber attack', 'Vulnerabilities']   \n",
       "9  ['Cyber attack', 'Personal data', 'Phishing', ...   \n",
       "\n",
       "                                               Links  \n",
       "0  https://www.ncsc.gov.uk/report/weekly-threat-r...  \n",
       "1  https://www.ncsc.gov.uk/report/weekly-threat-r...  \n",
       "2  https://www.ncsc.gov.uk/report/weekly-threat-r...  \n",
       "3  https://www.ncsc.gov.uk/report/weekly-threat-r...  \n",
       "4  https://www.ncsc.gov.uk/report/weekly-threat-r...  \n",
       "5  https://www.ncsc.gov.uk/report/weekly-threat-r...  \n",
       "6  https://www.ncsc.gov.uk/report/weekly-threat-r...  \n",
       "7  https://www.ncsc.gov.uk/report/weekly-threat-r...  \n",
       "8  https://www.ncsc.gov.uk/report/weekly-threat-r...  \n",
       "9  https://www.ncsc.gov.uk/report/weekly-threat-r...  "
      ]
     },
     "execution_count": 36,
     "metadata": {},
     "output_type": "execute_result"
    }
   ],
   "source": [
    "pd.DataFrame(dfs.take(10), columns=dfs.columns)"
   ]
  },
  {
   "cell_type": "code",
   "execution_count": 37,
   "metadata": {},
   "outputs": [],
   "source": [
    "# conda install -c cyclus java-jdk "
   ]
  },
  {
   "cell_type": "code",
   "execution_count": 39,
   "metadata": {},
   "outputs": [],
   "source": [
    "NCSC_pipeline = pipeline.fit(dfs).transform(dfs)"
   ]
  },
  {
   "cell_type": "code",
   "execution_count": 40,
   "metadata": {},
   "outputs": [
    {
     "data": {
      "text/plain": [
       "['_c0',\n",
       " 'Unnamed: 0',\n",
       " 'Title',\n",
       " 'Article',\n",
       " 'topics',\n",
       " 'Links',\n",
       " 'Articles',\n",
       " 'token',\n",
       " 'normalized']"
      ]
     },
     "execution_count": 40,
     "metadata": {},
     "output_type": "execute_result"
    }
   ],
   "source": [
    "NCSC_pipeline.columns"
   ]
  },
  {
   "cell_type": "code",
   "execution_count": 41,
   "metadata": {},
   "outputs": [],
   "source": [
    "from pyspark.sql.functions import explode, col\n"
   ]
  },
  {
   "cell_type": "code",
   "execution_count": 44,
   "metadata": {},
   "outputs": [
    {
     "ename": "NameError",
     "evalue": "name 'NCSC_pipeline_words' is not defined",
     "output_type": "error",
     "traceback": [
      "\u001b[1;31m---------------------------------------------------------------------------\u001b[0m",
      "\u001b[1;31mNameError\u001b[0m                                 Traceback (most recent call last)",
      "\u001b[1;32m<ipython-input-44-af44b0a73578>\u001b[0m in \u001b[0;36m<module>\u001b[1;34m\u001b[0m\n\u001b[1;32m----> 1\u001b[1;33m NCSC_pipeline_words = NCSC_pipeline_words.withColumn('exploded_text', \n\u001b[0m\u001b[0;32m      2\u001b[0m                                explode(col('finished_clean_lemma')))\n",
      "\u001b[1;31mNameError\u001b[0m: name 'NCSC_pipeline_words' is not defined"
     ]
    }
   ],
   "source": [
    "NCSC_pipeline_words = NCSC_pipeline_words.withColumn('exploded_text', \n",
    "                               explode(col('finished_clean_lemma')))"
   ]
  },
  {
   "cell_type": "code",
   "execution_count": null,
   "metadata": {},
   "outputs": [],
   "source": [
    "counts = NCSC_pipeline_words.groupby('exploded_text').count()\n",
    "counts_pd = counts.toPandas()\n",
    "NCSC_pipeline_dict = {counts_pd.loc[i, 'exploded_text']: \n",
    "                counts_pd.loc[i, 'count'] \n",
    "                for i in range(counts_pd.shape[0])}"
   ]
  },
  {
   "cell_type": "markdown",
   "metadata": {},
   "source": [
    "**TF-IDF**"
   ]
  },
  {
   "cell_type": "code",
   "execution_count": 46,
   "metadata": {},
   "outputs": [],
   "source": [
    "Dates = df['Title'].tolist()"
   ]
  },
  {
   "cell_type": "code",
   "execution_count": 51,
   "metadata": {},
   "outputs": [],
   "source": [
    "report_counts_dict = {date: {} for date in Dates}"
   ]
  },
  {
   "cell_type": "code",
   "execution_count": null,
   "metadata": {},
   "outputs": [],
   "source": [
    "for date in Dates:\n",
    "    # print(date)\n",
    "    date_df = dfs.filter((dfs['Title'] == date) & (dfs['Article'].isNull() == False))\n",
    "    data = date_df.select('Article')\n",
    "    \n",
    "    # process narratives into counts dictionary\n",
    "    clean_data = pipeline.fit(data).transform(data)\n",
    "    clean_data_exploded = clean_data.withColumn(\"exploded_text\", explode(col(\"finished_clean_lemma\")))\n",
    "    counts = clean_data_exploded.groupby('exploded_text').count().toPandas()\n",
    "    counts_dict = {counts.loc[i, 'exploded_text']: counts.loc[i, 'count'] for i in range(counts.shape[0])}\n",
    "    \n",
    "    # add counts to dictionary\n",
    "    report_counts_dict[date] = counts_dict"
   ]
  },
  {
   "cell_type": "code",
   "execution_count": 45,
   "metadata": {},
   "outputs": [],
   "source": [
    "def term_frequency(BoW_dict):\n",
    "    tot_words = sum(BoW_dict.values())\n",
    "    freq_dict = {word: BoW_dict[word]/tot_words for word in BoW_dict.keys()}\n",
    "    return freq_dict\n",
    "        \n",
    "from math import log\n",
    "\n",
    "def inverse_document_frequency(list_of_dicts):\n",
    "    tot_docs = len(list_of_dicts)\n",
    "    words = set([w for w_dict in list_of_dicts for w in w_dict.keys()])\n",
    "    idf_dict = {word: log(float(tot_docs)/(1.0 + sum([1 for w_dict in list_of_dicts if word in w_dict.keys()]))) for word in words}\n",
    "    return idf_dict\n",
    "\n",
    "def tf_idf(list_of_dicts):\n",
    "    words = set([w for w_dict in list_of_dicts for w in w_dict.keys()]) \n",
    "    tf_idf_dicts = []\n",
    "    idfs = inverse_document_frequency(list_of_dicts)\n",
    "    for i, w_dict in enumerate(list_of_dicts):\n",
    "        w_dict.update({word: 0 for word in words if word not in w_dict.keys()})\n",
    "        tf = term_frequency(w_dict)\n",
    "        tf_idf_dicts.append({word: tf[word]*idfs[word] for word in words})\n",
    "    return tf_idf_dicts"
   ]
  },
  {
   "cell_type": "code",
   "execution_count": null,
   "metadata": {},
   "outputs": [],
   "source": [
    "list_of_word_dicts = [report_counts_dict[date] for date in Dates]\n",
    "tf_idf_by_date_list = tf_idf(list_of_word_dicts)\n",
    "tf_idf_by_date_dict = {c: tf_dict for c, tf_dict in zip(Dates, tf_idf_by_date_list)}"
   ]
  },
  {
   "cell_type": "code",
   "execution_count": null,
   "metadata": {},
   "outputs": [],
   "source": [
    "z = np.zeros((221,2))\n",
    "op = pd.DataFrame(z)\n",
    "op.columns = ['Date', 'Words']"
   ]
  },
  {
   "cell_type": "code",
   "execution_count": null,
   "metadata": {},
   "outputs": [],
   "source": [
    "for num, date in enumerate(Dates[0:220]):\n",
    "    words=[]\n",
    "    print (\"\\n\", date)\n",
    "    tf_idf_dict = tf_idf_by_date_dict[date]\n",
    "    t10 = heapq.nlargest(10, tf_idf_dict, key=tf_idf_dict.get)\n",
    "    t10 = {word: tf_idf_dict[word] for word in t10}\n",
    "    t10 = [(k, v) for k, v in zip(t10.keys(), t10.values())]\n",
    "    t10 = sorted(t10, key=lambda x: x[1], reverse=True)\n",
    "    \n",
    "    counter = 0\n",
    "    for word, tfidf in t10:\n",
    "        if counter < 10:\n",
    "            if word in eng_words:\n",
    "                counter= counter+ 1\n",
    "                print (word, tfidf)\n",
    "                words.append(word)\n",
    "    op.iloc[i,1] = words"
   ]
  }
 ],
 "metadata": {
  "kernelspec": {
   "display_name": "Python 3",
   "language": "python",
   "name": "python3"
  },
  "language_info": {
   "codemirror_mode": {
    "name": "ipython",
    "version": 3
   },
   "file_extension": ".py",
   "mimetype": "text/x-python",
   "name": "python",
   "nbconvert_exporter": "python",
   "pygments_lexer": "ipython3",
   "version": "3.8.3"
  }
 },
 "nbformat": 4,
 "nbformat_minor": 4
}
