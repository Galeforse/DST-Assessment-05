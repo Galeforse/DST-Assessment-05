{
 "cells": [
  {
   "cell_type": "code",
   "execution_count": 1,
   "metadata": {},
   "outputs": [],
   "source": [
    "import findspark\n",
    "findspark.init()"
   ]
  },
  {
   "cell_type": "code",
   "execution_count": 2,
   "metadata": {},
   "outputs": [
    {
     "name": "stdout",
     "output_type": "stream",
     "text": [
      "<property object at 0x000001A614F7A5E0>\n"
     ]
    }
   ],
   "source": [
    "from pyspark import SparkContext\n",
    "print(SparkContext.version)"
   ]
  },
  {
   "cell_type": "code",
   "execution_count": 3,
   "metadata": {},
   "outputs": [],
   "source": [
    "sc = SparkContext()"
   ]
  },
  {
   "cell_type": "code",
   "execution_count": 4,
   "metadata": {},
   "outputs": [
    {
     "data": {
      "text/html": [
       "\n",
       "        <div>\n",
       "            <p><b>SparkContext</b></p>\n",
       "\n",
       "            <p><a href=\"http://DESKTOP-J9F2R8O:4040\">Spark UI</a></p>\n",
       "\n",
       "            <dl>\n",
       "              <dt>Version</dt>\n",
       "                <dd><code>v3.1.1</code></dd>\n",
       "              <dt>Master</dt>\n",
       "                <dd><code>local[*]</code></dd>\n",
       "              <dt>AppName</dt>\n",
       "                <dd><code>pyspark-shell</code></dd>\n",
       "            </dl>\n",
       "        </div>\n",
       "        "
      ],
      "text/plain": [
       "<SparkContext master=local[*] appName=pyspark-shell>"
      ]
     },
     "execution_count": 4,
     "metadata": {},
     "output_type": "execute_result"
    }
   ],
   "source": [
    "sc"
   ]
  },
  {
   "cell_type": "code",
   "execution_count": 68,
   "metadata": {},
   "outputs": [],
   "source": [
    "import pickle\n",
    "from urllib.request import urlopen\n",
    "import os\n",
    "import pandas as pd\n",
    "import numpy as np\n",
    "import gensim\n",
    "import pickle\n",
    "import matplotlib.pyplot as plt"
   ]
  },
  {
   "cell_type": "code",
   "execution_count": 6,
   "metadata": {},
   "outputs": [],
   "source": [
    "os.chdir(\"D://Datasets\")"
   ]
  },
  {
   "cell_type": "code",
   "execution_count": 7,
   "metadata": {},
   "outputs": [],
   "source": [
    "df = pd.read_csv('https://raw.githubusercontent.com/Galeforse/DST-Assessment-05/main/Data/NCSC%20Reports.csv')"
   ]
  },
  {
   "cell_type": "code",
   "execution_count": 8,
   "metadata": {},
   "outputs": [
    {
     "data": {
      "text/html": [
       "<div>\n",
       "<style scoped>\n",
       "    .dataframe tbody tr th:only-of-type {\n",
       "        vertical-align: middle;\n",
       "    }\n",
       "\n",
       "    .dataframe tbody tr th {\n",
       "        vertical-align: top;\n",
       "    }\n",
       "\n",
       "    .dataframe thead th {\n",
       "        text-align: right;\n",
       "    }\n",
       "</style>\n",
       "<table border=\"1\" class=\"dataframe\">\n",
       "  <thead>\n",
       "    <tr style=\"text-align: right;\">\n",
       "      <th></th>\n",
       "      <th>Unnamed: 0</th>\n",
       "      <th>Title</th>\n",
       "      <th>Article</th>\n",
       "      <th>topics</th>\n",
       "      <th>Links</th>\n",
       "    </tr>\n",
       "  </thead>\n",
       "  <tbody>\n",
       "    <tr>\n",
       "      <th>0</th>\n",
       "      <td>0</td>\n",
       "      <td>23rd April 2021</td>\n",
       "      <td>['The NCSC is aware that a malicious piece of ...</td>\n",
       "      <td>['Cyber attack', 'Cyber strategy', 'Education'...</td>\n",
       "      <td>https://www.ncsc.gov.uk/report/weekly-threat-r...</td>\n",
       "    </tr>\n",
       "    <tr>\n",
       "      <th>1</th>\n",
       "      <td>1</td>\n",
       "      <td>16th April 2021</td>\n",
       "      <td>['Cyber security researchers have uncovered a ...</td>\n",
       "      <td>['Cyber strategy', 'Patching', 'Vulnerabilities']</td>\n",
       "      <td>https://www.ncsc.gov.uk/report/weekly-threat-r...</td>\n",
       "    </tr>\n",
       "    <tr>\n",
       "      <th>2</th>\n",
       "      <td>2</td>\n",
       "      <td>12th April 2021</td>\n",
       "      <td>['Cyber security researchers, Esentire, have w...</td>\n",
       "      <td>['Phishing', 'Social media', 'Personal data', ...</td>\n",
       "      <td>https://www.ncsc.gov.uk/report/weekly-threat-r...</td>\n",
       "    </tr>\n",
       "    <tr>\n",
       "      <th>3</th>\n",
       "      <td>3</td>\n",
       "      <td>2nd April 2021</td>\n",
       "      <td>['The UK education sector continues to face an...</td>\n",
       "      <td>['Education', 'Incident management', 'Secure d...</td>\n",
       "      <td>https://www.ncsc.gov.uk/report/weekly-threat-r...</td>\n",
       "    </tr>\n",
       "    <tr>\n",
       "      <th>4</th>\n",
       "      <td>4</td>\n",
       "      <td>26th March 2021</td>\n",
       "      <td>['Earlier this month Microsoft confirmed that ...</td>\n",
       "      <td>['Cyber attack', 'Education', 'Mitigation', 'P...</td>\n",
       "      <td>https://www.ncsc.gov.uk/report/weekly-threat-r...</td>\n",
       "    </tr>\n",
       "  </tbody>\n",
       "</table>\n",
       "</div>"
      ],
      "text/plain": [
       "   Unnamed: 0            Title  \\\n",
       "0           0  23rd April 2021   \n",
       "1           1  16th April 2021   \n",
       "2           2  12th April 2021   \n",
       "3           3   2nd April 2021   \n",
       "4           4  26th March 2021   \n",
       "\n",
       "                                             Article  \\\n",
       "0  ['The NCSC is aware that a malicious piece of ...   \n",
       "1  ['Cyber security researchers have uncovered a ...   \n",
       "2  ['Cyber security researchers, Esentire, have w...   \n",
       "3  ['The UK education sector continues to face an...   \n",
       "4  ['Earlier this month Microsoft confirmed that ...   \n",
       "\n",
       "                                              topics  \\\n",
       "0  ['Cyber attack', 'Cyber strategy', 'Education'...   \n",
       "1  ['Cyber strategy', 'Patching', 'Vulnerabilities']   \n",
       "2  ['Phishing', 'Social media', 'Personal data', ...   \n",
       "3  ['Education', 'Incident management', 'Secure d...   \n",
       "4  ['Cyber attack', 'Education', 'Mitigation', 'P...   \n",
       "\n",
       "                                               Links  \n",
       "0  https://www.ncsc.gov.uk/report/weekly-threat-r...  \n",
       "1  https://www.ncsc.gov.uk/report/weekly-threat-r...  \n",
       "2  https://www.ncsc.gov.uk/report/weekly-threat-r...  \n",
       "3  https://www.ncsc.gov.uk/report/weekly-threat-r...  \n",
       "4  https://www.ncsc.gov.uk/report/weekly-threat-r...  "
      ]
     },
     "execution_count": 8,
     "metadata": {},
     "output_type": "execute_result"
    }
   ],
   "source": [
    "df.head()"
   ]
  },
  {
   "cell_type": "code",
   "execution_count": 9,
   "metadata": {},
   "outputs": [
    {
     "name": "stdout",
     "output_type": "stream",
     "text": [
      "(221, 5)\n"
     ]
    }
   ],
   "source": [
    "print(np.shape(df))"
   ]
  },
  {
   "cell_type": "code",
   "execution_count": 10,
   "metadata": {},
   "outputs": [
    {
     "data": {
      "text/plain": [
       "\"['Earlier this month Microsoft confirmed that sophisticated actors had attacked a number of Exchange servers and have released multiple security updates since.\\\\nThe NCSC is strongly urging any organisation using affected versions to proactively search their system for evidence of compromise, in line with Microsoft guidance.\\\\nOur alert was updated last week with the most recent advice and guidance.', 'A new report has revealed that almost 40% of UK businesses experienced a cyber attack last year.', 'The Cyber Security Breaches Survey 2021 report, published by the Department of Digital, Culture, Media and Sport (DCMS), also revealed that a quarter of charities have suffered a cyber security breach or attack in the past 12 months.', 'The NCSC has produced guidance to address some of the most common breaches and attacks identified in the report:\\\\nphishing emails\\\\nviruses\\\\nransomware\\\\nWhere a breach has resulted in a loss of data or assets, the average cost of a cyber attack on a business is £8,460. This figure rises to £13,400 for medium and large businesses.\\\\nThe report also shows the cyber risk to organisations is heightened because of the pandemic, which has made securing digital environments more challenging as resources are diverted to facilitate remote working for staff.\\\\nThe NCSC encourages businesses, charities, and educational institutions to take advantage of free cyber security guidance, such as the secure use of video conferencing, secure home working and how to move your business from physical to digital.', 'A new report from the Learning & Work Institute shows that young people and employers recognise that basic digital skills are vital and the demand for advanced digital skills is only set to increase. It also shows that investment in digital training and re-training in the UK has been decreasing.\\\\nThe same report also reveals that student numbers enrolled on ICT or computer science courses has dropped and digital apprenticeship numbers have remained static over the last 5 years. There also remains a gap between male and female students in gaining digital skills and a career in cyber security.\\\\nThe NCSC has a number of initiatives under CyberFirst to encourage and interest students in exploring a career in cyber security;\\\\nfree courses for 11 – 17 year olds\\\\nBursary and Degree apprenticeship\\\\nAnnual Girls Competition', 'On Tuesday (23 March) this week, the NCSC issued an alert to the education sector warning of a sharp rise in ransomware attacks on schools, colleges, and universities since late February.\\\\nEach attack caused varying levels of disruption, and in some cases these incidents have led to the loss of student coursework, school financial records, and coronavirus testing data.\\\\nIn recent incidents, the NCSC has observed malicious actors targeting vulnerabilities related to:\\\\nRemote Desktop Protocol (RDP) configurations;\\\\nVPN vulnerabilities\\\\nunpatched software \\\\nunsecured devices\\\\nphishing emails\\\\nAlongside details of the threat, the alert highlights steps organisations should take to disrupt attack vectors and enable effective recovery from ransomware attacks.']\""
      ]
     },
     "execution_count": 10,
     "metadata": {},
     "output_type": "execute_result"
    }
   ],
   "source": [
    "df.iloc[4,2]"
   ]
  },
  {
   "cell_type": "code",
   "execution_count": 11,
   "metadata": {},
   "outputs": [],
   "source": [
    "import nltk\n",
    "from nltk.corpus import stopwords"
   ]
  },
  {
   "cell_type": "code",
   "execution_count": 32,
   "metadata": {},
   "outputs": [
    {
     "data": {
      "text/plain": [
       "180"
      ]
     },
     "execution_count": 32,
     "metadata": {},
     "output_type": "execute_result"
    }
   ],
   "source": [
    "l1 = stopwords.words('english')\n",
    "l2 = ['have', 'with', 'cannot', 'all', 'more', 'less', 'fewer', 'if', 'from', 'new', 'old', 'be', 'This']\n",
    "l1.append(l2)\n",
    "lst1 = [' {} '.format(x) for x in l1]\n",
    "\n",
    "len(lst1)"
   ]
  },
  {
   "cell_type": "code",
   "execution_count": 25,
   "metadata": {},
   "outputs": [],
   "source": [
    "df['Article'].replace(lst1, \" \", regex=True, inplace=True)\n",
    "df['Article'].replace(r'[^\\w\\s]', \" \", regex=True, inplace=True)\n",
    "df['Article'].replace('[0-9999999999]', \" \", regex=True, inplace=True)"
   ]
  },
  {
   "cell_type": "code",
   "execution_count": 26,
   "metadata": {},
   "outputs": [
    {
     "data": {
      "text/plain": [
       "'  Earlier month Microsoft confirmed sophisticated actors attacked number Exchange servers released multiple security updates since  nThe NCSC strongly urging organisation using affected versions proactively search system evidence compromise  line Microsoft guidance  nOur alert updated last week recent advice guidance   A new report revealed almost   UK businesses experienced cyber attack last year   The Cyber Security Breaches Survey  report  published Department Digital  Culture  Media Sport  DCMS also revealed quarter charities suffered cyber security breach attack past  months   The NCSC produced guidance address common breaches attacks identified report  nphishing emails nviruses nransomware nWhere breach resulted loss data assets  average cost cyber attack business   This figure rises   medium large businesses  nThe report also shows cyber risk organisations heightened pandemic  made securing digital environments challenging resources diverted facilitate remote working staff  nThe NCSC encourages businesses  charities  educational institutions take advantage free cyber security guidance  secure use video conferencing  secure home working move business physical digital   A new report Learning Work Institute shows young people employers recognise basic digital skills vital demand advanced digital skills set increase  It also shows investment digital training training UK decreasing  nThe report also reveals student numbers enrolled ICT computer science courses dropped digital apprenticeship numbers remained static last years  There also remains gap male female students gaining digital skills career cyber security  nThe NCSC number initiatives CyberFirst encourage interest students exploring career cyber security  nfree courses   year olds nBursary Degree apprenticeship nAnnual Girls Competition  On Tuesday   March  week  NCSC issued alert education sector warning sharp rise ransomware attacks schools  colleges  universities since late February  nEach attack caused varying levels disruption  cases incidents led loss student coursework  school financial records  coronavirus testing data  nIn recent incidents  NCSC observed malicious actors targeting vulnerabilities related  nRemote Desktop Protocol  RDP  configurations  nVPN vulnerabilities nunpatched software  nunsecured devices nphishing emails nAlongside details threat  alert highlights steps organisations take disrupt attack vectors enable effective recovery ransomware attacks '"
      ]
     },
     "execution_count": 26,
     "metadata": {},
     "output_type": "execute_result"
    }
   ],
   "source": [
    "df.iloc[4,2]"
   ]
  },
  {
   "cell_type": "code",
   "execution_count": 27,
   "metadata": {},
   "outputs": [],
   "source": [
    "w_tokenizer = nltk.tokenize.WhitespaceTokenizer()\n",
    "lemmatizer = nltk.stem.WordNetLemmatizer()"
   ]
  },
  {
   "cell_type": "code",
   "execution_count": 28,
   "metadata": {},
   "outputs": [],
   "source": [
    "# nltk.download('wordnet')\n",
    "def lemmatize_text(text):\n",
    "    return [lemmatizer.lemmatize(w) for w in w_tokenizer.tokenize(text)]"
   ]
  },
  {
   "cell_type": "code",
   "execution_count": 29,
   "metadata": {},
   "outputs": [],
   "source": [
    "df_lem = df['Article'].apply(lemmatize_text)"
   ]
  },
  {
   "cell_type": "code",
   "execution_count": 30,
   "metadata": {},
   "outputs": [
    {
     "data": {
      "text/plain": [
       "0      [The, NCSC, aware, malicious, piece, spyware, ...\n",
       "1      [Cyber, security, researcher, uncovered, serie...\n",
       "2      [Cyber, security, researcher, Esentire, warned...\n",
       "3      [The, UK, education, sector, continues, face, ...\n",
       "4      [Earlier, month, Microsoft, confirmed, sophist...\n",
       "                             ...                        \n",
       "216    [Malware, infected, ATMs, compromise, Indian, ...\n",
       "217    [Threat, assessment, trend, analysis, nOnline,...\n",
       "218    [New, Trojan, used, financial, attack, nSymant...\n",
       "219    [Threat, assessment, trend, analysis, nDressco...\n",
       "220    [Threat, assessment, trend, analysis, nYahoo, ...\n",
       "Name: Article, Length: 221, dtype: object"
      ]
     },
     "execution_count": 30,
     "metadata": {},
     "output_type": "execute_result"
    }
   ],
   "source": [
    "df_lem"
   ]
  },
  {
   "cell_type": "code",
   "execution_count": 33,
   "metadata": {},
   "outputs": [],
   "source": [
    "df_lem_list = df_lem.values.tolist()"
   ]
  },
  {
   "cell_type": "code",
   "execution_count": 52,
   "metadata": {},
   "outputs": [
    {
     "data": {
      "text/plain": [
       "[['NCSC',\n",
       "  'aware',\n",
       "  'malicious',\n",
       "  'piece',\n",
       "  'spyware',\n",
       "  'known',\n",
       "  'FluBot',\n",
       "  'affecting',\n",
       "  'Android',\n",
       "  'phone',\n",
       "  'device',\n",
       "  'across',\n",
       "  'UK',\n",
       "  'spyware',\n",
       "  'installed',\n",
       "  'victim',\n",
       "  'receives',\n",
       "  'message',\n",
       "  'asking',\n",
       "  'install',\n",
       "  'tracking',\n",
       "  'missed',\n",
       "  'package',\n",
       "  'delivery',\n",
       "  'nScammers',\n",
       "  'cyber',\n",
       "  'criminal',\n",
       "  'regularly',\n",
       "  'exploit',\n",
       "  'known',\n",
       "  'trusted',\n",
       "  'brand',\n",
       "  'personal',\n",
       "  'FluBot',\n",
       "  'campaign',\n",
       "  'prime',\n",
       "  'example',\n",
       "  'nAndroid',\n",
       "  'urged',\n",
       "  'familiarise',\n",
       "  'guidance',\n",
       "  'vigilant',\n",
       "  'suspicious',\n",
       "  'looking',\n",
       "  'message',\n",
       "  'forwarded',\n",
       "  'Earlier',\n",
       "  'FireEye',\n",
       "  'published',\n",
       "  'saying',\n",
       "  'APT',\n",
       "  'actor',\n",
       "  'actively',\n",
       "  'exploiting',\n",
       "  'vulnerability',\n",
       "  'Pulse',\n",
       "  'Connect',\n",
       "  'VPN',\n",
       "  'appliance',\n",
       "  'follows',\n",
       "  'security',\n",
       "  'update',\n",
       "  'Pulse',\n",
       "  'Secure',\n",
       "  'recently',\n",
       "  'discovered',\n",
       "  'limited',\n",
       "  'number',\n",
       "  'customer',\n",
       "  'experienced',\n",
       "  'evidence',\n",
       "  'exploit',\n",
       "  'behaviour',\n",
       "  'Pulse',\n",
       "  'Connect',\n",
       "  'Secure',\n",
       "  'PCS',\n",
       "  'appliance',\n",
       "  'NCSC',\n",
       "  'aware',\n",
       "  'unauthenticated',\n",
       "  'remote',\n",
       "  'execution',\n",
       "  'vulnerability',\n",
       "  'affecting',\n",
       "  'Pulse',\n",
       "  'Connect',\n",
       "  'Secure',\n",
       "  'PCS',\n",
       "  'version',\n",
       "  'R',\n",
       "  'higher',\n",
       "  'CVE',\n",
       "  'published',\n",
       "  'advice',\n",
       "  'UK',\n",
       "  'organisation',\n",
       "  'using',\n",
       "  'PCS',\n",
       "  'VPN',\n",
       "  'appliance',\n",
       "  'international',\n",
       "  'partner',\n",
       "  'Department',\n",
       "  'Homeland',\n",
       "  'Security',\n",
       "  'DHS',\n",
       "  'Cybersecurity',\n",
       "  'Infrastructure',\n",
       "  'Security',\n",
       "  'Agency',\n",
       "  'CISA',\n",
       "  'published',\n",
       "  'Emergency',\n",
       "  'Directive',\n",
       "  'Alert',\n",
       "  'Media',\n",
       "  'reported',\n",
       "  'University',\n",
       "  'Portsmouth',\n",
       "  'IT',\n",
       "  'system',\n",
       "  'continue',\n",
       "  'offline',\n",
       "  'following',\n",
       "  'cyber',\n",
       "  'attack',\n",
       "  'university',\n",
       "  'posted',\n",
       "  'website',\n",
       "  'continues',\n",
       "  'impacted',\n",
       "  'cyber',\n",
       "  'incident',\n",
       "  'IT',\n",
       "  'system',\n",
       "  'remain',\n",
       "  'offline',\n",
       "  'whilst',\n",
       "  'expert',\n",
       "  'investigate',\n",
       "  'issue',\n",
       "  'securely',\n",
       "  'restore',\n",
       "  'IT',\n",
       "  'system',\n",
       "  'education',\n",
       "  'sector',\n",
       "  'appealing',\n",
       "  'target',\n",
       "  'cyber',\n",
       "  'criminal',\n",
       "  'encourage',\n",
       "  'network',\n",
       "  'defender',\n",
       "  'familiarise',\n",
       "  'NCSC',\n",
       "  'mitigating',\n",
       "  'malware',\n",
       "  'ransomware',\n",
       "  'guidance',\n",
       "  'rehearse',\n",
       "  'scenario',\n",
       "  'event',\n",
       "  'defence',\n",
       "  'breached',\n",
       "  'nSeparately',\n",
       "  'NCSC',\n",
       "  'recently',\n",
       "  'published',\n",
       "  'alert',\n",
       "  'direct',\n",
       "  'response',\n",
       "  'attack',\n",
       "  'education',\n",
       "  'sector',\n",
       "  'cyber',\n",
       "  'criminal']]"
      ]
     },
     "execution_count": 52,
     "metadata": {},
     "output_type": "execute_result"
    }
   ],
   "source": [
    "lister = [[] for x in range(len(df_lem))]\n",
    "for i in range(len(df_lem_list)):\n",
    "    l = df_lem_list[i]\n",
    "    for token in l:\n",
    "        if (len(token)>4 or token.isupper()):\n",
    "            lister[i].append(token)\n",
    "\n",
    "lister[0:1]"
   ]
  },
  {
   "cell_type": "code",
   "execution_count": 54,
   "metadata": {},
   "outputs": [],
   "source": [
    "dictionary = gensim.corpora.Dictionary(lister)"
   ]
  },
  {
   "cell_type": "code",
   "execution_count": 55,
   "metadata": {},
   "outputs": [],
   "source": [
    "bow_corpus = [dictionary.doc2bow(doc) for doc in lister]\n",
    "tfidf=gensim.models.TfidfModel(bow_corpus)\n",
    "tfidf_corp = tfidf[bow_corpus]"
   ]
  },
  {
   "cell_type": "code",
   "execution_count": 56,
   "metadata": {},
   "outputs": [
    {
     "data": {
      "text/plain": [
       "[[(0, 1),\n",
       "  (1, 1),\n",
       "  (2, 1),\n",
       "  (3, 1),\n",
       "  (4, 1),\n",
       "  (5, 1),\n",
       "  (6, 3),\n",
       "  (7, 1),\n",
       "  (8, 1),\n",
       "  (9, 1),\n",
       "  (10, 1),\n",
       "  (11, 1),\n",
       "  (12, 1),\n",
       "  (13, 1),\n",
       "  (14, 2),\n",
       "  (15, 1),\n",
       "  (16, 3),\n",
       "  (17, 1),\n",
       "  (18, 1),\n",
       "  (19, 4),\n",
       "  (20, 3),\n",
       "  (21, 1),\n",
       "  (22, 4),\n",
       "  (23, 1),\n",
       "  (24, 3),\n",
       "  (25, 2),\n",
       "  (26, 2),\n",
       "  (27, 1),\n",
       "  (28, 2),\n",
       "  (29, 1),\n",
       "  (30, 1),\n",
       "  (31, 1),\n",
       "  (32, 1),\n",
       "  (33, 2),\n",
       "  (34, 1),\n",
       "  (35, 1),\n",
       "  (36, 3),\n",
       "  (37, 1),\n",
       "  (38, 2),\n",
       "  (39, 2),\n",
       "  (40, 1),\n",
       "  (41, 1),\n",
       "  (42, 1),\n",
       "  (43, 1),\n",
       "  (44, 1),\n",
       "  (45, 1),\n",
       "  (46, 3),\n",
       "  (47, 1),\n",
       "  (48, 5),\n",
       "  (49, 1),\n",
       "  (50, 1),\n",
       "  (51, 1),\n",
       "  (52, 1),\n",
       "  (53, 1),\n",
       "  (54, 1),\n",
       "  (55, 2),\n",
       "  (56, 1),\n",
       "  (57, 1),\n",
       "  (58, 1),\n",
       "  (59, 1),\n",
       "  (60, 1),\n",
       "  (61, 1),\n",
       "  (62, 1),\n",
       "  (63, 2),\n",
       "  (64, 1),\n",
       "  (65, 2),\n",
       "  (66, 1),\n",
       "  (67, 1),\n",
       "  (68, 1),\n",
       "  (69, 2),\n",
       "  (70, 1),\n",
       "  (71, 1),\n",
       "  (72, 1),\n",
       "  (73, 1),\n",
       "  (74, 1),\n",
       "  (75, 1),\n",
       "  (76, 1),\n",
       "  (77, 1),\n",
       "  (78, 2),\n",
       "  (79, 1),\n",
       "  (80, 1),\n",
       "  (81, 1),\n",
       "  (82, 1),\n",
       "  (83, 2),\n",
       "  (84, 1),\n",
       "  (85, 1),\n",
       "  (86, 1),\n",
       "  (87, 1),\n",
       "  (88, 1),\n",
       "  (89, 1),\n",
       "  (90, 1),\n",
       "  (91, 2),\n",
       "  (92, 1),\n",
       "  (93, 1),\n",
       "  (94, 1),\n",
       "  (95, 1),\n",
       "  (96, 1),\n",
       "  (97, 1),\n",
       "  (98, 1),\n",
       "  (99, 1),\n",
       "  (100, 4),\n",
       "  (101, 1),\n",
       "  (102, 1),\n",
       "  (103, 2),\n",
       "  (104, 1),\n",
       "  (105, 1),\n",
       "  (106, 1),\n",
       "  (107, 1),\n",
       "  (108, 1),\n",
       "  (109, 1),\n",
       "  (110, 1),\n",
       "  (111, 1),\n",
       "  (112, 1),\n",
       "  (113, 2),\n",
       "  (114, 1),\n",
       "  (115, 1),\n",
       "  (116, 2),\n",
       "  (117, 1),\n",
       "  (118, 3),\n",
       "  (119, 1),\n",
       "  (120, 1),\n",
       "  (121, 1),\n",
       "  (122, 1),\n",
       "  (123, 1),\n",
       "  (124, 1),\n",
       "  (125, 1),\n",
       "  (126, 1),\n",
       "  (127, 1),\n",
       "  (128, 1),\n",
       "  (129, 1),\n",
       "  (130, 2),\n",
       "  (131, 1),\n",
       "  (132, 1)]]"
      ]
     },
     "execution_count": 56,
     "metadata": {},
     "output_type": "execute_result"
    }
   ],
   "source": [
    "bow_corpus[0:1]"
   ]
  },
  {
   "cell_type": "code",
   "execution_count": 57,
   "metadata": {},
   "outputs": [],
   "source": [
    "lda_model_tfidf = gensim.models.LdaMulticore(tfidf_corp, num_topics=6, id2word=dictionary, passes=2, workers=4)"
   ]
  },
  {
   "cell_type": "code",
   "execution_count": 58,
   "metadata": {},
   "outputs": [],
   "source": [
    "import pyLDAvis.gensim\n",
    "pyLDAvis.enable_notebook()"
   ]
  },
  {
   "cell_type": "code",
   "execution_count": 59,
   "metadata": {},
   "outputs": [
    {
     "data": {
      "text/html": [
       "\n",
       "\n",
       "<link rel=\"stylesheet\" type=\"text/css\" href=\"https://cdn.jsdelivr.net/gh/bmabey/pyLDAvis/pyLDAvis/js/ldavis.v1.0.0.css\">\n",
       "\n",
       "<div id=\"ldavis_el2004418129947236161726309485\"></div>\n",
       "<script type=\"text/javascript\">\n",
       "\n",
       "var ldavis_el2004418129947236161726309485_data = {\"mdsDat\": {\"x\": [-0.0008429625049998464, -0.004843256283628414, -0.012277188726901363, 0.008376988124643395, 0.011138250900311572, -0.0015518315094253487], \"y\": [0.013365420492364024, -0.014000273950787047, 0.0037159803388448513, 0.004578498758078031, -0.004677920288673554, -0.0029817053498263015], \"topics\": [1, 2, 3, 4, 5, 6], \"cluster\": [1, 1, 1, 1, 1, 1], \"Freq\": [23.460767610432413, 19.42537950711616, 16.436509376813962, 16.21345389731963, 15.25854011929476, 9.205349489023082]}, \"tinfo\": {\"Term\": [\"Huawei\", \"FTP\", \"privacy\", \"Exchange\", \"finder\", \"printer\", \"database\", \"image\", \"unlicensed\", \"insider\", \"Soleil\", \"steganography\", \"password\", \"hardware\", \"Owari\", \"CCleaner\", \"Cellebrite\", \"router\", \"leaked\", \"SharePoint\", \"Polish\", \"Server\", \"charity\", \"GWR\", \"school\", \"Games\", \"unsecured\", \"Foods\", \"support\", \"Microsoft\", \"Toyota\", \"EasyJet\", \"Carbanak\", \"Pulse\", \"driver\", \"Union\", \"India\", \"signing\", \"boarding\", \"Bitbucket\", \"Fortinet\", \"Connect\", \"SFMTA\", \"UEFI\", \"SHA\", \"Momentive\", \"PCS\", \"Doorbell\", \"certificate\", \"REvil\", \"Felismus\", \"IcedID\", \"Ursnif\", \"Dharma\", \"collision\", \"VPN\", \"QTS\", \"PowerPoint\", \"Disdain\", \"CPR\", \"guest\", \"smart\", \"child\", \"university\", \"Christmas\", \"client\", \"Secure\", \"trojan\", \"impact\", \"change\", \"would\", \"ransomware\", \"claim\", \"domain\", \"version\", \"malware\", \"exploit\", \"CVE\", \"update\", \"patching\", \"campaign\", \"payment\", \"Microsoft\", \"vulnerability\", \"report\", \"important\", \"network\", \"device\", \"computer\", \"breach\", \"customer\", \"email\", \"business\", \"phishing\", \"password\", \"FTP\", \"spammer\", \"professionalisation\", \"irrigation\", \"LastPass\", \"vaccine\", \"FTSE\", \"illicit\", \"Travelex\", \"ArbiterSports\", \"NHS\", \"misconfigured\", \"sport\", \"Yahoo\", \"subscriber\", \"healthcare\", \"RoughTed\", \"FBI\", \"transfer\", \"Hajime\", \"clipboard\", \"morning\", \"illegitimate\", \"Mandia\", \"FIN\", \"station\", \"SMS\", \"FaceTime\", \"capitalise\", \"charge\", \"camera\", \"Firefox\", \"scammer\", \"manager\", \"engineering\", \"password\", \"server\", \"criminal\", \"account\", \"setting\", \"allowing\", \"confirmed\", \"social\", \"email\", \"ransomware\", \"phishing\", \"message\", \"attempt\", \"service\", \"fraud\", \"campaign\", \"authentication\", \"malware\", \"website\", \"online\", \"malicious\", \"store\", \"update\", \"product\", \"US\", \"vulnerability\", \"personal\", \"breach\", \"credential\", \"unlicensed\", \"CCleaner\", \"SacRT\", \"Owari\", \"Polar\", \"shipping\", \"BA\", \"Oilpro\", \"Rigzone\", \"Bodybuilding\", \"C\", \"Orion\", \"Odinaff\", \"Timehop\", \"AV\", \"Slack\", \"photograph\", \"Emotet\", \"Equifax\", \"Piriform\", \"Avast\", \"nEquifax\", \"nSextortion\", \"recover\", \"charity\", \"Dresscode\", \"nexcluded\", \"BlueBorne\", \"Contact\", \"QNAP\", \"nuclear\", \"reset\", \"biggest\", \"breach\", \"working\", \"affected\", \"botnet\", \"vulnerability\", \"system\", \"IT\", \"alert\", \"software\", \"latest\", \"stolen\", \"device\", \"survey\", \"ransomware\", \"university\", \"update\", \"incident\", \"network\", \"malware\", \"phishing\", \"customer\", \"attacker\", \"password\", \"website\", \"detail\", \"Polish\", \"Exchange\", \"GDS\", \"personnel\", \"memcached\", \"DNS\", \"Python\", \"Panda\", \"localisation\", \"nExchange\", \"BR\", \"EDR\", \"RAT\", \"pageant\", \"NHSD\", \"insider\", \"everyone\", \"Equation\", \"LPE\", \"Spanish\", \"Telef\\u00f3nica\", \"organisational\", \"Unicode\", \"failing\", \"skill\", \"advertiser\", \"offensive\", \"Italian\", \"MS\", \"belief\", \"suspect\", \"Server\", \"shopping\", \"owner\", \"bucket\", \"advertising\", \"phone\", \"public\", \"targeted\", \"school\", \"knowledge\", \"Microsoft\", \"personal\", \"update\", \"Windows\", \"software\", \"detail\", \"device\", \"FA\", \"email\", \"vulnerability\", \"breach\", \"store\", \"account\", \"server\", \"suspicious\", \"phishing\", \"company\", \"online\", \"customer\", \"system\", \"Fireball\", \"ComRAT\", \"Mylobot\", \"Rabbit\", \"console\", \"Spirit\", \"Steam\", \"Deloitte\", \"airline\", \"petrol\", \"Superdrug\", \"nreport\", \"telegram\", \"router\", \"spraying\", \"nTrue\", \"Dialog\", \"cryptomining\", \"Fakebank\", \"supervision\", \"Qakbot\", \"token\", \"HMRC\", \"agenda\", \"handling\", \"earliest\", \"Reaper\", \"Hermes\", \"bolster\", \"purpose\", \"dating\", \"currency\", \"advisory\", \"macro\", \"COVID\", \"Facebook\", \"sensitive\", \"password\", \"Microsoft\", \"Cloud\", \"account\", \"credential\", \"Infrastructure\", \"malware\", \"document\", \"detail\", \"infection\", \"provides\", \"ransomware\", \"email\", \"phishing\", \"customer\", \"Security\", \"hacker\", \"online\", \"compromise\", \"breach\", \"update\", \"criminal\", \"advice\", \"infected\", \"device\", \"Huawei\", \"finder\", \"Soleil\", \"Cellebrite\", \"steganography\", \"GWR\", \"Games\", \"Foods\", \"pager\", \"EDP\", \"SharePoint\", \"Cirque\", \"image\", \"Legacy\", \"Market\", \"forensics\", \"counterproductive\", \"nasty\", \"Sodexo\", \"Filmology\", \"supporter\", \"modern\", \"hardware\", \"Elasticsearch\", \"K\", \"nhttps\", \"obsolete\", \"printer\", \"ISP\", \"African\", \"privacy\", \"Capcom\", \"database\", \"leaked\", \"unsecured\", \"disclosure\", \"password\", \"September\", \"support\", \"platform\", \"breach\", \"Google\", \"Microsoft\", \"social\", \"vulnerability\", \"store\", \"online\", \"update\", \"ICO\", \"confirmed\", \"Windows\", \"message\", \"device\", \"issue\", \"account\", \"ransomware\"], \"Freq\": [0.0, 0.0, 0.0, 0.0, 0.0, 0.0, 0.0, 0.0, 0.0, 0.0, 0.0, 0.0, 1.0, 0.0, 0.0, 0.0, 0.0, 0.0, 0.0, 0.0, 0.0, 0.0, 0.0, 0.0, 0.0, 0.0, 0.0, 0.0, 0.0, 1.0, 0.2371184155425023, 0.23663087571007166, 0.2479047037234697, 0.23486327953607733, 0.2222727317661444, 0.19451085632532422, 0.2375264988546914, 0.209814529582216, 0.20348942672306647, 0.18652827865346389, 0.21972301005534225, 0.18547400470110123, 0.18491267913143314, 0.17221828719643212, 0.1892694958227028, 0.17140862722191688, 0.16789485601088275, 0.16513143100646904, 0.32843673876926915, 0.17775018518550587, 0.16453850639162243, 0.163828035951039, 0.16226255566145434, 0.16033761984341743, 0.1574840359450581, 0.31705514948924823, 0.17349395113959967, 0.16110805963374583, 0.15346299188790302, 0.15342232942364578, 0.18046283537562333, 0.32737023821540073, 0.2598242962488387, 0.32434351515040954, 0.22141124804637263, 0.26417308206244366, 0.2227388340720742, 0.22648063304014626, 0.28681191313505316, 0.26835487478926223, 0.3145257835948941, 0.44767691579784574, 0.2422285285587182, 0.2900584855735013, 0.31882174590092105, 0.3843213219012471, 0.30068330394477005, 0.2937024717295269, 0.37059271681849887, 0.2360255605982567, 0.3068540992259341, 0.28564956651468876, 0.3320709567557271, 0.34307011236344714, 0.28779266358291844, 0.2684023716943076, 0.28729763372784956, 0.31450569001118617, 0.27078498559149955, 0.3045926696337474, 0.2818909518721597, 0.28869972663082377, 0.27328409638346796, 0.27758318909282953, 0.27046001366836664, 0.3547507588373375, 0.20070356518810117, 0.20069835413559378, 0.18932888248905907, 0.18650122155178708, 0.22308278301276976, 0.17156611436796892, 0.17296995020074113, 0.17020722386307294, 0.16989950035615214, 0.2783968161860421, 0.20060315743418924, 0.17108212429589578, 0.24987023913835824, 0.1760352161337212, 0.2996995716953559, 0.15851459910883384, 0.2563031477542394, 0.194797461411639, 0.15823017606325468, 0.1449224642929555, 0.13912709538227538, 0.14216929155155086, 0.13643224843169566, 0.16889342796099482, 0.17596759458516828, 0.2179787334976209, 0.13438317844900444, 0.13437139929906586, 0.17260242172402848, 0.20681246575797593, 0.18466965872948246, 0.19841182843213612, 0.2113784605312875, 0.17896367836793303, 0.38529162480631557, 0.2933385864604361, 0.31616429920593325, 0.3425070109986449, 0.2240588647151111, 0.19743896292626417, 0.22911610975083813, 0.24231139034920054, 0.27956686031934214, 0.3017015115078435, 0.27459022375208875, 0.24535730482156723, 0.21319113328825284, 0.24400194263347313, 0.22796229587482678, 0.24602469951509187, 0.2221998760148965, 0.2591021343322715, 0.23656650350968578, 0.23747621214480408, 0.22952648013579513, 0.22461082916741737, 0.23913826648567688, 0.22189585724061767, 0.2247024568406723, 0.2349028207149044, 0.22592207382503873, 0.23241668727360507, 0.223434664761511, 0.2115312444212726, 0.21061411872080232, 0.1778834029966906, 0.19035558683267845, 0.17195990911141903, 0.19454156890067406, 0.1509565341000717, 0.14372855429416054, 0.1437132367149785, 0.14319281794341382, 0.16109927469118768, 0.1543032758795848, 0.12861955369221845, 0.12818353087791606, 0.12720030075214522, 0.12719219414727076, 0.12567801584955296, 0.16802464618992996, 0.155792904713816, 0.12292908450853623, 0.1449124630791251, 0.1432904646400885, 0.11806492638233279, 0.15190328450390753, 0.25180527080549114, 0.11713373468898546, 0.11339196241726882, 0.1126368425074127, 0.11179042569195213, 0.14241730521449675, 0.1240668798017504, 0.1635985662353554, 0.14617484288067886, 0.35735285290286833, 0.23960561127558, 0.2598683342554591, 0.207723620338005, 0.30867792662588295, 0.25600972812453915, 0.21314500994855995, 0.19527594003573112, 0.2356757221374921, 0.20656253865005236, 0.2045072272533003, 0.2545464285324852, 0.18864571325610055, 0.25489441545504193, 0.19841558447032134, 0.22840765712249214, 0.20197906884701594, 0.2021597795375458, 0.21971115321288698, 0.21100668048772536, 0.20312074520601983, 0.19649092031190002, 0.2101352778759379, 0.19178722932892664, 0.1898559512832423, 0.1939548544899826, 0.22898004204992564, 0.14622768036507577, 0.15848678483981474, 0.15045686962516114, 0.18802355771068965, 0.13999719097144334, 0.13932605487538208, 0.13221846616406618, 0.130666730825361, 0.1304233104780292, 0.13041907432289904, 0.13100787723275423, 0.12485463537384808, 0.12052668933146381, 0.2563594679711355, 0.13840518950576572, 0.11793134206392981, 0.11791432948370123, 0.11594390571080868, 0.11593118591880022, 0.11599343701130108, 0.11447236282750851, 0.12077937485231559, 0.14299343255629446, 0.11109453880902183, 0.10814889322675464, 0.1174707904496327, 0.1174554089023954, 0.12422921350801487, 0.1458684340221265, 0.20601695509793347, 0.16958254370689907, 0.18075593521372157, 0.17221785128271963, 0.14749032643269305, 0.21596267713350742, 0.2033181391750146, 0.20339506956443706, 0.18519159739323887, 0.14234279763880425, 0.2303000234578339, 0.20713421269696614, 0.23948371328793625, 0.19064141096817983, 0.19099122223833925, 0.1917045726396681, 0.20074889976195923, 0.17349695492628373, 0.19643404728997724, 0.19883003475418018, 0.19265689202745673, 0.16979005867518657, 0.18470518711005904, 0.1733413951547396, 0.16606270655199032, 0.17719745163821368, 0.16930395421069258, 0.1725989806516354, 0.16993629664012078, 0.1696024445747164, 0.15302623119192985, 0.1480481708473688, 0.1398092030834033, 0.15743156612342785, 0.1577520019893864, 0.1281672258232863, 0.129465086483133, 0.12212452448260588, 0.19148151977288685, 0.12022943217052116, 0.11604058145451009, 0.11077741089715526, 0.11076352154106785, 0.23138837930899425, 0.10847745931142785, 0.1081173593671874, 0.10811032408321372, 0.11540443189047225, 0.10618470290249171, 0.10409397639833294, 0.10393805958214665, 0.1388389841258276, 0.17479147043314958, 0.1074606475868083, 0.123759396563834, 0.10053886619457479, 0.11110735505599947, 0.0997242869056349, 0.10083285578850505, 0.15072370000207874, 0.13077959731505076, 0.19213740011061453, 0.22680973122275688, 0.1481246422522584, 0.1650873621435815, 0.18127023146594382, 0.1888254229252739, 0.25925166412482065, 0.2203729580438601, 0.14364453077973718, 0.2177329144351325, 0.18009478474723906, 0.1387911761733701, 0.20778361583956065, 0.14106328508979565, 0.17982394763329487, 0.1582098390832551, 0.1501413810199607, 0.19184790883461894, 0.1779028460895499, 0.17641672762628033, 0.16915066501922596, 0.1570940643640725, 0.15920065223573557, 0.16531365311854687, 0.1519688706487711, 0.16663575352953924, 0.1612264622559554, 0.15739344767571592, 0.1536039878989862, 0.15306388062071016, 0.1539725515030374, 0.14454548732942304, 0.10308340035587059, 0.09233489714947864, 0.08850788956358223, 0.09397085405094917, 0.08397132038191528, 0.08360475192787303, 0.08165319066130948, 0.08032089612957816, 0.07785369403724587, 0.08708616832889468, 0.07561874671292507, 0.10377471777241731, 0.0676448378325277, 0.06760164858061816, 0.06747951482953626, 0.06747474317603464, 0.06628460790617234, 0.06443693621146684, 0.06442806170764981, 0.06423682901199257, 0.08353391023653362, 0.10045146689413467, 0.063504811063085, 0.06369847460109213, 0.06366866784370667, 0.07725278723603511, 0.09541142396004812, 0.06862911676783426, 0.07135118432051184, 0.11758110490056313, 0.07144906109449385, 0.11812021171504805, 0.1006224168470101, 0.08464390487844822, 0.08808708374345822, 0.16781233989691705, 0.08663704769695445, 0.1104834182253002, 0.10927959821332003, 0.14102047010530033, 0.10622503258429776, 0.128970861746534, 0.10783652029227281, 0.12656475225294214, 0.10145781633458618, 0.10595146635793803, 0.11010169880677033, 0.09415969448905574, 0.09420071656140996, 0.09871156254360727, 0.09572631450635584, 0.09855493398203657, 0.090384892136483, 0.08944809822739741, 0.0896664174520962], \"Total\": [0.0, 0.0, 0.0, 0.0, 0.0, 0.0, 0.0, 0.0, 0.0, 0.0, 0.0, 0.0, 1.0, 0.0, 0.0, 0.0, 0.0, 0.0, 0.0, 0.0, 0.0, 0.0, 0.0, 0.0, 0.0, 0.0, 0.0, 0.0, 0.0, 1.0, 0.42971902041920484, 0.4292541310240349, 0.4617863572674159, 0.4512442982135423, 0.4359806463080628, 0.3871185815669477, 0.4762855064870541, 0.4232766265018232, 0.41130667325138554, 0.37912622842045335, 0.44804625653589175, 0.3782525811845018, 0.3775169977105463, 0.36480159289165903, 0.40155381023003606, 0.36399710205897706, 0.36048872335379445, 0.3577355663654195, 0.7133302519370273, 0.38638074244928083, 0.35808953937300275, 0.3579831233974607, 0.3548485280297633, 0.3529256754379122, 0.35006716644276975, 0.7074316565537867, 0.38813454378666806, 0.3608033627319547, 0.3460917155061056, 0.3460114857517785, 0.40734703289133856, 0.7843801447004506, 0.6130568513373643, 0.8127409495649053, 0.5227027007048258, 0.664939879484151, 0.5356704907481169, 0.5532279563243196, 0.7627925102453216, 0.6983113391472552, 0.8735639641454938, 1.4508965707958825, 0.6163660095856854, 0.8160606002821708, 0.948392737117132, 1.2738380480098421, 0.8910158483432649, 0.8761089268802094, 1.3489505147773297, 0.5945051091523111, 0.9847163169697513, 0.8713119347315873, 1.1976470934758392, 1.3522774465116334, 0.9259459930651817, 0.7882339799947606, 0.9658317005895374, 1.2420651939939633, 0.8375955877777124, 1.3946753254725173, 1.0704472160747613, 1.2010213118063522, 0.9618807512677343, 1.1974233326563621, 1.4559729283638665, 0.5549774336581044, 0.40090643195597336, 0.40090896345414145, 0.3895374916282212, 0.3867234519889954, 0.4723086779646801, 0.37177349107394136, 0.3762029712486054, 0.37041016648820063, 0.3701107391934163, 0.6098624156363711, 0.4395096966936336, 0.37492442702244083, 0.5489357381985667, 0.39158850070003115, 0.6724659141392733, 0.3587117411087268, 0.5885231793537334, 0.4535284093874028, 0.3782186008076177, 0.34801443525634285, 0.339345016317457, 0.34681051777795535, 0.33663514600613453, 0.41727860309555, 0.4364427294600776, 0.5421329838630853, 0.33457624191465685, 0.3345714548192302, 0.4307263561026384, 0.5178025788615627, 0.46806630515437936, 0.5074191832182591, 0.5645288233477376, 0.4718688165349113, 1.4559729283638665, 0.9771842774845718, 1.0928540219909537, 1.269752219223058, 0.6760340062495764, 0.5470084652015484, 0.7329654744986089, 0.8465091067257737, 1.2010213118063522, 1.4508965707958825, 1.1974233326563621, 0.9399048834484656, 0.6570005511311797, 0.9373952997663971, 0.7905436957083068, 0.9847163169697513, 0.7496419466162219, 1.2738380480098421, 1.0285448552886758, 1.0896593217641042, 0.9501251086177452, 0.8559331903371562, 1.3489505147773297, 0.8264929711961538, 0.9266322321163833, 1.3522774465116334, 0.9820761012403814, 1.3946753254725173, 0.8860490089976384, 0.41779721513597434, 0.43691972899066983, 0.38411524893213095, 0.417474769016677, 0.37818895527771723, 0.43777850591423323, 0.36279891882955834, 0.3499334351696908, 0.3499213820976066, 0.3494099683825584, 0.4117633875507523, 0.39963069525350925, 0.33482146377619615, 0.33440610203610277, 0.33340486491509286, 0.3334014222047721, 0.33280511189623796, 0.4452555305158605, 0.4135505662947044, 0.32913585800928385, 0.3907813305170884, 0.3907711038697994, 0.32426914538327267, 0.42115210071514725, 0.7036091862014714, 0.3297285559143328, 0.3195864216088775, 0.31884400114329237, 0.31799910032853046, 0.40565583826811447, 0.35579505898964686, 0.5010343708719758, 0.4377562434090152, 1.3946753254725173, 0.8305867411807412, 0.9700264351159169, 0.739993375517529, 1.3522774465116334, 1.0543682223859587, 0.8014385704575961, 0.699558671757505, 0.9770120469576773, 0.7943694468501714, 0.8134709179591569, 1.2420651939939633, 0.713881756407553, 1.4508965707958825, 0.8127409495649053, 1.3489505147773297, 0.9609809657866776, 0.9658317005895374, 1.2738380480098421, 1.1974233326563621, 1.0704472160747613, 0.9575788100680506, 1.4559729283638665, 1.0285448552886758, 1.0381261077369233, 0.4038394083666801, 0.5449484187040382, 0.3525871951592484, 0.382230241313472, 0.36335488180647846, 0.4652964103393589, 0.34820060314619344, 0.35243090492508017, 0.3388713988582627, 0.3370296613134789, 0.3367882977056976, 0.33678393495996045, 0.3404836694499235, 0.3312229158135385, 0.3268918162865394, 0.6982299739092716, 0.3775363784065532, 0.3242930098870129, 0.3242819944802249, 0.3222928372103943, 0.3222841977798668, 0.3242479036693607, 0.32555132521882013, 0.3436468281022877, 0.40816740649889366, 0.31820455142603454, 0.3145220146653277, 0.3423230170419174, 0.34640220122342197, 0.37121124125520183, 0.4365845317119791, 0.6464943570085622, 0.5395591253220652, 0.5999364254655832, 0.5956325831267976, 0.4789714849624855, 0.8639961881634814, 0.8028606159667372, 0.8344928658916337, 0.7309554825317477, 0.4592328728943731, 1.1976470934758392, 0.9820761012403814, 1.3489505147773297, 0.9631505727895959, 0.9770120469576773, 1.0381261077369233, 1.2420651939939633, 0.8099239471029408, 1.2010213118063522, 1.3522774465116334, 1.3946753254725173, 0.8559331903371562, 1.269752219223058, 0.9771842774845718, 0.8114575201512412, 1.1974233326563621, 0.9300026709483161, 1.0896593217641042, 1.0704472160747613, 1.0543682223859587, 0.36173824615040484, 0.3561466313912238, 0.3478948244570221, 0.39740634896111954, 0.4106853923617009, 0.33627214899866675, 0.3497561315634428, 0.3320110997759526, 0.5300594707464853, 0.33360215885641215, 0.3241198147537569, 0.31886551268166624, 0.31885985357593577, 0.6695110110451001, 0.3165625706126052, 0.3162001323436766, 0.31619701679134093, 0.3404039642603273, 0.31724584065735467, 0.31217253739792, 0.31251346764716814, 0.41825155342916864, 0.5272741131382076, 0.3271602945706926, 0.37699148549018513, 0.3086179713735426, 0.341516886964262, 0.307805937143506, 0.31227306652121234, 0.46748974458945597, 0.40694983039666643, 0.602985653779202, 0.8205081146096004, 0.5099390068957207, 0.5998417064680964, 0.702397348929134, 0.815618882277413, 1.4559729283638665, 1.1976470934758392, 0.5473756924554437, 1.269752219223058, 0.8860490089976384, 0.518446971919501, 1.2738380480098421, 0.5410779169860809, 1.0381261077369233, 0.7497022582624512, 0.6624218260494312, 1.4508965707958825, 1.2010213118063522, 1.1974233326563621, 1.0704472160747613, 0.8172594291446088, 0.8852726499074688, 1.0896593217641042, 0.7113882135018301, 1.3946753254725173, 1.3489505147773297, 1.0928540219909537, 0.9228900531270228, 0.8416702895634504, 1.2420651939939633, 0.36612023449029407, 0.32465844226088864, 0.3138917263278549, 0.31006145156657205, 0.3311982298511555, 0.3055101370564786, 0.30597331338669886, 0.3036085058024595, 0.30708825650534927, 0.30315763904082077, 0.33911535397276205, 0.2971501096331852, 0.4194380515037588, 0.2891732458296017, 0.2894189202254241, 0.28900921435849736, 0.28900925863322013, 0.28781154458054226, 0.28596693336643253, 0.2859637781505717, 0.2857715743567455, 0.3736783150515131, 0.4513925384877441, 0.28609778494014243, 0.2874253552438001, 0.2874374512264895, 0.35880667421836987, 0.4433205015524415, 0.32013382448953454, 0.3347114722596263, 0.5702852302805352, 0.34018445829182753, 0.7302309082244541, 0.5769371156001474, 0.4447996230049941, 0.483272545485095, 1.4559729283638665, 0.473610612396455, 0.7301978859565913, 0.7380755792087105, 1.3946753254725173, 0.7627106222736357, 1.1976470934758392, 0.8465091067257737, 1.3522774465116334, 0.8559331903371562, 1.0896593217641042, 1.3489505147773297, 0.7135977215064319, 0.7329654744986089, 0.9631505727895959, 0.9399048834484656, 1.2420651939939633, 0.8124117061340523, 1.269752219223058, 1.4508965707958825], \"Category\": [\"Default\", \"Default\", \"Default\", \"Default\", \"Default\", \"Default\", \"Default\", \"Default\", \"Default\", \"Default\", \"Default\", \"Default\", \"Default\", \"Default\", \"Default\", \"Default\", \"Default\", \"Default\", \"Default\", \"Default\", \"Default\", \"Default\", \"Default\", \"Default\", \"Default\", \"Default\", \"Default\", \"Default\", \"Default\", \"Default\", \"Topic1\", \"Topic1\", \"Topic1\", \"Topic1\", \"Topic1\", \"Topic1\", \"Topic1\", \"Topic1\", \"Topic1\", \"Topic1\", \"Topic1\", \"Topic1\", \"Topic1\", \"Topic1\", \"Topic1\", \"Topic1\", \"Topic1\", \"Topic1\", \"Topic1\", \"Topic1\", \"Topic1\", \"Topic1\", \"Topic1\", \"Topic1\", \"Topic1\", \"Topic1\", \"Topic1\", \"Topic1\", \"Topic1\", \"Topic1\", \"Topic1\", \"Topic1\", \"Topic1\", \"Topic1\", \"Topic1\", \"Topic1\", \"Topic1\", \"Topic1\", \"Topic1\", \"Topic1\", \"Topic1\", \"Topic1\", \"Topic1\", \"Topic1\", \"Topic1\", \"Topic1\", \"Topic1\", \"Topic1\", \"Topic1\", \"Topic1\", \"Topic1\", \"Topic1\", \"Topic1\", \"Topic1\", \"Topic1\", \"Topic1\", \"Topic1\", \"Topic1\", \"Topic1\", \"Topic1\", \"Topic1\", \"Topic1\", \"Topic1\", \"Topic1\", \"Topic1\", \"Topic2\", \"Topic2\", \"Topic2\", \"Topic2\", \"Topic2\", \"Topic2\", \"Topic2\", \"Topic2\", \"Topic2\", \"Topic2\", \"Topic2\", \"Topic2\", \"Topic2\", \"Topic2\", \"Topic2\", \"Topic2\", \"Topic2\", \"Topic2\", \"Topic2\", \"Topic2\", \"Topic2\", \"Topic2\", \"Topic2\", \"Topic2\", \"Topic2\", \"Topic2\", \"Topic2\", \"Topic2\", \"Topic2\", \"Topic2\", \"Topic2\", \"Topic2\", \"Topic2\", \"Topic2\", \"Topic2\", \"Topic2\", \"Topic2\", \"Topic2\", \"Topic2\", \"Topic2\", \"Topic2\", \"Topic2\", \"Topic2\", \"Topic2\", \"Topic2\", \"Topic2\", \"Topic2\", \"Topic2\", \"Topic2\", \"Topic2\", \"Topic2\", \"Topic2\", \"Topic2\", \"Topic2\", \"Topic2\", \"Topic2\", \"Topic2\", \"Topic2\", \"Topic2\", \"Topic2\", \"Topic2\", \"Topic2\", \"Topic2\", \"Topic2\", \"Topic3\", \"Topic3\", \"Topic3\", \"Topic3\", \"Topic3\", \"Topic3\", \"Topic3\", \"Topic3\", \"Topic3\", \"Topic3\", \"Topic3\", \"Topic3\", \"Topic3\", \"Topic3\", \"Topic3\", \"Topic3\", \"Topic3\", \"Topic3\", \"Topic3\", \"Topic3\", \"Topic3\", \"Topic3\", \"Topic3\", \"Topic3\", \"Topic3\", \"Topic3\", \"Topic3\", \"Topic3\", \"Topic3\", \"Topic3\", \"Topic3\", \"Topic3\", \"Topic3\", \"Topic3\", \"Topic3\", \"Topic3\", \"Topic3\", \"Topic3\", \"Topic3\", \"Topic3\", \"Topic3\", \"Topic3\", \"Topic3\", \"Topic3\", \"Topic3\", \"Topic3\", \"Topic3\", \"Topic3\", \"Topic3\", \"Topic3\", \"Topic3\", \"Topic3\", \"Topic3\", \"Topic3\", \"Topic3\", \"Topic3\", \"Topic3\", \"Topic3\", \"Topic4\", \"Topic4\", \"Topic4\", \"Topic4\", \"Topic4\", \"Topic4\", \"Topic4\", \"Topic4\", \"Topic4\", \"Topic4\", \"Topic4\", \"Topic4\", \"Topic4\", \"Topic4\", \"Topic4\", \"Topic4\", \"Topic4\", \"Topic4\", \"Topic4\", \"Topic4\", \"Topic4\", \"Topic4\", \"Topic4\", \"Topic4\", \"Topic4\", \"Topic4\", \"Topic4\", \"Topic4\", \"Topic4\", \"Topic4\", \"Topic4\", \"Topic4\", \"Topic4\", \"Topic4\", \"Topic4\", \"Topic4\", \"Topic4\", \"Topic4\", \"Topic4\", \"Topic4\", \"Topic4\", \"Topic4\", \"Topic4\", \"Topic4\", \"Topic4\", \"Topic4\", \"Topic4\", \"Topic4\", \"Topic4\", \"Topic4\", \"Topic4\", \"Topic4\", \"Topic4\", \"Topic4\", \"Topic4\", \"Topic4\", \"Topic4\", \"Topic4\", \"Topic4\", \"Topic4\", \"Topic4\", \"Topic5\", \"Topic5\", \"Topic5\", \"Topic5\", \"Topic5\", \"Topic5\", \"Topic5\", \"Topic5\", \"Topic5\", \"Topic5\", \"Topic5\", \"Topic5\", \"Topic5\", \"Topic5\", \"Topic5\", \"Topic5\", \"Topic5\", \"Topic5\", \"Topic5\", \"Topic5\", \"Topic5\", \"Topic5\", \"Topic5\", \"Topic5\", \"Topic5\", \"Topic5\", \"Topic5\", \"Topic5\", \"Topic5\", \"Topic5\", \"Topic5\", \"Topic5\", \"Topic5\", \"Topic5\", \"Topic5\", \"Topic5\", \"Topic5\", \"Topic5\", \"Topic5\", \"Topic5\", \"Topic5\", \"Topic5\", \"Topic5\", \"Topic5\", \"Topic5\", \"Topic5\", \"Topic5\", \"Topic5\", \"Topic5\", \"Topic5\", \"Topic5\", \"Topic5\", \"Topic5\", \"Topic5\", \"Topic5\", \"Topic5\", \"Topic5\", \"Topic5\", \"Topic5\", \"Topic5\", \"Topic5\", \"Topic5\", \"Topic6\", \"Topic6\", \"Topic6\", \"Topic6\", \"Topic6\", \"Topic6\", \"Topic6\", \"Topic6\", \"Topic6\", \"Topic6\", \"Topic6\", \"Topic6\", \"Topic6\", \"Topic6\", \"Topic6\", \"Topic6\", \"Topic6\", \"Topic6\", \"Topic6\", \"Topic6\", \"Topic6\", \"Topic6\", \"Topic6\", \"Topic6\", \"Topic6\", \"Topic6\", \"Topic6\", \"Topic6\", \"Topic6\", \"Topic6\", \"Topic6\", \"Topic6\", \"Topic6\", \"Topic6\", \"Topic6\", \"Topic6\", \"Topic6\", \"Topic6\", \"Topic6\", \"Topic6\", \"Topic6\", \"Topic6\", \"Topic6\", \"Topic6\", \"Topic6\", \"Topic6\", \"Topic6\", \"Topic6\", \"Topic6\", \"Topic6\", \"Topic6\", \"Topic6\", \"Topic6\", \"Topic6\", \"Topic6\", \"Topic6\"], \"logprob\": [30.0, 29.0, 28.0, 27.0, 26.0, 25.0, 24.0, 23.0, 22.0, 21.0, 20.0, 19.0, 18.0, 17.0, 16.0, 15.0, 14.0, 13.0, 12.0, 11.0, 10.0, 9.0, 8.0, 7.0, 6.0, 5.0, 4.0, 3.0, 2.0, 1.0, -7.7727, -7.7748, -7.7282, -7.7823, -7.8374, -7.9708, -7.771, -7.8951, -7.9257, -8.0127, -7.8489, -8.0184, -8.0214, -8.0925, -7.9981, -8.0972, -8.1179, -8.1345, -7.4469, -8.0609, -8.1381, -8.1425, -8.1521, -8.164, -8.182, -7.4822, -8.0851, -8.1592, -8.2078, -8.2081, -8.0458, -7.4502, -7.6813, -7.4595, -7.8413, -7.6647, -7.8353, -7.8186, -7.5825, -7.649, -7.4902, -7.1372, -7.7514, -7.5712, -7.4767, -7.2898, -7.5352, -7.5587, -7.3262, -7.7773, -7.5149, -7.5865, -7.4359, -7.4033, -7.579, -7.6488, -7.5808, -7.4903, -7.64, -7.5223, -7.5998, -7.5759, -7.6308, -7.6152, -7.6412, -7.1811, -7.7507, -7.7507, -7.809, -7.8241, -7.645, -7.9076, -7.8994, -7.9155, -7.9173, -7.4235, -7.7512, -7.9104, -7.5316, -7.8819, -7.3498, -7.9867, -7.5062, -7.7806, -7.9885, -8.0763, -8.1171, -8.0955, -8.1367, -7.9233, -7.8822, -7.6681, -8.1518, -8.1519, -7.9015, -7.7207, -7.834, -7.7622, -7.6989, -7.8654, -7.0985, -7.3712, -7.2963, -7.2162, -7.6406, -7.7671, -7.6183, -7.5623, -7.4193, -7.3431, -7.4373, -7.5498, -7.6903, -7.5554, -7.6234, -7.5471, -7.649, -7.4953, -7.5863, -7.5825, -7.6165, -7.6382, -7.5755, -7.6503, -7.6378, -7.5934, -7.6323, -7.604, -7.6434, -7.5311, -7.5354, -7.7043, -7.6366, -7.7382, -7.6148, -7.8685, -7.9175, -7.9176, -7.9213, -7.8034, -7.8465, -8.0286, -8.032, -8.0397, -8.0398, -8.0517, -7.7613, -7.8369, -8.0739, -7.9093, -7.9206, -8.1142, -7.8622, -7.3568, -8.1221, -8.1546, -8.1613, -8.1688, -7.9267, -8.0646, -7.788, -7.9007, -7.0067, -7.4065, -7.3253, -7.5493, -7.1532, -7.3402, -7.5235, -7.611, -7.423, -7.5549, -7.5649, -7.346, -7.6456, -7.3446, -7.5951, -7.4543, -7.5773, -7.5764, -7.4931, -7.5336, -7.5717, -7.6048, -7.5377, -7.6291, -7.6392, -7.6042, -7.4382, -7.8866, -7.8061, -7.8581, -7.6352, -7.9302, -7.935, -7.9873, -7.9991, -8.001, -8.001, -7.9965, -8.0446, -8.0799, -7.3252, -7.9416, -8.1017, -8.1018, -8.1187, -8.1188, -8.1183, -8.1315, -8.0778, -7.909, -8.1614, -8.1883, -8.1056, -8.1057, -8.0497, -7.8891, -7.5438, -7.7385, -7.6746, -7.723, -7.878, -7.4967, -7.557, -7.5566, -7.6504, -7.9136, -7.4324, -7.5384, -7.3933, -7.6214, -7.6196, -7.6158, -7.5697, -7.7156, -7.5915, -7.5793, -7.6109, -7.7372, -7.653, -7.7165, -7.7594, -7.6945, -7.7401, -7.7208, -7.7364, -7.7383, -7.7805, -7.8136, -7.8708, -7.7521, -7.7501, -7.9578, -7.9477, -8.0061, -7.5563, -8.0217, -8.0572, -8.1036, -8.1037, -7.367, -8.1246, -8.1279, -8.1279, -8.0627, -8.1459, -8.1658, -8.1673, -7.8778, -7.6475, -8.134, -7.9928, -8.2005, -8.1006, -8.2087, -8.1976, -7.7956, -7.9376, -7.5529, -7.387, -7.813, -7.7046, -7.6111, -7.5703, -7.2533, -7.4158, -7.8438, -7.4278, -7.6176, -7.8781, -7.4746, -7.8619, -7.6191, -7.7472, -7.7995, -7.5544, -7.6299, -7.6382, -7.6803, -7.7542, -7.7409, -7.7032, -7.7874, -7.6953, -7.7283, -7.7523, -7.7767, -7.7802, -7.7743, -7.3321, -7.6702, -7.7803, -7.8226, -7.7628, -7.8753, -7.8796, -7.9033, -7.9197, -7.9509, -7.8388, -7.98, -7.6635, -8.0915, -8.0921, -8.0939, -8.094, -8.1118, -8.1401, -8.1402, -8.1432, -7.8805, -7.6961, -8.1546, -8.1516, -8.152, -7.9587, -7.7475, -8.077, -8.0381, -7.5386, -8.0368, -7.534, -7.6944, -7.8673, -7.8274, -7.1829, -7.844, -7.6009, -7.6118, -7.3568, -7.6402, -7.4462, -7.6251, -7.465, -7.6861, -7.6428, -7.6043, -7.7607, -7.7603, -7.7135, -7.7442, -7.7151, -7.8017, -7.8121, -7.8096], \"loglift\": [30.0, 29.0, 28.0, 27.0, 26.0, 25.0, 24.0, 23.0, 22.0, 21.0, 20.0, 19.0, 18.0, 17.0, 16.0, 15.0, 14.0, 13.0, 12.0, 11.0, 10.0, 9.0, 8.0, 7.0, 6.0, 5.0, 4.0, 3.0, 2.0, 1.0, 0.8553, 0.8543, 0.8278, 0.7968, 0.7761, 0.7616, 0.7541, 0.748, 0.7461, 0.7406, 0.7373, 0.7372, 0.7361, 0.6992, 0.6977, 0.6967, 0.6857, 0.6768, 0.6742, 0.6734, 0.6722, 0.6682, 0.6674, 0.6609, 0.651, 0.6473, 0.6446, 0.6436, 0.6366, 0.6366, 0.6357, 0.576, 0.5914, 0.5312, 0.5908, 0.5267, 0.5723, 0.5567, 0.4717, 0.4935, 0.4283, 0.274, 0.5159, 0.4154, 0.3597, 0.2515, 0.3635, 0.3569, 0.1579, 0.5261, 0.2839, 0.3346, 0.1671, 0.0782, 0.2813, 0.3725, 0.2374, 0.0763, 0.3206, -0.0716, 0.1155, 0.0243, 0.1915, -0.012, -0.2335, 1.1911, 0.9467, 0.9467, 0.9171, 0.9093, 0.8885, 0.8653, 0.8616, 0.861, 0.86, 0.8544, 0.8543, 0.854, 0.8516, 0.8391, 0.8304, 0.8219, 0.8073, 0.7935, 0.7672, 0.7625, 0.747, 0.7468, 0.7354, 0.7341, 0.7302, 0.7275, 0.7264, 0.7263, 0.7241, 0.7208, 0.7085, 0.6996, 0.6562, 0.6691, 0.3092, 0.4352, 0.3983, 0.3283, 0.5343, 0.6196, 0.4757, 0.3877, 0.1809, 0.0681, 0.1659, 0.2955, 0.5131, 0.2927, 0.395, 0.2517, 0.4226, 0.046, 0.1689, 0.115, 0.218, 0.3008, -0.0915, 0.3236, 0.2218, -0.1118, 0.1691, -0.1533, 0.2609, 1.125, 1.0759, 1.0359, 1.0203, 1.0175, 0.9946, 0.9288, 0.9158, 0.9158, 0.9136, 0.8672, 0.854, 0.8489, 0.8468, 0.8421, 0.842, 0.8318, 0.8311, 0.8294, 0.8208, 0.8136, 0.8024, 0.7953, 0.7859, 0.7781, 0.7707, 0.7695, 0.7651, 0.7602, 0.7589, 0.7521, 0.6864, 0.7088, 0.444, 0.5625, 0.4885, 0.5352, 0.3284, 0.3902, 0.4812, 0.5296, 0.3836, 0.4587, 0.425, 0.2206, 0.4748, 0.0666, 0.3956, 0.0297, 0.2459, 0.2417, 0.0482, 0.0696, 0.1436, 0.2219, -0.13, 0.1262, 0.1068, 1.0859, 0.9523, 0.9392, 0.939, 0.9376, 0.9132, 0.9082, 0.8913, 0.8782, 0.8718, 0.8707, 0.8706, 0.8642, 0.8437, 0.8216, 0.8174, 0.8158, 0.8078, 0.8077, 0.797, 0.7969, 0.7914, 0.7741, 0.7737, 0.7705, 0.767, 0.7518, 0.7498, 0.7378, 0.7247, 0.7231, 0.6757, 0.6619, 0.6197, 0.5785, 0.6415, 0.4329, 0.4459, 0.4077, 0.4464, 0.648, 0.1706, 0.263, 0.0907, 0.1995, 0.1871, 0.1301, -0.0031, 0.2785, 0.0087, -0.0978, -0.1602, 0.2017, -0.1085, 0.0899, 0.2329, -0.0913, 0.1158, -0.0233, -0.0211, -0.0079, 1.0197, 1.0022, 0.9684, 0.9541, 0.9232, 0.9154, 0.8862, 0.8799, 0.8618, 0.8595, 0.8529, 0.8228, 0.8227, 0.8176, 0.8091, 0.8069, 0.8068, 0.7983, 0.7855, 0.7818, 0.7792, 0.7773, 0.7759, 0.7667, 0.7661, 0.7585, 0.7571, 0.753, 0.7496, 0.7481, 0.7449, 0.7363, 0.5942, 0.6438, 0.5898, 0.5255, 0.4169, 0.1544, 0.1872, 0.5422, 0.1167, 0.2867, 0.5622, 0.0667, 0.5357, 0.1268, 0.3243, 0.3957, -0.1432, -0.0297, -0.035, 0.035, 0.2309, 0.1643, -0.0057, 0.3365, -0.2446, -0.2442, -0.0578, 0.0869, 0.1755, -0.2077, 1.456, 1.2382, 1.1618, 1.1317, 1.1257, 1.0939, 1.088, 1.0721, 1.0443, 1.026, 1.0259, 1.0169, 0.9887, 0.9326, 0.9311, 0.9308, 0.9307, 0.917, 0.8952, 0.8951, 0.8928, 0.8872, 0.8827, 0.8802, 0.8786, 0.8781, 0.8497, 0.8493, 0.8454, 0.8397, 0.8064, 0.8249, 0.5637, 0.639, 0.7262, 0.6831, 0.2248, 0.6867, 0.4969, 0.4752, 0.0939, 0.4141, 0.1569, 0.3249, 0.0166, 0.2528, 0.0547, -0.1203, 0.3601, 0.3337, 0.1074, 0.1011, -0.1485, 0.1895, -0.2675, -0.3985]}, \"token.table\": {\"Topic\": [], \"Freq\": [], \"Term\": []}, \"R\": 30, \"lambda.step\": 0.01, \"plot.opts\": {\"xlab\": \"PC1\", \"ylab\": \"PC2\"}, \"topic.order\": [4, 5, 3, 2, 6, 1]};\n",
       "if(typeof(window.LDAvis) !== \"undefined\"){\n",
       "   !function(LDAvis){\n",
       "       new LDAvis(\"#\" + \"ldavis_el2004418129947236161726309485\", ldavis_el2004418129947236161726309485_data);\n",
       "   }(LDAvis);\n",
       "}else{\n",
       "  require.config({paths: {d3: \"https://d3js.org/d3.v5\"}});\n",
       "  require([\"d3\"], function(d3){\n",
       "    window.d3 = d3;\n",
       "    $.getScript(\"https://cdn.jsdelivr.net/gh/bmabey/pyLDAvis/pyLDAvis/js/ldavis.v3.0.0.js\", function(){\n",
       "       new LDAvis(\"#\" + \"ldavis_el2004418129947236161726309485\", ldavis_el2004418129947236161726309485_data);\n",
       "    });\n",
       "  });\n",
       "}\n",
       "</script>"
      ],
      "text/plain": [
       "<IPython.core.display.HTML object>"
      ]
     },
     "execution_count": 59,
     "metadata": {},
     "output_type": "execute_result"
    }
   ],
   "source": [
    "lda_display = pyLDAvis.gensim.prepare(lda_model_tfidf, tfidf_corp, \n",
    "                                          dictionary, mds='mmds')\n",
    "pyLDAvis.display(lda_display, template_type='notebook')"
   ]
  },
  {
   "cell_type": "code",
   "execution_count": 60,
   "metadata": {},
   "outputs": [],
   "source": [
    "from gensim.models.coherencemodel import CoherenceModel\n",
    "def getCoherence(m,t,d):\n",
    "    coherence_model_lda = CoherenceModel(model=m,texts=t, dictionary=d, coherence='c_v')\n",
    "    coherence_lda = coherence_model_lda.get_coherence()\n",
    "    return(coherence_lda) # Need high coherence"
   ]
  },
  {
   "cell_type": "code",
   "execution_count": 61,
   "metadata": {},
   "outputs": [
    {
     "data": {
      "text/plain": [
       "0.3034869336636691"
      ]
     },
     "execution_count": 61,
     "metadata": {},
     "output_type": "execute_result"
    }
   ],
   "source": [
    "getCoherence(m=lda_model_tfidf, t=lister, d =dictionary)"
   ]
  },
  {
   "cell_type": "code",
   "execution_count": 62,
   "metadata": {},
   "outputs": [],
   "source": [
    "perplex = lda_model_tfidf.log_perplexity(tfidf_corp)"
   ]
  },
  {
   "cell_type": "code",
   "execution_count": 63,
   "metadata": {},
   "outputs": [
    {
     "data": {
      "text/plain": [
       "-11.765786698777157"
      ]
     },
     "execution_count": 63,
     "metadata": {},
     "output_type": "execute_result"
    }
   ],
   "source": [
    "perplex"
   ]
  },
  {
   "cell_type": "code",
   "execution_count": 64,
   "metadata": {},
   "outputs": [],
   "source": [
    "gCH = [0] * 50\n",
    "for i in range(1,50):\n",
    "    locals()['lda_model_tfidf_{}'.format(i)] = gensim.models.LdaMulticore(tfidf_corp, num_topics=i, id2word=dictionary, passes=2, workers=6)\n",
    "    gCH[i]=getCoherence(m=locals()['lda_model_tfidf_{}'.format(i)], t=lister, d =dictionary)"
   ]
  },
  {
   "cell_type": "code",
   "execution_count": 66,
   "metadata": {},
   "outputs": [],
   "source": [
    "perplexity = [0] * 50\n",
    "for i in range(1,50):\n",
    "    perplexity[i]=locals()['lda_model_tfidf_{}'.format(i)].log_perplexity(tfidf_corp)"
   ]
  },
  {
   "cell_type": "code",
   "execution_count": 69,
   "metadata": {},
   "outputs": [
    {
     "data": {
      "image/png": "[encoded data removed]",
      "text/plain": [
       "<Figure size 432x288 with 1 Axes>"
      ]
     },
     "metadata": {
      "needs_background": "light"
     },
     "output_type": "display_data"
    },
    {
     "data": {
      "image/png": "[encoded data removed]",
      "text/plain": [
       "<Figure size 432x288 with 1 Axes>"
      ]
     },
     "metadata": {
      "needs_background": "light"
     },
     "output_type": "display_data"
    }
   ],
   "source": [
    "plt.plot(gCH)\n",
    "plt.show()\n",
    "plt.plot(perplexity)\n",
    "plt.show()"
   ]
  },
  {
   "cell_type": "code",
   "execution_count": 70,
   "metadata": {},
   "outputs": [
    {
     "name": "stdout",
     "output_type": "stream",
     "text": [
      "The maximum coherence achieved is 0.5170453284862008 and its corresponding number of topics is 18\n",
      "The minimum perplexity achieved is -24.41781774502421 and its corresponding number of topics is 49\n"
     ]
    }
   ],
   "source": [
    "print(\"The maximum coherence achieved is\", max(gCH), \"and its corresponding number of topics is\", np.argmax(gCH))\n",
    "print(\"The minimum perplexity achieved is\", min(perplexity), \"and its corresponding number of topics is\", np.argmin(perplexity))"
   ]
  },
  {
   "cell_type": "code",
   "execution_count": 71,
   "metadata": {},
   "outputs": [
    {
     "data": {
      "text/html": [
       "\n",
       "\n",
       "<link rel=\"stylesheet\" type=\"text/css\" href=\"https://cdn.jsdelivr.net/gh/bmabey/pyLDAvis/pyLDAvis/js/ldavis.v1.0.0.css\">\n",
       "\n",
       "<div id=\"ldavis_el2004418131263888647266614000\"></div>\n",
       "<script type=\"text/javascript\">\n",
       "\n",
       "var ldavis_el2004418131263888647266614000_data = {\"mdsDat\": {\"x\": [0.07905140067207642, 0.01828122460425937, -0.014623906104920193, -0.013776089414025009, 0.01848267457699538, 0.024395727366515338, 0.010238522897744424, -0.019914345061296555, -0.029238714767718818, 0.006798642919415455, 0.009158688063967454, -0.005292155091999352, -0.027162334514399245, -0.01611245074885795, -0.003804449398611749, -0.016367591862154297, -0.006578532841119434, -0.013536311295871234], \"y\": [0.024211459916373395, -0.041040650631550164, -0.0370601494280824, 0.03468220129995551, -0.017819016480567964, -0.0020886578946335793, 0.02837738905113243, -0.018347011410878092, 0.008772797765554294, 0.012046316266597927, 0.0015494836903151888, 0.013700132811723982, -0.006334347399524531, 0.013870949858461734, -0.012139604050591331, 0.0037220201078332978, -0.0038798794640371114, -0.0022234340080825505], \"topics\": [1, 2, 3, 4, 5, 6, 7, 8, 9, 10, 11, 12, 13, 14, 15, 16, 17, 18], \"cluster\": [1, 1, 1, 1, 1, 1, 1, 1, 1, 1, 1, 1, 1, 1, 1, 1, 1, 1], \"Freq\": [43.807289719976986, 7.510654265572649, 5.491869700415885, 4.647857170368927, 4.205545274966072, 4.158245400715503, 4.0619022466130925, 2.8729085365990468, 2.7633238391901593, 2.727843670659655, 2.6966892498142867, 2.6806671352840774, 2.6470224727953875, 2.2129610688822745, 2.1566986083267925, 1.9735826904926108, 1.8682734026491148, 1.5166655466774905]}, \"tinfo\": {\"Term\": [\"password\", \"domain\", \"breach\", \"Microsoft\", \"charity\", \"insider\", \"Windows\", \"account\", \"airline\", \"ransomware\", \"FA\", \"certificate\", \"update\", \"email\", \"cryptocurrency\", \"database\", \"school\", \"smart\", \"message\", \"Christmas\", \"political\", \"phishing\", \"router\", \"criminal\", \"chain\", \"credential\", \"Google\", \"social\", \"computer\", \"Android\", \"currency\", \"FA\", \"critical\", \"HTTPS\", \"login\", \"CVE\", \"method\", \"traffic\", \"consumer\", \"August\", \"memcached\", \"range\", \"Australian\", \"removed\", \"ComRAT\", \"provides\", \"according\", \"provide\", \"Director\", \"download\", \"Twitter\", \"patched\", \"Soleil\", \"reduce\", \"known\", \"provided\", \"GDS\", \"addition\", \"government\", \"miner\", \"device\", \"targeting\", \"vulnerable\", \"recent\", \"UK\", \"available\", \"actor\", \"application\", \"software\", \"exploit\", \"malware\", \"network\", \"store\", \"vulnerability\", \"version\", \"malicious\", \"ransomware\", \"Microsoft\", \"website\", \"protect\", \"phishing\", \"server\", \"victim\", \"number\", \"password\", \"campaign\", \"system\", \"update\", \"Pulse\", \"Emotet\", \"shipping\", \"Bodybuilding\", \"Orion\", \"Momentive\", \"PCS\", \"Avalanche\", \"vaccine\", \"gained\", \"Rabbit\", \"marketing\", \"reset\", \"SolarWinds\", \"FaceTime\", \"Reaper\", \"collaboration\", \"deliver\", \"cooky\", \"contacted\", \"S\", \"suspected\", \"client\", \"Explorer\", \"Bitcoins\", \"BestBuy\", \"CPR\", \"became\", \"steganography\", \"nClarksons\", \"VPN\", \"AWS\", \"publicly\", \"Yahoo\", \"breach\", \"Apple\", \"cloud\", \"platform\", \"received\", \"FireEye\", \"resulting\", \"password\", \"stolen\", \"Agency\", \"IT\", \"customer\", \"incident\", \"system\", \"Microsoft\", \"service\", \"affected\", \"global\", \"router\", \"infected\", \"vulnerability\", \"attacker\", \"industry\", \"QNAP\", \"EasyJet\", \"NAS\", \"QTS\", \"MS\", \"GWR\", \"pager\", \"Italian\", \"EDR\", \"BR\", \"seeing\", \"Ursnif\", \"Mandia\", \"Python\", \"Fastway\", \"VMware\", \"Coinrail\", \"tweet\", \"opinion\", \"Twitterbots\", \"nasty\", \"Carbanak\", \"quote\", \"ICS\", \"Sodexo\", \"Filmology\", \"sponsored\", \"outsourcing\", \"BBC\", \"Marche\", \"MobileIron\", \"NSA\", \"school\", \"message\", \"Suspicious\", \"Email\", \"Reporting\", \"account\", \"think\", \"remote\", \"allow\", \"Instagram\", \"breach\", \"email\", \"update\", \"ransomware\", \"Bluetooth\", \"exchange\", \"password\", \"hacker\", \"detail\", \"version\", \"Spectre\", \"Meltdown\", \"Owari\", \"Mylobot\", \"SFMTA\", \"cryptomining\", \"FIN\", \"AV\", \"Slack\", \"C\", \"nreport\", \"telegram\", \"terrorist\", \"Firewall\", \"microprocessor\", \"ShellTea\", \"BADHATCH\", \"MyNewsDesk\", \"transparency\", \"dating\", \"Github\", \"project\", \"Mirai\", \"nWikimedia\", \"Wikipedia\", \"Telestar\", \"Globex\", \"Beijing\", \"Fortnite\", \"World\", \"Chrome\", \"Sophos\", \"build\", \"ECSEPA\", \"automatic\", \"result\", \"fraud\", \"working\", \"remote\", \"offer\", \"response\", \"Evidence\", \"Facebook\", \"survey\", \"device\", \"update\", \"vulnerability\", \"malware\", \"Google\", \"ArbiterSports\", \"RoughTed\", \"localisation\", \"LinkedIn\", \"nSextortion\", \"TikTok\", \"supervision\", \"photograph\", \"BAS\", \"provisioning\", \"endpoint\", \"development\", \"council\", \"passport\", \"DDOS\", \"AMEX\", \"Hydro\", \"legislation\", \"Swedish\", \"Explorer\", \"outcome\", \"nRoughTed\", \"Endpoint\", \"insecure\", \"recording\", \"abandonment\", \"dispute\", \"Kremlin\", \"Cobalt\", \"celebrity\", \"environment\", \"gaming\", \"handling\", \"police\", \"sharing\", \"Carbanak\", \"GDPR\", \"advertising\", \"domain\", \"store\", \"browser\", \"personal\", \"botnet\", \"printer\", \"ransomware\", \"padlock\", \"still\", \"sensitive\", \"Internet\", \"suspicious\", \"update\", \"boarding\", \"FTP\", \"SIM\", \"healthcare\", \"SharePoint\", \"Dresscode\", \"pressure\", \"Boots\", \"Cisco\", \"swapping\", \"CERT\", \"spraying\", \"Hurricane\", \"Harvey\", \"misconfigured\", \"voter\", \"VEC\", \"signed\", \"select\", \"letter\", \"professionalisation\", \"spammer\", \"Advantage\", \"Tesco\", \"Strobe\", \"Bonvoy\", \"Bitpaymer\", \"Oracle\", \"regular\", \"Overlord\", \"Marriott\", \"conferencing\", \"privacy\", \"camera\", \"child\", \"coronavirus\", \"SMS\", \"password\", \"mobile\", \"Android\", \"Windows\", \"update\", \"future\", \"vendor\", \"exposed\", \"GDPR\", \"vulnerability\", \"Google\", \"device\", \"setting\", \"campaign\", \"unlicensed\", \"Travelex\", \"Rigzone\", \"Oilpro\", \"Bitbucket\", \"Disdain\", \"insurance\", \"saving\", \"Public\", \"outbreak\", \"child\", \"subscriber\", \"Canva\", \"module\", \"indictment\", \"Esteves\", \"Thousands\", \"heightened\", \"illustrates\", \"staff\", \"diligence\", \"CDOT\", \"employer\", \"career\", \"apprenticeship\", \"Posing\", \"invariably\", \"vishing\", \"Vishing\", \"parliamentary\", \"capitalise\", \"WannaCry\", \"changed\", \"recover\", \"Colorado\", \"claim\", \"RDP\", \"SamSam\", \"particular\", \"video\", \"charity\", \"CCleaner\", \"caused\", \"account\", \"ICO\", \"digital\", \"ransomware\", \"breach\", \"password\", \"smart\", \"email\", \"researcher\", \"money\", \"Huawei\", \"finder\", \"UEFI\", \"EDP\", \"Panda\", \"enables\", \"North\", \"replacing\", \"experimenting\", \"FTP\", \"helpful\", \"supporter\", \"Adidas\", \"COVID\", \"IE\", \"FBI\", \"LoJax\", \"demonstrate\", \"fileless\", \"posed\", \"ethical\", \"Exchange\", \"jointly\", \"crime\", \"WellMail\", \"theme\", \"aggressive\", \"certainly\", \"Locker\", \"nVulnerability\", \"operate\", \"Korea\", \"releasing\", \"spammer\", \"ongoing\", \"drive\", \"Microsoft\", \"professionalisation\", \"macro\", \"criminal\", \"university\", \"support\", \"malware\", \"server\", \"disclosure\", \"cryptocurrency\", \"group\", \"US\", \"ransomware\", \"malicious\", \"SacRT\", \"irrigation\", \"Fireball\", \"nexcluded\", \"Firefox\", \"Qakbot\", \"Sacramento\", \"saved\", \"nSocial\", \"RAT\", \"OneLogin\", \"Cambridge\", \"Analytica\", \"Morrisons\", \"TRITON\", \"Conduent\", \"nConfidential\", \"appeal\", \"sporting\", \"Telecoms\", \"secondary\", \"placed\", \"Proofpoint\", \"Regional\", \"Imgur\", \"PayPal\", \"scandal\", \"Esports\", \"tournament\", \"registration\", \"VPN\", \"manager\", \"primary\", \"Q\", \"Facebook\", \"education\", \"certificate\", \"school\", \"employee\", \"password\", \"alert\", \"event\", \"ICO\", \"medium\", \"update\", \"FTSE\", \"DMARC\", \"Dharma\", \"Superdrug\", \"Nintendo\", \"K\", \"nhttps\", \"ESA\", \"F\", \"nKinomap\", \"V\", \"polled\", \"configuring\", \"POST\", \"trustworthy\", \"E\", \"eveything\", \"Larger\", \"Science\", \"GoDaddy\", \"Grammar\", \"School\", \"nonly\", \"secured\", \"nDomain\", \"offered\", \"journalist\", \"perpetrator\", \"punctuation\", \"Darknet\", \"domain\", \"GandCrab\", \"Cloud\", \"school\", \"cloud\", \"hijacking\", \"charity\", \"GDPR\", \"unsecured\", \"Board\", \"database\", \"practice\", \"ICO\", \"research\", \"found\", \"breach\", \"phishing\", \"Toolkit\", \"Cellebrite\", \"nExchange\", \"Steam\", \"pageant\", \"IcedID\", \"Felismus\", \"NHSD\", \"Dialog\", \"nTrue\", \"Carnival\", \"organiser\", \"counterproductive\", \"forensics\", \"nPenetration\", \"Magento\", \"MANRS\", \"routing\", \"TCP\", \"Sowbug\", \"nSowbug\", \"Routers\", \"Exchange\", \"Forescout\", \"SVR\", \"JSOF\", \"ISOC\", \"beauty\", \"dwell\", \"PenAir\", \"fictitious\", \"trojan\", \"subsequent\", \"testing\", \"Software\", \"SolarWinds\", \"Amazon\", \"child\", \"hacked\", \"capability\", \"Cisco\", \"Server\", \"crime\", \"password\", \"Facebook\", \"suspicious\", \"group\", \"practice\", \"vulnerability\", \"Toyota\", \"Polar\", \"Hajime\", \"petrol\", \"Timehop\", \"personnel\", \"council\", \"NATO\", \"Trafikverket\", \"KRACK\", \"Capcom\", \"weekend\", \"beyond\", \"Netcraft\", \"HMRC\", \"fitness\", \"transport\", \"grammatical\", \"Council\", \"usability\", \"engineer\", \"nFacebook\", \"suspended\", \"Strava\", \"tracker\", \"nTimehop\", \"badly\", \"littered\", \"nPotential\", \"Cleveland\", \"shopper\", \"Flash\", \"defend\", \"enabled\", \"student\", \"insider\", \"Mobile\", \"nEquifax\", \"confirmed\", \"FA\", \"series\", \"social\", \"breach\", \"stolen\", \"financial\", \"Equifax\", \"account\", \"Foods\", \"Odinaff\", \"Deloitte\", \"Unicode\", \"Market\", \"BA\", \"Amano\", \"KHNP\", \"supermarket\", \"Hermes\", \"Cloud\", \"render\", \"nuclear\", \"Lottery\", \"Airways\", \"Marriott\", \"threaten\", \"voucher\", \"penalty\", \"CHECK\", \"condone\", \"nthere\", \"Environment\", \"nLogging\", \"endorse\", \"SEPA\", \"Wandera\", \"nyour\", \"Whole\", \"Squad\", \"British\", \"privileged\", \"wireless\", \"continued\", \"router\", \"nSWIFT\", \"chain\", \"Rabbit\", \"Ukraine\", \"supply\", \"financial\", \"paying\", \"domain\", \"update\", \"Spirit\", \"clipboard\", \"Polish\", \"HNS\", \"everyone\", \"Lazarus\", \"NASA\", \"Lonestar\", \"Liberian\", \"airline\", \"Clipboard\", \"president\", \"Password\", \"ATM\", \"jackpotting\", \"opportunistic\", \"Necurs\", \"NHS\", \"dismantled\", \"KNF\", \"nInsiders\", \"nConor\", \"nReusing\", \"takedown\", \"Justice\", \"vaccine\", \"NEM\", \"masquerading\", \"Whitbread\", \"nUnfortunately\", \"insider\", \"botnets\", \"botnet\", \"knowledge\", \"leaked\", \"heist\", \"database\", \"nCyber\", \"Ticketmaster\", \"political\", \"connected\", \"wallet\", \"cryptocurrency\", \"infected\", \"largest\", \"detail\", \"LastPass\", \"Cequence\", \"Zendesk\", \"Spanish\", \"Telef\\u00f3nica\", \"Magecart\", \"TrickBooster\", \"ACD\", \"Ecuadorian\", \"Ecuador\", \"GAO\", \"modern\", \"upgrading\", \"njust\", \"Manchester\", \"hardware\", \"RiskIQ\", \"nnumber\", \"outbox\", \"Black\", \"desire\", \"discount\", \"snoop\", \"emailing\", \"enumeration\", \"Prying\", \"willing\", \"meeting\", \"visited\", \"NSO\", \"British\", \"Friday\", \"client\", \"MobileIron\", \"building\", \"video\", \"skilled\", \"manager\", \"offering\", \"conference\", \"macro\", \"breach\", \"legacy\", \"email\", \"phishing\", \"SHA\", \"collision\", \"Fakebank\", \"nWindows\", \"fridge\", \"drone\", \"gapped\", \"Camelot\", \"Proofpoint\", \"GandCrab\", \"prepare\", \"nGandCrab\", \"confiscated\", \"refrigerator\", \"professional\", \"maker\", \"traveller\", \"Imperva\", \"postal\", \"Angus\", \"College\", \"Students\", \"unreleased\", \"Dundee\", \"nFortunately\", \"preventative\", \"outbreak\", \"WebEx\", \"Window\", \"SP\", \"Trickbot\", \"Q\", \"political\", \"college\", \"tweet\", \"guest\", \"Server\", \"asking\", \"U\", \"party\", \"nRansomware\", \"concern\", \"Fortinet\", \"console\", \"MegaCortex\", \"qualification\", \"MyFitnessPal\", \"Malaysia\", \"science\", \"gamers\", \"MFA\", \"MyHeritage\", \"cyberscoop\", \"CDOT\", \"Negara\", \"periodically\", \"Pyramid\", \"harmful\", \"leverage\", \"Hotel\", \"shiny\", \"exciting\", \"shifted\", \"nHaving\", \"isolate\", \"plugins\", \"Esentire\", \"more_eggs\", \"nSWIFT\", \"wanting\", \"unrelated\", \"Education\", \"SWIFT\", \"Colorado\", \"VPN\", \"student\", \"certificate\", \"database\", \"remember\", \"computing\", \"expiration\", \"hotel\", \"Android\", \"although\", \"would\", \"whether\", \"driver\", \"PowerPoint\", \"Doorbell\", \"slide\", \"Visma\", \"program\", \"Commission\", \"Chtrbox\", \"hover\", \"CrashOverride\", \"Industroyer\", \"kicked\", \"unexpectedly\", \"aftermath\", \"nBitdefender\", \"reconfigured\", \"Watchdog\", \"Deliveroo\", \"recall\", \"stressed\", \"Allianz\", \"crypr\", \"AGCS\", \"Specialty\", \"Corporate\", \"meantime\", \"festive\", \"picture\", \"Another\", \"seasonal\", \"executive\", \"apologised\", \"contained\", \"question\", \"insider\", \"Micro\", \"Christmas\", \"NSA\", \"Black\", \"shopping\", \"ensure\", \"Windows\", \"Trend\"], \"Freq\": [2.0, 0.0, 1.0, 2.0, 1.0, 0.0, 1.0, 1.0, 0.0, 2.0, 2.0, 0.0, 2.0, 1.0, 1.0, 0.0, 0.0, 1.0, 1.0, 0.0, 0.0, 2.0, 0.0, 1.0, 1.0, 1.0, 1.0, 1.0, 1.0, 1.0, 1.4312327279760415, 1.753701700296514, 1.4172016346331675, 0.8728240414280176, 1.1478880063879249, 1.6937609478807198, 1.1727926462085, 1.0651224281098124, 1.197085460828171, 0.8943012115006682, 0.676006619308729, 1.191432014799084, 0.746284683649891, 0.8370548525591659, 0.6636351538492611, 1.2318268004974637, 1.091991078239174, 1.038767549562723, 0.7299230724649157, 0.9556067576669396, 1.1294190380933913, 0.945112817021172, 0.6260509937236644, 0.8421488665818235, 1.3474339754891187, 1.067510358120626, 0.6199957849275968, 0.8388694565738937, 1.2512363980124355, 0.6730250425768697, 2.21198558444132, 1.2631502187112829, 1.3002816918434932, 1.2551060271492493, 1.5094105965594158, 1.3169957329511182, 1.3495435360507813, 1.1848288809131307, 1.530844554488025, 1.4435856477136333, 1.8475537030083846, 1.5077723299200188, 1.4798662210916445, 1.9857439362009361, 1.4929202058403566, 1.3868896009351295, 1.7683938292706174, 1.6087129604647792, 1.392548433180471, 1.254615514228076, 1.414250110539728, 1.2868728288920153, 1.273740866421619, 1.2462272168957857, 1.3621704183333159, 1.2637665732304013, 1.270130020493031, 1.2593321258709038, 0.19998288172978754, 0.1986710316589009, 0.1942892223981935, 0.14247484890715878, 0.15610439734306056, 0.12447009180644909, 0.12122693256047382, 0.11540715882264745, 0.14567277990460176, 0.13187502645809107, 0.12998471653289004, 0.13155255219419365, 0.16738748115876104, 0.1281903933337505, 0.11047894824573842, 0.11108141789880967, 0.11430615004399082, 0.1154194365606481, 0.10988262795546067, 0.11790769331406714, 0.16597794436732052, 0.11940281748254467, 0.17786152500297764, 0.14555438893013736, 0.11801084730085894, 0.09560936925935727, 0.09741393440062385, 0.09684875968845372, 0.14091481013417526, 0.09393244012433165, 0.16736799418485745, 0.13405092496422177, 0.13871556293825701, 0.13166158270515668, 0.30477971381641117, 0.1949912361732085, 0.16973580318035217, 0.18454027867395037, 0.15494492764269313, 0.1508490427642966, 0.12681973604597874, 0.21099678925706522, 0.16342052302316448, 0.13328143609916904, 0.16321360640957747, 0.18006119195062242, 0.17188929743807996, 0.18054663482234043, 0.17636420763172905, 0.16591936801388496, 0.16078580439857018, 0.14803088214142074, 0.14777464469996784, 0.15106529885379863, 0.15327316145390368, 0.14786777711428903, 0.1456499663982655, 0.14761896061786306, 0.14029152605832385, 0.12862999984263543, 0.11684643949373796, 0.10072115268219337, 0.10022330958632213, 0.09966084303283732, 0.09785175453192999, 0.09685988190685031, 0.09685618343777293, 0.09226754196176223, 0.0882090322909125, 0.0856341151494706, 0.08602052843633393, 0.07861980740758699, 0.11876853080398694, 0.07759708095644888, 0.09550258212131116, 0.07513962473748963, 0.07513582651717156, 0.07374199475802776, 0.09311479063420584, 0.07444145045765073, 0.08945599953109118, 0.07097752723978361, 0.07097413569760061, 0.08950096432111916, 0.07113372233633815, 0.07893538964039772, 0.06773900345998338, 0.07488640237644638, 0.10446349695913305, 0.1283178475178695, 0.1723039704504014, 0.09520230019418574, 0.09996121703803106, 0.09275315402089207, 0.16019363271022038, 0.10627570076801843, 0.11197630768971081, 0.09981328594810794, 0.10071861286214229, 0.1234097795496959, 0.1225956789818463, 0.12161541586654688, 0.12410896668828628, 0.10651709109728297, 0.1014941327193672, 0.10463664976660257, 0.10088377022401299, 0.09852752314847849, 0.09858594668282543, 0.11802248786603418, 0.11800248656625092, 0.12906689389777865, 0.10031346691651169, 0.09367235352597897, 0.08850243314343204, 0.10245088503727785, 0.08404125362356189, 0.08403949376893811, 0.10619604400062153, 0.07474268182396993, 0.07474157785612474, 0.07670304947808329, 0.07086353363386395, 0.06740018519175212, 0.0635656437965199, 0.06356174743941927, 0.0635613772854947, 0.06351070516140096, 0.07810018572544304, 0.06264858420145773, 0.08776419685750346, 0.11583769653685282, 0.057650850333116316, 0.05764773324743581, 0.05764666174923313, 0.05626062362568168, 0.0567802612904077, 0.057807256601064255, 0.059813893495747644, 0.08482368109294017, 0.07401169925617702, 0.06443733031314518, 0.07794643547425203, 0.08123075280151824, 0.08228447062795664, 0.08905836537455046, 0.11774834018043359, 0.09276276844262152, 0.0768660535773883, 0.09159998508700788, 0.07609058110543467, 0.07462733666593416, 0.08576865808662837, 0.0980627881887586, 0.09285063129524081, 0.09219736156982004, 0.07942245996504262, 0.07747670365005663, 0.09163008905176552, 0.08408145648823423, 0.08019500678569938, 0.07717900058422499, 0.06886520366129603, 0.07156232282710377, 0.06208193523897948, 0.06252514532422482, 0.059193054908458616, 0.058816842243163, 0.05881432146670637, 0.09588555339824549, 0.07273441924414024, 0.06646964339649157, 0.053739551888401384, 0.05185435190312269, 0.059979619426026504, 0.05743224260805236, 0.05540459818719911, 0.0838324343291859, 0.05776739423400324, 0.04705785195429224, 0.04657766460508062, 0.05996186234805001, 0.057121740532767064, 0.045242320001782695, 0.045134502455855895, 0.04513175839383901, 0.04512572086980828, 0.05891722085437165, 0.09491224576513453, 0.0671784046481803, 0.06782160808418941, 0.06670015048184567, 0.07173963506569372, 0.05874594320184452, 0.0866593587926703, 0.08475788246523577, 0.0893403778943961, 0.1077622063634698, 0.07676471185496918, 0.08249169267885904, 0.06513272110443233, 0.07012663193024407, 0.07864885417180453, 0.06575786191380353, 0.0700571489894525, 0.0687145564193498, 0.06735827879477746, 0.06709978462722545, 0.06280851820393847, 0.09593692681563018, 0.1121839894320014, 0.07782178859197791, 0.13308407296278738, 0.0813368982915786, 0.07378381572199239, 0.07935514717881123, 0.07133910679185405, 0.11683120630726758, 0.06815680267238089, 0.0749302093163429, 0.06623840215308296, 0.0593995068912204, 0.05939781622516211, 0.07037810547901585, 0.05811518748166771, 0.058114577447522964, 0.05906033371659156, 0.05200333091351142, 0.0673586862860384, 0.06109006837222982, 0.06107528230653102, 0.05095787763564461, 0.05095178310404616, 0.05027451738670203, 0.05007246826811372, 0.04877703461742868, 0.05508877904034619, 0.05369896439269572, 0.046852132877102486, 0.06949065685448681, 0.06233644365797942, 0.08297021533041501, 0.07814651848199881, 0.06603675391407547, 0.07232180208084918, 0.08664252792419182, 0.12535718295059003, 0.08029893971891865, 0.09123056567756879, 0.10411735107012444, 0.1045412144135908, 0.07508349637229464, 0.0811847151069364, 0.07416977561059862, 0.0745990479234817, 0.09632049885629841, 0.07544948780989624, 0.08072553950126285, 0.0718691509355999, 0.07166947804525159, 0.1364685805409726, 0.08968235983098037, 0.08625997473208175, 0.08625416896203712, 0.08339905810613067, 0.06503523719778148, 0.07147918225291787, 0.0651041289305007, 0.059269034923192215, 0.06853215521749742, 0.09330562003323153, 0.07852751194236787, 0.05644619915452311, 0.05511052017940714, 0.055967952394121466, 0.05300237300066007, 0.05281030586906633, 0.05465055336554875, 0.06781974239862906, 0.12222791763410347, 0.04960919268441019, 0.05536136009162862, 0.05752732093552197, 0.04830013625795439, 0.048297565374444885, 0.046858795673169876, 0.0468563723458883, 0.046855546598535906, 0.0468545647820963, 0.046853704983306696, 0.05078711702616295, 0.06907794867884842, 0.04959802381300468, 0.05897345709771382, 0.05143199449456105, 0.08123937975240292, 0.07088152845269316, 0.06549547074789804, 0.057050578113597185, 0.06609937866209067, 0.09036076093931358, 0.07627713758562621, 0.06424693507584686, 0.0920706708846279, 0.06966755498941206, 0.07850361918392418, 0.08774573541670919, 0.07603998067592438, 0.07919982351867969, 0.07231994061387745, 0.06919706060621565, 0.06696316146984503, 0.06530654202376733, 0.11508426442641596, 0.07770716483266288, 0.05739413230522969, 0.0571617903922491, 0.05809367080331536, 0.05352312649425932, 0.06181542032673549, 0.04970684343953283, 0.046126928332006295, 0.0681351500633502, 0.04820669411869188, 0.04262833269332336, 0.04077900217330312, 0.06705589994108774, 0.04060787364202275, 0.06015670627033362, 0.03743170995821416, 0.04115043293148335, 0.05516060251770539, 0.038532559372734254, 0.03546534346637534, 0.05926456438246947, 0.03536403833015565, 0.07594006897171755, 0.031177243721472497, 0.04185482836018261, 0.03514739915482826, 0.03385317967801134, 0.03636570601035241, 0.03423896447245124, 0.03599969414169974, 0.061760179765492314, 0.0426638846226164, 0.0377737221672481, 0.059893761680495164, 0.042414162123225185, 0.09811353873570637, 0.037763105157766326, 0.04337031915937492, 0.06355483971116782, 0.05937808811107575, 0.05157329765046016, 0.058703187497375395, 0.05249464534588174, 0.04529038425069492, 0.0492651919010599, 0.047301550909953825, 0.046313089264235344, 0.04633139708285401, 0.04374601679130907, 0.08324929216409979, 0.07613635090459649, 0.07387548798325183, 0.04759541107826275, 0.05807871301833809, 0.0453786239842319, 0.045318981081258564, 0.0478832707079809, 0.048522281403748244, 0.045670803940751396, 0.040483952397393684, 0.040103477933617765, 0.04010087569924412, 0.03665473362952393, 0.03665320858118923, 0.036473608078825576, 0.036098060100303024, 0.03896503128220407, 0.03414597120571217, 0.0341453302993234, 0.03857486600495954, 0.034011967718115155, 0.03849929310343183, 0.03259339092246704, 0.032592414119356455, 0.036415899477664104, 0.03236967598397099, 0.032367880673906085, 0.03236751389012939, 0.03446760196905977, 0.06135694919684859, 0.04801885329625865, 0.03764574478534966, 0.03850284897562489, 0.04807934559324119, 0.046142198311448536, 0.05596756351287881, 0.050383407921717416, 0.04637841092452542, 0.05960976502433184, 0.048416439188438104, 0.04163624417115735, 0.04139954894784797, 0.03840345829390282, 0.038431638870598986, 0.0665658527647116, 0.059470601020645615, 0.05060776306730805, 0.048885100762025666, 0.04872042551644485, 0.0419851976816541, 0.041983711270985075, 0.04105840538428004, 0.05166361011253807, 0.03896593934978212, 0.03896387743139253, 0.04108315221626458, 0.04108164293773911, 0.03773622036937038, 0.03691415904321198, 0.036705005816842676, 0.03406979788875241, 0.03406698514240949, 0.03377776011669269, 0.03293555983162372, 0.032932453614456396, 0.03293146267401038, 0.034430519267649264, 0.039405162268550474, 0.03483761665941966, 0.036972052833115755, 0.03415192398387069, 0.03305674422555265, 0.03134462209643741, 0.030948651822482947, 0.10338381054716246, 0.042036677037824634, 0.04512933737758054, 0.06617795293842806, 0.06657178316215005, 0.04914555802433274, 0.07293320920415655, 0.05400311760022776, 0.04446466788472474, 0.04355757243436994, 0.04804127685914899, 0.05256915817127331, 0.04184612300136517, 0.04217046924327442, 0.04234395242489655, 0.0428005701598019, 0.04101904599202616, 0.039768128508688494, 0.06159432471595617, 0.05586693990511489, 0.058290380307009455, 0.05273491556796229, 0.0521197801330141, 0.05211514576258506, 0.0504038573844008, 0.046283223872431764, 0.046281641404480385, 0.04507010017312284, 0.046898442198558356, 0.043474701197911324, 0.04347122730397996, 0.04094806881446342, 0.046895247120408906, 0.03817800387894235, 0.04127061346076308, 0.03428007635666423, 0.034094400117035614, 0.034092621724480736, 0.03475254477023382, 0.05843151760936839, 0.031478316848745524, 0.031477265637892105, 0.03147708101663111, 0.03028536773192628, 0.029923510060377332, 0.02966689781093768, 0.029666193235921234, 0.02966182826182201, 0.04303461309285164, 0.03168607228407673, 0.03357769042088244, 0.04705970698614651, 0.038999572258148096, 0.0442489537853708, 0.04165261368866459, 0.044949960713366384, 0.038897397577420646, 0.040018674083275294, 0.048634466057935026, 0.04134427357611899, 0.05231076894362235, 0.03908572633475824, 0.04155947791416419, 0.04125729812328646, 0.0397192862179975, 0.04034546878635866, 0.08074402555647013, 0.07764885365328215, 0.06221074771830263, 0.05586343066474131, 0.054183025517907706, 0.05553539774001423, 0.057000652420113165, 0.04499491254906348, 0.039712856977958254, 0.03970666209473321, 0.04679274706334246, 0.045706114357378466, 0.03983658984508182, 0.03418948561109168, 0.05162450878280709, 0.044615459097252626, 0.03761711749582172, 0.03389061058594557, 0.03424819093132703, 0.03147146374182859, 0.034251277136754736, 0.03663067784980514, 0.04281420878279152, 0.03064589817182379, 0.03064136437125311, 0.030639557218196226, 0.03053430038429461, 0.03053272170032886, 0.030532041911147875, 0.030531403321311195, 0.03762378804420371, 0.04626838053604189, 0.04499335071937494, 0.04245229127007355, 0.04947172319039211, 0.05546165465910867, 0.046890868919889965, 0.043585842538407596, 0.0467211051489963, 0.06286838663363015, 0.038460748978302935, 0.049359818280478134, 0.048813413849370955, 0.043719107435644666, 0.041353916750983495, 0.03979356649344578, 0.04189626117397946, 0.05515826194870925, 0.05379644927307191, 0.05133641166385588, 0.0484259844820521, 0.04314375211042157, 0.048921013586099314, 0.0421272541334453, 0.04212097057388029, 0.04382663708530161, 0.041010607534067135, 0.06071690806862058, 0.03964524810526744, 0.041804747387602, 0.04281542780177912, 0.042756623447992415, 0.054632887579075876, 0.038024977350382926, 0.03663536020104946, 0.03495181744084525, 0.031633535835692776, 0.031233085583179367, 0.031232782315442856, 0.03123104407353847, 0.03123080737676851, 0.03123008988968457, 0.031229435275180153, 0.031227907841336514, 0.03122691667361231, 0.03108390374552563, 0.03107814165853194, 0.03776702595015893, 0.039021903463193196, 0.035998246464060246, 0.03681203584788875, 0.06893683213124456, 0.032670352751015215, 0.05706573094845582, 0.03679627702075132, 0.03934979506055306, 0.05216506856354744, 0.04001058956969927, 0.03661044786601127, 0.037776120283867204, 0.040535146595798884, 0.049110206148803834, 0.04754296972959868, 0.05148425792099451, 0.040342171381777744, 0.044515619614233386, 0.03848219798940234, 0.03504959277426254, 0.03504944436201564, 0.03504763867967833, 0.07931527688894781, 0.03094560765720058, 0.030312700538365905, 0.036115690506429175, 0.035912739850712735, 0.028461971992203766, 0.02719100352087639, 0.027189417364987627, 0.05056830391194356, 0.027189828590588418, 0.025061031148324833, 0.025059444992436068, 0.024166728321751593, 0.02416258514652558, 0.025353874792797534, 0.025781657634883014, 0.040429338841458086, 0.023128328025163007, 0.02505749708169548, 0.022516608300534476, 0.02535335534993338, 0.06494179194640659, 0.0357788781878509, 0.04937686276150289, 0.042452002975655996, 0.037730561073046204, 0.03251226897894899, 0.04508116303258368, 0.037059815015095185, 0.032090135078011214, 0.03897911311124778, 0.037169006233831396, 0.03147136113377213, 0.04429005773431708, 0.037857292764213124, 0.03347312387653137, 0.033953460113629146, 0.06131297428476165, 0.04304578215143916, 0.04304378131187471, 0.04037000877825268, 0.0403690686247224, 0.03600198918368407, 0.03600148596048037, 0.03599939472153801, 0.03369929705645202, 0.033697621654648055, 0.029791609174085666, 0.034567766893362877, 0.02971527593937698, 0.028541653962387194, 0.028541111566119725, 0.03962656429430639, 0.025975399435540815, 0.02597423629687835, 0.025973000838713556, 0.036493252549695133, 0.026586562509788834, 0.026585031746989528, 0.024496837757010195, 0.024495549565874953, 0.02449441354702586, 0.024493081662857963, 0.026587255571686157, 0.030759322461380644, 0.026564342342698125, 0.023073978668492503, 0.029516578106726934, 0.031731573797446795, 0.042017814665453394, 0.028538926914486857, 0.03859078027544385, 0.03777974116332034, 0.031138571958221242, 0.033599438890298094, 0.03034848139527248, 0.02969694595884907, 0.032177745953755464, 0.04314154522577368, 0.03187569451233891, 0.033543038718418954, 0.03378870505451935, 0.04874762977094884, 0.03863118169614698, 0.03669563407565136, 0.041838419922782505, 0.03486861753203675, 0.03439616445679387, 0.03038312041690834, 0.028916777577528068, 0.032924019910415006, 0.03877497248186402, 0.02719395461787204, 0.026794866664494453, 0.025101303169174017, 0.025100768220905133, 0.031081340963876436, 0.027691205578589426, 0.02333431664521691, 0.02333284140127953, 0.023329220849336016, 0.02273226821563947, 0.022732080707998835, 0.022731105944014042, 0.022730842606077557, 0.022729656895997045, 0.022728989589393594, 0.022728034127665928, 0.029680096365381523, 0.023996621206606734, 0.02256663141105534, 0.022567515178685115, 0.02981290140932937, 0.02615045529545913, 0.03819611433548914, 0.029596302509738336, 0.026136673483872167, 0.025494021377700488, 0.028601381453577435, 0.024090479810607746, 0.02347831699829702, 0.024839255726450467, 0.023998722395168013, 0.02343599817828399, 0.055461335766883044, 0.05572531828507418, 0.03361349206752986, 0.033611826677965875, 0.032754399033717546, 0.032678777817935906, 0.03536345105329374, 0.03293764670265392, 0.028745579254625373, 0.026326580030307363, 0.02632478934497681, 0.03202192259268066, 0.026244346852510713, 0.026126177282664843, 0.026124091630217155, 0.028751170578208536, 0.02418774997102419, 0.023442639540191545, 0.02114340218608623, 0.02114092498436801, 0.021140435547779845, 0.02113851956668272, 0.021057662031989863, 0.021026745301588837, 0.021026732249946486, 0.02102380215623869, 0.023548303026336696, 0.02108601411466892, 0.021981077474800565, 0.021745916898413122, 0.04024313905792729, 0.02358799307072606, 0.0315938783198091, 0.030773177997136466, 0.03674787791239036, 0.03371982640809185, 0.023491622353934812, 0.028380412573943945, 0.02186179590502639, 0.025451383880162395, 0.028084075034364706, 0.024733426086076756, 0.02492861600776429, 0.023876473521610004, 0.041582675860459224, 0.033891374174695885, 0.03240267074646815, 0.02653865054938272, 0.02376886769253201, 0.03181788684580653, 0.023591029289212632, 0.019950153361259722, 0.019152047291641373, 0.0191486673808506, 0.019146917032064902, 0.018403482873670416, 0.01840245512650206, 0.01840166047662962, 0.01840075775437453, 0.01840012627260923, 0.018420905837006948, 0.017253660532377552, 0.01725082628116585, 0.01798553518396095, 0.0168280110961044, 0.01682756079451002, 0.016826928253211557, 0.016826204592061054, 0.016825716147272796, 0.01676624878895205, 0.01796728578475708, 0.020464658427202766, 0.01657559957015578, 0.01677659830889071, 0.017648817663745445, 0.0197386302796142, 0.022864626066884275, 0.021748420593795104, 0.026910406831307004, 0.026305864756217035, 0.029326104300330166, 0.02181597854735045, 0.019349181912929916, 0.022436814123424922, 0.020922811162325035, 0.022538495402035993, 0.019577307879243614], \"Total\": [2.0, 0.0, 1.0, 2.0, 1.0, 0.0, 1.0, 1.0, 0.0, 2.0, 2.0, 0.0, 2.0, 1.0, 1.0, 0.0, 0.0, 1.0, 1.0, 0.0, 0.0, 2.0, 0.0, 1.0, 1.0, 1.0, 1.0, 1.0, 1.0, 1.0, 1.639228840650786, 2.0176797787143244, 1.6762000208218075, 1.0415341354000773, 1.3775377614575748, 2.038147077444499, 1.4119777251460295, 1.2912417659830098, 1.4514275753537438, 1.0846596676795737, 0.8201036325979867, 1.4454321987694199, 0.9063815953194388, 1.0169530571956709, 0.8077321671385188, 1.5043845504845124, 1.334459079115756, 1.2697841724923737, 0.893118723844147, 1.169850070673028, 1.3883211252942531, 1.1618854235875626, 0.7701480070129221, 1.0361075086142553, 1.6584404248933857, 1.314967027879919, 0.7640927982168545, 1.0350547356327793, 1.5443906780188639, 0.8323083666222183, 2.76361963102449, 1.5719857245664222, 1.6266134912948074, 1.5694855032917578, 1.909495536156999, 1.6595010434572368, 1.7152160971692956, 1.4915600582181892, 1.9693427179969236, 1.85157301992958, 2.428500278402109, 1.9481221369637114, 1.9132725732430877, 2.68256634744533, 1.9522810739581904, 1.812423577765234, 2.4901974501771553, 2.2423575794841475, 1.9083601007607587, 1.634950145443934, 2.005838790860068, 1.7708901022676362, 1.736569474067105, 1.6467266725923526, 2.226717167119316, 1.7301815254212005, 1.86237010939118, 2.0283607182248704, 0.40165921896412765, 0.4105331717849986, 0.4287887715773055, 0.34032050906728323, 0.3749574989886022, 0.3223157519665735, 0.31907259272059824, 0.3132528266336472, 0.39776504359531817, 0.36098873975485307, 0.35741893837647026, 0.3656777930111472, 0.4658752013081572, 0.3577345502658878, 0.3083246084058628, 0.3146474363732081, 0.32528523791936176, 0.32946151234556287, 0.3179307226834939, 0.3460804120248231, 0.4894125264823027, 0.35950655230080264, 0.5369164526406561, 0.4410709205661459, 0.3601136619895897, 0.293455037070357, 0.2996485747260589, 0.2986232194588012, 0.4347670436675843, 0.29177810028445605, 0.5365074857693304, 0.43714286446342315, 0.45960133200596176, 0.44972460205174075, 1.5843389817472886, 0.8404180006535032, 0.7043340118629163, 0.829153743792976, 0.6341522459244706, 0.608602248556446, 0.4278677465453351, 2.226717167119316, 0.9830333840914414, 0.5113501672018566, 1.0879487552545737, 1.600740377403213, 1.3350229364818735, 1.86237010939118, 2.2423575794841475, 1.5667566300858977, 1.385138247301398, 0.8466086460834485, 0.8587961989309381, 1.0317015319025935, 2.68256634744533, 1.5901157463752067, 0.8848098309097818, 0.34946862643425364, 0.3421411918747144, 0.33047966565902603, 0.3186961053101285, 0.30257082614945924, 0.30207297540271266, 0.3015105165001032, 0.29970142799919586, 0.2987095477232409, 0.2987058492541635, 0.29676869621315083, 0.2900587057581784, 0.28748378096586114, 0.29920784887388713, 0.28046947322397753, 0.43175498803609297, 0.2833536947091167, 0.3504888523507256, 0.2769892905538801, 0.27698549233356207, 0.27559166057441825, 0.3502202332420454, 0.28440875357564593, 0.3421513219459665, 0.2728271930561741, 0.2728238015139911, 0.34463409583206234, 0.275307599762252, 0.3089663213010317, 0.269588670588098, 0.2991209936582758, 0.4375591327985482, 0.6955967964737715, 1.333652677225763, 0.47820907915126987, 0.5408486953737973, 0.46192783900291595, 1.854548618685824, 0.6720400281201842, 0.7844341051119543, 0.6019965161617356, 0.668487265155105, 1.5843389817472886, 1.591463169046339, 2.0283607182248704, 2.4901974501771553, 0.9733285764467131, 1.1270378195173942, 2.226717167119316, 1.420600083621562, 1.5969192897195625, 1.9522810739581904, 0.321139935115506, 0.32111993381572274, 0.36355948779300673, 0.3034309141659835, 0.29678979312457543, 0.29471895447683444, 0.3481219525228469, 0.2871587008730337, 0.28715694101840994, 0.37448117346321375, 0.27786012142256633, 0.27785901745472114, 0.2857351296596842, 0.27398097323246035, 0.2705176400920992, 0.26668309104599164, 0.266679194688891, 0.26667882453496644, 0.26662816006174805, 0.329571349048437, 0.2691142963017296, 0.3794727296952828, 0.5164295539621514, 0.2607683052334634, 0.2607651881477829, 0.2607641166495802, 0.25937808617690417, 0.26532778234042553, 0.27416636115371484, 0.28950895621269224, 0.4277164159845833, 0.37887749520404984, 0.33319506596572157, 0.48161153670054163, 0.5301277856581839, 0.558638788093355, 0.6651188344793462, 1.2255180707471536, 0.7844341051119543, 0.4868198354643554, 0.9504952075833937, 0.49599959213578027, 0.48711687183395774, 1.0451116458571277, 2.76361963102449, 2.0283607182248704, 2.68256634744533, 2.428500278402109, 1.0520537818241515, 0.29586992003109747, 0.28832129511844157, 0.2844348377650313, 0.2936334802817626, 0.27310503464062796, 0.29850886501571444, 0.2663217662183114, 0.27470205764109334, 0.2634329011895412, 0.2630566732224949, 0.26305415244603825, 0.4320419864807685, 0.33049056726446885, 0.3183057013336035, 0.25797939051860863, 0.25609418288245456, 0.29901002360244766, 0.2870959294651248, 0.27828939252508406, 0.4410709205661459, 0.3060899664251756, 0.2512977058862502, 0.2508174955844125, 0.32811918341335816, 0.31444323770879784, 0.24948221671335805, 0.2493743334351878, 0.24937158937317092, 0.2493655518491402, 0.3270722769185103, 0.5339698302196355, 0.39449476715598475, 0.39922296340383673, 0.4010518523850459, 0.4514884409758373, 0.3502202332420454, 0.7169304121318819, 0.753334820258088, 0.8742163756094803, 1.9132725732430877, 0.9514921805513594, 1.4598833605018064, 0.5848529103976091, 0.9313704027746854, 2.4901974501771553, 0.6403809937453164, 1.3488829571281473, 1.1378452855877625, 1.022917750742009, 1.0720996130616134, 2.0283607182248704, 0.31464354845222886, 0.3919534187507444, 0.28195783788364676, 0.49220293980052565, 0.30614808694098594, 0.2779198420610351, 0.3004911042769134, 0.2754751254800214, 0.46066016119137065, 0.2722928519640497, 0.30278725823857566, 0.27037442084125035, 0.26353554088113845, 0.26353385021508013, 0.3154308223699821, 0.26225122147158575, 0.262250611437441, 0.2880106794824336, 0.2561393572525541, 0.33231741768657097, 0.30291441624679427, 0.3029065149658397, 0.25509389632381196, 0.25508780179221346, 0.25441055137662005, 0.25420850225803177, 0.2529131145125989, 0.2881481205009503, 0.2811929901059039, 0.25555711010449933, 0.3804727966587025, 0.3483885258142787, 0.5679525321039087, 0.5668355473213068, 0.42314977615015903, 0.5504380821185113, 0.8890057731605799, 2.226717167119316, 0.7565164137515353, 1.052959180901226, 1.744931878177959, 2.0283607182248704, 0.6669547100081656, 0.9218277292983543, 0.655944173069083, 0.7169304121318819, 2.68256634744533, 1.0520537818241515, 2.76361963102449, 1.138385275917902, 1.7301815254212005, 0.3409469996280099, 0.294160786568893, 0.290738393819119, 0.29073258804907437, 0.2878774771931679, 0.2695136801965913, 0.303885482366819, 0.28407047564208854, 0.26789539029206183, 0.3106626073080121, 0.42314977615015903, 0.3572855143372117, 0.26092463354331097, 0.26550070219411986, 0.27170443499450664, 0.25748080738944795, 0.26655062839220994, 0.2777839969821325, 0.3467625343281632, 0.6304331190851484, 0.25653467175180583, 0.28637804681776624, 0.29998046349555024, 0.25277857064674225, 0.25277599976323273, 0.25133721476020704, 0.2513347914329255, 0.2513339656855731, 0.25133298386913344, 0.25133212407034383, 0.27343916265744833, 0.38167094527125733, 0.26906788333702486, 0.3349139683973463, 0.2824762584933335, 0.5302755526983081, 0.47603681592258396, 0.4235627810407901, 0.35795420624490815, 0.5104290457162382, 1.0916001488339893, 0.754146412670922, 0.5083688430893554, 1.854548618685824, 0.6850251394863023, 1.4596549763235336, 2.4901974501771553, 1.5843389817472886, 2.226717167119316, 1.3832792985747524, 1.591463169046339, 1.2806388544588507, 1.3009328631032013, 0.32196858321663546, 0.2845914836228824, 0.2642784587463245, 0.2640461015315932, 0.26918920353798637, 0.283182251814062, 0.33681011985396203, 0.2723101029160383, 0.2530112394713504, 0.3919534187507444, 0.28130490846817735, 0.24951265913441817, 0.24766334635137183, 0.41560423840834293, 0.2606812980099386, 0.3916148957040128, 0.24431604405018434, 0.27321962296285984, 0.37169929328243934, 0.2638752114918723, 0.25259674451767067, 0.43781096284139853, 0.26403795797049734, 0.5673058062278571, 0.23806161869126777, 0.320219882725321, 0.2732395415624684, 0.2643176080598123, 0.28616359343107206, 0.27093517395638084, 0.28541409562156017, 0.5291281768891403, 0.3501811597050927, 0.3029065149658397, 0.5620820407850103, 0.35885137231229164, 2.2423575794841475, 0.30291441624679427, 0.46448448493109523, 1.6983985254101628, 1.5123547723356878, 1.0384237980333448, 2.428500278402109, 1.7708901022676362, 0.5999290729411105, 1.487223683533262, 1.046349692195089, 1.551992174740996, 2.4901974501771553, 1.812423577765234, 0.2902802460144384, 0.28316729710405975, 0.28090644913188817, 0.2546263789186279, 0.3206714585821825, 0.2524095940954677, 0.25234994520592074, 0.27214102464306766, 0.28316213124686695, 0.2700241998703783, 0.2528456349545185, 0.25274363833485375, 0.25330202693853965, 0.24368569381901367, 0.24368416877067897, 0.2435045848817902, 0.2431290355915435, 0.2638980426014376, 0.24117695434782802, 0.24117631344143925, 0.2729944379856151, 0.24104293687020442, 0.27956724611222905, 0.2396243679449012, 0.2396233911417906, 0.26869843277512534, 0.23940063617346075, 0.23939884086339583, 0.23939847407961912, 0.2562701638167634, 0.5365074857693304, 0.4132764260741351, 0.30230745024679523, 0.3174030985758463, 0.48711687183395774, 0.498643177669291, 0.829837912081901, 0.6955967964737715, 0.5677437606891247, 2.226717167119316, 0.9668211334051167, 0.6543627323616119, 0.6850251394863023, 1.464120266146065, 2.0283607182248704, 0.27371012666366745, 0.26661488257047683, 0.2577520369662639, 0.25793167118592647, 0.263341085771624, 0.24912947158060997, 0.24912798516994095, 0.24820269458498664, 0.32422955462962194, 0.24611022089961335, 0.24610815898122373, 0.2654538361576055, 0.2666313368834762, 0.24679911623509546, 0.2440584405930432, 0.24904654940190601, 0.24121406413683294, 0.24121125139049002, 0.24378018415360989, 0.24007984138145494, 0.24007673516428762, 0.2400757442238416, 0.2523141543936928, 0.2905235436646725, 0.2587550603120267, 0.2747354097987391, 0.25625790721627123, 0.25119096270517643, 0.238488911297144, 0.23809297162669096, 0.8742163756094803, 0.33455351994359883, 0.37141071437945944, 0.6955967964737715, 0.7043340118629163, 0.4985489691432821, 1.0916001488339893, 0.7169304121318819, 0.4649690041333282, 0.4705390373104862, 0.6861155910086016, 1.0341819246167576, 0.6850251394863023, 1.237846794131285, 1.359162841372215, 1.5843389817472886, 2.005838790860068, 0.8943435884990254, 0.26883008931800795, 0.263102712158042, 0.274790666549084, 0.259970680170014, 0.2593555613485407, 0.25935092697811163, 0.2576396219864525, 0.2535189884744835, 0.2535174060065321, 0.2523058800769253, 0.26461089626085527, 0.2507104657999631, 0.2507069919060317, 0.24818384871826588, 0.2842848857127469, 0.24759713101581693, 0.2754656861900548, 0.2415158562604667, 0.24133020428518834, 0.24132842589263345, 0.25589889753122297, 0.43781096284139853, 0.23871410440342336, 0.23871305319256994, 0.23871286857130894, 0.23908131417977038, 0.2371592746624291, 0.23690390040890372, 0.23690378445850196, 0.23689991071348038, 0.38762548628347754, 0.26057720509908366, 0.28496985410901654, 0.4726326071660702, 0.3577345502658878, 0.4541114527885069, 0.42314977615015903, 0.5811725176182234, 0.4138584905269332, 0.46066016119137065, 0.8155676673812796, 0.5673058062278571, 2.226717167119316, 0.48711687183395774, 1.0720996130616134, 1.046349692195089, 1.0341819246167576, 2.68256634744533, 0.2879935229876492, 0.2848983357827105, 0.2833061607019413, 0.2631129280959203, 0.261432507647336, 0.2802230908948049, 0.33049056726446885, 0.26607673585108665, 0.24696235440913727, 0.2469561595259122, 0.305117903919617, 0.30554946867241006, 0.2758324500114385, 0.24143899965574556, 0.3717494179232951, 0.3219437021728795, 0.2755714417847176, 0.25449953240013296, 0.2594546039923372, 0.23872097647475832, 0.26126738206682854, 0.28306175790130783, 0.3316739759525293, 0.2378953803012521, 0.23789084650068143, 0.23788903934762454, 0.23778378251372292, 0.23778220382975718, 0.23778152404057618, 0.2377808854507395, 0.3052114778745853, 0.3984542493557629, 0.4152032545708894, 0.4048179466283057, 0.5318073414372261, 0.6713724774065104, 0.558717272352219, 0.5079566149657226, 0.6835841458909789, 2.0176797787143244, 0.3907209521485455, 1.3929828454004785, 1.5843389817472886, 0.9830333840914414, 0.9398479426212345, 0.636890908644291, 1.854548618685824, 0.26248736947955686, 0.2611255568039195, 0.26228117858392275, 0.2557550843620244, 0.2504728672921446, 0.2865507957131605, 0.24945636931516832, 0.2494500857556033, 0.2618118311073759, 0.2483397303666655, 0.37141071437945944, 0.24697435694783923, 0.2716324841773387, 0.2789661949334433, 0.28619752489001443, 0.3804727966587025, 0.27656085327512625, 0.26893744971561484, 0.2638877061447113, 0.24127182964977803, 0.23856220076490237, 0.23856189749716586, 0.23856015925526147, 0.2385599225584915, 0.23855920507140757, 0.23855855045690316, 0.2385570230230595, 0.2385560318553353, 0.23841302657812402, 0.23840726449113034, 0.2999957439843305, 0.3215905384788688, 0.2912447387998995, 0.30658643696266924, 0.8587961989309381, 0.25806411862894296, 1.0295007648429315, 0.35741893837647026, 0.42716872735324246, 1.0653867561953252, 0.9398479426212345, 0.6556019861349482, 0.8742163756094803, 2.0283607182248704, 0.2574209029564755, 0.2558536754998698, 0.2888823052247145, 0.24865287584032475, 0.28872846351414366, 0.26320720297217726, 0.24336029089365835, 0.24336014248141147, 0.24335833679907415, 0.6122443789703383, 0.23925633638009786, 0.23862340499691292, 0.2867503294951086, 0.30845023618837225, 0.24521274069255353, 0.24005470714137198, 0.24377252876214475, 0.4582293366093078, 0.24692481759937612, 0.23337175090862258, 0.2333701647527338, 0.23247746338380007, 0.23247332020857406, 0.24456312815640777, 0.2531988180101604, 0.39776504359531817, 0.23143907838896222, 0.25214993639728783, 0.23082741615563365, 0.26136974382974504, 0.6713724774065104, 0.36983474390265014, 0.5848529103976091, 0.5574659087580494, 0.48383507302372564, 0.38660395899913225, 0.6861155910086016, 0.49160527936476234, 0.3887636391128408, 0.6234312524408571, 0.6879321742352149, 0.3979442736675265, 1.487223683533262, 1.0317015319025935, 0.6602549260575826, 1.5969192897195625, 0.26969582057477615, 0.2514286215168094, 0.25142662067724497, 0.24875286474027164, 0.24875192458674134, 0.24438484312457392, 0.2443843399013702, 0.24438224866242786, 0.24208215099734187, 0.24208047559553791, 0.2381744860676016, 0.28854489227736996, 0.24957116634514562, 0.24989426076111226, 0.2539686373851424, 0.35277266716782263, 0.23435826867818138, 0.2343571055395189, 0.23435587008135414, 0.3297838831914789, 0.24869196604098878, 0.2490920049632081, 0.23287967930107384, 0.2328783911099386, 0.2328772550910895, 0.2328759232069216, 0.2528826915243912, 0.2927903482573321, 0.26195497022764086, 0.23145688167880954, 0.2999957439843305, 0.3403798508508221, 0.5369164526406561, 0.2991209936582758, 0.5145147779451745, 0.5104290457162382, 0.35487893977712637, 0.4132764260741351, 0.35082577021516276, 0.3401974304312744, 0.46448448493109523, 1.5843389817472886, 0.5206557206628578, 1.591463169046339, 2.005838790860068, 0.2669538390148231, 0.24739152104746293, 0.24545599004044216, 0.2826594175033081, 0.24362895688335268, 0.25093209042825965, 0.23914346741909964, 0.2376771425049184, 0.27956724611222905, 0.33455351994359883, 0.23979615567627974, 0.24003046731153035, 0.23386166547311607, 0.23386113052484717, 0.2929051741991167, 0.2693593860516125, 0.23209469687435794, 0.23209322163042057, 0.23208960107847704, 0.2314926152178308, 0.23149242771019016, 0.23149145294620535, 0.23149118960826887, 0.23149000389818836, 0.2314893365915849, 0.23148838112985726, 0.3106626073080121, 0.2619550271313268, 0.2515033115703764, 0.2554090291108254, 0.3461787794835759, 0.3174030985758463, 0.6234312524408571, 0.42978260209631947, 0.3504888523507256, 0.3385257882334875, 0.8155676673812796, 0.39480548099381996, 0.32805780049098193, 1.1361643843612228, 0.6967487498988217, 0.9023361875353906, 0.2842556514224313, 0.2891309022996633, 0.24266666058866176, 0.2426649951990978, 0.2418075774765955, 0.2474482526898093, 0.27912227270880335, 0.26159956683187824, 0.24537556851976577, 0.2353797630149267, 0.23537797232959615, 0.28637804681776624, 0.23529753832626868, 0.2351793687564228, 0.23517728310397512, 0.2708020060326418, 0.23324092614303144, 0.2486698907684828, 0.23019658600896886, 0.23019410880725064, 0.23019361937066246, 0.23019170338956535, 0.2301108930718488, 0.2300799750297236, 0.23007996197808128, 0.23007703188437348, 0.25806411862894296, 0.23201257213554044, 0.24190078586089347, 0.2395726837332435, 0.4577534024016685, 0.2824762584933335, 0.5365074857693304, 0.5318073414372261, 0.829837912081901, 0.6861155910086016, 0.2997302175264007, 0.6131092762039158, 0.25733358749877794, 0.5690745732074775, 1.052959180901226, 0.7466480270710022, 1.61691033995431, 0.6921079405243736, 0.2640839927462519, 0.24387300188410904, 0.24238429080500595, 0.23652028590967125, 0.2337505196662954, 0.35050895136295, 0.27227524333469233, 0.237448192249058, 0.22913370560455598, 0.2291303256937652, 0.2291285753449795, 0.22838512588483428, 0.22838409813766594, 0.22838330348779348, 0.2283824007655384, 0.2283817692837731, 0.24095067496378383, 0.2272353636582897, 0.227232529407078, 0.2419917278346438, 0.22680968471076973, 0.22680923440917533, 0.22680860186787688, 0.22680787820672638, 0.22680738976193812, 0.2267479403288164, 0.24436512295079965, 0.27852307117897895, 0.23567957393445582, 0.24386996449771753, 0.2581785272514179, 0.295805751433799, 0.3598330380055294, 0.3438631624923637, 0.6713724774065104, 0.6581747024587756, 0.8983695000282551, 0.4375591327985482, 0.3297838831914789, 0.6068766980215928, 0.8848481114494952, 1.744931878177959, 0.6357376543978863], \"Category\": [\"Default\", \"Default\", \"Default\", \"Default\", \"Default\", \"Default\", \"Default\", \"Default\", \"Default\", \"Default\", \"Default\", \"Default\", \"Default\", \"Default\", \"Default\", \"Default\", \"Default\", \"Default\", \"Default\", \"Default\", \"Default\", \"Default\", \"Default\", \"Default\", \"Default\", \"Default\", \"Default\", \"Default\", \"Default\", \"Default\", \"Topic1\", \"Topic1\", \"Topic1\", \"Topic1\", \"Topic1\", \"Topic1\", \"Topic1\", \"Topic1\", \"Topic1\", \"Topic1\", \"Topic1\", \"Topic1\", \"Topic1\", \"Topic1\", \"Topic1\", \"Topic1\", \"Topic1\", \"Topic1\", \"Topic1\", \"Topic1\", \"Topic1\", \"Topic1\", \"Topic1\", \"Topic1\", \"Topic1\", \"Topic1\", \"Topic1\", \"Topic1\", \"Topic1\", \"Topic1\", \"Topic1\", \"Topic1\", \"Topic1\", \"Topic1\", \"Topic1\", \"Topic1\", \"Topic1\", \"Topic1\", \"Topic1\", \"Topic1\", \"Topic1\", \"Topic1\", \"Topic1\", \"Topic1\", \"Topic1\", \"Topic1\", \"Topic1\", \"Topic1\", \"Topic1\", \"Topic1\", \"Topic1\", \"Topic1\", \"Topic1\", \"Topic1\", \"Topic1\", \"Topic1\", \"Topic1\", \"Topic1\", \"Topic2\", \"Topic2\", \"Topic2\", \"Topic2\", \"Topic2\", \"Topic2\", \"Topic2\", \"Topic2\", \"Topic2\", \"Topic2\", \"Topic2\", \"Topic2\", \"Topic2\", \"Topic2\", \"Topic2\", \"Topic2\", \"Topic2\", \"Topic2\", \"Topic2\", \"Topic2\", \"Topic2\", \"Topic2\", \"Topic2\", \"Topic2\", \"Topic2\", \"Topic2\", \"Topic2\", \"Topic2\", \"Topic2\", \"Topic2\", \"Topic2\", \"Topic2\", \"Topic2\", \"Topic2\", \"Topic2\", \"Topic2\", \"Topic2\", \"Topic2\", \"Topic2\", \"Topic2\", \"Topic2\", \"Topic2\", \"Topic2\", \"Topic2\", \"Topic2\", \"Topic2\", \"Topic2\", \"Topic2\", \"Topic2\", \"Topic2\", \"Topic2\", \"Topic2\", \"Topic2\", \"Topic2\", \"Topic2\", \"Topic2\", \"Topic2\", \"Topic3\", \"Topic3\", \"Topic3\", \"Topic3\", \"Topic3\", \"Topic3\", \"Topic3\", \"Topic3\", \"Topic3\", \"Topic3\", \"Topic3\", \"Topic3\", \"Topic3\", \"Topic3\", \"Topic3\", \"Topic3\", \"Topic3\", \"Topic3\", \"Topic3\", \"Topic3\", \"Topic3\", \"Topic3\", \"Topic3\", \"Topic3\", \"Topic3\", \"Topic3\", \"Topic3\", \"Topic3\", \"Topic3\", \"Topic3\", \"Topic3\", \"Topic3\", \"Topic3\", \"Topic3\", \"Topic3\", \"Topic3\", \"Topic3\", \"Topic3\", \"Topic3\", \"Topic3\", \"Topic3\", \"Topic3\", \"Topic3\", \"Topic3\", \"Topic3\", \"Topic3\", \"Topic3\", \"Topic3\", \"Topic3\", \"Topic3\", \"Topic3\", \"Topic3\", \"Topic4\", \"Topic4\", \"Topic4\", \"Topic4\", \"Topic4\", \"Topic4\", \"Topic4\", \"Topic4\", \"Topic4\", \"Topic4\", \"Topic4\", \"Topic4\", \"Topic4\", \"Topic4\", \"Topic4\", \"Topic4\", \"Topic4\", \"Topic4\", \"Topic4\", \"Topic4\", \"Topic4\", \"Topic4\", \"Topic4\", \"Topic4\", \"Topic4\", \"Topic4\", \"Topic4\", \"Topic4\", \"Topic4\", \"Topic4\", \"Topic4\", \"Topic4\", \"Topic4\", \"Topic4\", \"Topic4\", \"Topic4\", \"Topic4\", \"Topic4\", \"Topic4\", \"Topic4\", \"Topic4\", \"Topic4\", \"Topic4\", \"Topic4\", \"Topic4\", \"Topic4\", \"Topic4\", \"Topic4\", \"Topic4\", \"Topic5\", \"Topic5\", \"Topic5\", \"Topic5\", \"Topic5\", \"Topic5\", \"Topic5\", \"Topic5\", \"Topic5\", \"Topic5\", \"Topic5\", \"Topic5\", \"Topic5\", \"Topic5\", \"Topic5\", \"Topic5\", \"Topic5\", \"Topic5\", \"Topic5\", \"Topic5\", \"Topic5\", \"Topic5\", \"Topic5\", \"Topic5\", \"Topic5\", \"Topic5\", \"Topic5\", \"Topic5\", \"Topic5\", \"Topic5\", \"Topic5\", \"Topic5\", \"Topic5\", \"Topic5\", \"Topic5\", \"Topic5\", \"Topic5\", \"Topic5\", \"Topic5\", \"Topic5\", \"Topic5\", \"Topic5\", \"Topic5\", \"Topic5\", \"Topic5\", \"Topic5\", \"Topic5\", \"Topic5\", \"Topic5\", \"Topic5\", \"Topic5\", \"Topic6\", \"Topic6\", \"Topic6\", \"Topic6\", \"Topic6\", \"Topic6\", \"Topic6\", \"Topic6\", \"Topic6\", \"Topic6\", \"Topic6\", \"Topic6\", \"Topic6\", \"Topic6\", \"Topic6\", \"Topic6\", \"Topic6\", \"Topic6\", \"Topic6\", \"Topic6\", \"Topic6\", \"Topic6\", \"Topic6\", \"Topic6\", \"Topic6\", \"Topic6\", \"Topic6\", \"Topic6\", \"Topic6\", \"Topic6\", \"Topic6\", \"Topic6\", \"Topic6\", \"Topic6\", \"Topic6\", \"Topic6\", \"Topic6\", \"Topic6\", \"Topic6\", \"Topic6\", \"Topic6\", \"Topic6\", \"Topic6\", \"Topic6\", \"Topic6\", \"Topic6\", \"Topic6\", \"Topic6\", \"Topic6\", \"Topic6\", \"Topic6\", \"Topic7\", \"Topic7\", \"Topic7\", \"Topic7\", \"Topic7\", \"Topic7\", \"Topic7\", \"Topic7\", \"Topic7\", \"Topic7\", \"Topic7\", \"Topic7\", \"Topic7\", \"Topic7\", \"Topic7\", \"Topic7\", \"Topic7\", \"Topic7\", \"Topic7\", \"Topic7\", \"Topic7\", \"Topic7\", \"Topic7\", \"Topic7\", \"Topic7\", \"Topic7\", \"Topic7\", \"Topic7\", \"Topic7\", \"Topic7\", \"Topic7\", \"Topic7\", \"Topic7\", \"Topic7\", \"Topic7\", \"Topic7\", \"Topic7\", \"Topic7\", \"Topic7\", \"Topic7\", \"Topic7\", \"Topic7\", \"Topic7\", \"Topic7\", \"Topic7\", \"Topic7\", \"Topic7\", \"Topic7\", \"Topic7\", \"Topic7\", \"Topic7\", \"Topic7\", \"Topic7\", \"Topic8\", \"Topic8\", \"Topic8\", \"Topic8\", \"Topic8\", \"Topic8\", \"Topic8\", \"Topic8\", \"Topic8\", \"Topic8\", \"Topic8\", \"Topic8\", \"Topic8\", \"Topic8\", \"Topic8\", \"Topic8\", \"Topic8\", \"Topic8\", \"Topic8\", \"Topic8\", \"Topic8\", \"Topic8\", \"Topic8\", \"Topic8\", \"Topic8\", \"Topic8\", \"Topic8\", \"Topic8\", \"Topic8\", \"Topic8\", \"Topic8\", \"Topic8\", \"Topic8\", \"Topic8\", \"Topic8\", \"Topic8\", \"Topic8\", \"Topic8\", \"Topic8\", \"Topic8\", \"Topic8\", \"Topic8\", \"Topic8\", \"Topic8\", \"Topic8\", \"Topic8\", \"Topic8\", \"Topic8\", \"Topic8\", \"Topic8\", \"Topic9\", \"Topic9\", \"Topic9\", \"Topic9\", \"Topic9\", \"Topic9\", \"Topic9\", \"Topic9\", \"Topic9\", \"Topic9\", \"Topic9\", \"Topic9\", \"Topic9\", \"Topic9\", \"Topic9\", \"Topic9\", \"Topic9\", \"Topic9\", \"Topic9\", \"Topic9\", \"Topic9\", \"Topic9\", \"Topic9\", \"Topic9\", \"Topic9\", \"Topic9\", \"Topic9\", \"Topic9\", \"Topic9\", \"Topic9\", \"Topic9\", \"Topic9\", \"Topic9\", \"Topic9\", \"Topic9\", \"Topic9\", \"Topic9\", \"Topic9\", \"Topic9\", \"Topic9\", \"Topic9\", \"Topic9\", \"Topic9\", \"Topic9\", \"Topic9\", \"Topic10\", \"Topic10\", \"Topic10\", \"Topic10\", \"Topic10\", \"Topic10\", \"Topic10\", \"Topic10\", \"Topic10\", \"Topic10\", \"Topic10\", \"Topic10\", \"Topic10\", \"Topic10\", \"Topic10\", \"Topic10\", \"Topic10\", \"Topic10\", \"Topic10\", \"Topic10\", \"Topic10\", \"Topic10\", \"Topic10\", \"Topic10\", \"Topic10\", \"Topic10\", \"Topic10\", \"Topic10\", \"Topic10\", \"Topic10\", \"Topic10\", \"Topic10\", \"Topic10\", \"Topic10\", \"Topic10\", \"Topic10\", \"Topic10\", \"Topic10\", \"Topic10\", \"Topic10\", \"Topic10\", \"Topic10\", \"Topic10\", \"Topic10\", \"Topic10\", \"Topic10\", \"Topic10\", \"Topic10\", \"Topic11\", \"Topic11\", \"Topic11\", \"Topic11\", \"Topic11\", \"Topic11\", \"Topic11\", \"Topic11\", \"Topic11\", \"Topic11\", \"Topic11\", \"Topic11\", \"Topic11\", \"Topic11\", \"Topic11\", \"Topic11\", \"Topic11\", \"Topic11\", \"Topic11\", \"Topic11\", \"Topic11\", \"Topic11\", \"Topic11\", \"Topic11\", \"Topic11\", \"Topic11\", \"Topic11\", \"Topic11\", \"Topic11\", \"Topic11\", \"Topic11\", \"Topic11\", \"Topic11\", \"Topic11\", \"Topic11\", \"Topic11\", \"Topic11\", \"Topic11\", \"Topic11\", \"Topic11\", \"Topic11\", \"Topic11\", \"Topic11\", \"Topic11\", \"Topic11\", \"Topic11\", \"Topic11\", \"Topic11\", \"Topic12\", \"Topic12\", \"Topic12\", \"Topic12\", \"Topic12\", \"Topic12\", \"Topic12\", \"Topic12\", \"Topic12\", \"Topic12\", \"Topic12\", \"Topic12\", \"Topic12\", \"Topic12\", \"Topic12\", \"Topic12\", \"Topic12\", \"Topic12\", \"Topic12\", \"Topic12\", \"Topic12\", \"Topic12\", \"Topic12\", \"Topic12\", \"Topic12\", \"Topic12\", \"Topic12\", \"Topic12\", \"Topic12\", \"Topic12\", \"Topic12\", \"Topic12\", \"Topic12\", \"Topic12\", \"Topic12\", \"Topic12\", \"Topic12\", \"Topic12\", \"Topic12\", \"Topic12\", \"Topic12\", \"Topic12\", \"Topic12\", \"Topic12\", \"Topic12\", \"Topic12\", \"Topic12\", \"Topic13\", \"Topic13\", \"Topic13\", \"Topic13\", \"Topic13\", \"Topic13\", \"Topic13\", \"Topic13\", \"Topic13\", \"Topic13\", \"Topic13\", \"Topic13\", \"Topic13\", \"Topic13\", \"Topic13\", \"Topic13\", \"Topic13\", \"Topic13\", \"Topic13\", \"Topic13\", \"Topic13\", \"Topic13\", \"Topic13\", \"Topic13\", \"Topic13\", \"Topic13\", \"Topic13\", \"Topic13\", \"Topic13\", \"Topic13\", \"Topic13\", \"Topic13\", \"Topic13\", \"Topic13\", \"Topic13\", \"Topic13\", \"Topic13\", \"Topic13\", \"Topic13\", \"Topic13\", \"Topic13\", \"Topic13\", \"Topic13\", \"Topic13\", \"Topic14\", \"Topic14\", \"Topic14\", \"Topic14\", \"Topic14\", \"Topic14\", \"Topic14\", \"Topic14\", \"Topic14\", \"Topic14\", \"Topic14\", \"Topic14\", \"Topic14\", \"Topic14\", \"Topic14\", \"Topic14\", \"Topic14\", \"Topic14\", \"Topic14\", \"Topic14\", \"Topic14\", \"Topic14\", \"Topic14\", \"Topic14\", \"Topic14\", \"Topic14\", \"Topic14\", \"Topic14\", \"Topic14\", \"Topic14\", \"Topic14\", \"Topic14\", \"Topic14\", \"Topic14\", \"Topic14\", \"Topic14\", \"Topic14\", \"Topic14\", \"Topic14\", \"Topic14\", \"Topic14\", \"Topic14\", \"Topic14\", \"Topic14\", \"Topic14\", \"Topic14\", \"Topic15\", \"Topic15\", \"Topic15\", \"Topic15\", \"Topic15\", \"Topic15\", \"Topic15\", \"Topic15\", \"Topic15\", \"Topic15\", \"Topic15\", \"Topic15\", \"Topic15\", \"Topic15\", \"Topic15\", \"Topic15\", \"Topic15\", \"Topic15\", \"Topic15\", \"Topic15\", \"Topic15\", \"Topic15\", \"Topic15\", \"Topic15\", \"Topic15\", \"Topic15\", \"Topic15\", \"Topic15\", \"Topic15\", \"Topic15\", \"Topic15\", \"Topic15\", \"Topic15\", \"Topic15\", \"Topic15\", \"Topic15\", \"Topic15\", \"Topic15\", \"Topic15\", \"Topic15\", \"Topic15\", \"Topic15\", \"Topic15\", \"Topic15\", \"Topic15\", \"Topic16\", \"Topic16\", \"Topic16\", \"Topic16\", \"Topic16\", \"Topic16\", \"Topic16\", \"Topic16\", \"Topic16\", \"Topic16\", \"Topic16\", \"Topic16\", \"Topic16\", \"Topic16\", \"Topic16\", \"Topic16\", \"Topic16\", \"Topic16\", \"Topic16\", \"Topic16\", \"Topic16\", \"Topic16\", \"Topic16\", \"Topic16\", \"Topic16\", \"Topic16\", \"Topic16\", \"Topic16\", \"Topic16\", \"Topic16\", \"Topic16\", \"Topic16\", \"Topic16\", \"Topic16\", \"Topic16\", \"Topic16\", \"Topic16\", \"Topic16\", \"Topic16\", \"Topic16\", \"Topic16\", \"Topic16\", \"Topic17\", \"Topic17\", \"Topic17\", \"Topic17\", \"Topic17\", \"Topic17\", \"Topic17\", \"Topic17\", \"Topic17\", \"Topic17\", \"Topic17\", \"Topic17\", \"Topic17\", \"Topic17\", \"Topic17\", \"Topic17\", \"Topic17\", \"Topic17\", \"Topic17\", \"Topic17\", \"Topic17\", \"Topic17\", \"Topic17\", \"Topic17\", \"Topic17\", \"Topic17\", \"Topic17\", \"Topic17\", \"Topic17\", \"Topic17\", \"Topic17\", \"Topic17\", \"Topic17\", \"Topic17\", \"Topic17\", \"Topic17\", \"Topic17\", \"Topic17\", \"Topic17\", \"Topic17\", \"Topic17\", \"Topic17\", \"Topic17\", \"Topic17\", \"Topic18\", \"Topic18\", \"Topic18\", \"Topic18\", \"Topic18\", \"Topic18\", \"Topic18\", \"Topic18\", \"Topic18\", \"Topic18\", \"Topic18\", \"Topic18\", \"Topic18\", \"Topic18\", \"Topic18\", \"Topic18\", \"Topic18\", \"Topic18\", \"Topic18\", \"Topic18\", \"Topic18\", \"Topic18\", \"Topic18\", \"Topic18\", \"Topic18\", \"Topic18\", \"Topic18\", \"Topic18\", \"Topic18\", \"Topic18\", \"Topic18\", \"Topic18\", \"Topic18\", \"Topic18\", \"Topic18\", \"Topic18\", \"Topic18\", \"Topic18\", \"Topic18\", \"Topic18\", \"Topic18\", \"Topic18\", \"Topic18\"], \"logprob\": [30.0, 29.0, 28.0, 27.0, 26.0, 25.0, 24.0, 23.0, 22.0, 21.0, 20.0, 19.0, 18.0, 17.0, 16.0, 15.0, 14.0, 13.0, 12.0, 11.0, 10.0, 9.0, 8.0, 7.0, 6.0, 5.0, 4.0, 3.0, 2.0, 1.0, -6.5995, -6.3963, -6.6093, -7.094, -6.8201, -6.431, -6.7986, -6.8949, -6.7781, -7.0697, -7.3496, -6.7828, -7.2506, -7.1359, -7.368, -6.7495, -6.87, -6.92, -7.2728, -7.0034, -6.8363, -7.0145, -7.4263, -7.1298, -6.6598, -6.8927, -7.436, -7.1337, -6.7339, -7.354, -6.1641, -6.7244, -6.6954, -6.7308, -6.5463, -6.6826, -6.6582, -6.7884, -6.5322, -6.5909, -6.3441, -6.5474, -6.566, -6.272, -6.5573, -6.6309, -6.3879, -6.4826, -6.6269, -6.7312, -6.6114, -6.7058, -6.716, -6.7379, -6.6489, -6.7239, -6.7189, -6.7274, -6.804, -6.8106, -6.8329, -7.1431, -7.0518, -7.2782, -7.3046, -7.3538, -7.1209, -7.2204, -7.2349, -7.2229, -6.982, -7.2488, -7.3975, -7.392, -7.3634, -7.3537, -7.4029, -7.3324, -6.9904, -7.3198, -6.9213, -7.1217, -7.3315, -7.542, -7.5233, -7.5291, -7.1541, -7.5597, -6.9821, -7.2041, -7.1699, -7.222, -6.3827, -6.8293, -6.968, -6.8844, -7.0592, -7.086, -7.2595, -6.7504, -7.006, -7.2098, -7.0072, -6.909, -6.9554, -6.9063, -6.9297, -6.9908, -7.0222, -7.1049, -7.1066, -7.0846, -7.0701, -7.106, -7.1211, -6.7946, -6.8455, -6.9323, -7.0284, -7.1769, -7.1818, -7.1875, -7.2058, -7.216, -7.216, -7.2645, -7.3095, -7.3391, -7.3346, -7.4246, -7.012, -7.4377, -7.2301, -7.4699, -7.4699, -7.4887, -7.2554, -7.4792, -7.2955, -7.5269, -7.5269, -7.295, -7.5247, -7.4206, -7.5736, -7.4733, -7.1404, -6.9347, -6.64, -7.2332, -7.1844, -7.2593, -6.7128, -7.1232, -7.0709, -7.1859, -7.1769, -6.9737, -6.9803, -6.9884, -6.9681, -7.1209, -7.1692, -7.1387, -7.1753, -7.1989, -7.1983, -6.8515, -6.8517, -6.762, -7.0141, -7.0826, -7.1393, -6.993, -7.1911, -7.1911, -6.9571, -7.3083, -7.3083, -7.2824, -7.3616, -7.4117, -7.4703, -7.4703, -7.4704, -7.4712, -7.2644, -7.4848, -7.1477, -6.8702, -7.568, -7.568, -7.568, -7.5924, -7.5832, -7.5652, -7.5311, -7.1818, -7.3181, -7.4567, -7.2663, -7.2251, -7.2122, -7.1331, -6.8538, -7.0923, -7.2803, -7.1049, -7.2904, -7.3099, -7.1707, -7.0368, -7.0914, -7.0984, -7.2476, -7.2724, -7.0046, -7.0906, -7.1379, -7.1762, -7.2902, -7.2518, -7.3939, -7.3868, -7.4416, -7.4479, -7.448, -6.9592, -7.2355, -7.3256, -7.5382, -7.5739, -7.4284, -7.4718, -7.5077, -7.0935, -7.4659, -7.671, -7.6812, -7.4287, -7.4772, -7.7103, -7.7127, -7.7128, -7.7129, -7.4462, -6.9694, -7.315, -7.3055, -7.3222, -7.2493, -7.4491, -7.0604, -7.0826, -7.0299, -6.8424, -7.1816, -7.1097, -7.3459, -7.2721, -7.1574, -7.3364, -7.273, -7.2924, -7.3123, -7.3162, -7.3823, -6.9474, -6.7909, -7.1566, -6.6201, -7.1124, -7.2099, -7.1371, -7.2436, -6.7503, -7.2892, -7.1945, -7.3178, -7.4268, -7.4268, -7.2572, -7.4486, -7.4486, -7.4325, -7.5597, -7.301, -7.3987, -7.3989, -7.58, -7.5802, -7.5935, -7.5976, -7.6238, -7.5021, -7.5277, -7.6641, -7.2699, -7.3785, -7.0926, -7.1525, -7.3208, -7.2299, -7.0493, -6.6799, -7.1253, -6.9977, -6.8655, -6.8615, -7.1924, -7.1143, -7.2047, -7.1989, -6.9434, -7.1876, -7.12, -7.2362, -7.239, -6.5715, -6.9913, -7.0302, -7.0303, -7.064, -7.3127, -7.2182, -7.3116, -7.4055, -7.2603, -6.9517, -7.1242, -7.4543, -7.4783, -7.4628, -7.5173, -7.5209, -7.4866, -7.2708, -6.6817, -7.5834, -7.4737, -7.4353, -7.6102, -7.6102, -7.6405, -7.6405, -7.6405, -7.6406, -7.6406, -7.56, -7.2524, -7.5837, -7.4105, -7.5473, -7.0902, -7.2266, -7.3056, -7.4437, -7.2964, -6.9838, -7.1532, -7.3249, -6.965, -7.2439, -7.1245, -7.0132, -7.1563, -7.1156, -7.2065, -7.2506, -7.2835, -7.3085, -6.3956, -6.7883, -7.0913, -7.0954, -7.0792, -7.1612, -7.0171, -7.2351, -7.3099, -6.9198, -7.2658, -7.3888, -7.4331, -6.9358, -7.4373, -7.0443, -7.5188, -7.424, -7.131, -7.4898, -7.5727, -7.0593, -7.5756, -6.8113, -7.7016, -7.4071, -7.5817, -7.6192, -7.5477, -7.6079, -7.5578, -7.018, -7.3879, -7.5097, -7.0487, -7.3938, -6.5552, -7.5099, -7.3715, -6.9894, -7.0574, -7.1983, -7.0688, -7.1806, -7.3282, -7.2441, -7.2847, -7.3059, -7.3055, -7.3629, -6.6805, -6.7699, -6.8, -7.2397, -7.0406, -7.2873, -7.2887, -7.2336, -7.2204, -7.2809, -7.4015, -7.4109, -7.411, -7.5008, -7.5009, -7.5058, -7.5162, -7.4397, -7.5717, -7.5718, -7.4498, -7.5757, -7.4517, -7.6183, -7.6183, -7.5074, -7.6252, -7.6252, -7.6252, -7.5624, -6.9857, -7.2308, -7.4742, -7.4517, -7.2295, -7.2707, -7.0776, -7.1827, -7.2656, -7.0146, -7.2225, -7.3734, -7.3791, -7.4542, -7.4535, -6.8913, -7.004, -7.1654, -7.2, -7.2034, -7.3521, -7.3522, -7.3745, -7.1447, -7.4268, -7.4268, -7.3739, -7.3739, -7.4588, -7.4809, -7.4866, -7.5611, -7.5611, -7.5697, -7.5949, -7.595, -7.595, -7.5505, -7.4156, -7.5388, -7.4793, -7.5586, -7.5912, -7.6444, -7.6571, -6.451, -7.3509, -7.2799, -6.8971, -6.8912, -7.1947, -6.7999, -7.1004, -7.2948, -7.3154, -7.2174, -7.1273, -7.3555, -7.3477, -7.3436, -7.3329, -7.3754, -7.4064, -6.9574, -7.055, -7.0125, -7.1127, -7.1244, -7.1245, -7.1579, -7.2432, -7.2432, -7.2698, -7.23, -7.3058, -7.3059, -7.3657, -7.2301, -7.4357, -7.3578, -7.5434, -7.5488, -7.5489, -7.5297, -7.0101, -7.6287, -7.6287, -7.6287, -7.6673, -7.6793, -7.6879, -7.688, -7.6881, -7.316, -7.6221, -7.5641, -7.2266, -7.4144, -7.2881, -7.3486, -7.2724, -7.4171, -7.3886, -7.1936, -7.356, -7.1208, -7.4122, -7.3509, -7.3582, -7.3961, -7.3805, -6.6807, -6.7198, -6.9415, -7.0491, -7.0797, -7.055, -7.029, -7.2655, -7.3903, -7.3905, -7.2263, -7.2498, -7.3872, -7.5401, -7.128, -7.2739, -7.4446, -7.5489, -7.5384, -7.6229, -7.5383, -7.4711, -7.3152, -7.6495, -7.6497, -7.6497, -7.6532, -7.6532, -7.6532, -7.6533, -7.4444, -7.2376, -7.2655, -7.3236, -7.1706, -7.0563, -7.2242, -7.2973, -7.2278, -6.931, -7.4224, -7.1729, -7.184, -7.2942, -7.3499, -7.3883, -7.3368, -7.0492, -7.0742, -7.121, -7.1794, -7.2949, -7.1692, -7.3187, -7.3188, -7.2791, -7.3456, -6.9532, -7.3794, -7.3264, -7.3025, -7.3039, -7.0588, -7.4211, -7.4584, -7.5054, -7.6052, -7.6179, -7.6179, -7.618, -7.618, -7.618, -7.618, -7.6181, -7.6181, -7.6227, -7.6229, -7.428, -7.3953, -7.4759, -7.4536, -6.8262, -7.5729, -7.0152, -7.454, -7.3869, -7.105, -7.3702, -7.4591, -7.4277, -7.3572, -6.9862, -7.0187, -6.939, -7.1829, -7.0844, -7.2301, -7.3235, -7.3235, -7.3236, -6.5069, -7.4481, -7.4687, -7.2936, -7.2992, -7.5317, -7.5774, -7.5775, -6.957, -7.5774, -7.659, -7.659, -7.6953, -7.6955, -7.6474, -7.6306, -7.1807, -7.7392, -7.6591, -7.766, -7.6474, -6.7068, -7.3029, -6.9808, -7.1319, -7.2498, -7.3987, -7.0718, -7.2678, -7.4117, -7.2173, -7.2648, -7.4312, -7.0895, -7.2465, -7.3695, -7.3553, -6.7385, -7.0923, -7.0923, -7.1564, -7.1565, -7.271, -7.271, -7.271, -7.3371, -7.3371, -7.4603, -7.3116, -7.4629, -7.5032, -7.5032, -7.175, -7.5974, -7.5974, -7.5975, -7.2574, -7.5741, -7.5742, -7.656, -7.656, -7.6561, -7.6561, -7.5741, -7.4283, -7.575, -7.7158, -7.4696, -7.3972, -7.1164, -7.5033, -7.2015, -7.2228, -7.4161, -7.34, -7.4418, -7.4635, -7.3833, -7.09, -7.3927, -7.3417, -7.3344, -6.8791, -7.1117, -7.1631, -7.032, -7.2142, -7.2279, -7.3519, -7.4014, -7.2716, -7.108, -7.4628, -7.4776, -7.5429, -7.5429, -7.3292, -7.4447, -7.6159, -7.6159, -7.6161, -7.642, -7.642, -7.6421, -7.6421, -7.6421, -7.6422, -7.6422, -7.3753, -7.5879, -7.6493, -7.6493, -7.3709, -7.5019, -7.1231, -7.3782, -7.5025, -7.5274, -7.4124, -7.584, -7.6097, -7.5534, -7.5878, -7.6115, -6.6953, -6.6905, -7.196, -7.1961, -7.2219, -7.2242, -7.1453, -7.2164, -7.3525, -7.4404, -7.4405, -7.2445, -7.4435, -7.448, -7.4481, -7.3523, -7.5251, -7.5564, -7.6596, -7.6598, -7.6598, -7.6599, -7.6637, -7.6652, -7.6652, -7.6653, -7.5519, -7.6624, -7.6208, -7.6315, -7.016, -7.5502, -7.258, -7.2843, -7.1069, -7.1929, -7.5543, -7.3653, -7.6262, -7.4742, -7.3758, -7.5028, -7.495, -7.5381, -6.7748, -6.9793, -7.0242, -7.2239, -7.3341, -7.0424, -7.3416, -7.5092, -7.5501, -7.5502, -7.5503, -7.5899, -7.59, -7.59, -7.5901, -7.5901, -7.589, -7.6544, -7.6546, -7.6129, -7.6794, -7.6795, -7.6795, -7.6795, -7.6796, -7.6831, -7.6139, -7.4838, -7.6945, -7.6825, -7.6318, -7.5199, -7.3729, -7.4229, -7.21, -7.2327, -7.124, -7.4198, -7.5398, -7.3918, -7.4616, -7.3872, -7.5281], \"loglift\": [30.0, 29.0, 28.0, 27.0, 26.0, 25.0, 24.0, 23.0, 22.0, 21.0, 20.0, 19.0, 18.0, 17.0, 16.0, 15.0, 14.0, 13.0, 12.0, 11.0, 10.0, 9.0, 8.0, 7.0, 6.0, 5.0, 4.0, 3.0, 2.0, 1.0, 0.6897, 0.6852, 0.6575, 0.6487, 0.643, 0.6403, 0.6398, 0.6329, 0.6327, 0.6324, 0.6321, 0.6321, 0.631, 0.6307, 0.6289, 0.6255, 0.6248, 0.6246, 0.6236, 0.6231, 0.619, 0.6189, 0.6182, 0.6181, 0.6177, 0.6169, 0.6164, 0.6152, 0.6149, 0.6129, 0.6027, 0.6066, 0.6015, 0.6018, 0.5903, 0.5942, 0.5856, 0.5951, 0.5735, 0.5765, 0.552, 0.5691, 0.5685, 0.5246, 0.5571, 0.5578, 0.4831, 0.4933, 0.5103, 0.5606, 0.4759, 0.5061, 0.5154, 0.5467, 0.3339, 0.5112, 0.4426, 0.3487, 1.8915, 1.863, 1.7972, 1.7181, 1.7126, 1.6374, 1.6211, 1.5903, 1.5843, 1.5819, 1.5774, 1.5665, 1.5652, 1.5626, 1.5625, 1.5477, 1.543, 1.54, 1.5264, 1.5121, 1.5075, 1.4866, 1.484, 1.4802, 1.4732, 1.4674, 1.4652, 1.4628, 1.4622, 1.4554, 1.424, 1.4068, 1.3909, 1.3604, 0.9405, 1.1279, 1.1658, 1.0863, 1.1796, 1.194, 1.3728, 0.2324, 0.7945, 1.2443, 0.6919, 0.4039, 0.539, 0.2552, 0.0461, 0.3436, 0.4354, 0.845, 0.829, 0.6676, -0.2735, 0.2136, 0.7847, 2.0401, 2.0104, 1.9583, 1.8985, 1.8019, 1.7986, 1.7949, 1.7826, 1.7757, 1.7757, 1.7336, 1.7115, 1.6908, 1.6553, 1.6301, 1.6112, 1.6067, 1.6017, 1.5973, 1.5972, 1.5836, 1.5772, 1.5615, 1.5604, 1.5554, 1.5554, 1.5537, 1.5486, 1.5373, 1.5207, 1.517, 1.4695, 1.2116, 0.8555, 1.2879, 1.2135, 1.2964, 0.4529, 1.0576, 0.9552, 1.105, 1.0092, 0.3495, 0.3384, 0.0878, -0.0971, 0.6895, 0.4946, -0.1559, 0.257, 0.1164, -0.0839, 2.0678, 2.0677, 2.0332, 1.9619, 1.9155, 1.8658, 1.8456, 1.84, 1.84, 1.8085, 1.7557, 1.7557, 1.7536, 1.7165, 1.6791, 1.6348, 1.6347, 1.6347, 1.6341, 1.629, 1.6112, 1.6046, 1.574, 1.5595, 1.5595, 1.5595, 1.5405, 1.527, 1.5121, 1.4918, 1.4509, 1.4358, 1.4257, 1.2476, 1.1929, 1.1534, 1.0581, 0.7262, 0.9338, 1.2229, 0.7292, 1.1941, 1.1928, 0.5685, -0.2699, -0.0152, -0.3018, -0.3515, 0.4602, 1.9966, 1.9365, 1.9027, 1.8326, 1.7911, 1.7405, 1.7125, 1.6886, 1.6758, 1.6708, 1.6708, 1.6634, 1.655, 1.6025, 1.6, 1.5717, 1.5623, 1.5596, 1.5548, 1.5084, 1.5013, 1.4935, 1.4852, 1.4691, 1.4631, 1.4614, 1.4595, 1.4594, 1.4593, 1.4547, 1.4414, 1.3985, 1.3961, 1.3749, 1.3293, 1.3834, 1.0558, 0.9841, 0.8879, 0.2921, 0.6515, 0.2954, 0.9738, 0.5824, -0.2864, 0.8927, 0.211, 0.3618, 0.4484, 0.3976, -0.3061, 1.9923, 1.9291, 1.8927, 1.8722, 1.8546, 1.8539, 1.8486, 1.829, 1.8081, 1.795, 1.7836, 1.7735, 1.6902, 1.6902, 1.68, 1.6732, 1.6732, 1.5956, 1.5857, 1.584, 1.579, 1.5788, 1.5694, 1.5693, 1.5586, 1.5554, 1.5343, 1.5255, 1.5244, 1.4836, 1.4799, 1.4593, 1.2565, 1.1986, 1.3226, 1.1505, 0.8518, 0.303, 0.9371, 0.7341, 0.3611, 0.2147, 0.996, 0.7504, 1.0004, 0.9172, -0.1468, 0.545, -0.3532, 0.4176, -0.0038, 2.2879, 2.0157, 1.9885, 1.9884, 1.9646, 1.7818, 1.7563, 1.7303, 1.695, 1.6921, 1.6917, 1.6884, 1.6726, 1.6312, 1.6236, 1.6229, 1.5847, 1.5776, 1.5717, 1.563, 1.5604, 1.5601, 1.5521, 1.5484, 1.5484, 1.5239, 1.5238, 1.5238, 1.5238, 1.5238, 1.5201, 1.4942, 1.5125, 1.4667, 1.5002, 1.3275, 1.299, 1.3368, 1.3671, 1.1594, 0.7119, 0.9123, 1.135, 0.2007, 0.9178, 0.2807, -0.1422, 0.1669, -0.1328, 0.2524, 0.0681, 0.2525, 0.2118, 2.5211, 2.2517, 2.0228, 2.0196, 2.0165, 1.8839, 1.8545, 1.849, 1.8478, 1.8002, 1.7859, 1.7829, 1.7459, 1.7256, 1.6905, 1.6765, 1.6739, 1.6568, 1.642, 1.6259, 1.5866, 1.5501, 1.5394, 1.5389, 1.517, 1.515, 1.499, 1.4947, 1.4869, 1.4813, 1.4794, 1.4019, 1.4447, 1.468, 1.3108, 1.4144, 0.4207, 1.4677, 1.1787, 0.2643, 0.3123, 0.5474, -0.1727, 0.0313, 0.9661, 0.1424, 0.4533, 0.038, -0.4345, -0.1742, 2.3397, 2.2752, 2.2531, 1.9117, 1.8801, 1.8727, 1.8716, 1.8512, 1.8247, 1.8117, 1.7569, 1.7478, 1.7456, 1.6944, 1.6944, 1.6902, 1.6814, 1.6758, 1.6338, 1.6338, 1.6319, 1.6305, 1.6061, 1.5938, 1.5937, 1.5902, 1.5878, 1.5878, 1.5878, 1.5825, 1.4204, 1.4362, 1.5055, 1.4793, 1.2731, 1.2086, 0.8923, 0.9636, 1.0839, -0.0317, 0.5946, 0.834, 0.7826, -0.0521, -0.3774, 2.1878, 2.1013, 1.9738, 1.9384, 1.9143, 1.821, 1.821, 1.8024, 1.765, 1.7586, 1.7585, 1.7358, 1.7314, 1.7237, 1.7128, 1.6869, 1.6444, 1.6443, 1.6252, 1.6152, 1.6152, 1.6151, 1.6099, 1.6039, 1.5965, 1.596, 1.5863, 1.5737, 1.5724, 1.5613, 1.4668, 1.5274, 1.4939, 1.2492, 1.2427, 1.2847, 0.8958, 1.0157, 1.2544, 1.2219, 0.9427, 0.6224, 0.8062, 0.2223, 0.1329, -0.0097, -0.2881, 0.4886, 2.1396, 2.0636, 2.0626, 2.0179, 2.0085, 2.0084, 1.9817, 1.9125, 1.9125, 1.8907, 1.8829, 1.861, 1.861, 1.8113, 1.8111, 1.7436, 1.7148, 1.6608, 1.6561, 1.6561, 1.6166, 1.5992, 1.5872, 1.5871, 1.5871, 1.547, 1.5431, 1.5355, 1.5355, 1.5354, 1.4151, 1.5061, 1.4746, 1.3062, 1.3969, 1.2846, 1.2948, 1.0536, 1.2485, 1.1698, 0.7936, 0.9942, -0.1379, 1.0904, 0.3629, 0.3799, 0.3536, -0.5839, 2.3475, 2.3192, 2.1031, 2.0694, 2.0453, 2.0005, 1.8616, 1.8419, 1.7915, 1.7914, 1.7441, 1.7192, 1.6841, 1.6644, 1.6449, 1.6428, 1.6277, 1.6029, 1.5942, 1.5929, 1.5873, 1.5743, 1.5718, 1.5698, 1.5696, 1.5696, 1.5666, 1.5665, 1.5665, 1.5665, 1.5257, 1.466, 1.3969, 1.364, 1.2442, 1.1255, 1.1413, 1.1634, 0.936, 0.1504, 1.3007, 0.279, 0.1392, 0.5062, 0.4956, 0.8462, -0.1711, 2.0717, 2.0519, 2.0007, 1.9676, 1.8729, 1.864, 1.8531, 1.853, 1.8444, 1.8308, 1.8206, 1.8024, 1.7603, 1.7575, 1.7306, 1.691, 1.6475, 1.6383, 1.6102, 1.6, 1.5986, 1.5986, 1.5985, 1.5985, 1.5985, 1.5985, 1.5984, 1.5984, 1.5944, 1.5943, 1.5594, 1.5226, 1.541, 1.5121, 1.1094, 1.565, 0.7391, 1.3582, 1.247, 0.6151, 0.4752, 0.7465, 0.4901, -0.2811, 2.1542, 2.1279, 2.0861, 1.9922, 1.9412, 1.8881, 1.8731, 1.8731, 1.873, 1.7671, 1.7655, 1.7475, 1.739, 1.6604, 1.6573, 1.6329, 1.6174, 1.6068, 1.6046, 1.5795, 1.5795, 1.547, 1.5469, 1.5443, 1.5263, 1.5245, 1.5076, 1.502, 1.4834, 1.4778, 1.475, 1.4751, 1.339, 1.2358, 1.2596, 1.3351, 1.0883, 1.2257, 1.3164, 1.0386, 0.8926, 1.2736, 0.2969, 0.5057, 0.829, -0.04, 2.3553, 2.0717, 2.0717, 2.0182, 2.0182, 1.9214, 1.9214, 1.9214, 1.8648, 1.8647, 1.7578, 1.7147, 1.7085, 1.6669, 1.6507, 1.6503, 1.6369, 1.6369, 1.6368, 1.6353, 1.6008, 1.5991, 1.5846, 1.5846, 1.5845, 1.5845, 1.5841, 1.5833, 1.548, 1.5309, 1.5178, 1.4638, 1.2888, 1.487, 1.2464, 1.2331, 1.4033, 1.327, 1.389, 1.3981, 1.1669, 0.2332, 1.0433, -0.023, -0.2471, 2.2249, 2.0684, 2.0249, 2.0149, 1.9813, 1.9381, 1.8621, 1.8188, 1.7863, 1.7703, 1.7485, 1.7328, 1.6935, 1.6935, 1.6821, 1.6504, 1.6281, 1.628, 1.6279, 1.6046, 1.6045, 1.6045, 1.6045, 1.6045, 1.6044, 1.6044, 1.5771, 1.5351, 1.5143, 1.499, 1.4733, 1.429, 1.1328, 1.2497, 1.3293, 1.3392, 0.5749, 1.1287, 1.2882, 0.1023, 0.5569, 0.2746, 2.346, 2.3337, 2.0034, 2.0034, 1.9811, 1.9557, 1.9142, 1.908, 1.8358, 1.7895, 1.7895, 1.7893, 1.7868, 1.7827, 1.7827, 1.7374, 1.7139, 1.6186, 1.5925, 1.5924, 1.5924, 1.5923, 1.5889, 1.5875, 1.5875, 1.5874, 1.586, 1.582, 1.5818, 1.5807, 1.5488, 1.4973, 1.148, 1.1305, 0.863, 0.9672, 1.4339, 0.9073, 1.5145, 0.8729, 0.356, 0.5727, -0.1921, 0.6133, 2.3401, 2.2152, 2.1764, 2.0012, 1.9028, 1.7893, 1.7427, 1.7119, 1.7068, 1.7066, 1.7065, 1.6702, 1.6701, 1.6701, 1.67, 1.67, 1.6175, 1.6107, 1.6105, 1.5893, 1.5876, 1.5876, 1.5875, 1.5875, 1.5875, 1.5842, 1.5785, 1.5779, 1.5341, 1.512, 1.5057, 1.4815, 1.4326, 1.428, 0.9718, 0.969, 0.7666, 1.1901, 1.3529, 0.891, 0.4441, -0.1606, 0.7082]}, \"token.table\": {\"Topic\": [1, 1, 1, 1, 1, 1, 1, 1, 1, 1, 1, 1, 1, 1, 1, 1, 1, 1, 1, 1, 1, 1, 1, 1, 1, 1, 1, 1, 1, 1, 1, 1, 1, 1, 1, 1, 1, 1, 1, 1, 1, 1, 1, 1, 1, 1, 1, 1, 1, 1, 1, 1, 1, 1, 1, 1, 1, 1, 1, 1, 1, 1, 1, 1, 1, 1, 1, 1, 1, 1, 1, 1, 1, 1, 1, 1, 1, 1, 1, 1, 1, 1, 1, 1, 1, 1, 1, 1, 1, 1, 1, 1, 1, 1, 1, 1, 1, 1, 1, 1, 1, 1, 1, 1, 1, 1, 1, 1, 1, 1, 1, 1, 1, 1, 1, 1, 1, 1], \"Freq\": [0.9497044312241066, 0.9219481739736048, 1.103288068914911, 1.0274022814070198, 1.3260024621191937, 0.9812834520792634, 1.1131277274757752, 1.2380341413696714, 1.1196719689134007, 0.991237569558441, 1.3087415590536602, 0.950521748295134, 0.960122156357244, 0.9191609394929688, 0.9775957052994878, 0.8919184069028359, 1.124852087793328, 1.2984517143381002, 1.118138501644874, 0.7202944490152098, 1.0473970544205344, 0.6443331456660759, 0.5730882749670378, 0.7493673021900555, 0.5392147662910143, 0.5830169164400617, 0.9661324812824043, 1.327431008243328, 0.721949597412572, 1.0343174817435241, 0.6704389772910623, 0.6288850370041164, 0.6025907630143462, 0.6311780569188229, 1.0509807862220495, 0.5779740364275113, 0.9713445916211316, 0.916086353659961, 0.7634754742823838, 1.1082343962413443, 0.6889768507782958, 0.6689527599384474, 0.5887899600940246, 0.5965875119782661, 0.6723938107442295, 0.6100429514179317, 0.624710923842779, 0.6262057240072613, 0.7236885921448563, 0.6850934064697418, 0.8548103941428056, 0.6283525873861319, 0.8872816711937912, 0.5400813196327696, 1.0640019035536765, 0.735747012470115, 0.6475045558309085, 0.9557034397383402, 0.703927876345524, 0.7490508010560893, 0.9692725745554224, 0.6029761364893682, 0.7259329130418164, 0.5517474018038467, 0.8235535395186154, 0.6830040011892281, 1.2193580911623618, 0.7498204120732389, 0.7082264700008479, 1.2014777696616574, 0.7686791750456928, 1.026629676883167, 0.6072653201309688, 0.8801543278107794, 0.44909161107950274, 0.8606700623821343, 0.6849862304453347, 0.498544551315222, 0.9669478611034277, 1.0736866847184077, 0.6116394452678999, 0.7875354108699965, 0.7604753418131475, 0.6647236570449578, 0.6918345951137369, 0.8031491638776346, 0.6371514728251084, 0.9651508088552052, 0.983329557765016, 0.8078544168317657, 0.7808602686996889, 1.0520831583595995, 0.8788541049176493, 0.5646877797326291, 0.6382612211733069, 0.878437222577111, 0.7229198044316427, 0.7178839303742488, 1.015567266033948, 0.7413541662125082, 0.5226646814389612, 0.9386262727454654, 0.9629979608459329, 0.9568355725094516, 0.932749147389656, 0.5369501985439973, 0.6361380923327503, 0.7744483073150207, 0.6612205140567615, 0.4930089559588567, 1.0848013877399265, 0.5122213257809903, 0.5758479663114001, 0.745554719235424, 0.6147741951924829, 0.5240101171688482, 0.8159814399067462, 0.6184634826617891], \"Term\": [\"Android\", \"August\", \"Australian\", \"Bluetooth\", \"CCleaner\", \"CVE\", \"Christmas\", \"ComRAT\", \"Director\", \"FA\", \"GDS\", \"Google\", \"HTTPS\", \"IT\", \"Internet\", \"Microsoft\", \"SMS\", \"Soleil\", \"Toolkit\", \"Twitter\", \"UK\", \"US\", \"Windows\", \"according\", \"account\", \"actor\", \"addition\", \"advertising\", \"affected\", \"alert\", \"application\", \"attacker\", \"available\", \"breach\", \"browser\", \"campaign\", \"chain\", \"charity\", \"computer\", \"concern\", \"consumer\", \"credential\", \"criminal\", \"critical\", \"cryptocurrency\", \"currency\", \"customer\", \"detail\", \"device\", \"digital\", \"download\", \"email\", \"exchange\", \"exploit\", \"financial\", \"found\", \"government\", \"group\", \"hacker\", \"incident\", \"infected\", \"known\", \"login\", \"malicious\", \"malware\", \"medium\", \"memcached\", \"message\", \"method\", \"miner\", \"money\", \"network\", \"number\", \"party\", \"password\", \"patched\", \"personal\", \"phishing\", \"practice\", \"printer\", \"protect\", \"provide\", \"provided\", \"provides\", \"range\", \"ransomware\", \"recent\", \"reduce\", \"removed\", \"research\", \"researcher\", \"response\", \"sensitive\", \"server\", \"service\", \"setting\", \"smart\", \"social\", \"software\", \"still\", \"store\", \"supply\", \"support\", \"survey\", \"suspicious\", \"system\", \"targeting\", \"traffic\", \"university\", \"update\", \"vendor\", \"version\", \"victim\", \"vulnerability\", \"vulnerable\", \"website\", \"working\", \"would\"]}, \"R\": 30, \"lambda.step\": 0.01, \"plot.opts\": {\"xlab\": \"PC1\", \"ylab\": \"PC2\"}, \"topic.order\": [13, 3, 1, 16, 4, 7, 14, 5, 9, 2, 15, 6, 8, 10, 12, 11, 17, 18]};\n",
       "if(typeof(window.LDAvis) !== \"undefined\"){\n",
       "   !function(LDAvis){\n",
       "       new LDAvis(\"#\" + \"ldavis_el2004418131263888647266614000\", ldavis_el2004418131263888647266614000_data);\n",
       "   }(LDAvis);\n",
       "}else{\n",
       "  require.config({paths: {d3: \"https://d3js.org/d3.v5\"}});\n",
       "  require([\"d3\"], function(d3){\n",
       "    window.d3 = d3;\n",
       "    $.getScript(\"https://cdn.jsdelivr.net/gh/bmabey/pyLDAvis/pyLDAvis/js/ldavis.v3.0.0.js\", function(){\n",
       "       new LDAvis(\"#\" + \"ldavis_el2004418131263888647266614000\", ldavis_el2004418131263888647266614000_data);\n",
       "    });\n",
       "  });\n",
       "}\n",
       "</script>"
      ],
      "text/plain": [
       "<IPython.core.display.HTML object>"
      ]
     },
     "execution_count": 71,
     "metadata": {},
     "output_type": "execute_result"
    }
   ],
   "source": [
    "lda_display = pyLDAvis.gensim.prepare(lda_model_tfidf_18, tfidf_corp, \n",
    "                                          dictionary, mds='mmds')\n",
    "pyLDAvis.display(lda_display, template_type='notebook')"
   ]
  },
  {
   "cell_type": "code",
   "execution_count": null,
   "metadata": {},
   "outputs": [],
   "source": []
  }
 ],
 "metadata": {
  "kernelspec": {
   "display_name": "Python 3",
   "language": "python",
   "name": "python3"
  },
  "language_info": {
   "codemirror_mode": {
    "name": "ipython",
    "version": 3
   },
   "file_extension": ".py",
   "mimetype": "text/x-python",
   "name": "python",
   "nbconvert_exporter": "python",
   "pygments_lexer": "ipython3",
   "version": "3.8.3"
  }
 },
 "nbformat": 4,
 "nbformat_minor": 4
}
