{
 "cells": [
  {
   "cell_type": "code",
   "execution_count": 1,
   "metadata": {},
   "outputs": [],
   "source": [
    "import datetime"
   ]
  },
  {
   "cell_type": "code",
   "execution_count": 2,
   "metadata": {},
   "outputs": [],
   "source": [
    "import findspark\n",
    "findspark.init()"
   ]
  },
  {
   "cell_type": "code",
   "execution_count": 3,
   "metadata": {},
   "outputs": [
    {
     "name": "stdout",
     "output_type": "stream",
     "text": [
      "<property object at 0x00000269FF969950>\n"
     ]
    }
   ],
   "source": [
    "from pyspark import SparkContext\n",
    "print(SparkContext.version)"
   ]
  },
  {
   "cell_type": "code",
   "execution_count": 4,
   "metadata": {},
   "outputs": [],
   "source": [
    "sc = SparkContext()"
   ]
  },
  {
   "cell_type": "code",
   "execution_count": 5,
   "metadata": {},
   "outputs": [
    {
     "data": {
      "text/html": [
       "\n",
       "        <div>\n",
       "            <p><b>SparkContext</b></p>\n",
       "\n",
       "            <p><a href=\"http://DESKTOP-J9F2R8O:4041\">Spark UI</a></p>\n",
       "\n",
       "            <dl>\n",
       "              <dt>Version</dt>\n",
       "                <dd><code>v3.1.1</code></dd>\n",
       "              <dt>Master</dt>\n",
       "                <dd><code>local[*]</code></dd>\n",
       "              <dt>AppName</dt>\n",
       "                <dd><code>pyspark-shell</code></dd>\n",
       "            </dl>\n",
       "        </div>\n",
       "        "
      ],
      "text/plain": [
       "<SparkContext master=local[*] appName=pyspark-shell>"
      ]
     },
     "execution_count": 5,
     "metadata": {},
     "output_type": "execute_result"
    }
   ],
   "source": [
    "sc"
   ]
  },
  {
   "cell_type": "code",
   "execution_count": 6,
   "metadata": {},
   "outputs": [],
   "source": [
    "import pickle\n",
    "from urllib.request import urlopen\n",
    "import os\n",
    "import pandas as pd\n",
    "import numpy as np\n",
    "import gensim\n",
    "import pickle\n",
    "import matplotlib.pyplot as plt"
   ]
  },
  {
   "cell_type": "code",
   "execution_count": 7,
   "metadata": {},
   "outputs": [],
   "source": [
    "os.chdir(\"D://Datasets\")"
   ]
  },
  {
   "cell_type": "code",
   "execution_count": 8,
   "metadata": {},
   "outputs": [],
   "source": [
    "df = pd.read_csv('https://raw.githubusercontent.com/Galeforse/DST-Assessment-05/main/Data/NCSC%20Reports.csv')"
   ]
  },
  {
   "cell_type": "code",
   "execution_count": 9,
   "metadata": {},
   "outputs": [
    {
     "data": {
      "text/html": [
       "<div>\n",
       "<style scoped>\n",
       "    .dataframe tbody tr th:only-of-type {\n",
       "        vertical-align: middle;\n",
       "    }\n",
       "\n",
       "    .dataframe tbody tr th {\n",
       "        vertical-align: top;\n",
       "    }\n",
       "\n",
       "    .dataframe thead th {\n",
       "        text-align: right;\n",
       "    }\n",
       "</style>\n",
       "<table border=\"1\" class=\"dataframe\">\n",
       "  <thead>\n",
       "    <tr style=\"text-align: right;\">\n",
       "      <th></th>\n",
       "      <th>Unnamed: 0</th>\n",
       "      <th>Title</th>\n",
       "      <th>Article</th>\n",
       "      <th>topics</th>\n",
       "      <th>Links</th>\n",
       "    </tr>\n",
       "  </thead>\n",
       "  <tbody>\n",
       "    <tr>\n",
       "      <th>0</th>\n",
       "      <td>0</td>\n",
       "      <td>23rd April 2021</td>\n",
       "      <td>['The NCSC is aware that a malicious piece of ...</td>\n",
       "      <td>['Cyber attack', 'Cyber strategy', 'Education'...</td>\n",
       "      <td>https://www.ncsc.gov.uk/report/weekly-threat-r...</td>\n",
       "    </tr>\n",
       "    <tr>\n",
       "      <th>1</th>\n",
       "      <td>1</td>\n",
       "      <td>16th April 2021</td>\n",
       "      <td>['Cyber security researchers have uncovered a ...</td>\n",
       "      <td>['Cyber strategy', 'Patching', 'Vulnerabilities']</td>\n",
       "      <td>https://www.ncsc.gov.uk/report/weekly-threat-r...</td>\n",
       "    </tr>\n",
       "    <tr>\n",
       "      <th>2</th>\n",
       "      <td>2</td>\n",
       "      <td>12th April 2021</td>\n",
       "      <td>['Cyber security researchers, Esentire, have w...</td>\n",
       "      <td>['Phishing', 'Social media', 'Personal data', ...</td>\n",
       "      <td>https://www.ncsc.gov.uk/report/weekly-threat-r...</td>\n",
       "    </tr>\n",
       "    <tr>\n",
       "      <th>3</th>\n",
       "      <td>3</td>\n",
       "      <td>2nd April 2021</td>\n",
       "      <td>['The UK education sector continues to face an...</td>\n",
       "      <td>['Education', 'Incident management', 'Secure d...</td>\n",
       "      <td>https://www.ncsc.gov.uk/report/weekly-threat-r...</td>\n",
       "    </tr>\n",
       "    <tr>\n",
       "      <th>4</th>\n",
       "      <td>4</td>\n",
       "      <td>26th March 2021</td>\n",
       "      <td>['Earlier this month Microsoft confirmed that ...</td>\n",
       "      <td>['Cyber attack', 'Education', 'Mitigation', 'P...</td>\n",
       "      <td>https://www.ncsc.gov.uk/report/weekly-threat-r...</td>\n",
       "    </tr>\n",
       "  </tbody>\n",
       "</table>\n",
       "</div>"
      ],
      "text/plain": [
       "   Unnamed: 0            Title  \\\n",
       "0           0  23rd April 2021   \n",
       "1           1  16th April 2021   \n",
       "2           2  12th April 2021   \n",
       "3           3   2nd April 2021   \n",
       "4           4  26th March 2021   \n",
       "\n",
       "                                             Article  \\\n",
       "0  ['The NCSC is aware that a malicious piece of ...   \n",
       "1  ['Cyber security researchers have uncovered a ...   \n",
       "2  ['Cyber security researchers, Esentire, have w...   \n",
       "3  ['The UK education sector continues to face an...   \n",
       "4  ['Earlier this month Microsoft confirmed that ...   \n",
       "\n",
       "                                              topics  \\\n",
       "0  ['Cyber attack', 'Cyber strategy', 'Education'...   \n",
       "1  ['Cyber strategy', 'Patching', 'Vulnerabilities']   \n",
       "2  ['Phishing', 'Social media', 'Personal data', ...   \n",
       "3  ['Education', 'Incident management', 'Secure d...   \n",
       "4  ['Cyber attack', 'Education', 'Mitigation', 'P...   \n",
       "\n",
       "                                               Links  \n",
       "0  https://www.ncsc.gov.uk/report/weekly-threat-r...  \n",
       "1  https://www.ncsc.gov.uk/report/weekly-threat-r...  \n",
       "2  https://www.ncsc.gov.uk/report/weekly-threat-r...  \n",
       "3  https://www.ncsc.gov.uk/report/weekly-threat-r...  \n",
       "4  https://www.ncsc.gov.uk/report/weekly-threat-r...  "
      ]
     },
     "execution_count": 9,
     "metadata": {},
     "output_type": "execute_result"
    }
   ],
   "source": [
    "df.head()"
   ]
  },
  {
   "cell_type": "code",
   "execution_count": 10,
   "metadata": {},
   "outputs": [
    {
     "name": "stdout",
     "output_type": "stream",
     "text": [
      "(221, 5)\n"
     ]
    }
   ],
   "source": [
    "print(np.shape(df))"
   ]
  },
  {
   "cell_type": "code",
   "execution_count": 11,
   "metadata": {},
   "outputs": [
    {
     "data": {
      "text/plain": [
       "\"['Earlier this month Microsoft confirmed that sophisticated actors had attacked a number of Exchange servers and have released multiple security updates since.\\\\nThe NCSC is strongly urging any organisation using affected versions to proactively search their system for evidence of compromise, in line with Microsoft guidance.\\\\nOur alert was updated last week with the most recent advice and guidance.', 'A new report has revealed that almost 40% of UK businesses experienced a cyber attack last year.', 'The Cyber Security Breaches Survey 2021 report, published by the Department of Digital, Culture, Media and Sport (DCMS), also revealed that a quarter of charities have suffered a cyber security breach or attack in the past 12 months.', 'The NCSC has produced guidance to address some of the most common breaches and attacks identified in the report:\\\\nphishing emails\\\\nviruses\\\\nransomware\\\\nWhere a breach has resulted in a loss of data or assets, the average cost of a cyber attack on a business is £8,460. This figure rises to £13,400 for medium and large businesses.\\\\nThe report also shows the cyber risk to organisations is heightened because of the pandemic, which has made securing digital environments more challenging as resources are diverted to facilitate remote working for staff.\\\\nThe NCSC encourages businesses, charities, and educational institutions to take advantage of free cyber security guidance, such as the secure use of video conferencing, secure home working and how to move your business from physical to digital.', 'A new report from the Learning & Work Institute shows that young people and employers recognise that basic digital skills are vital and the demand for advanced digital skills is only set to increase. It also shows that investment in digital training and re-training in the UK has been decreasing.\\\\nThe same report also reveals that student numbers enrolled on ICT or computer science courses has dropped and digital apprenticeship numbers have remained static over the last 5 years. There also remains a gap between male and female students in gaining digital skills and a career in cyber security.\\\\nThe NCSC has a number of initiatives under CyberFirst to encourage and interest students in exploring a career in cyber security;\\\\nfree courses for 11 – 17 year olds\\\\nBursary and Degree apprenticeship\\\\nAnnual Girls Competition', 'On Tuesday (23 March) this week, the NCSC issued an alert to the education sector warning of a sharp rise in ransomware attacks on schools, colleges, and universities since late February.\\\\nEach attack caused varying levels of disruption, and in some cases these incidents have led to the loss of student coursework, school financial records, and coronavirus testing data.\\\\nIn recent incidents, the NCSC has observed malicious actors targeting vulnerabilities related to:\\\\nRemote Desktop Protocol (RDP) configurations;\\\\nVPN vulnerabilities\\\\nunpatched software \\\\nunsecured devices\\\\nphishing emails\\\\nAlongside details of the threat, the alert highlights steps organisations should take to disrupt attack vectors and enable effective recovery from ransomware attacks.']\""
      ]
     },
     "execution_count": 11,
     "metadata": {},
     "output_type": "execute_result"
    }
   ],
   "source": [
    "df.iloc[4,2]"
   ]
  },
  {
   "cell_type": "code",
   "execution_count": 12,
   "metadata": {},
   "outputs": [],
   "source": [
    "import nltk\n",
    "from nltk.corpus import stopwords"
   ]
  },
  {
   "cell_type": "code",
   "execution_count": 13,
   "metadata": {},
   "outputs": [
    {
     "data": {
      "text/plain": [
       "180"
      ]
     },
     "execution_count": 13,
     "metadata": {},
     "output_type": "execute_result"
    }
   ],
   "source": [
    "l1 = stopwords.words('english')\n",
    "l2 = ['have', 'with', 'cannot', 'all', 'more', 'less', 'fewer', 'if', 'from', 'new', 'old', 'be', 'This']\n",
    "l1.append(l2)\n",
    "lst1 = [' {} '.format(x) for x in l1]\n",
    "\n",
    "len(lst1)"
   ]
  },
  {
   "cell_type": "code",
   "execution_count": 14,
   "metadata": {},
   "outputs": [],
   "source": [
    "df['Article'].replace(lst1, \" \", regex=True, inplace=True)\n",
    "df['Article'].replace(r'[^\\w\\s]', \" \", regex=True, inplace=True)\n",
    "df['Article'].replace('[0-9999999999]', \" \", regex=True, inplace=True)"
   ]
  },
  {
   "cell_type": "code",
   "execution_count": 15,
   "metadata": {},
   "outputs": [
    {
     "data": {
      "text/plain": [
       "'  Earlier month Microsoft confirmed sophisticated actors attacked number Exchange servers released multiple security updates since  nThe NCSC strongly urging organisation using affected versions proactively search system evidence compromise  line Microsoft guidance  nOur alert updated last week recent advice guidance     A new report revealed almost     UK businesses experienced cyber attack last year     The Cyber Security Breaches Survey      report  published Department Digital  Culture  Media Sport  DCMS   also revealed quarter charities suffered cyber security breach attack past    months     The NCSC produced guidance address common breaches attacks identified report  nphishing emails nviruses nransomware nWhere breach resulted loss data assets  average cost cyber attack business         This figure rises         medium large businesses  nThe report also shows cyber risk organisations heightened pandemic  made securing digital environments challenging resources diverted facilitate remote working staff  nThe NCSC encourages businesses  charities  educational institutions take advantage free cyber security guidance  secure use video conferencing  secure home working move business physical digital     A new report Learning   Work Institute shows young people employers recognise basic digital skills vital demand advanced digital skills set increase  It also shows investment digital training re training UK decreasing  nThe report also reveals student numbers enrolled ICT computer science courses dropped digital apprenticeship numbers remained static last   years  There also remains gap male female students gaining digital skills career cyber security  nThe NCSC number initiatives CyberFirst encourage interest students exploring career cyber security  nfree courses         year olds nBursary Degree apprenticeship nAnnual Girls Competition    On Tuesday     March  week  NCSC issued alert education sector warning sharp rise ransomware attacks schools  colleges  universities since late February  nEach attack caused varying levels disruption  cases incidents led loss student coursework  school financial records  coronavirus testing data  nIn recent incidents  NCSC observed malicious actors targeting vulnerabilities related to  nRemote Desktop Protocol  RDP  configurations  nVPN vulnerabilities nunpatched software  nunsecured devices nphishing emails nAlongside details threat  alert highlights steps organisations take disrupt attack vectors enable effective recovery ransomware attacks   '"
      ]
     },
     "execution_count": 15,
     "metadata": {},
     "output_type": "execute_result"
    }
   ],
   "source": [
    "df.iloc[4,2]"
   ]
  },
  {
   "cell_type": "code",
   "execution_count": 16,
   "metadata": {},
   "outputs": [],
   "source": [
    "w_tokenizer = nltk.tokenize.WhitespaceTokenizer()\n",
    "lemmatizer = nltk.stem.WordNetLemmatizer()"
   ]
  },
  {
   "cell_type": "code",
   "execution_count": 17,
   "metadata": {},
   "outputs": [],
   "source": [
    "# nltk.download('wordnet')\n",
    "def lemmatize_text(text):\n",
    "    return [lemmatizer.lemmatize(w) for w in w_tokenizer.tokenize(text)]"
   ]
  },
  {
   "cell_type": "code",
   "execution_count": 18,
   "metadata": {},
   "outputs": [],
   "source": [
    "df_lem = df['Article'].apply(lemmatize_text)"
   ]
  },
  {
   "cell_type": "code",
   "execution_count": 19,
   "metadata": {},
   "outputs": [
    {
     "data": {
      "text/plain": [
       "0      [The, NCSC, aware, malicious, piece, spyware, ...\n",
       "1      [Cyber, security, researcher, uncovered, serie...\n",
       "2      [Cyber, security, researcher, Esentire, warned...\n",
       "3      [The, UK, education, sector, continues, face, ...\n",
       "4      [Earlier, month, Microsoft, confirmed, sophist...\n",
       "                             ...                        \n",
       "216    [Malware, infected, ATMs, compromise, Indian, ...\n",
       "217    [Threat, assessment, trend, analysis, nOnline,...\n",
       "218    [New, Trojan, used, financial, attack, nSymant...\n",
       "219    [Threat, assessment, trend, analysis, nDressco...\n",
       "220    [Threat, assessment, trend, analysis, nYahoo, ...\n",
       "Name: Article, Length: 221, dtype: object"
      ]
     },
     "execution_count": 19,
     "metadata": {},
     "output_type": "execute_result"
    }
   ],
   "source": [
    "df_lem"
   ]
  },
  {
   "cell_type": "code",
   "execution_count": 20,
   "metadata": {},
   "outputs": [],
   "source": [
    "df_lem_list = df_lem.values.tolist()"
   ]
  },
  {
   "cell_type": "code",
   "execution_count": 21,
   "metadata": {},
   "outputs": [
    {
     "data": {
      "text/plain": [
       "[['NCSC',\n",
       "  'aware',\n",
       "  'malicious',\n",
       "  'piece',\n",
       "  'spyware',\n",
       "  'known',\n",
       "  'FluBot',\n",
       "  'affecting',\n",
       "  'Android',\n",
       "  'phone',\n",
       "  'device',\n",
       "  'across',\n",
       "  'UK',\n",
       "  'spyware',\n",
       "  'installed',\n",
       "  'victim',\n",
       "  'receives',\n",
       "  'message',\n",
       "  'asking',\n",
       "  'install',\n",
       "  'tracking',\n",
       "  'missed',\n",
       "  'package',\n",
       "  'delivery',\n",
       "  'nScammers',\n",
       "  'cyber',\n",
       "  'criminal',\n",
       "  'regularly',\n",
       "  'exploit',\n",
       "  'known',\n",
       "  'trusted',\n",
       "  'brand',\n",
       "  'personal',\n",
       "  'FluBot',\n",
       "  'campaign',\n",
       "  'prime',\n",
       "  'example',\n",
       "  'nAndroid',\n",
       "  'urged',\n",
       "  'familiarise',\n",
       "  'guidance',\n",
       "  'vigilant',\n",
       "  'suspicious',\n",
       "  'looking',\n",
       "  'message',\n",
       "  'forwarded',\n",
       "  'Earlier',\n",
       "  'FireEye',\n",
       "  'published',\n",
       "  'saying',\n",
       "  'APT',\n",
       "  'actor',\n",
       "  'actively',\n",
       "  'exploiting',\n",
       "  'vulnerability',\n",
       "  'Pulse',\n",
       "  'Connect',\n",
       "  'VPN',\n",
       "  'appliance',\n",
       "  'follows',\n",
       "  'security',\n",
       "  'update',\n",
       "  'Pulse',\n",
       "  'Secure',\n",
       "  'recently',\n",
       "  'discovered',\n",
       "  'limited',\n",
       "  'number',\n",
       "  'customer',\n",
       "  'experienced',\n",
       "  'evidence',\n",
       "  'exploit',\n",
       "  'behaviour',\n",
       "  'Pulse',\n",
       "  'Connect',\n",
       "  'Secure',\n",
       "  'PCS',\n",
       "  'appliance',\n",
       "  'NCSC',\n",
       "  'aware',\n",
       "  'unauthenticated',\n",
       "  'remote',\n",
       "  'execution',\n",
       "  'vulnerability',\n",
       "  'affecting',\n",
       "  'Pulse',\n",
       "  'Connect',\n",
       "  'Secure',\n",
       "  'PCS',\n",
       "  'version',\n",
       "  'R',\n",
       "  'higher',\n",
       "  'CVE',\n",
       "  'published',\n",
       "  'advice',\n",
       "  'UK',\n",
       "  'organisation',\n",
       "  'using',\n",
       "  'PCS',\n",
       "  'VPN',\n",
       "  'appliance',\n",
       "  'international',\n",
       "  'partner',\n",
       "  'Department',\n",
       "  'Homeland',\n",
       "  'Security',\n",
       "  'DHS',\n",
       "  'Cybersecurity',\n",
       "  'Infrastructure',\n",
       "  'Security',\n",
       "  'Agency',\n",
       "  'CISA',\n",
       "  'published',\n",
       "  'Emergency',\n",
       "  'Directive',\n",
       "  'Alert',\n",
       "  'Media',\n",
       "  'reported',\n",
       "  'University',\n",
       "  'Portsmouth',\n",
       "  'IT',\n",
       "  'system',\n",
       "  'continue',\n",
       "  'offline',\n",
       "  'following',\n",
       "  'cyber',\n",
       "  'attack',\n",
       "  'university',\n",
       "  'posted',\n",
       "  'website',\n",
       "  'continues',\n",
       "  'impacted',\n",
       "  'cyber',\n",
       "  'incident',\n",
       "  'IT',\n",
       "  'system',\n",
       "  'remain',\n",
       "  'offline',\n",
       "  'whilst',\n",
       "  'expert',\n",
       "  'investigate',\n",
       "  'issue',\n",
       "  'securely',\n",
       "  'restore',\n",
       "  'IT',\n",
       "  'system',\n",
       "  'education',\n",
       "  'sector',\n",
       "  'appealing',\n",
       "  'target',\n",
       "  'cyber',\n",
       "  'criminal',\n",
       "  'encourage',\n",
       "  'network',\n",
       "  'defender',\n",
       "  'familiarise',\n",
       "  'NCSC',\n",
       "  'mitigating',\n",
       "  'malware',\n",
       "  'ransomware',\n",
       "  'guidance',\n",
       "  'rehearse',\n",
       "  'scenario',\n",
       "  'event',\n",
       "  'defence',\n",
       "  'breached',\n",
       "  'nSeparately',\n",
       "  'NCSC',\n",
       "  'recently',\n",
       "  'published',\n",
       "  'alert',\n",
       "  'direct',\n",
       "  'response',\n",
       "  'attack',\n",
       "  'education',\n",
       "  'sector',\n",
       "  'cyber',\n",
       "  'criminal']]"
      ]
     },
     "execution_count": 21,
     "metadata": {},
     "output_type": "execute_result"
    }
   ],
   "source": [
    "lister = [[] for x in range(len(df_lem))]\n",
    "for i in range(len(df_lem_list)):\n",
    "    l = df_lem_list[i]\n",
    "    for token in l:\n",
    "        if (len(token)>4 or token.isupper()):\n",
    "            lister[i].append(token)\n",
    "\n",
    "lister[0:1]"
   ]
  },
  {
   "cell_type": "code",
   "execution_count": 22,
   "metadata": {},
   "outputs": [],
   "source": [
    "dictionary = gensim.corpora.Dictionary(lister)"
   ]
  },
  {
   "cell_type": "code",
   "execution_count": 23,
   "metadata": {},
   "outputs": [],
   "source": [
    "bow_corpus = [dictionary.doc2bow(doc) for doc in lister]\n",
    "tfidf=gensim.models.TfidfModel(bow_corpus)\n",
    "tfidf_corp = tfidf[bow_corpus]"
   ]
  },
  {
   "cell_type": "code",
   "execution_count": 24,
   "metadata": {},
   "outputs": [
    {
     "data": {
      "text/plain": [
       "[[(0, 1),\n",
       "  (1, 1),\n",
       "  (2, 1),\n",
       "  (3, 1),\n",
       "  (4, 1),\n",
       "  (5, 1),\n",
       "  (6, 3),\n",
       "  (7, 1),\n",
       "  (8, 1),\n",
       "  (9, 1),\n",
       "  (10, 1),\n",
       "  (11, 1),\n",
       "  (12, 1),\n",
       "  (13, 1),\n",
       "  (14, 2),\n",
       "  (15, 1),\n",
       "  (16, 3),\n",
       "  (17, 1),\n",
       "  (18, 1),\n",
       "  (19, 4),\n",
       "  (20, 3),\n",
       "  (21, 1),\n",
       "  (22, 4),\n",
       "  (23, 1),\n",
       "  (24, 3),\n",
       "  (25, 2),\n",
       "  (26, 2),\n",
       "  (27, 1),\n",
       "  (28, 2),\n",
       "  (29, 1),\n",
       "  (30, 1),\n",
       "  (31, 1),\n",
       "  (32, 1),\n",
       "  (33, 2),\n",
       "  (34, 1),\n",
       "  (35, 1),\n",
       "  (36, 3),\n",
       "  (37, 1),\n",
       "  (38, 2),\n",
       "  (39, 2),\n",
       "  (40, 1),\n",
       "  (41, 1),\n",
       "  (42, 1),\n",
       "  (43, 1),\n",
       "  (44, 1),\n",
       "  (45, 1),\n",
       "  (46, 3),\n",
       "  (47, 1),\n",
       "  (48, 5),\n",
       "  (49, 1),\n",
       "  (50, 1),\n",
       "  (51, 1),\n",
       "  (52, 1),\n",
       "  (53, 1),\n",
       "  (54, 1),\n",
       "  (55, 2),\n",
       "  (56, 1),\n",
       "  (57, 1),\n",
       "  (58, 1),\n",
       "  (59, 1),\n",
       "  (60, 1),\n",
       "  (61, 1),\n",
       "  (62, 1),\n",
       "  (63, 2),\n",
       "  (64, 1),\n",
       "  (65, 2),\n",
       "  (66, 1),\n",
       "  (67, 1),\n",
       "  (68, 1),\n",
       "  (69, 2),\n",
       "  (70, 1),\n",
       "  (71, 1),\n",
       "  (72, 1),\n",
       "  (73, 1),\n",
       "  (74, 1),\n",
       "  (75, 1),\n",
       "  (76, 1),\n",
       "  (77, 1),\n",
       "  (78, 2),\n",
       "  (79, 1),\n",
       "  (80, 1),\n",
       "  (81, 1),\n",
       "  (82, 1),\n",
       "  (83, 2),\n",
       "  (84, 1),\n",
       "  (85, 1),\n",
       "  (86, 1),\n",
       "  (87, 1),\n",
       "  (88, 1),\n",
       "  (89, 1),\n",
       "  (90, 1),\n",
       "  (91, 2),\n",
       "  (92, 1),\n",
       "  (93, 1),\n",
       "  (94, 1),\n",
       "  (95, 1),\n",
       "  (96, 1),\n",
       "  (97, 1),\n",
       "  (98, 1),\n",
       "  (99, 1),\n",
       "  (100, 4),\n",
       "  (101, 1),\n",
       "  (102, 1),\n",
       "  (103, 2),\n",
       "  (104, 1),\n",
       "  (105, 1),\n",
       "  (106, 1),\n",
       "  (107, 1),\n",
       "  (108, 1),\n",
       "  (109, 1),\n",
       "  (110, 1),\n",
       "  (111, 1),\n",
       "  (112, 1),\n",
       "  (113, 2),\n",
       "  (114, 1),\n",
       "  (115, 1),\n",
       "  (116, 2),\n",
       "  (117, 1),\n",
       "  (118, 3),\n",
       "  (119, 1),\n",
       "  (120, 1),\n",
       "  (121, 1),\n",
       "  (122, 1),\n",
       "  (123, 1),\n",
       "  (124, 1),\n",
       "  (125, 1),\n",
       "  (126, 1),\n",
       "  (127, 1),\n",
       "  (128, 1),\n",
       "  (129, 1),\n",
       "  (130, 2),\n",
       "  (131, 1),\n",
       "  (132, 1)]]"
      ]
     },
     "execution_count": 24,
     "metadata": {},
     "output_type": "execute_result"
    }
   ],
   "source": [
    "bow_corpus[0:1]"
   ]
  },
  {
   "cell_type": "code",
   "execution_count": 25,
   "metadata": {},
   "outputs": [],
   "source": [
    "lda_model_tfidf = gensim.models.LdaMulticore(tfidf_corp, num_topics=6, id2word=dictionary, passes=2, workers=4)"
   ]
  },
  {
   "cell_type": "code",
   "execution_count": 26,
   "metadata": {},
   "outputs": [],
   "source": [
    "import pyLDAvis.gensim\n",
    "pyLDAvis.enable_notebook()"
   ]
  },
  {
   "cell_type": "code",
   "execution_count": 27,
   "metadata": {},
   "outputs": [
    {
     "data": {
      "text/html": [
       "\n",
       "\n",
       "<link rel=\"stylesheet\" type=\"text/css\" href=\"https://cdn.jsdelivr.net/gh/bmabey/pyLDAvis/pyLDAvis/js/ldavis.v1.0.0.css\">\n",
       "\n",
       "<div id=\"ldavis_el1184026523259622406248641457\"></div>\n",
       "<script type=\"text/javascript\">\n",
       "\n",
       "var ldavis_el1184026523259622406248641457_data = {\"mdsDat\": {\"x\": [-0.00010247710804062618, -0.004567083433785556, -0.011738254102741794, 0.007141723650014999, 0.011564986769530614, -0.0022988957749776355], \"y\": [0.014342793187726879, -0.013117842199034765, 0.0029392386031528474, 0.003594777337521572, -0.004350712066928209, -0.0034082548624383277], \"topics\": [1, 2, 3, 4, 5, 6], \"cluster\": [1, 1, 1, 1, 1, 1], \"Freq\": [21.231276098648777, 20.313997485218508, 15.818779067110283, 14.903609715054914, 14.792506010495194, 12.939831623472339]}, \"tinfo\": {\"Term\": [\"school\", \"student\", \"university\", \"Huawei\", \"airline\", \"FIN\", \"domain\", \"router\", \"TalkTalk\", \"bucket\", \"GandCrab\", \"Toyota\", \"charity\", \"Emotet\", \"Instagram\", \"conferencing\", \"privacy\", \"FTP\", \"EasyJet\", \"finder\", \"irrigation\", \"Polar\", \"ArbiterSports\", \"Facebook\", \"printer\", \"driver\", \"padlock\", \"Server\", \"FA\", \"unlicensed\", \"unlicensed\", \"FTP\", \"NSA\", \"outbreak\", \"Mylobot\", \"worst\", \"Fortinet\", \"Cellebrite\", \"reducing\", \"BR\", \"EDR\", \"professionalisation\", \"nWith\", \"spammer\", \"situation\", \"Doorbell\", \"Rabbit\", \"smishing\", \"Mandia\", \"prompted\", \"healthcare\", \"FaceTime\", \"FireEye\", \"Fortnite\", \"CPR\", \"Monday\", \"sending\", \"Mobile\", \"never\", \"Video\", \"November\", \"coronavirus\", \"shopping\", \"TrickBot\", \"VPN\", \"ongoing\", \"people\", \"SMS\", \"ensure\", \"macro\", \"document\", \"phone\", \"criminal\", \"sensitive\", \"software\", \"campaign\", \"message\", \"country\", \"ransomware\", \"offer\", \"email\", \"cloud\", \"phishing\", \"malicious\", \"password\", \"actor\", \"vulnerability\", \"steal\", \"Windows\", \"exposed\", \"FA\", \"credential\", \"latest\", \"server\", \"device\", \"version\", \"advice\", \"breach\", \"account\", \"online\", \"update\", \"Microsoft\", \"million\", \"Owari\", \"central\", \"domain\", \"BA\", \"C\", \"charity\", \"Rigzone\", \"Oilpro\", \"boarding\", \"Bodybuilding\", \"currency\", \"Games\", \"GWR\", \"Hajime\", \"SHA\", \"ComRAT\", \"bucket\", \"printer\", \"configure\", \"Unicode\", \"collision\", \"SharePoint\", \"Disdain\", \"BlueBorne\", \"nIran\", \"implementation\", \"Oracle\", \"storage\", \"reset\", \"experimenting\", \"Server\", \"biggest\", \"S\", \"I\", \"breach\", \"AWS\", \"password\", \"decision\", \"update\", \"exploit\", \"botnet\", \"technology\", \"vulnerability\", \"likely\", \"website\", \"account\", \"cryptocurrency\", \"researcher\", \"device\", \"online\", \"phishing\", \"practice\", \"system\", \"customer\", \"malware\", \"Microsoft\", \"secure\", \"affected\", \"could\", \"released\", \"product\", \"attacker\", \"email\", \"student\", \"EasyJet\", \"Polar\", \"LastPass\", \"memcached\", \"school\", \"PNG\", \"SacRT\", \"Odinaff\", \"Timehop\", \"clipboard\", \"AV\", \"Slack\", \"steganography\", \"Sophos\", \"Steam\", \"surge\", \"Ursnif\", \"QTS\", \"Telef\\u00f3nica\", \"Spanish\", \"telegram\", \"nreport\", \"nLike\", \"nonly\", \"njust\", \"nTrue\", \"Dialog\", \"education\", \"sport\", \"privacy\", \"university\", \"Facebook\", \"Google\", \"Polish\", \"nFacebook\", \"revealing\", \"nCyber\", \"insider\", \"social\", \"place\", \"breach\", \"criminal\", \"credential\", \"email\", \"manager\", \"account\", \"password\", \"update\", \"often\", \"Chrome\", \"personal\", \"website\", \"victim\", \"ransomware\", \"phishing\", \"vulnerability\", \"online\", \"device\", \"malware\", \"Microsoft\", \"detail\", \"Huawei\", \"TalkTalk\", \"finder\", \"irrigation\", \"driver\", \"Soleil\", \"Bitbucket\", \"fileless\", \"SFMTA\", \"Travelex\", \"Foods\", \"UEFI\", \"firmware\", \"SIM\", \"Cirque\", \"Avalanche\", \"Dharma\", \"Cequence\", \"supermarket\", \"Zendesk\", \"cryptomining\", \"nSocial\", \"terrorist\", \"Instagram\", \"leaking\", \"swapping\", \"fridge\", \"Market\", \"HNS\", \"router\", \"ATM\", \"tweet\", \"article\", \"video\", \"error\", \"caused\", \"setting\", \"bucket\", \"operation\", \"database\", \"issue\", \"Microsoft\", \"customer\", \"malware\", \"account\", \"device\", \"advisory\", \"update\", \"vulnerability\", \"CVE\", \"breach\", \"ransomware\", \"hacker\", \"server\", \"social\", \"phishing\", \"advice\", \"report\", \"online\", \"Toyota\", \"Fireball\", \"FTSE\", \"CDOT\", \"Netflix\", \"conferencing\", \"pager\", \"localisation\", \"padlock\", \"GDS\", \"console\", \"IcedID\", \"Felismus\", \"Dresscode\", \"Colorado\", \"GandCrab\", \"statistic\", \"LPE\", \"Equation\", \"NHSD\", \"insurance\", \"letter\", \"Chinese\", \"After\", \"personnel\", \"legislation\", \"ICS\", \"Superdrug\", \"nasty\", \"Qakbot\", \"Explorer\", \"SamSam\", \"JavaScript\", \"involved\", \"claim\", \"advertising\", \"infected\", \"working\", \"developer\", \"Microsoft\", \"ransomware\", \"digital\", \"certificate\", \"malware\", \"since\", \"business\", \"corporate\", \"exploit\", \"vulnerability\", \"email\", \"system\", \"device\", \"update\", \"personal\", \"provider\", \"incident\", \"ransom\", \"message\", \"FIN\", \"ArbiterSports\", \"airline\", \"Spirit\", \"Emotet\", \"petrol\", \"nExchange\", \"Deloitte\", \"EDP\", \"Momentive\", \"RoughTed\", \"PCS\", \"QNAP\", \"nSextortion\", \"expiration\", \"Boots\", \"spraying\", \"Fastway\", \"retailer\", \"Locky\", \"nThose\", \"Panda\", \"engineering\", \"NAS\", \"ShellTea\", \"BADHATCH\", \"MyNewsDesk\", \"Aptos\", \"upstream\", \"cookie\", \"North\", \"normal\", \"Pulse\", \"please\", \"gaming\", \"response\", \"ransomware\", \"hacker\", \"password\", \"Windows\", \"school\", \"FA\", \"system\", \"smart\", \"IT\", \"stolen\", \"would\", \"account\", \"malware\", \"device\", \"vulnerability\", \"breach\", \"social\", \"US\", \"online\", \"policy\", \"cryptocurrency\", \"update\", \"ransom\", \"campaign\", \"incident\"], \"Freq\": [0.0, 0.0, 0.0, 0.0, 0.0, 0.0, 0.0, 0.0, 0.0, 0.0, 0.0, 0.0, 0.0, 0.0, 0.0, 0.0, 0.0, 0.0, 0.0, 0.0, 0.0, 0.0, 0.0, 0.0, 0.0, 0.0, 0.0, 0.0, 0.0, 0.0, 0.26074004896873093, 0.31221586707149984, 0.2304677508065944, 0.21680363606673606, 0.18067177334975643, 0.17937028482455558, 0.20601763790472633, 0.17484161324594938, 0.17447187455027027, 0.16140273957117376, 0.16136478109801813, 0.18091027611927107, 0.19955352971716825, 0.18091449372739948, 0.15010734642179654, 0.150595074189941, 0.17934395447521875, 0.14789507730185322, 0.1466056327209909, 0.1472822766616756, 0.2787071189986617, 0.1441983586280403, 0.21327046851376155, 0.14535555743290463, 0.14182530062356805, 0.1789933286727131, 0.20186716993952172, 0.1951932802997741, 0.2392722602370953, 0.13919075091513475, 0.22767695653788317, 0.28270351061058396, 0.22630304098859, 0.18509374241286058, 0.2666082566500907, 0.2530699127667093, 0.31244260806060004, 0.22129298290476476, 0.2890478030855365, 0.21637883085366216, 0.22551889259282956, 0.3030607763906918, 0.34721378723125274, 0.28998384477685085, 0.31784545317748214, 0.30801477295802154, 0.30792361915980976, 0.2453270970781369, 0.3720939625056224, 0.23690480095890618, 0.3337480040285593, 0.26284121975624963, 0.3307361566014281, 0.2875566410004203, 0.3656765747235994, 0.2680991514220157, 0.3388770907361492, 0.2433576522909666, 0.28357028848390226, 0.25668826412329127, 0.2548473078767088, 0.2627699659400522, 0.25642335675077554, 0.2691432767469868, 0.2858842702731112, 0.26669436119913464, 0.2664448391858479, 0.2921991582970277, 0.2769465646197101, 0.2712240723290401, 0.2701409786810798, 0.2652086641837059, 0.26298518276046357, 0.2330434502008931, 0.19913290222672436, 0.38292728676656573, 0.18284122256156862, 0.21060943793589942, 0.3301563202057265, 0.1702778596823435, 0.17026792750746816, 0.18074659934687143, 0.16759792018776096, 0.2784055116239286, 0.15966810871100173, 0.1593239496156432, 0.1696127165663356, 0.16821948393274933, 0.16297931677952807, 0.25362631252227535, 0.20921219833047502, 0.15703619604199665, 0.1403767275149335, 0.13989370268988013, 0.1652948207645216, 0.13636096023153774, 0.13345981315689898, 0.13324009753444208, 0.14124884067276428, 0.1492257695914214, 0.20895735776339458, 0.21325723640105704, 0.12926160077278884, 0.25126722916626226, 0.1763456796569364, 0.22809441370721525, 0.17872202709374138, 0.43374751166176023, 0.2023874159064773, 0.4178343771623469, 0.17672114144364023, 0.3789046564782132, 0.268392174255187, 0.23919976457480446, 0.20489856526465902, 0.3309462051861559, 0.2330191241874645, 0.2715198004933995, 0.3010563266417806, 0.236726439894045, 0.23969503766129208, 0.27929079663599327, 0.26495103799344166, 0.2715715785266552, 0.22173444001643944, 0.24784413848690842, 0.24977154877752406, 0.2560387937512234, 0.25281647793737533, 0.2283004033197586, 0.23219490997313125, 0.22888809252268283, 0.22369789884447813, 0.22471173376512243, 0.22562516704389385, 0.22679543016654474, 0.29358964197063153, 0.17252739999310387, 0.1675824057283728, 0.15752625664597406, 0.14731848619733098, 0.27655449517380265, 0.12781417831439817, 0.14314701207208813, 0.12533908647938474, 0.12489909351224579, 0.12527815246027157, 0.12374224340033053, 0.12373079130122355, 0.13737046263423014, 0.14196560910228073, 0.13223965667838466, 0.12820784283809664, 0.11856113672705482, 0.1265310121025745, 0.11341456338838092, 0.11340610985821886, 0.11317714532988978, 0.11312809493825575, 0.11609542786792806, 0.11244079195455646, 0.11226922069972291, 0.11045534097913895, 0.11044365651860083, 0.16422949666577227, 0.12100472699090155, 0.21113008033873998, 0.2496024723104779, 0.22592909137042422, 0.23025977733532912, 0.13608964216637812, 0.1267156619865331, 0.1423660563668029, 0.17515949070176837, 0.17949133847382906, 0.20053541704239214, 0.1762026275552079, 0.26305630982271, 0.21227079792843498, 0.19097909952807002, 0.21793853582753164, 0.15631043098986538, 0.22092663744321728, 0.2335921722030076, 0.220367376672915, 0.16858963720828374, 0.14993927971450927, 0.18444103529133352, 0.1821488672267901, 0.17791766514891014, 0.195774530484947, 0.18666065126520598, 0.19224447349316517, 0.18108976382358113, 0.17802317936831505, 0.1761161337786676, 0.17585709504224892, 0.17057758883529367, 0.2063776389289989, 0.1873444854161822, 0.1536851650536311, 0.15353881279455528, 0.15284328773057065, 0.13768388743087628, 0.13013871386284112, 0.14301159336697203, 0.1290132432029405, 0.1302063179941971, 0.12206045279054208, 0.12014088117365725, 0.14255931807955805, 0.11566134907493791, 0.11271597728387253, 0.11264084652447659, 0.11156811438431845, 0.11125738557270272, 0.11297777258853606, 0.1089676643965184, 0.11246376227168643, 0.12476876707242701, 0.11028354206632143, 0.17888470144498317, 0.12210565425755204, 0.10404612533257254, 0.10128214319233124, 0.10100282397944729, 0.10227077933747801, 0.2207690521266122, 0.1288271103169943, 0.1401454909382553, 0.11422843338158303, 0.18764801076522786, 0.13104066868921763, 0.1460923089417529, 0.15993718678167912, 0.15116563152960671, 0.15463630357958166, 0.16751206029886356, 0.1693571474872922, 0.1939754655687565, 0.1813917774613791, 0.18954050945549258, 0.1924241879158926, 0.18888775690514767, 0.1606259774942596, 0.18551349241211648, 0.1851602204300977, 0.16042232070009296, 0.18305049199593226, 0.17434720805554074, 0.15730464959012982, 0.15926836978007444, 0.155266100956874, 0.16126549068503288, 0.1567999380990581, 0.1532117901884431, 0.1536459994836227, 0.16475705796489776, 0.14407770078014714, 0.13836103661000212, 0.14352973515182277, 0.1290270894901989, 0.15840292680339269, 0.12416117457687682, 0.12327691145706281, 0.15759373101176638, 0.12623908581721346, 0.15323215886589492, 0.11513368426289906, 0.11512102990833345, 0.11457344711820933, 0.12404634381075315, 0.15459785654301375, 0.11787691656040988, 0.1097322821771857, 0.10971001547969983, 0.11036059209267447, 0.11751563111611896, 0.13650038087482846, 0.13743548904642947, 0.10711989776833952, 0.12176014789551384, 0.109252782504839, 0.13404114209306794, 0.1032691766393232, 0.09807039943133554, 0.09886209848251173, 0.15588229939887024, 0.13948925043921404, 0.12299094166844086, 0.15934218411332632, 0.16158243944453343, 0.13739641885604534, 0.18587227126716452, 0.18405534186264852, 0.1534402986831002, 0.2159878554530603, 0.22406499649627504, 0.16409524453339633, 0.15379223045893048, 0.19971050640571217, 0.15339718282416728, 0.1750241680243655, 0.14360307453462007, 0.1568556603495629, 0.17494240620116228, 0.16432100525479232, 0.15919621928924027, 0.15998435897985183, 0.16071255862467543, 0.15203436160703965, 0.14663002097946476, 0.14746843663805206, 0.14470455177168354, 0.14544131871461047, 0.1617463329282488, 0.12338806325510451, 0.17675528665439966, 0.11196004269126299, 0.13934488230314132, 0.10936829303191, 0.10929843679499852, 0.10895879501084427, 0.10701716633942551, 0.10676237843205862, 0.10959883309544612, 0.1048978921171048, 0.11984815863929944, 0.09837403643512534, 0.09694854561157859, 0.09684835015386806, 0.09436265200110894, 0.09283445857063884, 0.10600760885496004, 0.09126236740124408, 0.08938173395923014, 0.10075399986909724, 0.1262660804787275, 0.10333902457586859, 0.08571170196352404, 0.08570666051185784, 0.08569761848274739, 0.08535622078903612, 0.08534895277164303, 0.08534820153198722, 0.1269395804067942, 0.10782769057049851, 0.10932119121059783, 0.12133082513641055, 0.12712702827754263, 0.13680035212914296, 0.21738777599164844, 0.15977768678246096, 0.21594389337315428, 0.16613853251020677, 0.14102407490443208, 0.14640341244522326, 0.16264038052732116, 0.13574336698447848, 0.13833739751603952, 0.13881398214347837, 0.13965543391556284, 0.15505316774022299, 0.14821301300990095, 0.14633030687052334, 0.1496923487095019, 0.15020360802515115, 0.13321608816932348, 0.13421228625942755, 0.13897612319401373, 0.12354528956909636, 0.12779945112706664, 0.13439038436433903, 0.12512346306437924, 0.1266780313425249, 0.12535774122403412], \"Total\": [0.0, 0.0, 0.0, 0.0, 0.0, 0.0, 0.0, 0.0, 0.0, 0.0, 0.0, 0.0, 0.0, 0.0, 0.0, 0.0, 0.0, 0.0, 0.0, 0.0, 0.0, 0.0, 0.0, 0.0, 0.0, 0.0, 0.0, 0.0, 0.0, 0.0, 0.45864190835826263, 0.5659435916894913, 0.47084560215050036, 0.447689723796127, 0.3785006801994072, 0.3772163918067857, 0.4372379287837894, 0.37267442634365705, 0.3825426466855707, 0.3592322382037834, 0.3592087223821711, 0.40647906106058607, 0.44860260222744425, 0.4069304743769805, 0.34793258741053257, 0.3499710134796272, 0.41681292507306905, 0.3457197000052895, 0.34443618793428465, 0.34893999040326373, 0.6608808889938342, 0.34201630586988446, 0.5068152294662189, 0.3464007947376943, 0.3396467611816221, 0.43048931028695825, 0.4862968828434036, 0.47321676912126853, 0.5805813816084426, 0.3378309973487261, 0.5567351885732795, 0.6966843280919476, 0.555287458244961, 0.45384134772268403, 0.6895884198835027, 0.6501119544049886, 0.839729156402606, 0.5619638873360048, 0.7800373100709349, 0.5470141711523898, 0.5766369904881239, 0.8930300011459387, 1.094465098318739, 0.841125723122208, 1.006292896337075, 0.9613659630689921, 0.962415840527393, 0.6742841291705111, 1.3853935171029017, 0.640243434813, 1.1904284106492258, 0.7777938257556163, 1.201875767347769, 0.9228515099773374, 1.5137390393838643, 0.8181436499836114, 1.3718627447562322, 0.6782733843282365, 0.9778251832009635, 0.7903412030091179, 0.7875990000868224, 0.8784171771248959, 0.8138944952837592, 0.9703768389536594, 1.2384006690329423, 0.9413505755688562, 0.9408138421272104, 1.4428526959747499, 1.265996080986357, 1.112722107372767, 1.350029447233339, 1.2179197883916635, 0.9171286015883215, 0.45869399094770524, 0.4122978126743604, 0.8004269219721197, 0.3881062476327775, 0.44832446069778603, 0.7079788691982178, 0.37006563869422826, 0.37005790329577054, 0.39607664808308857, 0.36739817323265467, 0.6198637582094427, 0.35945877772296525, 0.3591528314500513, 0.3880585187668737, 0.3863237986142349, 0.3790125974939858, 0.5902015384068576, 0.49688956478115254, 0.37893827903741906, 0.3401541171919207, 0.3396722297811132, 0.4026702782372748, 0.33613610931016946, 0.33324049087135893, 0.3330180675139798, 0.3537885926414209, 0.3770197940376423, 0.5284776460399822, 0.5427924879208843, 0.3290382598028364, 0.6458797832566127, 0.4604388568471405, 0.6266748881383104, 0.4707976000503037, 1.4428526959747499, 0.5536078041775745, 1.5137390393838643, 0.46652754081881176, 1.350029447233339, 0.847906235314113, 0.7417221044313499, 0.5841700698514385, 1.3718627447562322, 0.7382584366398464, 1.0148507703214982, 1.265996080986357, 0.7924338771649557, 0.822496333715616, 1.2384006690329423, 1.112722107372767, 1.201875767347769, 0.7358971759728904, 1.036426261700058, 1.071345050763527, 1.2107190299861053, 1.2179197883916635, 0.8583722839251524, 0.9820401848384589, 0.8981227020650241, 0.7957434627212822, 0.832935201419968, 0.9315244884491913, 1.1904284106492258, 0.630868112062844, 0.3809202370239666, 0.3759662314684629, 0.36590337187699434, 0.3616374277741038, 0.7193810956654489, 0.3361823363774862, 0.3772053228105873, 0.33369802947131466, 0.3332835435949938, 0.3358726804433454, 0.33210587618141274, 0.3321005389342614, 0.36974374560969603, 0.3841279976694965, 0.35874575074671766, 0.35230640408665875, 0.32691988548924905, 0.35327386081627726, 0.3217682861865471, 0.3217609686523035, 0.3215360539457406, 0.32150636772834223, 0.3304983925812648, 0.3207990568834754, 0.3206415363454002, 0.31881142653461714, 0.3188034929728689, 0.4775016891370495, 0.3529764069012734, 0.6160054446361349, 0.7617896051912927, 0.723027820258331, 0.7724322800711255, 0.40783223188351064, 0.37302750702319953, 0.44033812583142373, 0.5982112151282284, 0.6893633983960968, 0.842372387616474, 0.6772159603341221, 1.4428526959747499, 1.094465098318739, 0.8784171771248959, 1.1904284106492258, 0.5626460643432547, 1.265996080986357, 1.5137390393838643, 1.350029447233339, 0.6936562863146656, 0.5202738414684054, 0.9766622042287039, 1.0148507703214982, 0.9444322675589355, 1.3853935171029017, 1.201875767347769, 1.3718627447562322, 1.112722107372767, 1.2384006690329423, 1.2107190299861053, 1.2179197883916635, 1.0377853041480172, 0.4246974161179318, 0.3975082856262057, 0.3638708485442095, 0.3637185096806227, 0.3855114260268229, 0.347846607594947, 0.34030011101916197, 0.37507157282039977, 0.33917959225245387, 0.3506814898717626, 0.33222005181341996, 0.33029691506587755, 0.40739882242580283, 0.33124322070394246, 0.3228732050897444, 0.32279404071887524, 0.32172748353779623, 0.3246823422561217, 0.3319546237367693, 0.3253880628436373, 0.33894438502526647, 0.3761439178540047, 0.3328168792120352, 0.5410985244804257, 0.372555250997012, 0.31947007253698956, 0.31145146292643167, 0.31115440280982054, 0.31665957793955757, 0.6836338073796523, 0.40044673909731154, 0.4504712239773723, 0.3587587801299412, 0.6503056966521353, 0.43484807976465845, 0.5073346170458861, 0.6543231481178443, 0.5902015384068576, 0.662930353378291, 0.7923977502344731, 0.8224668872856609, 1.2179197883916635, 1.071345050763527, 1.2107190299861053, 1.265996080986357, 1.2384006690329423, 0.8386566522157181, 1.350029447233339, 1.3718627447562322, 0.853753433683767, 1.4428526959747499, 1.3853935171029017, 0.849244150262856, 0.9703768389536594, 0.842372387616474, 1.201875767347769, 0.9408138421272104, 0.9209365146324437, 1.112722107372767, 0.3750801072039168, 0.3611473163484127, 0.3486667449841696, 0.36993101833593117, 0.3393348853014732, 0.42317584982327655, 0.33445953360138014, 0.33359430149285174, 0.4280573731363064, 0.3453199282975988, 0.4214679545110798, 0.3254343935484609, 0.3254273497730248, 0.3248683199611562, 0.35576516351999743, 0.4476693210759421, 0.34202266284830285, 0.3200365452185679, 0.32002352158386266, 0.32302332856297356, 0.35344940270358643, 0.4123724038985879, 0.4177528681402737, 0.3276298316563621, 0.37257248679851845, 0.33706875221250077, 0.41878444349014277, 0.3228139141658104, 0.3083708145142585, 0.3124996256829565, 0.5023139859422185, 0.451856866525248, 0.4015230118152421, 0.5699614246317221, 0.5936887041369027, 0.47461867391005885, 0.7851785161554766, 0.7851657199958635, 0.6067514146411918, 1.2179197883916635, 1.3853935171029017, 0.7270925414005729, 0.6400482682925084, 1.2107190299861053, 0.6509664844783517, 0.9372468199471133, 0.5908164076263074, 0.847906235314113, 1.3718627447562322, 1.1904284106492258, 1.036426261700058, 1.2384006690329423, 1.350029447233339, 0.9766622042287039, 0.7327320628340532, 0.9325504498495766, 0.7410616778460026, 0.962415840527393, 0.37668895679800335, 0.337529996992173, 0.5079927367714427, 0.32610133547205994, 0.40820100024459816, 0.32348465943160154, 0.323425708701999, 0.32307547073978493, 0.32114372925666645, 0.3208847101357474, 0.33014908571857454, 0.3190246004225946, 0.3767670983287125, 0.3125037138623149, 0.31289529151737405, 0.31480530331218814, 0.30908389225330374, 0.30695574674366866, 0.35774899368893137, 0.3092814268446302, 0.30501177084466596, 0.3443318282587751, 0.43190777677496983, 0.35957070302968885, 0.29982785397767, 0.29982463642750284, 0.29982219071338345, 0.2994676278797166, 0.2994625761913309, 0.2994654762593649, 0.44801392357108594, 0.3846778402220451, 0.40311480573656755, 0.4598193696273264, 0.5407219361238, 0.6051392773877388, 1.3853935171029017, 0.849244150262856, 1.5137390393838643, 0.9778251832009635, 0.7193810956654489, 0.7875990000868224, 1.036426261700058, 0.7169149917861444, 0.7656135471983236, 0.8142960536007748, 0.8422669759031547, 1.265996080986357, 1.2107190299861053, 1.2384006690329423, 1.3718627447562322, 1.4428526959747499, 0.842372387616474, 0.9111671811067359, 1.112722107372767, 0.6105956668776461, 0.7924338771649557, 1.350029447233339, 0.7410616778460026, 0.9613659630689921, 0.9325504498495766], \"Category\": [\"Default\", \"Default\", \"Default\", \"Default\", \"Default\", \"Default\", \"Default\", \"Default\", \"Default\", \"Default\", \"Default\", \"Default\", \"Default\", \"Default\", \"Default\", \"Default\", \"Default\", \"Default\", \"Default\", \"Default\", \"Default\", \"Default\", \"Default\", \"Default\", \"Default\", \"Default\", \"Default\", \"Default\", \"Default\", \"Default\", \"Topic1\", \"Topic1\", \"Topic1\", \"Topic1\", \"Topic1\", \"Topic1\", \"Topic1\", \"Topic1\", \"Topic1\", \"Topic1\", \"Topic1\", \"Topic1\", \"Topic1\", \"Topic1\", \"Topic1\", \"Topic1\", \"Topic1\", \"Topic1\", \"Topic1\", \"Topic1\", \"Topic1\", \"Topic1\", \"Topic1\", \"Topic1\", \"Topic1\", \"Topic1\", \"Topic1\", \"Topic1\", \"Topic1\", \"Topic1\", \"Topic1\", \"Topic1\", \"Topic1\", \"Topic1\", \"Topic1\", \"Topic1\", \"Topic1\", \"Topic1\", \"Topic1\", \"Topic1\", \"Topic1\", \"Topic1\", \"Topic1\", \"Topic1\", \"Topic1\", \"Topic1\", \"Topic1\", \"Topic1\", \"Topic1\", \"Topic1\", \"Topic1\", \"Topic1\", \"Topic1\", \"Topic1\", \"Topic1\", \"Topic1\", \"Topic1\", \"Topic1\", \"Topic1\", \"Topic1\", \"Topic1\", \"Topic1\", \"Topic1\", \"Topic1\", \"Topic1\", \"Topic1\", \"Topic1\", \"Topic1\", \"Topic1\", \"Topic1\", \"Topic1\", \"Topic1\", \"Topic1\", \"Topic2\", \"Topic2\", \"Topic2\", \"Topic2\", \"Topic2\", \"Topic2\", \"Topic2\", \"Topic2\", \"Topic2\", \"Topic2\", \"Topic2\", \"Topic2\", \"Topic2\", \"Topic2\", \"Topic2\", \"Topic2\", \"Topic2\", \"Topic2\", \"Topic2\", \"Topic2\", \"Topic2\", \"Topic2\", \"Topic2\", \"Topic2\", \"Topic2\", \"Topic2\", \"Topic2\", \"Topic2\", \"Topic2\", \"Topic2\", \"Topic2\", \"Topic2\", \"Topic2\", \"Topic2\", \"Topic2\", \"Topic2\", \"Topic2\", \"Topic2\", \"Topic2\", \"Topic2\", \"Topic2\", \"Topic2\", \"Topic2\", \"Topic2\", \"Topic2\", \"Topic2\", \"Topic2\", \"Topic2\", \"Topic2\", \"Topic2\", \"Topic2\", \"Topic2\", \"Topic2\", \"Topic2\", \"Topic2\", \"Topic2\", \"Topic2\", \"Topic2\", \"Topic2\", \"Topic2\", \"Topic2\", \"Topic2\", \"Topic2\", \"Topic3\", \"Topic3\", \"Topic3\", \"Topic3\", \"Topic3\", \"Topic3\", \"Topic3\", \"Topic3\", \"Topic3\", \"Topic3\", \"Topic3\", \"Topic3\", \"Topic3\", \"Topic3\", \"Topic3\", \"Topic3\", \"Topic3\", \"Topic3\", \"Topic3\", \"Topic3\", \"Topic3\", \"Topic3\", \"Topic3\", \"Topic3\", \"Topic3\", \"Topic3\", \"Topic3\", \"Topic3\", \"Topic3\", \"Topic3\", \"Topic3\", \"Topic3\", \"Topic3\", \"Topic3\", \"Topic3\", \"Topic3\", \"Topic3\", \"Topic3\", \"Topic3\", \"Topic3\", \"Topic3\", \"Topic3\", \"Topic3\", \"Topic3\", \"Topic3\", \"Topic3\", \"Topic3\", \"Topic3\", \"Topic3\", \"Topic3\", \"Topic3\", \"Topic3\", \"Topic3\", \"Topic3\", \"Topic3\", \"Topic3\", \"Topic3\", \"Topic3\", \"Topic3\", \"Topic3\", \"Topic3\", \"Topic3\", \"Topic4\", \"Topic4\", \"Topic4\", \"Topic4\", \"Topic4\", \"Topic4\", \"Topic4\", \"Topic4\", \"Topic4\", \"Topic4\", \"Topic4\", \"Topic4\", \"Topic4\", \"Topic4\", \"Topic4\", \"Topic4\", \"Topic4\", \"Topic4\", \"Topic4\", \"Topic4\", \"Topic4\", \"Topic4\", \"Topic4\", \"Topic4\", \"Topic4\", \"Topic4\", \"Topic4\", \"Topic4\", \"Topic4\", \"Topic4\", \"Topic4\", \"Topic4\", \"Topic4\", \"Topic4\", \"Topic4\", \"Topic4\", \"Topic4\", \"Topic4\", \"Topic4\", \"Topic4\", \"Topic4\", \"Topic4\", \"Topic4\", \"Topic4\", \"Topic4\", \"Topic4\", \"Topic4\", \"Topic4\", \"Topic4\", \"Topic4\", \"Topic4\", \"Topic4\", \"Topic4\", \"Topic4\", \"Topic4\", \"Topic4\", \"Topic4\", \"Topic4\", \"Topic4\", \"Topic5\", \"Topic5\", \"Topic5\", \"Topic5\", \"Topic5\", \"Topic5\", \"Topic5\", \"Topic5\", \"Topic5\", \"Topic5\", \"Topic5\", \"Topic5\", \"Topic5\", \"Topic5\", \"Topic5\", \"Topic5\", \"Topic5\", \"Topic5\", \"Topic5\", \"Topic5\", \"Topic5\", \"Topic5\", \"Topic5\", \"Topic5\", \"Topic5\", \"Topic5\", \"Topic5\", \"Topic5\", \"Topic5\", \"Topic5\", \"Topic5\", \"Topic5\", \"Topic5\", \"Topic5\", \"Topic5\", \"Topic5\", \"Topic5\", \"Topic5\", \"Topic5\", \"Topic5\", \"Topic5\", \"Topic5\", \"Topic5\", \"Topic5\", \"Topic5\", \"Topic5\", \"Topic5\", \"Topic5\", \"Topic5\", \"Topic5\", \"Topic5\", \"Topic5\", \"Topic5\", \"Topic5\", \"Topic5\", \"Topic5\", \"Topic5\", \"Topic5\", \"Topic6\", \"Topic6\", \"Topic6\", \"Topic6\", \"Topic6\", \"Topic6\", \"Topic6\", \"Topic6\", \"Topic6\", \"Topic6\", \"Topic6\", \"Topic6\", \"Topic6\", \"Topic6\", \"Topic6\", \"Topic6\", \"Topic6\", \"Topic6\", \"Topic6\", \"Topic6\", \"Topic6\", \"Topic6\", \"Topic6\", \"Topic6\", \"Topic6\", \"Topic6\", \"Topic6\", \"Topic6\", \"Topic6\", \"Topic6\", \"Topic6\", \"Topic6\", \"Topic6\", \"Topic6\", \"Topic6\", \"Topic6\", \"Topic6\", \"Topic6\", \"Topic6\", \"Topic6\", \"Topic6\", \"Topic6\", \"Topic6\", \"Topic6\", \"Topic6\", \"Topic6\", \"Topic6\", \"Topic6\", \"Topic6\", \"Topic6\", \"Topic6\", \"Topic6\", \"Topic6\", \"Topic6\", \"Topic6\", \"Topic6\", \"Topic6\", \"Topic6\", \"Topic6\", \"Topic6\", \"Topic6\"], \"logprob\": [30.0, 29.0, 28.0, 27.0, 26.0, 25.0, 24.0, 23.0, 22.0, 21.0, 20.0, 19.0, 18.0, 17.0, 16.0, 15.0, 14.0, 13.0, 12.0, 11.0, 10.0, 9.0, 8.0, 7.0, 6.0, 5.0, 4.0, 3.0, 2.0, 1.0, -7.5792, -7.399, -7.7026, -7.7637, -7.946, -7.9532, -7.8147, -7.9788, -7.9809, -8.0588, -8.059, -7.9447, -7.8466, -7.9447, -8.1313, -8.1281, -7.9534, -8.1462, -8.1549, -8.1503, -7.5125, -8.1715, -7.7801, -8.1635, -8.1881, -7.9553, -7.8351, -7.8687, -7.6651, -8.2068, -7.7148, -7.4983, -7.7208, -7.9218, -7.5569, -7.609, -7.3983, -7.7432, -7.4761, -7.7657, -7.7243, -7.4288, -7.2927, -7.4729, -7.3811, -7.4125, -7.4128, -7.6401, -7.2235, -7.675, -7.3323, -7.5711, -7.3414, -7.4813, -7.2409, -7.5513, -7.3171, -7.6482, -7.4952, -7.5948, -7.602, -7.5714, -7.5959, -7.5474, -7.4871, -7.5566, -7.5575, -7.4653, -7.5189, -7.5397, -7.5437, -7.5622, -7.5706, -7.6473, -7.8046, -7.1507, -7.8899, -7.7485, -7.299, -7.9611, -7.9612, -7.9014, -7.977, -7.4694, -8.0254, -8.0276, -7.965, -7.9733, -8.0049, -7.5627, -7.7552, -8.042, -8.1542, -8.1576, -7.9908, -8.1832, -8.2047, -8.2064, -8.148, -8.0931, -7.7564, -7.736, -8.2367, -7.572, -7.9261, -7.6688, -7.9127, -7.0261, -7.7883, -7.0634, -7.924, -7.1612, -7.5061, -7.6212, -7.776, -7.2966, -7.6474, -7.4945, -7.3912, -7.6316, -7.6192, -7.4663, -7.519, -7.4943, -7.697, -7.5857, -7.578, -7.5532, -7.5659, -7.6679, -7.6509, -7.6653, -7.6882, -7.6837, -7.6796, -7.6745, -7.1662, -7.6979, -7.7269, -7.7888, -7.8558, -7.226, -7.9978, -7.8845, -8.0174, -8.0209, -8.0179, -8.0302, -8.0303, -7.9257, -7.8928, -7.9638, -7.9948, -8.073, -8.0079, -8.1174, -8.1174, -8.1195, -8.1199, -8.094, -8.126, -8.1275, -8.1438, -8.1439, -7.7471, -8.0526, -7.4959, -7.3285, -7.4282, -7.4092, -7.9351, -8.0065, -7.89, -7.6827, -7.6583, -7.5474, -7.6768, -7.276, -7.4905, -7.5962, -7.4642, -7.7966, -7.4506, -7.3948, -7.4531, -7.7209, -7.8382, -7.6311, -7.6436, -7.6671, -7.5714, -7.6191, -7.5896, -7.6494, -7.6665, -7.6773, -7.6787, -7.7092, -7.4591, -7.5559, -7.7539, -7.7549, -7.7594, -7.8639, -7.9202, -7.8259, -7.9289, -7.9197, -7.9843, -8.0002, -7.8291, -8.0382, -8.0639, -8.0646, -8.0742, -8.077, -8.0616, -8.0978, -8.0662, -7.9624, -8.0858, -7.6021, -7.9839, -8.144, -8.1709, -8.1737, -8.1612, -7.3917, -7.9303, -7.8461, -8.0506, -7.5543, -7.9133, -7.8046, -7.714, -7.7704, -7.7477, -7.6678, -7.6568, -7.5211, -7.5882, -7.5442, -7.5291, -7.5477, -7.7097, -7.5657, -7.5676, -7.711, -7.5791, -7.6278, -7.7306, -7.7182, -7.7437, -7.7058, -7.7338, -7.757, -7.7542, -7.6769, -7.811, -7.8515, -7.8148, -7.9213, -7.7162, -7.9598, -7.9669, -7.7213, -7.9432, -7.7494, -8.0352, -8.0354, -8.0401, -7.9607, -7.7405, -8.0117, -8.0833, -8.0835, -8.0776, -8.0148, -7.865, -7.8582, -8.1074, -7.9793, -8.0877, -7.8832, -8.144, -8.1956, -8.1876, -7.7322, -7.8433, -7.9692, -7.7103, -7.6963, -7.8585, -7.5563, -7.5661, -7.748, -7.4061, -7.3694, -7.6809, -7.7457, -7.4845, -7.7483, -7.6164, -7.8143, -7.726, -7.6169, -7.6795, -7.7112, -7.7063, -7.7017, -7.7572, -7.7934, -7.7877, -7.8066, -7.8016, -7.5615, -7.8322, -7.4728, -7.9294, -7.7106, -7.9528, -7.9534, -7.9566, -7.9745, -7.9769, -7.9507, -7.9945, -7.8613, -8.0587, -8.0733, -8.0744, -8.1004, -8.1167, -7.984, -8.1338, -8.1546, -8.0348, -7.8091, -8.0095, -8.1965, -8.1966, -8.1967, -8.2007, -8.2008, -8.2008, -7.8038, -7.967, -7.9532, -7.849, -7.8023, -7.729, -7.2658, -7.5737, -7.2725, -7.5347, -7.6986, -7.6612, -7.556, -7.7368, -7.7178, -7.7144, -7.7083, -7.6038, -7.6489, -7.6617, -7.6389, -7.6355, -7.7556, -7.7481, -7.7132, -7.8309, -7.7971, -7.7468, -7.8182, -7.8059, -7.8164], \"loglift\": [30.0, 29.0, 28.0, 27.0, 26.0, 25.0, 24.0, 23.0, 22.0, 21.0, 20.0, 19.0, 18.0, 17.0, 16.0, 15.0, 14.0, 13.0, 12.0, 11.0, 10.0, 9.0, 8.0, 7.0, 6.0, 5.0, 4.0, 3.0, 2.0, 1.0, 0.9849, 0.9549, 0.8353, 0.8246, 0.8102, 0.8063, 0.7972, 0.7929, 0.7646, 0.7496, 0.7495, 0.7402, 0.7396, 0.7391, 0.709, 0.7064, 0.7064, 0.7006, 0.6955, 0.6871, 0.6863, 0.686, 0.6841, 0.6813, 0.6764, 0.6721, 0.6705, 0.6641, 0.6633, 0.663, 0.6555, 0.6478, 0.6521, 0.6528, 0.5994, 0.6062, 0.561, 0.6177, 0.5569, 0.6223, 0.6109, 0.469, 0.4016, 0.4848, 0.3972, 0.4115, 0.4101, 0.5386, 0.2351, 0.5555, 0.278, 0.4648, 0.2594, 0.3836, 0.1291, 0.434, 0.1514, 0.5247, 0.3118, 0.4251, 0.4214, 0.3429, 0.3947, 0.2673, 0.0837, 0.2885, 0.2881, -0.0472, 0.0299, 0.1381, -0.0592, 0.0253, 0.3005, 0.9167, 0.8661, 0.8566, 0.8412, 0.8383, 0.831, 0.8176, 0.8176, 0.8093, 0.809, 0.7934, 0.7824, 0.7811, 0.7662, 0.7625, 0.7499, 0.7493, 0.7288, 0.713, 0.7088, 0.7068, 0.7035, 0.6916, 0.6788, 0.6778, 0.6757, 0.667, 0.666, 0.6596, 0.6595, 0.6498, 0.6341, 0.5832, 0.6253, 0.3919, 0.5876, 0.3066, 0.6231, 0.3233, 0.4435, 0.4622, 0.5462, 0.1719, 0.4407, 0.2754, 0.1575, 0.3857, 0.3609, 0.1045, 0.1588, 0.1064, 0.3943, 0.1631, 0.1377, 0.0402, 0.0216, 0.2695, 0.1518, 0.2268, 0.3249, 0.2837, 0.1759, -0.0642, 1.0791, 1.0519, 1.0359, 1.0012, 0.9459, 0.888, 0.8769, 0.8751, 0.8648, 0.8625, 0.8578, 0.8567, 0.8566, 0.8538, 0.8486, 0.846, 0.8331, 0.8297, 0.8172, 0.8012, 0.8011, 0.7998, 0.7995, 0.7978, 0.7956, 0.7945, 0.784, 0.7839, 0.7767, 0.7734, 0.7732, 0.7282, 0.6807, 0.6336, 0.7464, 0.7643, 0.7148, 0.6157, 0.4983, 0.4087, 0.4976, 0.142, 0.2038, 0.318, 0.1461, 0.5632, 0.0982, -0.0248, 0.0314, 0.4295, 0.5998, 0.1772, 0.1263, 0.1747, -0.1128, -0.0184, -0.1212, 0.0284, -0.0957, -0.0839, -0.0913, 0.0383, 1.1819, 1.1513, 1.0417, 1.0411, 0.9784, 0.9768, 0.9423, 0.9394, 0.937, 0.9128, 0.9023, 0.8922, 0.8535, 0.8514, 0.8512, 0.8508, 0.8445, 0.8326, 0.8258, 0.8096, 0.8004, 0.8001, 0.799, 0.7967, 0.7881, 0.7817, 0.7802, 0.7784, 0.7734, 0.7733, 0.7695, 0.736, 0.7591, 0.6607, 0.7041, 0.6586, 0.4947, 0.5415, 0.448, 0.3496, 0.3233, 0.0664, 0.1276, 0.0492, 0.0197, 0.0231, 0.2508, -0.0812, -0.0991, 0.2317, -0.161, -0.1691, 0.2174, 0.0965, 0.2125, -0.105, 0.1118, 0.11, -0.0763, 1.0884, 0.9921, 0.9868, 0.9643, 0.9441, 0.9284, 0.9201, 0.9156, 0.9118, 0.9048, 0.8993, 0.872, 0.8719, 0.8688, 0.8574, 0.8478, 0.8458, 0.8407, 0.8405, 0.8371, 0.8099, 0.8055, 0.7993, 0.7931, 0.7927, 0.7844, 0.7718, 0.7713, 0.7654, 0.7602, 0.7409, 0.7357, 0.7279, 0.6365, 0.6097, 0.6714, 0.4702, 0.4604, 0.5362, 0.1814, 0.0892, 0.4224, 0.4851, 0.1089, 0.4656, 0.233, 0.4966, 0.2236, -0.1484, -0.0692, 0.0377, -0.1355, -0.2172, 0.051, 0.3022, 0.0667, 0.2777, 0.0214, 1.1995, 1.0385, 0.9892, 0.9758, 0.9701, 0.9604, 0.96, 0.9579, 0.946, 0.9444, 0.9421, 0.9326, 0.8995, 0.889, 0.8732, 0.8661, 0.8584, 0.849, 0.8285, 0.8243, 0.8174, 0.8159, 0.815, 0.798, 0.7926, 0.7926, 0.7925, 0.7897, 0.7896, 0.7896, 0.7837, 0.773, 0.7399, 0.7125, 0.5971, 0.5579, 0.1928, 0.3743, 0.0975, 0.2724, 0.4154, 0.3622, 0.1929, 0.3807, 0.3339, 0.2757, 0.2479, -0.055, -0.0555, -0.0908, -0.1705, -0.2175, 0.2006, 0.1296, -0.0354, 0.447, 0.2202, -0.2623, 0.2661, 0.0182, 0.0381]}, \"token.table\": {\"Topic\": [], \"Freq\": [], \"Term\": []}, \"R\": 30, \"lambda.step\": 0.01, \"plot.opts\": {\"xlab\": \"PC1\", \"ylab\": \"PC2\"}, \"topic.order\": [6, 5, 1, 2, 3, 4]};\n",
       "if(typeof(window.LDAvis) !== \"undefined\"){\n",
       "   !function(LDAvis){\n",
       "       new LDAvis(\"#\" + \"ldavis_el1184026523259622406248641457\", ldavis_el1184026523259622406248641457_data);\n",
       "   }(LDAvis);\n",
       "}else{\n",
       "  require.config({paths: {d3: \"https://d3js.org/d3.v5\"}});\n",
       "  require([\"d3\"], function(d3){\n",
       "    window.d3 = d3;\n",
       "    $.getScript(\"https://cdn.jsdelivr.net/gh/bmabey/pyLDAvis/pyLDAvis/js/ldavis.v3.0.0.js\", function(){\n",
       "       new LDAvis(\"#\" + \"ldavis_el1184026523259622406248641457\", ldavis_el1184026523259622406248641457_data);\n",
       "    });\n",
       "  });\n",
       "}\n",
       "</script>"
      ],
      "text/plain": [
       "<IPython.core.display.HTML object>"
      ]
     },
     "execution_count": 27,
     "metadata": {},
     "output_type": "execute_result"
    }
   ],
   "source": [
    "lda_display = pyLDAvis.gensim.prepare(lda_model_tfidf, tfidf_corp, \n",
    "                                          dictionary, mds='mmds')\n",
    "pyLDAvis.display(lda_display, template_type='notebook')"
   ]
  },
  {
   "cell_type": "code",
   "execution_count": 28,
   "metadata": {},
   "outputs": [],
   "source": [
    "from gensim.models.coherencemodel import CoherenceModel\n",
    "def getCoherence(m,t,d):\n",
    "    coherence_model_lda = CoherenceModel(model=m,texts=t, dictionary=d, coherence='c_v')\n",
    "    coherence_lda = coherence_model_lda.get_coherence()\n",
    "    return(coherence_lda) # Need high coherence"
   ]
  },
  {
   "cell_type": "code",
   "execution_count": 29,
   "metadata": {},
   "outputs": [
    {
     "data": {
      "text/plain": [
       "0.3015608197290098"
      ]
     },
     "execution_count": 29,
     "metadata": {},
     "output_type": "execute_result"
    }
   ],
   "source": [
    "getCoherence(m=lda_model_tfidf, t=lister, d =dictionary)"
   ]
  },
  {
   "cell_type": "code",
   "execution_count": 30,
   "metadata": {},
   "outputs": [],
   "source": [
    "perplex = lda_model_tfidf.log_perplexity(tfidf_corp)"
   ]
  },
  {
   "cell_type": "code",
   "execution_count": 31,
   "metadata": {},
   "outputs": [
    {
     "data": {
      "text/plain": [
       "-11.776840932254634"
      ]
     },
     "execution_count": 31,
     "metadata": {},
     "output_type": "execute_result"
    }
   ],
   "source": [
    "perplex"
   ]
  },
  {
   "cell_type": "code",
   "execution_count": 32,
   "metadata": {},
   "outputs": [
    {
     "name": "stdout",
     "output_type": "stream",
     "text": [
      "0:10:48.851726\n"
     ]
    }
   ],
   "source": [
    "begin_time = datetime.datetime.now()\n",
    "gCH = [0] * 50\n",
    "for i in range(1,50):\n",
    "    locals()['lda_model_tfidf_{}'.format(i)] = gensim.models.LdaMulticore(tfidf_corp, num_topics=i, id2word=dictionary, passes=2, workers=6)\n",
    "    gCH[i]=getCoherence(m=locals()['lda_model_tfidf_{}'.format(i)], t=lister, d =dictionary)\n",
    "end_time = datetime.datetime.now()\n",
    "print(end_time - begin_time)"
   ]
  },
  {
   "cell_type": "code",
   "execution_count": 33,
   "metadata": {},
   "outputs": [
    {
     "name": "stdout",
     "output_type": "stream",
     "text": [
      "0:00:26.884079\n"
     ]
    }
   ],
   "source": [
    "begin_time = datetime.datetime.now()\n",
    "perplexity = [0] * 50\n",
    "for i in range(1,50):\n",
    "    perplexity[i]=locals()['lda_model_tfidf_{}'.format(i)].log_perplexity(tfidf_corp)\n",
    "end_time = datetime.datetime.now()\n",
    "print(end_time - begin_time)"
   ]
  },
  {
   "cell_type": "code",
   "execution_count": 34,
   "metadata": {},
   "outputs": [
    {
     "data": {
      "image/png": "[encoded data removed]",
      "text/plain": [
       "<Figure size 432x288 with 1 Axes>"
      ]
     },
     "metadata": {
      "needs_background": "light"
     },
     "output_type": "display_data"
    },
    {
     "data": {
      "image/png": "[encoded data removed]",
      "text/plain": [
       "<Figure size 432x288 with 1 Axes>"
      ]
     },
     "metadata": {
      "needs_background": "light"
     },
     "output_type": "display_data"
    }
   ],
   "source": [
    "plt.plot(gCH)\n",
    "plt.show()\n",
    "plt.plot(perplexity)\n",
    "plt.show()"
   ]
  },
  {
   "cell_type": "code",
   "execution_count": 35,
   "metadata": {},
   "outputs": [
    {
     "name": "stdout",
     "output_type": "stream",
     "text": [
      "The maximum coherence achieved is 0.5126172401479944 and its corresponding number of topics is 17\n",
      "The minimum perplexity achieved is -24.61773525644798 and its corresponding number of topics is 49\n"
     ]
    }
   ],
   "source": [
    "print(\"The maximum coherence achieved is\", max(gCH), \"and its corresponding number of topics is\", np.argmax(gCH))\n",
    "print(\"The minimum perplexity achieved is\", min(perplexity), \"and its corresponding number of topics is\", np.argmin(perplexity))"
   ]
  },
  {
   "cell_type": "code",
   "execution_count": 36,
   "metadata": {},
   "outputs": [
    {
     "data": {
      "text/html": [
       "\n",
       "\n",
       "<link rel=\"stylesheet\" type=\"text/css\" href=\"https://cdn.jsdelivr.net/gh/bmabey/pyLDAvis/pyLDAvis/js/ldavis.v1.0.0.css\">\n",
       "\n",
       "<div id=\"ldavis_el1184026523197371044122418899\"></div>\n",
       "<script type=\"text/javascript\">\n",
       "\n",
       "var ldavis_el1184026523197371044122418899_data = {\"mdsDat\": {\"x\": [0.07656212748039591, 0.016797056027871148, -0.018302974065944014, -0.012637494860633343, 0.017108370389865155, 0.014763713312744158, 0.002007986058121955, -0.019858845325508398, -0.03267006581002937, 0.01070027347716914, 0.015458847059940887, -0.005663619674521154, -0.024064264794665283, -0.017501346479982045, -0.005138269982470745, -0.012404433258176908, -0.005157059554177096], \"y\": [0.027027956543188757, -0.04041582205329995, -0.014845732535871589, 0.03156404673083408, -0.017859298355438025, -0.008391474779236024, 0.023743802193022735, -0.026629114585814333, 0.007476860118903554, 0.016202783460112544, 0.004746098466655235, 0.010438464338869661, -0.005932046324588538, 0.012629942311770935, -0.016547194611169474, 0.0012973205128416006, -0.004506591430781188], \"topics\": [1, 2, 3, 4, 5, 6, 7, 8, 9, 10, 11, 12, 13, 14, 15, 16, 17], \"cluster\": [1, 1, 1, 1, 1, 1, 1, 1, 1, 1, 1, 1, 1, 1, 1, 1, 1], \"Freq\": [43.023584908032554, 8.465341647494428, 4.3557519092060355, 4.339593802473793, 4.120382569146674, 3.8750107352013807, 3.7320460356000242, 3.660185623799069, 3.602440014629977, 3.3729944784490393, 3.2212171912656373, 3.010243977977928, 2.840701216623302, 2.6209563717717366, 2.4902326955262963, 1.8135824384965915, 1.4557343843055175]}, \"tinfo\": {\"Term\": [\"FA\", \"password\", \"school\", \"airline\", \"update\", \"breach\", \"university\", \"smart\", \"ransomware\", \"account\", \"vulnerability\", \"currency\", \"Server\", \"Mirai\", \"VPN\", \"Microsoft\", \"NHS\", \"detail\", \"router\", \"cryptocurrency\", \"server\", \"advisory\", \"browser\", \"cloud\", \"Google\", \"employee\", \"student\", \"GDPR\", \"store\", \"incident\", \"event\", \"survey\", \"remain\", \"apply\", \"Toyota\", \"Apple\", \"practicable\", \"world\", \"Cyber\", \"Windows\", \"boarding\", \"updated\", \"across\", \"country\", \"infected\", \"Facebook\", \"analysis\", \"value\", \"important\", \"vulnerable\", \"critical\", \"mining\", \"botnet\", \"Travelex\", \"CVE\", \"weakness\", \"provided\", \"current\", \"believed\", \"privilege\", \"platform\", \"malicious\", \"network\", \"vendor\", \"connected\", \"malware\", \"ensure\", \"potential\", \"patch\", \"often\", \"Microsoft\", \"device\", \"update\", \"vulnerability\", \"ICO\", \"latest\", \"ransomware\", \"criminal\", \"software\", \"advice\", \"social\", \"system\", \"phishing\", \"email\", \"cyber\", \"business\", \"EasyJet\", \"university\", \"finder\", \"driver\", \"Soleil\", \"bucket\", \"console\", \"Rigzone\", \"Oilpro\", \"printer\", \"FTP\", \"QTS\", \"Anyone\", \"Cirque\", \"demonstrate\", \"telegram\", \"nreport\", \"leave\", \"London\", \"Locky\", \"Equation\", \"misconfigured\", \"telephone\", \"BlueBorne\", \"LPE\", \"S\", \"module\", \"experimenting\", \"teacher\", \"CCleaner\", \"dating\", \"COVID\", \"personally\", \"router\", \"fraud\", \"AWS\", \"disclosure\", \"GDPR\", \"macro\", \"breach\", \"research\", \"detail\", \"Exchange\", \"Christmas\", \"Check\", \"customer\", \"allowing\", \"ransomware\", \"domain\", \"based\", \"vulnerability\", \"victim\", \"device\", \"Fireball\", \"SHA\", \"insider\", \"HMRC\", \"GWR\", \"voucher\", \"collision\", \"nSextortion\", \"FaceTime\", \"skill\", \"Bangladesh\", \"Qakbot\", \"OneLogin\", \"drone\", \"Sodexo\", \"Filmology\", \"Polish\", \"gapped\", \"photograph\", \"WhatsApp\", \"explain\", \"Globex\", \"GAO\", \"employed\", \"career\", \"apprenticeship\", \"browsing\", \"B\", \"Finnish\", \"coerce\", \"Manager\", \"council\", \"digital\", \"handling\", \"privileged\", \"building\", \"passport\", \"database\", \"sharing\", \"breach\", \"student\", \"password\", \"message\", \"threat\", \"A\", \"financial\", \"stolen\", \"store\", \"sensitive\", \"revealed\", \"likely\", \"detail\", \"legitimate\", \"suspicious\", \"irrigation\", \"F\", \"fileless\", \"Python\", \"EDR\", \"BR\", \"UEFI\", \"Odinaff\", \"smishing\", \"LoJack\", \"Unicode\", \"terrorist\", \"Firewall\", \"Explorer\", \"Twitterbots\", \"opinion\", \"Amano\", \"KHNP\", \"BAS\", \"nhttps\", \"K\", \"Carbanak\", \"Sophos\", \"WordPress\", \"Turning\", \"spike\", \"LoJax\", \"nuclear\", \"tweet\", \"novel\", \"raised\", \"smart\", \"Bluetooth\", \"browser\", \"additional\", \"update\", \"Google\", \"vulnerability\", \"child\", \"version\", \"Internet\", \"remote\", \"internet\", \"malware\", \"FTSE\", \"GDS\", \"Mylobot\", \"SFMTA\", \"petrol\", \"Foods\", \"PCS\", \"Ursnif\", \"Thousands\", \"Market\", \"personnel\", \"nasty\", \"HNS\", \"Sweden\", \"KRACK\", \"Trafikverket\", \"FluBot\", \"familiarise\", \"DDOS\", \"Lottery\", \"heist\", \"TV\", \"trustworthy\", \"incorporating\", \"terminal\", \"Fortnite\", \"NATO\", \"periodically\", \"Pyramid\", \"Connect\", \"advertising\", \"hotel\", \"Pulse\", \"Mirai\", \"FA\", \"school\", \"student\", \"store\", \"reportedly\", \"password\", \"impacted\", \"database\", \"family\", \"system\", \"account\", \"message\", \"email\", \"However\", \"Polar\", \"ComRAT\", \"Games\", \"Timehop\", \"Doorbell\", \"QNAP\", \"Cequence\", \"Zendesk\", \"Panda\", \"NAS\", \"fitness\", \"ETERNALSYNERGY\", \"Ovidiy\", \"Stealer\", \"insurance\", \"whitepaper\", \"housing\", \"Another\", \"saved\", \"MobileIron\", \"labelling\", \"Chase\", \"nConfidential\", \"QSnatch\", \"unacceptable\", \"Winter\", \"Coinhive\", \"starting\", \"certificate\", \"tracker\", \"ID\", \"Exchange\", \"newer\", \"SamSam\", \"client\", \"COVID\", \"increased\", \"claim\", \"insider\", \"affected\", \"breach\", \"hacker\", \"consumer\", \"miner\", \"phishing\", \"cryptocurrency\", \"crime\", \"device\", \"policy\", \"campaign\", \"cloud\", \"would\", \"Steam\", \"Dresscode\", \"Telef\\u00f3nica\", \"Spanish\", \"Dialog\", \"nTrue\", \"Magecart\", \"ACD\", \"TrickBooster\", \"Malaysia\", \"SMS\", \"nSmall\", \"NCA\", \"Nintendo\", \"Volusion\", \"Sesame\", \"Esteves\", \"unintentionally\", \"Conduent\", \"figure\", \"medical\", \"Negara\", \"transmit\", \"V\", \"nKinomap\", \"Rather\", \"discus\", \"alerting\", \"Nevertheless\", \"outbox\", \"HMRC\", \"SWIFT\", \"FA\", \"FTP\", \"login\", \"healthcare\", \"Twitter\", \"usernames\", \"store\", \"crime\", \"VPN\", \"message\", \"criminal\", \"account\", \"payment\", \"campaign\", \"factor\", \"charity\", \"online\", \"memcached\", \"Capcom\", \"FIN\", \"vaccine\", \"spraying\", \"utilised\", \"nIran\", \"everyone\", \"BADHATCH\", \"ShellTea\", \"MyNewsDesk\", \"Lonestar\", \"NASA\", \"Liberian\", \"Instagram\", \"packet\", \"DYN\", \"arrive\", \"MFA\", \"stressed\", \"Watchdog\", \"Chtrbox\", \"mitigated\", \"OT\", \"MyHeritage\", \"cyberscoop\", \"Proofpoint\", \"invariably\", \"vishing\", \"Houses\", \"action\", \"improvement\", \"database\", \"lockdown\", \"Flash\", \"TalkTalk\", \"never\", \"received\", \"currency\", \"detail\", \"forward\", \"password\", \"digital\", \"phone\", \"shopping\", \"gaming\", \"phishing\", \"fraud\", \"online\", \"Windows\", \"NHS\", \"September\", \"email\", \"ransomware\", \"follow\", \"LastPass\", \"Magento\", \"Emotet\", \"RAT\", \"EDP\", \"Momentive\", \"shipping\", \"pageant\", \"Hydro\", \"CPR\", \"Union\", \"contacted\", \"Italian\", \"MS\", \"whoever\", \"shipbroking\", \"maritime\", \"nClarksons\", \"MANRS\", \"Ecuadorian\", \"Ecuador\", \"routing\", \"Hexion\", \"plant\", \"nReports\", \"AMEX\", \"Morrisons\", \"TRITON\", \"Clarksons\", \"prompting\", \"hardware\", \"North\", \"SWIFT\", \"organiser\", \"TikTok\", \"record\", \"trojan\", \"modern\", \"operation\", \"suspect\", \"insider\", \"breach\", \"ransomware\", \"employee\", \"targeted\", \"global\", \"ransom\", \"company\", \"Orion\", \"localisation\", \"immediate\", \"SolarWinds\", \"BA\", \"LinkedIn\", \"nSocial\", \"crash\", \"Routers\", \"nPenetration\", \"Airways\", \"Firefox\", \"Marche\", \"modification\", \"revealing\", \"later\", \"Overlord\", \"Spotify\", \"nSpotify\", \"Carbanak\", \"JPEG\", \"Automation\", \"legislation\", \"Cultura\", \"UpGuard\", \"LTEFuzz\", \"PayPal\", \"Cobalt\", \"Kremlin\", \"dispute\", \"tweet\", \"respond\", \"certificate\", \"working\", \"British\", \"Proofpoint\", \"Cisco\", \"Marriott\", \"reload\", \"update\", \"password\", \"medium\", \"group\", \"remote\", \"discovered\", \"staff\", \"IT\", \"email\", \"affected\", \"Bitbucket\", \"nExchange\", \"Superdrug\", \"Mandia\", \"PowerPoint\", \"Hajime\", \"biometric\", \"Australian\", \"POST\", \"sponsored\", \"slide\", \"Cybereason\", \"Strobe\", \"Huawei\", \"cycle\", \"Netcraft\", \"Server\", \"Anonymous\", \"Environment\", \"Wandera\", \"nyour\", \"nthere\", \"endorse\", \"condone\", \"SEPA\", \"nLogging\", \"JSOF\", \"SVR\", \"Forescout\", \"nonly\", \"Exchange\", \"TrickBot\", \"SolarWinds\", \"FireEye\", \"GandCrab\", \"continued\", \"clicked\", \"VMware\", \"NSA\", \"retail\", \"Mirai\", \"state\", \"Google\", \"Twitter\", \"Russian\", \"Microsoft\", \"product\", \"advisory\", \"privacy\", \"vulnerability\", \"patch\", \"infection\", \"cloud\", \"ransomware\", \"device\", \"released\", \"Owari\", \"Fortinet\", \"C\", \"Cellebrite\", \"Bodybuilding\", \"Huawei\", \"AV\", \"Slack\", \"Avalanche\", \"Pwned\", \"MegaCortex\", \"qualification\", \"counterproductive\", \"forensics\", \"BestBuy\", \"Canva\", \"science\", \"IE\", \"enthusiast\", \"padlock\", \"Annie\", \"CloudFlare\", \"nOwari\", \"council\", \"cease\", \"reset\", \"leverage\", \"harmful\", \"I\", \"hashed\", \"router\", \"World\", \"password\", \"commonly\", \"remove\", \"server\", \"check\", \"learn\", \"major\", \"Mirai\", \"computer\", \"Evidence\", \"Microsoft\", \"breach\", \"RoughTed\", \"steganography\", \"clipboard\", \"SIM\", \"Yahoo\", \"Dharma\", \"swapping\", \"Fakebank\", \"Bitcoins\", \"Lazarus\", \"transparency\", \"cookie\", \"RCM\", \"Aptos\", \"upstream\", \"cooky\", \"Camelot\", \"Clipboard\", \"malvertising\", \"Beijing\", \"supply\", \"Bitpaymer\", \"Ticketmaster\", \"nRoughTed\", \"vaccine\", \"chain\", \"Malwarebytes\", \"pixel\", \"mixing\", \"launder\", \"different\", \"stuffing\", \"hijacking\", \"maker\", \"NHS\", \"store\", \"billion\", \"cryptocurrency\", \"Bitcoin\", \"malware\", \"service\", \"breach\", \"ArbiterSports\", \"Yahoo\", \"Explorer\", \"fridge\", \"DMARC\", \"ESA\", \"indictment\", \"journalist\", \"nWindows\", \"Visma\", \"R\", \"E\", \"BlueKeep\", \"WebEx\", \"prepare\", \"refrigerator\", \"confiscated\", \"Commission\", \"Association\", \"nGDPR\", \"Narwitz\", \"Entertainment\", \"nSWIFT\", \"encrypt\", \"directing\", \"migrating\", \"ADV\", \"Covewar\", \"alternate\", \"CV\", \"gaming\", \"practical\", \"Server\", \"political\", \"environment\", \"Citrix\", \"development\", \"GDPR\", \"account\", \"party\", \"tweet\", \"affecting\", \"smart\", \"cloud\", \"critical\", \"SacRT\", \"Spirit\", \"Boots\", \"Fastway\", \"Sacramento\", \"VEC\", \"voter\", \"GandCrab\", \"nGandCrab\", \"CCleaner\", \"CDOT\", \"Piriform\", \"Advantage\", \"Tesco\", \"Colorado\", \"letter\", \"Regional\", \"Imgur\", \"SamSam\", \"sequential\", \"IEC\", \"Mudcarp\", \"numeric\", \"joining\", \"Assembly\", \"Cooperation\", \"reminding\", \"Defense\", \"obligation\", \"VTC\", \"airline\", \"unauthenticated\", \"insurance\", \"camera\", \"conferencing\", \"California\", \"corporate\", \"political\", \"recover\", \"three\", \"Cisco\", \"detail\", \"password\", \"address\", \"vulnerability\", \"unlicensed\", \"saving\", \"education\", \"establishment\", \"CDOT\", \"Wikipedia\", \"nWikimedia\", \"Telestar\", \"nEquifax\", \"intermittent\", \"classroom\", \"misinformation\", \"Harris\", \"Federation\", \"transformation\", \"blamed\", \"outweighing\", \"Pirated\", \"college\", \"Equifax\", \"uncover\", \"Remediating\", \"Approaches\", \"NZ\", \"whaling\", \"Establishment\", \"Putting\", \"APWG\", \"pretty\", \"Uncovering\", \"student\", \"certificate\", \"primary\", \"essential\", \"underway\", \"Colorado\", \"confirming\", \"university\", \"illustrates\", \"school\", \"increased\", \"alert\", \"Board\", \"ransomware\", \"working\", \"WannaCry\", \"advisory\", \"software\", \"Disdain\", \"HTTPS\", \"supervision\", \"provisioning\", \"endpoint\", \"investor\", \"Swedish\", \"celebrity\", \"nSymantec\", \"recording\", \"disease\", \"hotline\", \"medication\", \"siphon\", \"initiated\", \"adhering\", \"ailment\", \"fOrganisations\", \"implanting\", \"inserting\", \"Airways\", \"nMalicious\", \"PhishLabs\", \"Ensor\", \"Triconex\", \"padlock\", \"Celebrities\", \"visibility\", \"Graham\", \"Asavie\", \"Offerings\", \"Initial\", \"investment\", \"TrickBot\", \"police\", \"medical\", \"patient\", \"corporate\", \"attachment\", \"exploit\", \"former\", \"telephone\", \"British\", \"quarter\", \"currency\", \"digital\", \"script\", \"website\"], \"Freq\": [1.0, 1.0, 1.0, 0.0, 2.0, 1.0, 0.0, 1.0, 2.0, 1.0, 2.0, 0.0, 0.0, 0.0, 1.0, 2.0, 0.0, 0.0, 0.0, 1.0, 1.0, 1.0, 1.0, 1.0, 0.0, 1.0, 0.0, 0.0, 0.0, 1.0, 1.2363087783997637, 1.485385219921577, 1.2701926966360768, 1.0155130129306165, 0.7376433963530251, 1.1386058239957222, 0.8170284386488746, 0.8885969532835135, 1.5651289814257117, 1.7428914424625233, 0.6686703596410188, 1.150346294405954, 1.196194220492024, 1.0786280927459784, 1.3643278394245577, 1.3535155850596576, 0.8127915795971897, 0.767403187262002, 1.3764975691289993, 1.3047776822109984, 1.0908700477943702, 0.7116623752517297, 1.2158084571485468, 0.5942852973434734, 1.4226082750914746, 0.7091716240778246, 0.9751843068780648, 0.7523913300853381, 0.912875562840119, 0.9795408192495603, 1.278644024882822, 1.5097244385793138, 1.5926772924907238, 1.153949014937757, 1.1005297060454002, 1.9526396193210667, 1.2261750811412748, 1.1676817010852785, 1.356416154872693, 1.0871362382632976, 1.8432421779757748, 1.8641308308262967, 1.918246753161052, 1.8739952479274251, 1.209435774300685, 1.3029677150916095, 1.8098725041883865, 1.5486805019700942, 1.4043771537715959, 1.3921100402283948, 1.301105023471137, 1.3965021837695724, 1.4082289313644536, 1.3735969993159642, 1.2721205114416776, 1.267285145039793, 0.1945686956080668, 0.36050660791024564, 0.17924688611601192, 0.18257189132215493, 0.1570094845487513, 0.2625385466068734, 0.17935698656728116, 0.15152120739112918, 0.15150751737051313, 0.19576449996075174, 0.2062480240525647, 0.13357432460337182, 0.12815475808555438, 0.12235907127814767, 0.12778337482732016, 0.11588235331540694, 0.11587666887778092, 0.12675707329909652, 0.13502412857731338, 0.11256041533706632, 0.11316050246912128, 0.14009735889018635, 0.13921519338351782, 0.1113457220718532, 0.11180397064256024, 0.19990703388072392, 0.10964516334313323, 0.10678880449152155, 0.11088255883111532, 0.12957412663303985, 0.1276069796222373, 0.16410906292178631, 0.13373077690645002, 0.20396693028870763, 0.17904320561032408, 0.15096301930140943, 0.1600128571684663, 0.2133204355507786, 0.18444742414655124, 0.2719461724521756, 0.18318289731148324, 0.18535817763744736, 0.14158279718249608, 0.15629467835985594, 0.15156802110349524, 0.18818161412114162, 0.1451789737485577, 0.1697827001163307, 0.1559919228433777, 0.14796985498426451, 0.157986011720012, 0.15350168914519613, 0.15079894037784963, 0.10131476710348136, 0.08696068887867052, 0.14408513659312736, 0.1180082394159967, 0.08141673108174195, 0.07342918689691547, 0.06903112503707529, 0.06902532405048051, 0.06818118909884033, 0.07720540371160453, 0.07169272371319593, 0.062472914700530645, 0.06192692121119025, 0.061545159014604583, 0.05784511670981189, 0.05784263666617316, 0.09754129844525684, 0.05443898090336586, 0.05715139914692397, 0.053283573054434576, 0.051711103518010525, 0.051008522998187616, 0.0501604516627867, 0.05981509397786458, 0.04973281475235776, 0.04973268678941817, 0.05361578921950537, 0.04898343026401121, 0.051771142510571834, 0.04754598600274864, 0.059440522079789254, 0.060803900172922046, 0.08769358747496646, 0.05822180304312712, 0.0549921707846899, 0.0623725856624182, 0.06665732719904081, 0.06849694679249044, 0.07218485699191525, 0.09555308341157583, 0.06395146553276841, 0.09207700062496017, 0.07716659438006865, 0.07693485958994316, 0.07155710737112302, 0.07423964322155002, 0.07231033379439394, 0.06676822231987947, 0.0710324105710145, 0.06971440448017659, 0.06854199584069968, 0.06726273814666452, 0.06668881217565345, 0.0661454815341512, 0.10461833759459492, 0.1077077420955881, 0.09601572809264582, 0.08719638856910963, 0.07887954093960105, 0.07887572236303023, 0.07751188951122115, 0.07713876176369214, 0.07060740525992408, 0.07002176067386068, 0.06949201664910745, 0.06947731907537462, 0.06392402812672852, 0.0862536979673711, 0.061337643685361765, 0.06133314517146832, 0.06052334589108949, 0.06052094789785344, 0.05954296733489682, 0.05882732116109486, 0.058823678639723646, 0.07145069145344225, 0.06673584821575956, 0.07006155521984116, 0.051582953240650035, 0.05309430213712423, 0.05076171340773113, 0.07007729091216479, 0.0639979106018746, 0.05100127900288124, 0.055048448073220825, 0.12516265593948284, 0.08611845114885801, 0.10287393410992164, 0.06749391155092929, 0.1164953856123258, 0.08190670082122918, 0.09172303486927971, 0.0748617609458582, 0.07909143854950233, 0.07117890472132929, 0.0707732310453485, 0.07266930304905007, 0.07008147374087273, 0.08833576443057377, 0.08654344293519413, 0.08635882125520597, 0.08070919264191728, 0.07537418579443811, 0.07533531200475252, 0.07151806033828553, 0.06847757546847666, 0.06604146735556801, 0.05905445125893204, 0.08353097209531883, 0.05707783087897089, 0.05740677669095015, 0.0558098040586258, 0.053719974718192356, 0.05371981908469273, 0.05106610651828155, 0.0510629534988631, 0.0510562439657679, 0.05860538520625613, 0.0536477550101599, 0.062324599296363, 0.049252699565803755, 0.04999458716593347, 0.04806602007003429, 0.04998713405056225, 0.06079182836473827, 0.04691290265025007, 0.046904544554899515, 0.059028760203085555, 0.0673405574695987, 0.05429419316138632, 0.07473939709886926, 0.08097815038609435, 0.09514568689724077, 0.09227929250727837, 0.06215733363368555, 0.06506832566759777, 0.06886215161026846, 0.08254365623047479, 0.06199315758418596, 0.061717697818246535, 0.059974648736009314, 0.06607106077731266, 0.06535454143762279, 0.06403049232161426, 0.060810429450046014, 0.05988004086084476, 0.09929251570271777, 0.08784972762220936, 0.0739052944890151, 0.06943888354739097, 0.06646422343794792, 0.07908536690429785, 0.06536595161484032, 0.0653611486610339, 0.061848069840573484, 0.06520455393574486, 0.05727295818819727, 0.049632223034874884, 0.04962691051260593, 0.04962337605901475, 0.054804505557810204, 0.04877456510302216, 0.04916519811802296, 0.04743170583884016, 0.0516431807628476, 0.05524259891206069, 0.045513836511278126, 0.04550471848836345, 0.04491642169836994, 0.04448949277229589, 0.04230885145677047, 0.0417396743260041, 0.04173715087792635, 0.05035048146657849, 0.07224714787005289, 0.039503649965824846, 0.05222812199030592, 0.07196782845940994, 0.06546462900551558, 0.053831864044481176, 0.08448555663257128, 0.06259356308031712, 0.07298503010850509, 0.06496801117124916, 0.05563724884440976, 0.06738021069593732, 0.07032616150136367, 0.06651723482087454, 0.06107255542906918, 0.05541036077599671, 0.06740668115128354, 0.06475775455010259, 0.05948590018121203, 0.06537364393024812, 0.05676294520849555, 0.059951027768682184, 0.0581020152348551, 0.05850092060596042, 0.0723997051709433, 0.06437988063589564, 0.05960115872861912, 0.05959694020844038, 0.05759823354083435, 0.057593289309882285, 0.053198468401693434, 0.053194782417477854, 0.0531913104918357, 0.05417564578938359, 0.08575615612784648, 0.052378117634212386, 0.07239306935516708, 0.05523697430113428, 0.05103054060038285, 0.051029846215254415, 0.047884751468135305, 0.04506495265945245, 0.044194345115683605, 0.05345441980422127, 0.056911074194491665, 0.04361363292115307, 0.04865987322533366, 0.0429059604983472, 0.042410916111184034, 0.045940206840546886, 0.04354767938630416, 0.041622880356879104, 0.051265451611425136, 0.0385434311091008, 0.06380896031586415, 0.06658906953246932, 0.14103526864230082, 0.07248531815843211, 0.06741397296034128, 0.0675695413338139, 0.05970558798680616, 0.05699706308971918, 0.06352685199985181, 0.07199199668173799, 0.07382220792641278, 0.07423080397555669, 0.07699138687351274, 0.07111251875952398, 0.06026800861519039, 0.05845258829584526, 0.055788342197812577, 0.05482482801223599, 0.05405460349752235, 0.08787598482694085, 0.08638234022667822, 0.08218156463646946, 0.07447816624213648, 0.05847844112963331, 0.059581413671692285, 0.05763274367787202, 0.06399601765817593, 0.05120164472302172, 0.051197169483118844, 0.05119688274005871, 0.05083090130749771, 0.050619182520879574, 0.05057785567733708, 0.08854597022777856, 0.04869637572700146, 0.0486895963017939, 0.04956469003763119, 0.0482759182334259, 0.04521857155881461, 0.04521723513133789, 0.04521139786189936, 0.05075395175914477, 0.04950164240728319, 0.044259472347180244, 0.04425604167128215, 0.05241255554557578, 0.04293866724682802, 0.04293838818438556, 0.042935938067344914, 0.0681281029242461, 0.0451507568250918, 0.08876247147900687, 0.05753806214349657, 0.058316006306476514, 0.05219415462157404, 0.06585789155177456, 0.07637756251331898, 0.0820192885460781, 0.07659444779543141, 0.06282667945893021, 0.08532688510601366, 0.06118333449962801, 0.06471470329553113, 0.05986040442838369, 0.05530632042478971, 0.0681035607905453, 0.057264621913183565, 0.06492153720930334, 0.06380423263464921, 0.057754087196428584, 0.05625422641625509, 0.06119337050673287, 0.06174850507116144, 0.058385500535265845, 0.08778840586465496, 0.0732707980221493, 0.09131690186072894, 0.0697518470827297, 0.0662197628710602, 0.06602428575516259, 0.07864725528768893, 0.06378132847172807, 0.06697771294007046, 0.05752168636534009, 0.06185808522955749, 0.06495484631883769, 0.05743900621778372, 0.05674343163251753, 0.050153900474630565, 0.05015229787272133, 0.05015168303802659, 0.05014818553574669, 0.048621999515660916, 0.048503865580584185, 0.04850107362631464, 0.05215727381226295, 0.047088823530643975, 0.048760609461923884, 0.04958498183648046, 0.04490890696193473, 0.04360405135269745, 0.04360233787895802, 0.044889423757591626, 0.04235152220768532, 0.06570087262647294, 0.05660159128429286, 0.06570346299559668, 0.05677213231765306, 0.061225858776363926, 0.06299773173254139, 0.0786112824184181, 0.06278074548158523, 0.07083225779061562, 0.05158187925130351, 0.05771011808039144, 0.07555639056392385, 0.07503325695201717, 0.06347222788839137, 0.0638644470669766, 0.05944904698411396, 0.059228724498994544, 0.058743619924846016, 0.07964894396773048, 0.06642619337879717, 0.060849480337513515, 0.06549889448076225, 0.057945016810464905, 0.05470013599644547, 0.05486111732744497, 0.05118454173592667, 0.04979081410631013, 0.04795958304582211, 0.050706778816366954, 0.06599363980770463, 0.045695869193933335, 0.051333419739630654, 0.06561556772470332, 0.0652704836967207, 0.04481490740078805, 0.041313336956535246, 0.04131320483444391, 0.05449816378660928, 0.04119932502900535, 0.044810330314052516, 0.04322358174628774, 0.038259792523999525, 0.038259445703509774, 0.038256196915656765, 0.04130077120192006, 0.03759050683643438, 0.03758960793434869, 0.03758672248224686, 0.05088209067563019, 0.050240760606997704, 0.05922117937202386, 0.07429741415654291, 0.044850523741695084, 0.04363962949325563, 0.06441473834843593, 0.0637223525287947, 0.04396078998541438, 0.08333887804641198, 0.0669413232569741, 0.06238696152114869, 0.05850665838343789, 0.05489395438578784, 0.0551297734442364, 0.050726531069021544, 0.048914504898238294, 0.05007768419712132, 0.04896507462869677, 0.06664607430737632, 0.06151630329088621, 0.05582754161552943, 0.054351006134388605, 0.05492295696234497, 0.06853406361289262, 0.049965291223279654, 0.055666467803310325, 0.0439421202336053, 0.0567763332432514, 0.04220862101046108, 0.039933606627660836, 0.039045132059488785, 0.05153488666682358, 0.03998178366790352, 0.03791204105922494, 0.09124410572158721, 0.03603458752399088, 0.03507261942393987, 0.035071788008363705, 0.035071193174455555, 0.03506989986133708, 0.03506776386684872, 0.03506573827713877, 0.035065461138613384, 0.0350626739812483, 0.0348866639797219, 0.03488614124689352, 0.03488613448741729, 0.037647817639751606, 0.06435344472952337, 0.04907174254161838, 0.04310696441392744, 0.050766320700636136, 0.04586599785157999, 0.04124513878773478, 0.03948231695670924, 0.057234278745129805, 0.0567751435754351, 0.040075249198880364, 0.06033811757154009, 0.04959230332496455, 0.06268811707730715, 0.04612532741026354, 0.04380383036259535, 0.07205730540772366, 0.06258399861179342, 0.05392213539292979, 0.051706198832370834, 0.05942991434541439, 0.055234082134212444, 0.05156285287314161, 0.05007152765801178, 0.05281794340670357, 0.05199632005843613, 0.04930681008695737, 0.09628886895627287, 0.08583182635090301, 0.07863881634221663, 0.06560084033862933, 0.06539778160493782, 0.07482325434355244, 0.057151589970204135, 0.057147319836937924, 0.053789041103668965, 0.059041587169947285, 0.04778175951053072, 0.04777907277973798, 0.04643103297712932, 0.04642972330114727, 0.04462958419177326, 0.04364533531861995, 0.05024281755021187, 0.04142767487511254, 0.036719975073247424, 0.0455090337193025, 0.03545405742924259, 0.03544927774358465, 0.035473795214862616, 0.04838401253696061, 0.03854300613965803, 0.055442201720678964, 0.03450314002039108, 0.04093581363708533, 0.0473876144187649, 0.03639281717069811, 0.07344840618949144, 0.04116270763141463, 0.09297818494309726, 0.04438787527749276, 0.03729894029202237, 0.06150262415374448, 0.04539951785567237, 0.05305963580520769, 0.049662757425471236, 0.047085011888084664, 0.0496203298193006, 0.046930019526287114, 0.04918451513318654, 0.04536239633225855, 0.06065494921509532, 0.062174310893092395, 0.05675824427553666, 0.055632828712900644, 0.07219464036853393, 0.05076026951899109, 0.04877118558569991, 0.047111891589718624, 0.04752887892908491, 0.046013896593767, 0.041449457141496324, 0.04125938492643137, 0.04125826823378814, 0.04125680580356497, 0.04125458036626885, 0.04333863483617217, 0.037236175798573516, 0.0371171029812453, 0.044352571886253, 0.03710681430774589, 0.060011559396804845, 0.03504261391772014, 0.038947982166753006, 0.03415064275345248, 0.046216769047279845, 0.061443230897344235, 0.03536236554322645, 0.032662641858352506, 0.03265816515279164, 0.03331448436437309, 0.04969552891463585, 0.041744120935483985, 0.050472317802848346, 0.041756575436351945, 0.059650843829069156, 0.05392099850075012, 0.04511894890711577, 0.051997072192293346, 0.044177867110516834, 0.047212970156909596, 0.043405421799026955, 0.04160024244029432, 0.061258503753056144, 0.06538742866983485, 0.06401692578798163, 0.04151122779428665, 0.043349964377926736, 0.03827554492920769, 0.03844941798130855, 0.0391020734956799, 0.06506225405313304, 0.036100432316534384, 0.03681228115355006, 0.03426563364348151, 0.03879769574010536, 0.0354097139997367, 0.03245795302136256, 0.030015900303068867, 0.03001342719255576, 0.03580616333143372, 0.02972792134181585, 0.028727569222118884, 0.0278137888034226, 0.027808428258470543, 0.03141127912009802, 0.0299725832866095, 0.02856027585395542, 0.026350974184233242, 0.026350657024767885, 0.026350349031761065, 0.026347930919999176, 0.02634787958783137, 0.05172445556306746, 0.03274897341355794, 0.05435233622868512, 0.045933582048564084, 0.057713573909628134, 0.04290764975429724, 0.04922501531446111, 0.043750443284796346, 0.04988414234855912, 0.03672817339660395, 0.031226805975345735, 0.03321813476094869, 0.03270773534989462, 0.03164894705702844, 0.0315566114869001, 0.07437152280525439, 0.05301387586942583, 0.04614199766483414, 0.04173283952769789, 0.040680561230261265, 0.03766745018291789, 0.03766329411962903, 0.04799957680215213, 0.034560251157950514, 0.05287696964043275, 0.03710935324159243, 0.03710676484676961, 0.03306008301235101, 0.033059184215763815, 0.03450645922731915, 0.043591265205987544, 0.02939137997992533, 0.029389996947967515, 0.04381916936387266, 0.027369089400588274, 0.027368819413241346, 0.027368561618871374, 0.027367824814692337, 0.026759332557745267, 0.026758818710859177, 0.0267586253650817, 0.02675823170611134, 0.026757367746601167, 0.026755496995565026, 0.026755089401763854, 0.08487714503547908, 0.03309137715864086, 0.031784237773118645, 0.05046165586739035, 0.03483312301485705, 0.03390004674387036, 0.03870078407786935, 0.042476555382817825, 0.04178404654721415, 0.03451859298124629, 0.03578737674496608, 0.03975749713521102, 0.036197750544882785, 0.03305756777538994, 0.03382960617412965, 0.06880731224572018, 0.03298237542404219, 0.04181550721108535, 0.028754293875127745, 0.0297885919165769, 0.025781190622044176, 0.02578064260655865, 0.025779749544285944, 0.030891432487456356, 0.02312595411032623, 0.02181223921030373, 0.02181155926516428, 0.021811303017182624, 0.021810415029127374, 0.02180944839070152, 0.02114125767599656, 0.021141012845004185, 0.021137274415291587, 0.025957661756818153, 0.02919280774789694, 0.02019693565852268, 0.020196694633193398, 0.020195812987909973, 0.020195613824874722, 0.020195604944994172, 0.020195414661839474, 0.020195366456773618, 0.020195357576893065, 0.020192403113777815, 0.020190472374034832, 0.04249151475778523, 0.03480403217721071, 0.025632183689264683, 0.02330953422375966, 0.022772037591026233, 0.022032132960979375, 0.02277279364942756, 0.03339786249798442, 0.022926758092664073, 0.039065020026343954, 0.026470632159465605, 0.027952412753041972, 0.024217342172401707, 0.025637980982711094, 0.023065685092462127, 0.02241152966324756, 0.023181917654676747, 0.02236651120595517, 0.027170243238339095, 0.03261134142634823, 0.025364943037567842, 0.024040946660094174, 0.02403641341627635, 0.023258534437008628, 0.022660624830008937, 0.024084391264930477, 0.01908088958718293, 0.021077125700185814, 0.014770437596425703, 0.014770396866472264, 0.014770252275137554, 0.014769950873482101, 0.014769724822240511, 0.014769452949801302, 0.014768779887320714, 0.014768764613588174, 0.014768543653590765, 0.014767996853965838, 0.017485888318508475, 0.01576221298092777, 0.014257286004284896, 0.014255089641545668, 0.014253735370593802, 0.01927426318712792, 0.014087126441302784, 0.014086120411452827, 0.014085666272471976, 0.014085361816070015, 0.01583237236222508, 0.01583048351063432, 0.01946854506503461, 0.01976353582581595, 0.02499746110565478, 0.018030417248530283, 0.01479018653259971, 0.017086225650382817, 0.019047087798823442, 0.021956436519001737, 0.016484479281769118, 0.016354949883840637, 0.015610949061595105, 0.0155903824716058, 0.01721125846145157, 0.01601569075491468, 0.015840452166738652, 0.015382715712750034], \"Total\": [1.0, 1.0, 1.0, 0.0, 2.0, 1.0, 0.0, 1.0, 2.0, 1.0, 2.0, 0.0, 0.0, 0.0, 1.0, 2.0, 0.0, 0.0, 0.0, 1.0, 1.0, 1.0, 1.0, 1.0, 0.0, 1.0, 0.0, 0.0, 0.0, 1.0, 1.4356187762262203, 1.725497812721469, 1.4846618707281938, 1.2044070184124882, 0.8840356050195405, 1.3679991552543818, 0.9889359758591415, 1.077626597581676, 1.9030294410901603, 2.128021821242903, 0.8186039651834277, 1.4106788979764013, 1.4679049061673017, 1.3236607132351743, 1.6832829508806098, 1.6714180791886066, 1.0053881990448676, 0.9502434488214492, 1.7077872987093856, 1.6236476040028491, 1.3578135274757173, 0.886681855910467, 1.515260064085326, 0.7406775060099887, 1.775190632855863, 0.8883517088448304, 1.223227116870829, 0.944404543197539, 1.145917607378997, 1.230014857020985, 1.6057712536187625, 1.8996332707523989, 2.0124760898355416, 1.4531371899618895, 1.3847427869228908, 2.4869308097773786, 1.546799709640481, 1.4726625162163698, 1.7281517538492743, 1.3689519613076437, 2.4120480693085895, 2.448975437244868, 2.5569325624195423, 2.5299437681431316, 1.540180551074079, 1.6819833371203945, 2.494271170705701, 2.0784142374271544, 1.8450504563496029, 1.8301703606403816, 1.706470771949828, 1.9014837079605977, 2.0117522355493738, 1.9600733122902418, 1.716852798003221, 1.7205114836342565, 0.3924863406283211, 0.7286149172514456, 0.37716453113626625, 0.39093348037920334, 0.35492712956900563, 0.5936473092081833, 0.4074637574992496, 0.3494388524113835, 0.34942516239076743, 0.4543827169555816, 0.4861132417509317, 0.3455184715442373, 0.331699080648156, 0.32027671629840193, 0.34081710638577545, 0.3137999983356612, 0.3137943138980352, 0.34386115839932974, 0.37122973904105067, 0.31047806035732056, 0.3135960618375528, 0.38863406092947805, 0.3865065318527132, 0.3092633896625274, 0.3128398503606812, 0.5652484780297323, 0.31044790792385296, 0.3047064495117758, 0.3210426568086612, 0.37663805044813303, 0.3720641085110265, 0.5053136408944644, 0.3982460016839661, 0.7053022658575988, 0.6211217736607438, 0.48544360074649096, 0.5540300696560911, 0.9399331200745105, 0.740308695012038, 1.8514118079488304, 0.8049461135574228, 0.917701477383448, 0.4693955597026673, 0.6735654074453576, 0.6151380465474411, 1.5366373641119828, 0.6207412862876922, 2.494271170705701, 1.4411519783438544, 0.8033670137277998, 2.5299437681431316, 1.6381136229891533, 2.448975437244868, 0.3069788788490916, 0.3013162462203757, 0.4997383600687629, 0.4100071117637554, 0.2870808277804055, 0.279093306165999, 0.2746952217357388, 0.27468942074914404, 0.27384530084445047, 0.3192852699472416, 0.30498555954275847, 0.2681370414930875, 0.2689077830322243, 0.2781446065119607, 0.2635092134084754, 0.26350673336483665, 0.46558517072926153, 0.26010307760202933, 0.274284666564519, 0.26033735098892646, 0.25737521526362067, 0.2566726798846377, 0.25582458597881685, 0.30624082970767175, 0.25539694154491455, 0.25539681358197497, 0.2774657451285623, 0.254647557056568, 0.2699685344337372, 0.2532100977483588, 0.3183520272655256, 0.3344047239161242, 0.6581506365542786, 0.34331620762722775, 0.31149381752990535, 0.41097192907628716, 0.5246890265713242, 0.5703746188929978, 0.6610704204790271, 1.8514118079488304, 0.49470933440862064, 1.8313201582988037, 1.285583012463286, 1.3599596272928982, 0.9497988380549998, 1.3336693589743351, 1.125116789556324, 0.6705458379578737, 1.267252437146339, 1.18985972750163, 1.1024013765393372, 0.917701477383448, 1.172846362218923, 1.2376804387259563, 0.31025928041460943, 0.33887760783496257, 0.3127953111986213, 0.29283733891259756, 0.2845204988065622, 0.2845166802299914, 0.2831528473781823, 0.2827797196306533, 0.2762483631268852, 0.27566272606429515, 0.275132959469122, 0.27892792802631344, 0.269564970946743, 0.3673218520201379, 0.2669785865053762, 0.26697408799148276, 0.2661643037580506, 0.2661619057648145, 0.2651839252018579, 0.264468279028056, 0.2644646365066847, 0.3283006685048992, 0.30876971192754776, 0.33020064680890626, 0.25722391863108446, 0.2680169667562783, 0.2564026787981656, 0.37093653221388345, 0.3418126367658334, 0.2737728199855969, 0.30927581375351765, 1.1820815984602075, 0.7238910549600296, 1.0364922397256564, 0.5263960846603651, 2.5569325624195423, 0.9387206424663196, 2.5299437681431316, 0.933019442391594, 1.5518134952841647, 1.0255703360354609, 1.1137109687761866, 1.4702033113402195, 2.4869308097773786, 0.2944907267670754, 0.2926984052716957, 0.2925138061621275, 0.2868641399314722, 0.28152913308399297, 0.2814902592943074, 0.27767302267478705, 0.2746325482890961, 0.27221958202939694, 0.26520939854848685, 0.37624457676931744, 0.2632327932154724, 0.26848041882677764, 0.2619647678754496, 0.2598749220077472, 0.25987476637424756, 0.25722107637825636, 0.2572179233588379, 0.25762476320081756, 0.2966133433987898, 0.27426553620815575, 0.32287523805855556, 0.2554076694257786, 0.26132412912480896, 0.2542209824065358, 0.26697194107848976, 0.325100463366051, 0.2530678875571715, 0.253059529461821, 0.31950610949963537, 0.3711507651438957, 0.3106755400607627, 0.5536718677174867, 0.7194328610849999, 1.0359473460490825, 1.3108878451069912, 0.49470933440862064, 0.6705458379578737, 0.8555593293043371, 1.8313201582988037, 0.5794829175655352, 0.5703746188929978, 0.4952653413812004, 1.9014837079605977, 1.7196349438307243, 1.285583012463286, 1.9600733122902418, 0.8724007806779176, 0.30597866221543485, 0.2945358741349265, 0.28059145604867886, 0.2761250300601081, 0.27315036995066494, 0.32754595380334095, 0.2720520981275574, 0.2720472951737509, 0.2833093769943671, 0.3136426121093993, 0.2894351986451219, 0.2563183695475919, 0.256313057025323, 0.2563095225717318, 0.28621103611773324, 0.2554607116157392, 0.2624820593603554, 0.2541178523515572, 0.2778713365360241, 0.29922099170716143, 0.2522000131178885, 0.25219089509497383, 0.251602590781507, 0.2511757069962729, 0.2489950205399075, 0.24842586597956112, 0.24842334253148338, 0.3095927901848879, 0.4447773162638575, 0.2461897964785419, 0.33124646473463204, 0.4693955597026673, 0.4850320121452352, 0.3670226887431871, 0.7952947891973724, 0.5053136408944644, 0.8352674951286477, 0.7997246748173293, 0.4997383600687629, 1.407364918201019, 1.8514118079488304, 1.4650338071909899, 0.8979738978995105, 0.5334615301637741, 2.0117522355493738, 1.5771819007818977, 1.00018667425122, 2.448975437244868, 0.6897637601806075, 1.6801653648744406, 1.0168028370574618, 1.396483158806025, 0.29227498640379174, 0.27134653119617125, 0.26656778671847475, 0.26656356819829596, 0.2645648464837433, 0.26455990225279125, 0.26016509639154906, 0.2601614104073335, 0.26015793848169133, 0.2669616092915435, 0.4231261806456487, 0.2593447606710147, 0.358623005654291, 0.27454987765642175, 0.25799715354329184, 0.2579964591581634, 0.2548514095518843, 0.25355732063516007, 0.25116098062901254, 0.3038210822007838, 0.3259420449911419, 0.2505802759579554, 0.28088540685601276, 0.2533020660019077, 0.25309590817494304, 0.2801863544042787, 0.2666856565305226, 0.2563231733547179, 0.3175330579894394, 0.24551006662242975, 0.4100071117637554, 0.43173643699550657, 1.0359473460490825, 0.4861132417509317, 0.4912232783414354, 0.5510331541973916, 0.45078847729685373, 0.4473264743638364, 0.6705458379578737, 1.00018667425122, 1.2252449724561645, 1.285583012463286, 2.0784142374271544, 1.7196349438307243, 0.8871772985319256, 1.6801653648744406, 0.9386646944469046, 1.057971846284844, 1.5790124480083623, 0.29473772693736877, 0.29364166408293435, 0.32008826512467753, 0.334364224376491, 0.26534019076353443, 0.273215556464967, 0.2644944933117731, 0.3011666766487339, 0.2580633943569228, 0.25805891911701995, 0.2580586323739598, 0.2586025742008431, 0.25859153924251754, 0.25858921478471797, 0.45767457357781166, 0.25555812536090255, 0.255551345935695, 0.26245624079069063, 0.2639727557149024, 0.2520803287161891, 0.25207899228871233, 0.2520731550192738, 0.28465125527932683, 0.27900641229722284, 0.25112124455150137, 0.2511178138756032, 0.30029203830693074, 0.24980040183378246, 0.24980012277134, 0.24979767265429936, 0.4106992734566426, 0.2644733526628716, 0.5703746188929978, 0.34929581942073457, 0.37159432599899533, 0.32264667621065485, 0.4978210048571864, 0.7328863665645389, 0.8545701679352526, 0.917701477383448, 0.5881388570951483, 1.8313201582988037, 0.6581506365542786, 0.9022195437177792, 0.7303991070579525, 0.4628554769342815, 2.0117522355493738, 0.6211217736607438, 1.5790124480083623, 2.128021821242903, 0.7921914635039976, 0.7221460482093658, 1.9600733122902418, 2.494271170705701, 1.246169670587175, 0.29494814258305496, 0.2804305272170759, 0.36189406595342327, 0.2769115838011297, 0.2733795071129334, 0.27318401495008915, 0.328767688358766, 0.27094105766665466, 0.28533106413682163, 0.2646814381306866, 0.28478460959890595, 0.3024886456397218, 0.276092642156024, 0.2756789970860225, 0.2573136296695571, 0.2573120270676479, 0.2573114122329532, 0.25730791473067327, 0.25578177829239435, 0.2556636098224574, 0.2556608253916612, 0.2768682860617384, 0.25424855272557056, 0.27055534317308927, 0.2779340019595189, 0.2520686737742279, 0.25076378054762405, 0.2507620670738846, 0.25991054593840884, 0.250182825436499, 0.39752810710303305, 0.3474043980043806, 0.43173643699550657, 0.3590064980329113, 0.421479896572986, 0.44433147457696154, 0.7970559169326775, 0.5419161876386054, 0.9109873435583862, 0.318779906513702, 0.4997383600687629, 1.8514118079488304, 2.494271170705701, 1.0413913361918399, 1.251342081318413, 0.8135883392689481, 1.1114278764724723, 1.3192607588730898, 0.3101631170167372, 0.27396182841390054, 0.26838512745891896, 0.30769085731637036, 0.28365821450794304, 0.28781795361988755, 0.28906023391621927, 0.2697386071909103, 0.26249179730157, 0.2554952527376475, 0.2738064360350482, 0.3597915761122114, 0.2532315238388121, 0.28741304270888274, 0.367438533283431, 0.3657627286284819, 0.25235058005325806, 0.24884901417183397, 0.24884888204974262, 0.3283006685048992, 0.24873499472083074, 0.27789443775124945, 0.2744405028242702, 0.24579546973929825, 0.2457951229188085, 0.2457918741309555, 0.26570572684329935, 0.24512614483218234, 0.24512524593009663, 0.24512236047799482, 0.3418126367658334, 0.35651211868254784, 0.4447773162638575, 0.6382134509914238, 0.3125174058772543, 0.30029203830693074, 0.5929370547460684, 0.7047812723456269, 0.3058863342462925, 2.5569325624195423, 1.8313201582988037, 1.6338415738668048, 1.236963230591405, 1.1137109687761866, 1.175373953181691, 0.7486841880663818, 0.6230518888021742, 1.9600733122902418, 1.407364918201019, 0.2746932320905702, 0.2695634685975534, 0.26387472196914324, 0.26239815639410907, 0.2683107680597763, 0.3348184873730466, 0.25943361240749335, 0.2922199421161667, 0.2519893156341658, 0.3317167348201703, 0.2551955716227232, 0.24798077193432802, 0.24709229736615596, 0.32623010220625315, 0.2543412065704976, 0.24595924398325875, 0.599110382463802, 0.24618178947621522, 0.24311976968366036, 0.2431189382680842, 0.24311834343417607, 0.24311705012105758, 0.24311491412656924, 0.24311288853685928, 0.2431126113983339, 0.2431098242409688, 0.24293384433333573, 0.24293332160050735, 0.24293331484103112, 0.26360493658127054, 0.4693955597026673, 0.3515556642659878, 0.30769085731637036, 0.3736551833690399, 0.33596859214197505, 0.30157504015073394, 0.29246722862109886, 0.580713961400628, 0.6013073745501324, 0.314615845662551, 0.7194328610849999, 0.530019614573502, 0.9387206424663196, 0.45078847729685373, 0.3944127688151339, 2.4120480693085895, 1.4753507520080458, 1.070098500026586, 0.9664567263097158, 2.5299437681431316, 1.7281517538492743, 1.1452564108492302, 1.0168028370574618, 2.494271170705701, 2.448975437244868, 1.488917110854103, 0.319189805091424, 0.3068960916084478, 0.3123896631922197, 0.2739234201403379, 0.27372036140664635, 0.32623010220625315, 0.2654741848188593, 0.2654699146855931, 0.2621116509992708, 0.29376322101941726, 0.25610435435918594, 0.2561016676283932, 0.25475361277883785, 0.25475230310285585, 0.2529522091343218, 0.2519679376907485, 0.29114142505096846, 0.2587500686393467, 0.24504255487495596, 0.3069694914520591, 0.24377671246568441, 0.24377193278002646, 0.24488239546355592, 0.3344047239161242, 0.26739291707377866, 0.3860118611058382, 0.24282574239251958, 0.2965537728715394, 0.3466116126702052, 0.27084101478348266, 0.7053022658575988, 0.32565473804333284, 1.8313201582988037, 0.41289560294752026, 0.2800287420254503, 1.139890796174083, 0.5131501560395811, 0.9940384789939408, 0.804225042469903, 0.7194328610849999, 1.0499363638495949, 0.7510312352879965, 2.4120480693085895, 1.8514118079488304, 0.2693435857397248, 0.283547136803553, 0.26544688832363944, 0.2643214953314234, 0.35876514809324495, 0.2594489135670939, 0.257459859727696, 0.2558005506847681, 0.26375832038375335, 0.2713389705975264, 0.2501381162365458, 0.24994802897453414, 0.24994691228189092, 0.24994544985166775, 0.24994322441437164, 0.2641915040309067, 0.24592485746404294, 0.2458057771232414, 0.3019446404953539, 0.2541199153927367, 0.41677687766417293, 0.24373134824750287, 0.27170614661564985, 0.24283930937197526, 0.334364224376491, 0.4513644840684607, 0.2610001490755941, 0.24135129342992864, 0.24134681672436778, 0.24697652398505526, 0.4122099798786595, 0.3327918606970465, 0.4385990914896361, 0.36674801556999626, 0.7921914635039976, 0.6705458379578737, 0.5088976289367408, 1.5771819007818977, 1.121467263365742, 2.4869308097773786, 1.3018802767732558, 1.8514118079488304, 0.27051492150092626, 0.35876514809324495, 0.3673218520201379, 0.25076764554215675, 0.2687748207120191, 0.2475796320187736, 0.2519533479663098, 0.2586450211507859, 0.43266692593948497, 0.2453568845992647, 0.26205830851241146, 0.24978398796730084, 0.29504707998722746, 0.2720394151128201, 0.25180475965603355, 0.23927234062135894, 0.23926986751084584, 0.2881875404797969, 0.24955669297305044, 0.2420744539288079, 0.23708800246427336, 0.23708533138372, 0.27032448396610953, 0.25876666585876035, 0.252018977849544, 0.2356074897372566, 0.23560717257779124, 0.23560686458478441, 0.23560444647302253, 0.23560439514085474, 0.4628554769342815, 0.2933364490169804, 0.599110382463802, 0.4847238140317271, 0.6665530017602062, 0.6904722948917638, 0.9866121984412511, 0.9399331200745105, 1.7196349438307243, 0.6079227717048887, 0.3418126367658334, 0.5902399003002031, 1.1820815984602075, 1.0168028370574618, 1.3578135274757173, 0.283805468038787, 0.26244782110295845, 0.2555759504218401, 0.2511667847612305, 0.2501145290342139, 0.24710141798687052, 0.24709726192358167, 0.33596859214197505, 0.24399420391495646, 0.37663805044813303, 0.27098539960636375, 0.2710951006820389, 0.24249406586325029, 0.24249316706666307, 0.267192937990408, 0.34081161952036393, 0.23882540797166457, 0.23882402493970675, 0.3670226887431871, 0.2368031098688542, 0.23680283988150727, 0.2368025820871373, 0.23680184528295825, 0.2361933078851712, 0.2361927940382851, 0.23619260069250764, 0.23619220703353727, 0.23619134307402712, 0.23618947232299098, 0.2361890647291898, 0.7593550537055503, 0.2949897975309118, 0.28621103611773324, 0.49008670204358157, 0.3266613686005262, 0.3179964600485304, 0.40981199750316655, 0.4847238140317271, 0.5407177465880091, 0.5216244968021632, 0.5929370547460684, 0.917701477383448, 1.8313201582988037, 0.9770929294223657, 2.5299437681431316, 0.27995856023204063, 0.26403156343733253, 0.3419418782616469, 0.24624638181848, 0.27098539960636375, 0.23693252889004454, 0.23693198087455902, 0.2369310878122863, 0.31738498947360205, 0.24435381164948924, 0.2329634947200975, 0.23296281477495806, 0.2329625585269764, 0.23296167053892114, 0.23296070390049528, 0.232292505662317, 0.23229226083132462, 0.23228852240161202, 0.28854904054521596, 0.3322823015117025, 0.23134825135610307, 0.2313480103307738, 0.23134712868549037, 0.2313469295224551, 0.23134692064257456, 0.23134673035941986, 0.231346682154354, 0.23134667327447345, 0.2313437188113582, 0.2313417880716152, 0.49470933440862064, 0.4447773162638575, 0.32246786023974744, 0.28651436875107694, 0.27970216622806277, 0.267192937990408, 0.29977881810994716, 0.7286149172514456, 0.3217242814777873, 1.3108878451069912, 0.8352674951286477, 1.2161158228973705, 0.6257654297225779, 2.494271170705701, 0.6382134509914238, 0.374561209478284, 1.070098500026586, 1.8450504563496029, 0.23925587671052484, 0.2988134807123419, 0.2374505044363425, 0.23612650805886884, 0.236121974815051, 0.2377962629159958, 0.25975079418392627, 0.2930952871921124, 0.2522897489951645, 0.2965515145067325, 0.22685611184730028, 0.22685607111734685, 0.22685592652601214, 0.22685562512435667, 0.22685539907311508, 0.22685512720067588, 0.2268544541381953, 0.22685443886446274, 0.22685421790446533, 0.22685367110484042, 0.2738064360350482, 0.24939910600658038, 0.22634318571563566, 0.22634098935289645, 0.22633963508194457, 0.3069694914520591, 0.22617283830954402, 0.22617183227969406, 0.22617137814071323, 0.22617107368431125, 0.257821612251639, 0.257809861492896, 0.340440516320619, 0.3515556642659878, 0.5107945635789121, 0.3259420449911419, 0.25237284505457147, 0.40981199750316655, 0.6553643997384352, 1.4792804373712538, 0.38670653263976207, 0.3865065318527132, 0.3125174058772543, 0.31075710906413334, 0.8545701679352526, 0.6581506365542786, 0.7770081907277734, 1.2856721094410486], \"Category\": [\"Default\", \"Default\", \"Default\", \"Default\", \"Default\", \"Default\", \"Default\", \"Default\", \"Default\", \"Default\", \"Default\", \"Default\", \"Default\", \"Default\", \"Default\", \"Default\", \"Default\", \"Default\", \"Default\", \"Default\", \"Default\", \"Default\", \"Default\", \"Default\", \"Default\", \"Default\", \"Default\", \"Default\", \"Default\", \"Default\", \"Topic1\", \"Topic1\", \"Topic1\", \"Topic1\", \"Topic1\", \"Topic1\", \"Topic1\", \"Topic1\", \"Topic1\", \"Topic1\", \"Topic1\", \"Topic1\", \"Topic1\", \"Topic1\", \"Topic1\", \"Topic1\", \"Topic1\", \"Topic1\", \"Topic1\", \"Topic1\", \"Topic1\", \"Topic1\", \"Topic1\", \"Topic1\", \"Topic1\", \"Topic1\", \"Topic1\", \"Topic1\", \"Topic1\", \"Topic1\", \"Topic1\", \"Topic1\", \"Topic1\", \"Topic1\", \"Topic1\", \"Topic1\", \"Topic1\", \"Topic1\", \"Topic1\", \"Topic1\", \"Topic1\", \"Topic1\", \"Topic1\", \"Topic1\", \"Topic1\", \"Topic1\", \"Topic1\", \"Topic1\", \"Topic1\", \"Topic1\", \"Topic1\", \"Topic1\", \"Topic1\", \"Topic1\", \"Topic1\", \"Topic1\", \"Topic2\", \"Topic2\", \"Topic2\", \"Topic2\", \"Topic2\", \"Topic2\", \"Topic2\", \"Topic2\", \"Topic2\", \"Topic2\", \"Topic2\", \"Topic2\", \"Topic2\", \"Topic2\", \"Topic2\", \"Topic2\", \"Topic2\", \"Topic2\", \"Topic2\", \"Topic2\", \"Topic2\", \"Topic2\", \"Topic2\", \"Topic2\", \"Topic2\", \"Topic2\", \"Topic2\", \"Topic2\", \"Topic2\", \"Topic2\", \"Topic2\", \"Topic2\", \"Topic2\", \"Topic2\", \"Topic2\", \"Topic2\", \"Topic2\", \"Topic2\", \"Topic2\", \"Topic2\", \"Topic2\", \"Topic2\", \"Topic2\", \"Topic2\", \"Topic2\", \"Topic2\", \"Topic2\", \"Topic2\", \"Topic2\", \"Topic2\", \"Topic2\", \"Topic2\", \"Topic2\", \"Topic3\", \"Topic3\", \"Topic3\", \"Topic3\", \"Topic3\", \"Topic3\", \"Topic3\", \"Topic3\", \"Topic3\", \"Topic3\", \"Topic3\", \"Topic3\", \"Topic3\", \"Topic3\", \"Topic3\", \"Topic3\", \"Topic3\", \"Topic3\", \"Topic3\", \"Topic3\", \"Topic3\", \"Topic3\", \"Topic3\", \"Topic3\", \"Topic3\", \"Topic3\", \"Topic3\", \"Topic3\", \"Topic3\", \"Topic3\", \"Topic3\", \"Topic3\", \"Topic3\", \"Topic3\", \"Topic3\", \"Topic3\", \"Topic3\", \"Topic3\", \"Topic3\", \"Topic3\", \"Topic3\", \"Topic3\", \"Topic3\", \"Topic3\", \"Topic3\", \"Topic3\", \"Topic3\", \"Topic3\", \"Topic3\", \"Topic3\", \"Topic3\", \"Topic3\", \"Topic3\", \"Topic3\", \"Topic4\", \"Topic4\", \"Topic4\", \"Topic4\", \"Topic4\", \"Topic4\", \"Topic4\", \"Topic4\", \"Topic4\", \"Topic4\", \"Topic4\", \"Topic4\", \"Topic4\", \"Topic4\", \"Topic4\", \"Topic4\", \"Topic4\", \"Topic4\", \"Topic4\", \"Topic4\", \"Topic4\", \"Topic4\", \"Topic4\", \"Topic4\", \"Topic4\", \"Topic4\", \"Topic4\", \"Topic4\", \"Topic4\", \"Topic4\", \"Topic4\", \"Topic4\", \"Topic4\", \"Topic4\", \"Topic4\", \"Topic4\", \"Topic4\", \"Topic4\", \"Topic4\", \"Topic4\", \"Topic4\", \"Topic4\", \"Topic4\", \"Topic4\", \"Topic5\", \"Topic5\", \"Topic5\", \"Topic5\", \"Topic5\", \"Topic5\", \"Topic5\", \"Topic5\", \"Topic5\", \"Topic5\", \"Topic5\", \"Topic5\", \"Topic5\", \"Topic5\", \"Topic5\", \"Topic5\", \"Topic5\", \"Topic5\", \"Topic5\", \"Topic5\", \"Topic5\", \"Topic5\", \"Topic5\", \"Topic5\", \"Topic5\", \"Topic5\", \"Topic5\", \"Topic5\", \"Topic5\", \"Topic5\", \"Topic5\", \"Topic5\", \"Topic5\", \"Topic5\", \"Topic5\", \"Topic5\", \"Topic5\", \"Topic5\", \"Topic5\", \"Topic5\", \"Topic5\", \"Topic5\", \"Topic5\", \"Topic5\", \"Topic5\", \"Topic5\", \"Topic5\", \"Topic5\", \"Topic6\", \"Topic6\", \"Topic6\", \"Topic6\", \"Topic6\", \"Topic6\", \"Topic6\", \"Topic6\", \"Topic6\", \"Topic6\", \"Topic6\", \"Topic6\", \"Topic6\", \"Topic6\", \"Topic6\", \"Topic6\", \"Topic6\", \"Topic6\", \"Topic6\", \"Topic6\", \"Topic6\", \"Topic6\", \"Topic6\", \"Topic6\", \"Topic6\", \"Topic6\", \"Topic6\", \"Topic6\", \"Topic6\", \"Topic6\", \"Topic6\", \"Topic6\", \"Topic6\", \"Topic6\", \"Topic6\", \"Topic6\", \"Topic6\", \"Topic6\", \"Topic6\", \"Topic6\", \"Topic6\", \"Topic6\", \"Topic6\", \"Topic6\", \"Topic6\", \"Topic6\", \"Topic6\", \"Topic6\", \"Topic6\", \"Topic6\", \"Topic6\", \"Topic6\", \"Topic7\", \"Topic7\", \"Topic7\", \"Topic7\", \"Topic7\", \"Topic7\", \"Topic7\", \"Topic7\", \"Topic7\", \"Topic7\", \"Topic7\", \"Topic7\", \"Topic7\", \"Topic7\", \"Topic7\", \"Topic7\", \"Topic7\", \"Topic7\", \"Topic7\", \"Topic7\", \"Topic7\", \"Topic7\", \"Topic7\", \"Topic7\", \"Topic7\", \"Topic7\", \"Topic7\", \"Topic7\", \"Topic7\", \"Topic7\", \"Topic7\", \"Topic7\", \"Topic7\", \"Topic7\", \"Topic7\", \"Topic7\", \"Topic7\", \"Topic7\", \"Topic7\", \"Topic7\", \"Topic7\", \"Topic7\", \"Topic7\", \"Topic7\", \"Topic7\", \"Topic7\", \"Topic7\", \"Topic7\", \"Topic7\", \"Topic8\", \"Topic8\", \"Topic8\", \"Topic8\", \"Topic8\", \"Topic8\", \"Topic8\", \"Topic8\", \"Topic8\", \"Topic8\", \"Topic8\", \"Topic8\", \"Topic8\", \"Topic8\", \"Topic8\", \"Topic8\", \"Topic8\", \"Topic8\", \"Topic8\", \"Topic8\", \"Topic8\", \"Topic8\", \"Topic8\", \"Topic8\", \"Topic8\", \"Topic8\", \"Topic8\", \"Topic8\", \"Topic8\", \"Topic8\", \"Topic8\", \"Topic8\", \"Topic8\", \"Topic8\", \"Topic8\", \"Topic8\", \"Topic8\", \"Topic8\", \"Topic8\", \"Topic8\", \"Topic8\", \"Topic8\", \"Topic8\", \"Topic8\", \"Topic8\", \"Topic8\", \"Topic8\", \"Topic8\", \"Topic8\", \"Topic8\", \"Topic8\", \"Topic8\", \"Topic8\", \"Topic8\", \"Topic8\", \"Topic9\", \"Topic9\", \"Topic9\", \"Topic9\", \"Topic9\", \"Topic9\", \"Topic9\", \"Topic9\", \"Topic9\", \"Topic9\", \"Topic9\", \"Topic9\", \"Topic9\", \"Topic9\", \"Topic9\", \"Topic9\", \"Topic9\", \"Topic9\", \"Topic9\", \"Topic9\", \"Topic9\", \"Topic9\", \"Topic9\", \"Topic9\", \"Topic9\", \"Topic9\", \"Topic9\", \"Topic9\", \"Topic9\", \"Topic9\", \"Topic9\", \"Topic9\", \"Topic9\", \"Topic9\", \"Topic9\", \"Topic9\", \"Topic9\", \"Topic9\", \"Topic9\", \"Topic9\", \"Topic9\", \"Topic9\", \"Topic9\", \"Topic9\", \"Topic9\", \"Topic9\", \"Topic9\", \"Topic9\", \"Topic10\", \"Topic10\", \"Topic10\", \"Topic10\", \"Topic10\", \"Topic10\", \"Topic10\", \"Topic10\", \"Topic10\", \"Topic10\", \"Topic10\", \"Topic10\", \"Topic10\", \"Topic10\", \"Topic10\", \"Topic10\", \"Topic10\", \"Topic10\", \"Topic10\", \"Topic10\", \"Topic10\", \"Topic10\", \"Topic10\", \"Topic10\", \"Topic10\", \"Topic10\", \"Topic10\", \"Topic10\", \"Topic10\", \"Topic10\", \"Topic10\", \"Topic10\", \"Topic10\", \"Topic10\", \"Topic10\", \"Topic10\", \"Topic10\", \"Topic10\", \"Topic10\", \"Topic10\", \"Topic10\", \"Topic10\", \"Topic10\", \"Topic10\", \"Topic10\", \"Topic10\", \"Topic10\", \"Topic10\", \"Topic10\", \"Topic11\", \"Topic11\", \"Topic11\", \"Topic11\", \"Topic11\", \"Topic11\", \"Topic11\", \"Topic11\", \"Topic11\", \"Topic11\", \"Topic11\", \"Topic11\", \"Topic11\", \"Topic11\", \"Topic11\", \"Topic11\", \"Topic11\", \"Topic11\", \"Topic11\", \"Topic11\", \"Topic11\", \"Topic11\", \"Topic11\", \"Topic11\", \"Topic11\", \"Topic11\", \"Topic11\", \"Topic11\", \"Topic11\", \"Topic11\", \"Topic11\", \"Topic11\", \"Topic11\", \"Topic11\", \"Topic11\", \"Topic11\", \"Topic11\", \"Topic11\", \"Topic11\", \"Topic11\", \"Topic11\", \"Topic11\", \"Topic11\", \"Topic11\", \"Topic11\", \"Topic11\", \"Topic11\", \"Topic11\", \"Topic11\", \"Topic11\", \"Topic11\", \"Topic11\", \"Topic11\", \"Topic11\", \"Topic11\", \"Topic11\", \"Topic12\", \"Topic12\", \"Topic12\", \"Topic12\", \"Topic12\", \"Topic12\", \"Topic12\", \"Topic12\", \"Topic12\", \"Topic12\", \"Topic12\", \"Topic12\", \"Topic12\", \"Topic12\", \"Topic12\", \"Topic12\", \"Topic12\", \"Topic12\", \"Topic12\", \"Topic12\", \"Topic12\", \"Topic12\", \"Topic12\", \"Topic12\", \"Topic12\", \"Topic12\", \"Topic12\", \"Topic12\", \"Topic12\", \"Topic12\", \"Topic12\", \"Topic12\", \"Topic12\", \"Topic12\", \"Topic12\", \"Topic12\", \"Topic12\", \"Topic12\", \"Topic12\", \"Topic12\", \"Topic12\", \"Topic12\", \"Topic12\", \"Topic12\", \"Topic13\", \"Topic13\", \"Topic13\", \"Topic13\", \"Topic13\", \"Topic13\", \"Topic13\", \"Topic13\", \"Topic13\", \"Topic13\", \"Topic13\", \"Topic13\", \"Topic13\", \"Topic13\", \"Topic13\", \"Topic13\", \"Topic13\", \"Topic13\", \"Topic13\", \"Topic13\", \"Topic13\", \"Topic13\", \"Topic13\", \"Topic13\", \"Topic13\", \"Topic13\", \"Topic13\", \"Topic13\", \"Topic13\", \"Topic13\", \"Topic13\", \"Topic13\", \"Topic13\", \"Topic13\", \"Topic13\", \"Topic13\", \"Topic13\", \"Topic13\", \"Topic13\", \"Topic13\", \"Topic13\", \"Topic13\", \"Topic14\", \"Topic14\", \"Topic14\", \"Topic14\", \"Topic14\", \"Topic14\", \"Topic14\", \"Topic14\", \"Topic14\", \"Topic14\", \"Topic14\", \"Topic14\", \"Topic14\", \"Topic14\", \"Topic14\", \"Topic14\", \"Topic14\", \"Topic14\", \"Topic14\", \"Topic14\", \"Topic14\", \"Topic14\", \"Topic14\", \"Topic14\", \"Topic14\", \"Topic14\", \"Topic14\", \"Topic14\", \"Topic14\", \"Topic14\", \"Topic14\", \"Topic14\", \"Topic14\", \"Topic14\", \"Topic14\", \"Topic14\", \"Topic14\", \"Topic14\", \"Topic14\", \"Topic14\", \"Topic14\", \"Topic14\", \"Topic14\", \"Topic14\", \"Topic14\", \"Topic15\", \"Topic15\", \"Topic15\", \"Topic15\", \"Topic15\", \"Topic15\", \"Topic15\", \"Topic15\", \"Topic15\", \"Topic15\", \"Topic15\", \"Topic15\", \"Topic15\", \"Topic15\", \"Topic15\", \"Topic15\", \"Topic15\", \"Topic15\", \"Topic15\", \"Topic15\", \"Topic15\", \"Topic15\", \"Topic15\", \"Topic15\", \"Topic15\", \"Topic15\", \"Topic15\", \"Topic15\", \"Topic15\", \"Topic15\", \"Topic15\", \"Topic15\", \"Topic15\", \"Topic15\", \"Topic15\", \"Topic15\", \"Topic15\", \"Topic15\", \"Topic15\", \"Topic15\", \"Topic15\", \"Topic15\", \"Topic15\", \"Topic15\", \"Topic15\", \"Topic16\", \"Topic16\", \"Topic16\", \"Topic16\", \"Topic16\", \"Topic16\", \"Topic16\", \"Topic16\", \"Topic16\", \"Topic16\", \"Topic16\", \"Topic16\", \"Topic16\", \"Topic16\", \"Topic16\", \"Topic16\", \"Topic16\", \"Topic16\", \"Topic16\", \"Topic16\", \"Topic16\", \"Topic16\", \"Topic16\", \"Topic16\", \"Topic16\", \"Topic16\", \"Topic16\", \"Topic16\", \"Topic16\", \"Topic16\", \"Topic16\", \"Topic16\", \"Topic16\", \"Topic16\", \"Topic16\", \"Topic16\", \"Topic16\", \"Topic16\", \"Topic16\", \"Topic16\", \"Topic16\", \"Topic16\", \"Topic16\", \"Topic16\", \"Topic16\", \"Topic16\", \"Topic16\", \"Topic16\", \"Topic17\", \"Topic17\", \"Topic17\", \"Topic17\", \"Topic17\", \"Topic17\", \"Topic17\", \"Topic17\", \"Topic17\", \"Topic17\", \"Topic17\", \"Topic17\", \"Topic17\", \"Topic17\", \"Topic17\", \"Topic17\", \"Topic17\", \"Topic17\", \"Topic17\", \"Topic17\", \"Topic17\", \"Topic17\", \"Topic17\", \"Topic17\", \"Topic17\", \"Topic17\", \"Topic17\", \"Topic17\", \"Topic17\", \"Topic17\", \"Topic17\", \"Topic17\", \"Topic17\", \"Topic17\", \"Topic17\", \"Topic17\", \"Topic17\", \"Topic17\", \"Topic17\", \"Topic17\", \"Topic17\", \"Topic17\", \"Topic17\", \"Topic17\", \"Topic17\", \"Topic17\", \"Topic17\", \"Topic17\"], \"logprob\": [30.0, 29.0, 28.0, 27.0, 26.0, 25.0, 24.0, 23.0, 22.0, 21.0, 20.0, 19.0, 18.0, 17.0, 16.0, 15.0, 14.0, 13.0, 12.0, 11.0, 10.0, 9.0, 8.0, 7.0, 6.0, 5.0, 4.0, 3.0, 2.0, 1.0, -6.7291, -6.5455, -6.702, -6.9258, -7.2455, -6.8114, -7.1433, -7.0593, -6.4932, -6.3857, -7.3437, -6.8011, -6.7621, -6.8655, -6.6305, -6.6385, -7.1485, -7.206, -6.6217, -6.6752, -6.8542, -7.2814, -6.7458, -7.4616, -6.5887, -7.2849, -6.9663, -7.2257, -7.0324, -6.9619, -6.6954, -6.5293, -6.4758, -6.798, -6.8454, -6.272, -6.7373, -6.7862, -6.6364, -6.8577, -6.3297, -6.3184, -6.2898, -6.3131, -6.7511, -6.6766, -6.348, -6.5038, -6.6016, -6.6104, -6.678, -6.6072, -6.5989, -6.6238, -6.7005, -6.7043, -6.9524, -6.3357, -7.0344, -7.0161, -7.1669, -6.6528, -7.0338, -7.2025, -7.2026, -6.9463, -6.8941, -7.3285, -7.37, -7.4162, -7.3729, -7.4706, -7.4707, -7.3809, -7.3177, -7.4997, -7.4944, -7.2809, -7.2872, -7.5106, -7.5064, -6.9253, -7.5259, -7.5523, -7.5147, -7.3589, -7.3742, -7.1227, -7.3274, -6.9052, -7.0356, -7.2062, -7.1479, -6.8604, -7.0058, -6.6176, -7.0127, -7.0009, -7.2703, -7.1715, -7.2022, -6.9858, -7.2452, -7.0887, -7.1734, -7.2262, -7.1607, -7.1895, -7.2072, -6.9405, -7.0933, -6.5883, -6.788, -7.1591, -7.2624, -7.3242, -7.3242, -7.3365, -7.2122, -7.2863, -7.424, -7.4328, -7.4389, -7.5009, -7.501, -6.9784, -7.5616, -7.513, -7.5831, -7.613, -7.6267, -7.6435, -7.4675, -7.652, -7.652, -7.5769, -7.6672, -7.6119, -7.697, -7.4737, -7.4511, -7.0849, -7.4945, -7.5515, -7.4256, -7.3591, -7.3319, -7.2795, -6.999, -7.4006, -7.0361, -7.2127, -7.2158, -7.2882, -7.2514, -7.2777, -7.3575, -7.2956, -7.3143, -7.3313, -7.3501, -7.3587, -7.3669, -6.9047, -6.8756, -6.9905, -7.0868, -7.1871, -7.1871, -7.2046, -7.2094, -7.2979, -7.3062, -7.3138, -7.314, -7.3973, -7.0977, -7.4386, -7.4387, -7.452, -7.452, -7.4683, -7.4804, -7.4805, -7.286, -7.3543, -7.3056, -7.6118, -7.5829, -7.6279, -7.3054, -7.3961, -7.6231, -7.5468, -6.7254, -7.0993, -6.9215, -7.343, -6.7971, -7.1494, -7.0362, -7.2394, -7.1844, -7.2898, -7.2955, -7.2691, -7.3053, -7.022, -7.0425, -7.0446, -7.1123, -7.1807, -7.1812, -7.2332, -7.2767, -7.3129, -7.4247, -7.0779, -7.4587, -7.453, -7.4812, -7.5194, -7.5194, -7.57, -7.5701, -7.5702, -7.4323, -7.5207, -7.3708, -7.6062, -7.5912, -7.6306, -7.5914, -7.3957, -7.6549, -7.655, -7.4251, -7.2934, -7.5087, -7.1892, -7.109, -6.9478, -6.9783, -7.3735, -7.3277, -7.2711, -7.0898, -7.3761, -7.3806, -7.4092, -7.3124, -7.3233, -7.3438, -7.3954, -7.4108, -6.8437, -6.9661, -7.139, -7.2013, -7.2451, -7.0712, -7.2618, -7.2618, -7.3171, -7.2642, -7.3939, -7.5371, -7.5372, -7.5373, -7.438, -7.5546, -7.5466, -7.5825, -7.4974, -7.43, -7.6237, -7.6239, -7.637, -7.6465, -7.6968, -7.7103, -7.7104, -7.5228, -7.1617, -7.7654, -7.4861, -7.1655, -7.2603, -7.4559, -7.0052, -7.3051, -7.1515, -7.2679, -7.4229, -7.2314, -7.1886, -7.2443, -7.3297, -7.427, -7.231, -7.2711, -7.356, -7.2616, -7.4029, -7.3482, -7.3796, -7.3727, -7.122, -7.2394, -7.3165, -7.3166, -7.3507, -7.3508, -7.4301, -7.4302, -7.4303, -7.4119, -6.9527, -7.4457, -7.1221, -7.3925, -7.4717, -7.4718, -7.5354, -7.5961, -7.6156, -7.4253, -7.3627, -7.6288, -7.5193, -7.6452, -7.6568, -7.5768, -7.6303, -7.6755, -7.4672, -7.7524, -7.2483, -7.2056, -6.4552, -7.1208, -7.1933, -7.191, -7.3147, -7.3612, -7.2527, -7.1276, -7.1025, -7.097, -7.0605, -7.1399, -7.3054, -7.336, -7.3826, -7.4, -7.4142, -6.9088, -6.9259, -6.9758, -7.0742, -7.3161, -7.2974, -7.3306, -7.2259, -7.449, -7.449, -7.449, -7.4562, -7.4604, -7.4612, -6.9012, -7.4991, -7.4993, -7.4814, -7.5078, -7.5732, -7.5733, -7.5734, -7.4577, -7.4827, -7.5947, -7.5947, -7.4256, -7.625, -7.625, -7.625, -7.1633, -7.5747, -6.8988, -7.3323, -7.3189, -7.4298, -7.1972, -7.049, -6.9778, -7.0462, -7.2443, -6.9382, -7.2709, -7.2147, -7.2927, -7.3718, -7.1637, -7.337, -7.2115, -7.2289, -7.3285, -7.3548, -7.2707, -7.2617, -7.3177, -6.8939, -7.0747, -6.8545, -7.1239, -7.1758, -7.1788, -7.0039, -7.2134, -7.1645, -7.3167, -7.244, -7.1951, -7.3181, -7.3303, -7.4537, -7.4538, -7.4538, -7.4538, -7.4847, -7.4872, -7.4872, -7.4146, -7.5168, -7.4819, -7.4651, -7.5642, -7.5937, -7.5937, -7.5646, -7.6228, -7.1837, -7.3328, -7.1837, -7.3298, -7.2543, -7.2257, -7.0043, -7.2292, -7.1085, -7.4257, -7.3134, -7.0439, -7.0509, -7.2182, -7.2121, -7.2837, -7.2874, -7.2956, -6.9254, -7.1069, -7.1946, -7.121, -7.2435, -7.3011, -7.2982, -7.3676, -7.3952, -7.4327, -7.377, -7.1135, -7.481, -7.3647, -7.1192, -7.1245, -7.5005, -7.5818, -7.5818, -7.3048, -7.5846, -7.5006, -7.5366, -7.6586, -7.6586, -7.6587, -7.5821, -7.6763, -7.6763, -7.6764, -7.3735, -7.3862, -7.2217, -6.9949, -7.4997, -7.527, -7.1377, -7.1485, -7.5197, -6.8801, -7.0992, -7.1697, -7.2339, -7.2976, -7.2933, -7.3766, -7.4129, -7.3894, -7.4119, -7.0576, -7.1377, -7.2347, -7.2615, -7.251, -7.0296, -7.3456, -7.2376, -7.4741, -7.2179, -7.5143, -7.5698, -7.5923, -7.3147, -7.5685, -7.6217, -6.7434, -7.6725, -7.6996, -7.6996, -7.6996, -7.6996, -7.6997, -7.6997, -7.6998, -7.6998, -7.7049, -7.7049, -7.7049, -7.6287, -7.0926, -7.3637, -7.4933, -7.3297, -7.4312, -7.5374, -7.5811, -7.2098, -7.2179, -7.5662, -7.157, -7.3531, -7.1188, -7.4256, -7.4773, -6.9795, -7.1205, -7.2694, -7.3114, -7.1722, -7.2454, -7.3142, -7.3435, -7.2901, -7.3058, -7.3589, -6.6219, -6.7368, -6.8244, -7.0056, -7.0087, -6.8741, -7.1435, -7.1436, -7.2042, -7.111, -7.3226, -7.3226, -7.3513, -7.3513, -7.3908, -7.4131, -7.2724, -7.4653, -7.5859, -7.3713, -7.621, -7.6211, -7.6204, -7.3101, -7.5375, -7.1739, -7.6482, -7.4772, -7.3309, -7.5949, -6.8927, -7.4717, -6.6569, -7.3963, -7.5703, -7.0702, -7.3737, -7.2178, -7.284, -7.3373, -7.2848, -7.3406, -7.2937, -7.3746, -7.0261, -7.0013, -7.0925, -7.1125, -6.8519, -7.2042, -7.2441, -7.2787, -7.2699, -7.3023, -7.4068, -7.4114, -7.4114, -7.4114, -7.4115, -7.3622, -7.514, -7.5172, -7.3391, -7.5175, -7.0367, -7.5747, -7.469, -7.6005, -7.2979, -7.0132, -7.5656, -7.645, -7.6452, -7.6253, -7.2254, -7.3997, -7.2098, -7.3994, -7.0428, -7.1437, -7.322, -7.1801, -7.343, -7.2766, -7.3607, -7.4032, -6.9357, -6.8704, -6.8916, -7.3248, -7.2814, -7.4059, -7.4014, -7.3846, -6.8754, -7.4644, -7.4449, -7.5166, -7.3924, -7.4838, -7.5708, -7.649, -7.6491, -7.4726, -7.6587, -7.6929, -7.7252, -7.7254, -7.6036, -7.6505, -7.6987, -7.7792, -7.7793, -7.7793, -7.7794, -7.7794, -7.1048, -7.5619, -7.0553, -7.2236, -6.9953, -7.2917, -7.1544, -7.2723, -7.1411, -7.4472, -7.6095, -7.5477, -7.5631, -7.596, -7.599, -6.6905, -7.029, -7.1679, -7.2683, -7.2938, -7.3708, -7.3709, -7.1284, -7.4569, -7.0316, -7.3857, -7.3858, -7.5013, -7.5013, -7.4584, -7.2247, -7.6189, -7.6189, -7.2195, -7.6902, -7.6902, -7.6902, -7.6902, -7.7127, -7.7127, -7.7127, -7.7127, -7.7128, -7.7129, -7.7129, -6.5584, -7.5003, -7.5406, -7.0784, -7.449, -7.4762, -7.3437, -7.2506, -7.2671, -7.4581, -7.422, -7.3168, -7.4106, -7.5013, -7.4783, -6.4512, -7.1865, -6.9493, -7.3237, -7.2884, -7.4329, -7.4329, -7.4329, -7.252, -7.5416, -7.6, -7.6001, -7.6001, -7.6001, -7.6002, -7.6313, -7.6313, -7.6315, -7.4261, -7.3086, -7.677, -7.677, -7.677, -7.6771, -7.6771, -7.6771, -7.6771, -7.6771, -7.6772, -7.6773, -6.9332, -7.1328, -7.4387, -7.5337, -7.557, -7.59, -7.557, -7.174, -7.5502, -7.0173, -7.4065, -7.352, -7.4954, -7.4384, -7.5442, -7.5729, -7.5391, -7.575, -7.1606, -6.9781, -7.2294, -7.283, -7.2832, -7.3161, -7.3421, -7.2812, -7.514, -7.4145, -7.7701, -7.7701, -7.7701, -7.7701, -7.7701, -7.7702, -7.7702, -7.7702, -7.7702, -7.7703, -7.6013, -7.7051, -7.8055, -7.8056, -7.8057, -7.504, -7.8175, -7.8175, -7.8176, -7.8176, -7.7007, -7.7008, -7.4939, -7.4789, -7.244, -7.5707, -7.7688, -7.6245, -7.5158, -7.3737, -7.6603, -7.6682, -7.7148, -7.7161, -7.6172, -7.6892, -7.7002, -7.7295], \"loglift\": [30.0, 29.0, 28.0, 27.0, 26.0, 25.0, 24.0, 23.0, 22.0, 21.0, 20.0, 19.0, 18.0, 17.0, 16.0, 15.0, 14.0, 13.0, 12.0, 11.0, 10.0, 9.0, 8.0, 7.0, 6.0, 5.0, 4.0, 3.0, 2.0, 1.0, 0.694, 0.6936, 0.6874, 0.6728, 0.6624, 0.6599, 0.6525, 0.6505, 0.6479, 0.6438, 0.6411, 0.6394, 0.6387, 0.6387, 0.6333, 0.6325, 0.6308, 0.6297, 0.6278, 0.6248, 0.6245, 0.6235, 0.6232, 0.6232, 0.622, 0.6182, 0.6168, 0.6161, 0.6161, 0.6157, 0.6156, 0.6137, 0.6095, 0.6129, 0.6137, 0.6016, 0.6111, 0.6114, 0.6012, 0.6129, 0.5745, 0.5705, 0.556, 0.5433, 0.6017, 0.5881, 0.5227, 0.5492, 0.5705, 0.5698, 0.5722, 0.5348, 0.4867, 0.4879, 0.5436, 0.5377, 1.7675, 1.7656, 1.7253, 1.7078, 1.6536, 1.6533, 1.6486, 1.6336, 1.6335, 1.6272, 1.6118, 1.5188, 1.5182, 1.507, 1.4882, 1.473, 1.473, 1.4712, 1.4578, 1.4546, 1.4499, 1.4489, 1.4481, 1.4476, 1.4402, 1.4298, 1.4284, 1.4207, 1.4061, 1.4022, 1.3991, 1.3445, 1.3779, 1.2285, 1.2253, 1.3012, 1.2272, 0.9862, 1.0795, 0.5511, 0.9889, 0.8696, 1.2706, 1.0083, 1.0684, 0.3692, 1.0162, -0.218, 0.2458, 0.7774, -0.3043, 0.1016, -0.3183, 2.0251, 1.891, 1.89, 1.8883, 1.8735, 1.7984, 1.7526, 1.7525, 1.7433, 1.7141, 1.6858, 1.6769, 1.6653, 1.6253, 1.6174, 1.6173, 1.5707, 1.5697, 1.5652, 1.5473, 1.5288, 1.5179, 1.5044, 1.5006, 1.4975, 1.4975, 1.4898, 1.4853, 1.4822, 1.4612, 1.4555, 1.429, 1.1181, 1.3593, 1.3995, 1.2483, 1.0704, 1.0142, 0.919, 0.1697, 1.0878, 0.1435, 0.3207, 0.2614, 0.5479, 0.2453, 0.389, 0.8268, 0.2522, 0.2965, 0.3559, 0.5204, 0.2665, 0.2045, 2.0503, 1.9912, 1.9564, 1.9259, 1.8545, 1.8545, 1.8418, 1.8383, 1.7732, 1.767, 1.7613, 1.7474, 1.6983, 1.6884, 1.6666, 1.6666, 1.6563, 1.6563, 1.6437, 1.6343, 1.6342, 1.6125, 1.6055, 1.5871, 1.5306, 1.5184, 1.5178, 1.471, 1.462, 1.4569, 1.4114, 0.892, 1.0085, 0.8273, 1.0834, 0.0487, 0.6985, -0.1798, 0.6146, 0.1608, 0.4696, 0.3814, 0.1302, -0.4318, 1.9851, 1.9707, 1.9692, 1.9211, 1.8715, 1.8711, 1.8327, 1.8003, 1.7729, 1.6872, 1.6842, 1.6606, 1.6466, 1.643, 1.6128, 1.6128, 1.5724, 1.5724, 1.5706, 1.5676, 1.5576, 1.5443, 1.5433, 1.5354, 1.5236, 1.5138, 1.5125, 1.5039, 1.5037, 1.5005, 1.4824, 1.4449, 1.1867, 1.0049, 0.8016, 0.5356, 1.1149, 0.8566, 0.6696, 0.0898, 0.9541, 0.9655, 1.0781, -0.1704, -0.0808, 0.1896, -0.2838, 0.5103, 2.1252, 2.0408, 1.9165, 1.8702, 1.8373, 1.8295, 1.8246, 1.8246, 1.7288, 1.6799, 1.6305, 1.6088, 1.6088, 1.6087, 1.5977, 1.5948, 1.5756, 1.5721, 1.5678, 1.5612, 1.5384, 1.5383, 1.5276, 1.5197, 1.4782, 1.4669, 1.4669, 1.4344, 1.4331, 1.4209, 1.4034, 1.3754, 1.2479, 1.3311, 1.0085, 1.1621, 0.8131, 0.7402, 1.0554, 0.2115, -0.0199, 0.1584, 0.5625, 0.986, -0.1454, 0.0579, 0.4284, -0.3727, 0.7532, -0.0825, 0.3884, 0.078, 1.8927, 1.8496, 1.7903, 1.7902, 1.7636, 1.7636, 1.7009, 1.7009, 1.7008, 1.6933, 1.6921, 1.6885, 1.6881, 1.6847, 1.6677, 1.6677, 1.6163, 1.5607, 1.5507, 1.5506, 1.543, 1.5398, 1.5351, 1.5126, 1.5019, 1.4801, 1.476, 1.4704, 1.4646, 1.4367, 1.4279, 1.4189, 1.2942, 1.3852, 1.3022, 1.1896, 1.2666, 1.2279, 0.9316, 0.6568, 0.479, 0.4364, -0.0075, 0.1026, 0.599, -0.0702, 0.4653, 0.3282, -0.0863, 2.0975, 2.0841, 1.948, 1.8059, 1.7953, 1.7847, 1.7839, 1.7588, 1.6902, 1.6902, 1.6901, 1.6809, 1.6767, 1.6759, 1.665, 1.6498, 1.6497, 1.6409, 1.6087, 1.5894, 1.5894, 1.5893, 1.5834, 1.5784, 1.5718, 1.5717, 1.562, 1.5468, 1.5468, 1.5467, 1.5112, 1.5399, 1.4473, 1.5042, 1.4557, 1.4861, 1.2849, 1.0464, 0.964, 0.8243, 1.0711, 0.2414, 0.9321, 0.6728, 0.8061, 1.1831, -0.0781, 0.9238, 0.1163, -0.1995, 0.689, 0.7553, -0.159, -0.391, 0.2469, 2.1117, 1.9814, 1.9465, 1.9448, 1.9057, 1.9034, 1.8932, 1.8771, 1.8743, 1.7972, 1.7967, 1.7852, 1.7535, 1.7429, 1.6884, 1.6883, 1.6883, 1.6883, 1.6633, 1.6613, 1.6613, 1.6543, 1.6373, 1.61, 1.5999, 1.5985, 1.5742, 1.5742, 1.5674, 1.5474, 1.5234, 1.5091, 1.4409, 1.4793, 1.3944, 1.3701, 1.0071, 1.1681, 0.7693, 1.5022, 1.1649, 0.1247, -0.1803, 0.5258, 0.3483, 0.7072, 0.3916, 0.2119, 2.0299, 1.9725, 1.9053, 1.8423, 1.8011, 1.7289, 1.7275, 1.7274, 1.727, 1.7165, 1.703, 1.6934, 1.6771, 1.6668, 1.6666, 1.6659, 1.6611, 1.5937, 1.5937, 1.5936, 1.5914, 1.5646, 1.541, 1.5293, 1.5293, 1.5292, 1.5279, 1.5143, 1.5143, 1.5143, 1.4846, 1.4298, 1.3731, 1.2388, 1.448, 1.4606, 1.1696, 0.986, 1.4495, -0.0343, 0.0804, 0.124, 0.3381, 0.3793, 0.3297, 0.6975, 0.8448, -0.2778, 0.031, 2.0192, 1.9579, 1.8822, 1.861, 1.8492, 1.8492, 1.7882, 1.7773, 1.6889, 1.6702, 1.636, 1.6093, 1.5904, 1.5901, 1.5852, 1.5655, 1.5535, 1.5138, 1.4993, 1.4993, 1.4992, 1.4992, 1.4992, 1.4991, 1.4991, 1.499, 1.4947, 1.4947, 1.4947, 1.4892, 1.4484, 1.4663, 1.47, 1.4393, 1.4441, 1.4459, 1.4329, 1.1183, 1.0754, 1.3748, 0.9569, 1.0663, 0.7291, 1.1558, 1.2377, -0.0754, 0.2753, 0.4474, 0.5074, -0.3157, -0.0078, 0.3348, 0.4244, -0.4195, -0.4168, 0.0277, 2.3047, 2.229, 2.1238, 2.0739, 2.0715, 2.0307, 1.9673, 1.9673, 1.9194, 1.8986, 1.8242, 1.8242, 1.8008, 1.8008, 1.7683, 1.7499, 1.7462, 1.6712, 1.605, 1.5943, 1.5751, 1.575, 1.5712, 1.57, 1.5662, 1.5626, 1.5519, 1.5229, 1.5133, 1.496, 1.2411, 1.4348, 0.5227, 1.2729, 1.4872, 0.5835, 1.0781, 0.5728, 0.7185, 0.7766, 0.4511, 0.7304, -0.3895, -0.2059, 2.0703, 2.0437, 2.0185, 2.0027, 1.9578, 1.9297, 1.8974, 1.8692, 1.8474, 1.7867, 1.7636, 1.7597, 1.7597, 1.7597, 1.7596, 1.7535, 1.6734, 1.6707, 1.643, 1.6371, 1.6231, 1.6216, 1.6186, 1.5995, 1.5822, 1.567, 1.5622, 1.5611, 1.561, 1.5578, 1.4455, 1.4852, 1.399, 1.3883, 0.9748, 1.0405, 1.1382, 0.1489, 0.327, -0.403, 0.1601, -0.2345, 2.1564, 1.9393, 1.8945, 1.8431, 1.8171, 1.7747, 1.7617, 1.7523, 1.747, 1.7252, 1.6789, 1.6552, 1.6129, 1.6027, 1.5929, 1.5658, 1.5657, 1.5561, 1.514, 1.5102, 1.4987, 1.4985, 1.4892, 1.486, 1.4641, 1.451, 1.451, 1.4509, 1.4509, 1.4509, 1.4501, 1.4492, 1.2417, 1.2852, 1.195, 0.8633, 0.6438, 0.5743, 0.1015, 0.8351, 1.2486, 0.7642, 0.0542, 0.1719, -0.1202, 2.3536, 2.0933, 1.981, 1.898, 1.8766, 1.8118, 1.8117, 1.747, 1.7384, 1.7295, 1.7046, 1.7041, 1.7001, 1.7001, 1.646, 1.6363, 1.5978, 1.5977, 1.5674, 1.535, 1.535, 1.535, 1.5349, 1.515, 1.515, 1.515, 1.515, 1.515, 1.5149, 1.5149, 1.5015, 1.5051, 1.495, 1.4194, 1.4544, 1.4542, 1.333, 1.2582, 1.1324, 0.9773, 0.8853, 0.5537, -0.231, 0.3065, -0.6218, 2.6065, 1.9298, 1.9085, 1.8623, 1.8019, 1.7917, 1.7917, 1.7917, 1.6802, 1.6522, 1.6415, 1.6414, 1.6414, 1.6414, 1.6413, 1.6131, 1.6131, 1.6129, 1.6015, 1.5778, 1.5715, 1.5715, 1.5714, 1.5714, 1.5714, 1.5714, 1.5714, 1.5714, 1.5713, 1.5712, 1.5552, 1.462, 1.4777, 1.5009, 1.5017, 1.5144, 1.4324, 0.9272, 1.3685, 0.4966, 0.5581, 0.237, 0.758, -0.5678, 0.6895, 1.1937, 0.1777, -0.4028, 2.0542, 2.0145, 1.9931, 1.9451, 1.9449, 1.9049, 1.7906, 1.7307, 1.6478, 1.5856, 1.498, 1.498, 1.498, 1.4979, 1.4979, 1.4979, 1.4979, 1.4979, 1.4979, 1.4978, 1.4786, 1.4682, 1.4649, 1.4647, 1.4646, 1.4617, 1.4536, 1.4536, 1.4535, 1.4535, 1.4394, 1.4394, 1.3682, 1.3511, 1.2125, 1.335, 1.3927, 1.0522, 0.6914, 0.0194, 1.0744, 1.067, 1.233, 1.2373, 0.3246, 0.5138, 0.3368, -0.1961]}, \"token.table\": {\"Topic\": [1, 1, 1, 1, 1, 1, 1, 1, 1, 1, 1, 1, 1, 1, 1, 1, 1, 1, 1, 1, 1, 1, 1, 1, 1, 1, 1, 1, 1, 1, 1, 1, 1, 1, 1, 1, 1, 1, 1, 1, 1, 1, 1, 1, 1, 1, 1, 1, 1, 1, 1, 1, 1, 1, 1, 1, 1, 1, 1, 1, 1, 1, 1, 1, 1, 1, 1, 1, 1, 1, 1, 1, 1, 1, 1, 1, 1, 1, 1, 1, 1, 1, 1, 1, 1, 1, 1, 1, 1, 1, 1, 1, 1, 1, 1, 1, 1, 1, 1, 1, 1, 1, 1, 1, 1, 1, 1, 1, 1, 1, 1, 1, 1, 1, 1, 1, 1, 1, 1, 1, 1, 1, 1, 1, 1, 1], \"Freq\": [1.0528545202769486, 0.7309946034389534, 0.8916889798448551, 0.563319781826043, 1.0509558900225366, 1.3315025434548429, 0.9653000259268203, 0.5982943540286773, 1.0652796527118866, 1.146262156279742, 0.6492745277835302, 0.9750672039381444, 0.8291708716125618, 1.1311761588809495, 1.3501152551357676, 0.8161633163002241, 0.9398399866181213, 0.581518771520403, 0.6812430395174569, 0.5463972215406752, 0.9344934134335817, 0.710547767012881, 1.3169070188183178, 0.8222900986663597, 0.9946406780485523, 0.8302841022282366, 0.8726630898771619, 1.2215919327680342, 0.6599527194717176, 0.5401283473004824, 0.9647925586637143, 0.581222508255329, 0.5951795108422143, 0.9452047363184408, 1.0717890266431274, 0.9834748326370846, 0.7580002613389322, 0.9524386757436393, 0.7221557746635042, 1.1136181155589746, 0.7554806076822274, 0.9998133605895522, 0.962272084161518, 0.7364781538589317, 0.6340422747079737, 1.1701789244716134, 1.0588682648796113, 0.6507716285929936, 0.5824611179030876, 1.013569466888713, 0.8166680521099992, 0.850793058067213, 0.6938893434051152, 0.5101849985557698, 0.9602538116523999, 0.6464961130826871, 0.6965637511573081, 0.676004342879734, 1.0653431474689015, 0.749811033200204, 0.8024589456817836, 1.2291228275205524, 0.808431467701663, 0.6825781050864409, 0.5855530139823169, 0.8778532715554548, 1.1972212564622549, 0.5940771867717485, 0.8731669087610523, 0.6801780354367534, 0.5945362108711669, 1.0059972738802756, 0.8526265947639444, 0.907110623481988, 1.243433053177306, 1.0528347922690617, 0.8042041186417378, 0.6120544464010087, 0.777857198100273, 1.1278002288353755, 0.9938006270491586, 0.7304858229245567, 0.633307230263649, 1.097710091222479, 0.5460541650614196, 0.5786528861094555, 0.4970791046378123, 0.6227537065110627, 0.679042203484098, 1.0111878062998432, 1.0347074760588244, 0.8129983099732098, 0.6778049210595763, 0.8175096727401919, 0.8997434931845241, 0.8018374359168584, 0.6716290602815086, 0.6735540392840574, 0.8978990312889357, 0.8404352016348331, 0.7628417669235331, 0.7891087605653764, 0.8772770193042957, 0.7681197863128598, 0.8459652881007631, 0.5860047628342274, 0.5419905979040166, 0.8887966202996025, 0.5795428963325036, 0.807962999746025, 0.5259051107372001, 0.7991419891724577, 0.7353159460994994, 1.2546171212784107, 0.7821872306665237, 0.7088785416968282, 1.0523618986695062, 0.6881662701277547, 0.644407335700404, 0.6104582649006036, 0.7905314043671069, 0.6158971919366348, 1.1256802796049683, 0.7778032926565968, 0.9279652174919594, 0.7160845397197536], \"Term\": [\"A\", \"Apple\", \"Bitcoin\", \"CVE\", \"Cyber\", \"Evidence\", \"FA\", \"Facebook\", \"Google\", \"However\", \"ICO\", \"Internet\", \"Microsoft\", \"Toyota\", \"Travelex\", \"VPN\", \"Windows\", \"account\", \"across\", \"advice\", \"advisory\", \"affected\", \"airline\", \"alert\", \"analysis\", \"apply\", \"believed\", \"boarding\", \"botnet\", \"breach\", \"browser\", \"business\", \"campaign\", \"charity\", \"child\", \"cloud\", \"company\", \"computer\", \"connected\", \"consumer\", \"country\", \"crime\", \"criminal\", \"critical\", \"cryptocurrency\", \"currency\", \"current\", \"customer\", \"cyber\", \"development\", \"device\", \"discovered\", \"domain\", \"email\", \"employee\", \"ensure\", \"event\", \"exploit\", \"factor\", \"financial\", \"follow\", \"global\", \"group\", \"hacker\", \"important\", \"incident\", \"increased\", \"infected\", \"infection\", \"internet\", \"latest\", \"learn\", \"legitimate\", \"likely\", \"major\", \"malicious\", \"malware\", \"medium\", \"message\", \"mining\", \"network\", \"often\", \"online\", \"operation\", \"password\", \"patch\", \"phishing\", \"platform\", \"potential\", \"practicable\", \"privacy\", \"privilege\", \"product\", \"provided\", \"ransom\", \"ransomware\", \"released\", \"remain\", \"remote\", \"revealed\", \"school\", \"sensitive\", \"server\", \"service\", \"smart\", \"social\", \"software\", \"stolen\", \"survey\", \"suspicious\", \"system\", \"targeted\", \"threat\", \"trojan\", \"update\", \"updated\", \"value\", \"vendor\", \"version\", \"victim\", \"vulnerability\", \"vulnerable\", \"weakness\", \"website\", \"world\", \"would\"]}, \"R\": 30, \"lambda.step\": 0.01, \"plot.opts\": {\"xlab\": \"PC1\", \"ylab\": \"PC2\"}, \"topic.order\": [2, 17, 11, 12, 10, 7, 5, 15, 14, 4, 13, 1, 16, 8, 3, 6, 9]};\n",
       "if(typeof(window.LDAvis) !== \"undefined\"){\n",
       "   !function(LDAvis){\n",
       "       new LDAvis(\"#\" + \"ldavis_el1184026523197371044122418899\", ldavis_el1184026523197371044122418899_data);\n",
       "   }(LDAvis);\n",
       "}else{\n",
       "  require.config({paths: {d3: \"https://d3js.org/d3.v5\"}});\n",
       "  require([\"d3\"], function(d3){\n",
       "    window.d3 = d3;\n",
       "    $.getScript(\"https://cdn.jsdelivr.net/gh/bmabey/pyLDAvis/pyLDAvis/js/ldavis.v3.0.0.js\", function(){\n",
       "       new LDAvis(\"#\" + \"ldavis_el1184026523197371044122418899\", ldavis_el1184026523197371044122418899_data);\n",
       "    });\n",
       "  });\n",
       "}\n",
       "</script>"
      ],
      "text/plain": [
       "<IPython.core.display.HTML object>"
      ]
     },
     "execution_count": 36,
     "metadata": {},
     "output_type": "execute_result"
    }
   ],
   "source": [
    "lda_display = pyLDAvis.gensim.prepare(lda_model_tfidf_17, tfidf_corp, \n",
    "                                          dictionary, mds='mmds')\n",
    "pyLDAvis.display(lda_display, template_type='notebook')"
   ]
  },
  {
   "cell_type": "code",
   "execution_count": null,
   "metadata": {},
   "outputs": [],
   "source": []
  }
 ],
 "metadata": {
  "kernelspec": {
   "display_name": "Python 3",
   "language": "python",
   "name": "python3"
  },
  "language_info": {
   "codemirror_mode": {
    "name": "ipython",
    "version": 3
   },
   "file_extension": ".py",
   "mimetype": "text/x-python",
   "name": "python",
   "nbconvert_exporter": "python",
   "pygments_lexer": "ipython3",
   "version": "3.8.3"
  }
 },
 "nbformat": 4,
 "nbformat_minor": 4
}
