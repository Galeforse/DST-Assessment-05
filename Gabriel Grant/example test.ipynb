{
 "cells": [
  {
   "cell_type": "markdown",
   "id": "ed4b1801-62e0-41a0-a78b-f686e7343c95",
   "metadata": {},
   "source": [
    "This document follows through examples from the spark website."
   ]
  },
  {
   "cell_type": "code",
   "execution_count": 2,
   "id": "d1883656-aaeb-4527-8afd-286eb13f0cc6",
   "metadata": {},
   "outputs": [],
   "source": [
    "import pandas"
   ]
  },
  {
   "cell_type": "code",
   "execution_count": 9,
   "id": "3b264dba-a1a0-4f8d-bd76-dcd2f0ef0745",
   "metadata": {},
   "outputs": [],
   "source": [
    "from pyspark.ml.feature import CountVectorizer"
   ]
  },
  {
   "cell_type": "code",
   "execution_count": 3,
   "id": "6d1b94e6-1007-4c3a-b37c-3c04c001b96b",
   "metadata": {},
   "outputs": [],
   "source": [
    "# $example on$\n",
    "from pyspark.ml.clustering import LDA\n",
    "# $example off$\n",
    "from pyspark.sql import SparkSession\n",
    "\n",
    "if __name__ == \"__main__\":\n",
    "    spark = SparkSession \\\n",
    "        .builder \\\n",
    "        .appName(\"LDAExample\") \\\n",
    "        .getOrCreate()"
   ]
  },
  {
   "cell_type": "code",
   "execution_count": 7,
   "id": "7aa232bb-2108-44a4-a31c-291c6c745e72",
   "metadata": {},
   "outputs": [],
   "source": [
    "    # $example on$\n",
    "   # Loads data.\n",
    "dataset = spark.read.format(\"libsvm\").load(\"G:/Users/Gabriel/Documents/Education/UoB/GitHubDesktop/DST-Assessment-05/Gabriel Grant/data/sample_lda_libsvm_data.txt\")"
   ]
  },
  {
   "cell_type": "code",
   "execution_count": 8,
   "id": "a6b2dc66-b696-4a36-af77-24c7cab24059",
   "metadata": {},
   "outputs": [],
   "source": [
    "pdf = dataset.toPandas()"
   ]
  },
  {
   "cell_type": "code",
   "execution_count": 9,
   "id": "32877da0-f766-4f0f-9b76-7251ed7d7364",
   "metadata": {},
   "outputs": [
    {
     "data": {
      "text/html": [
       "<div>\n",
       "<style scoped>\n",
       "    .dataframe tbody tr th:only-of-type {\n",
       "        vertical-align: middle;\n",
       "    }\n",
       "\n",
       "    .dataframe tbody tr th {\n",
       "        vertical-align: top;\n",
       "    }\n",
       "\n",
       "    .dataframe thead th {\n",
       "        text-align: right;\n",
       "    }\n",
       "</style>\n",
       "<table border=\"1\" class=\"dataframe\">\n",
       "  <thead>\n",
       "    <tr style=\"text-align: right;\">\n",
       "      <th></th>\n",
       "      <th>label</th>\n",
       "      <th>features</th>\n",
       "    </tr>\n",
       "  </thead>\n",
       "  <tbody>\n",
       "    <tr>\n",
       "      <th>0</th>\n",
       "      <td>0.0</td>\n",
       "      <td>(1.0, 2.0, 6.0, 0.0, 2.0, 3.0, 1.0, 1.0, 0.0, ...</td>\n",
       "    </tr>\n",
       "    <tr>\n",
       "      <th>1</th>\n",
       "      <td>1.0</td>\n",
       "      <td>(1.0, 3.0, 0.0, 1.0, 3.0, 0.0, 0.0, 2.0, 0.0, ...</td>\n",
       "    </tr>\n",
       "    <tr>\n",
       "      <th>2</th>\n",
       "      <td>2.0</td>\n",
       "      <td>(1.0, 4.0, 1.0, 0.0, 0.0, 4.0, 9.0, 0.0, 1.0, ...</td>\n",
       "    </tr>\n",
       "    <tr>\n",
       "      <th>3</th>\n",
       "      <td>3.0</td>\n",
       "      <td>(2.0, 1.0, 0.0, 3.0, 0.0, 0.0, 5.0, 0.0, 2.0, ...</td>\n",
       "    </tr>\n",
       "    <tr>\n",
       "      <th>4</th>\n",
       "      <td>4.0</td>\n",
       "      <td>(3.0, 1.0, 1.0, 9.0, 3.0, 0.0, 2.0, 0.0, 0.0, ...</td>\n",
       "    </tr>\n",
       "    <tr>\n",
       "      <th>5</th>\n",
       "      <td>5.0</td>\n",
       "      <td>(4.0, 2.0, 0.0, 3.0, 4.0, 5.0, 1.0, 1.0, 1.0, ...</td>\n",
       "    </tr>\n",
       "    <tr>\n",
       "      <th>6</th>\n",
       "      <td>6.0</td>\n",
       "      <td>(2.0, 1.0, 0.0, 3.0, 0.0, 0.0, 5.0, 0.0, 2.0, ...</td>\n",
       "    </tr>\n",
       "    <tr>\n",
       "      <th>7</th>\n",
       "      <td>7.0</td>\n",
       "      <td>(1.0, 1.0, 1.0, 9.0, 2.0, 1.0, 2.0, 0.0, 0.0, ...</td>\n",
       "    </tr>\n",
       "    <tr>\n",
       "      <th>8</th>\n",
       "      <td>8.0</td>\n",
       "      <td>(4.0, 4.0, 0.0, 3.0, 4.0, 2.0, 1.0, 3.0, 0.0, ...</td>\n",
       "    </tr>\n",
       "    <tr>\n",
       "      <th>9</th>\n",
       "      <td>9.0</td>\n",
       "      <td>(2.0, 8.0, 2.0, 0.0, 3.0, 0.0, 2.0, 0.0, 2.0, ...</td>\n",
       "    </tr>\n",
       "    <tr>\n",
       "      <th>10</th>\n",
       "      <td>10.0</td>\n",
       "      <td>(1.0, 1.0, 1.0, 9.0, 0.0, 2.0, 2.0, 0.0, 0.0, ...</td>\n",
       "    </tr>\n",
       "    <tr>\n",
       "      <th>11</th>\n",
       "      <td>11.0</td>\n",
       "      <td>(4.0, 1.0, 0.0, 0.0, 4.0, 5.0, 1.0, 3.0, 0.0, ...</td>\n",
       "    </tr>\n",
       "  </tbody>\n",
       "</table>\n",
       "</div>"
      ],
      "text/plain": [
       "    label                                           features\n",
       "0     0.0  (1.0, 2.0, 6.0, 0.0, 2.0, 3.0, 1.0, 1.0, 0.0, ...\n",
       "1     1.0  (1.0, 3.0, 0.0, 1.0, 3.0, 0.0, 0.0, 2.0, 0.0, ...\n",
       "2     2.0  (1.0, 4.0, 1.0, 0.0, 0.0, 4.0, 9.0, 0.0, 1.0, ...\n",
       "3     3.0  (2.0, 1.0, 0.0, 3.0, 0.0, 0.0, 5.0, 0.0, 2.0, ...\n",
       "4     4.0  (3.0, 1.0, 1.0, 9.0, 3.0, 0.0, 2.0, 0.0, 0.0, ...\n",
       "5     5.0  (4.0, 2.0, 0.0, 3.0, 4.0, 5.0, 1.0, 1.0, 1.0, ...\n",
       "6     6.0  (2.0, 1.0, 0.0, 3.0, 0.0, 0.0, 5.0, 0.0, 2.0, ...\n",
       "7     7.0  (1.0, 1.0, 1.0, 9.0, 2.0, 1.0, 2.0, 0.0, 0.0, ...\n",
       "8     8.0  (4.0, 4.0, 0.0, 3.0, 4.0, 2.0, 1.0, 3.0, 0.0, ...\n",
       "9     9.0  (2.0, 8.0, 2.0, 0.0, 3.0, 0.0, 2.0, 0.0, 2.0, ...\n",
       "10   10.0  (1.0, 1.0, 1.0, 9.0, 0.0, 2.0, 2.0, 0.0, 0.0, ...\n",
       "11   11.0  (4.0, 1.0, 0.0, 0.0, 4.0, 5.0, 1.0, 3.0, 0.0, ..."
      ]
     },
     "execution_count": 9,
     "metadata": {},
     "output_type": "execute_result"
    }
   ],
   "source": [
    "pdf"
   ]
  },
  {
   "cell_type": "code",
   "execution_count": 6,
   "id": "ec362442-4394-4831-826f-761a70a89b9c",
   "metadata": {},
   "outputs": [
    {
     "name": "stdout",
     "output_type": "stream",
     "text": [
      "<class 'pyspark.sql.dataframe.DataFrame'>\n",
      "<class 'pandas.core.frame.DataFrame'>\n"
     ]
    }
   ],
   "source": [
    "print(type(dataset))\n",
    "print(type(pdf))"
   ]
  },
  {
   "cell_type": "code",
   "execution_count": 39,
   "id": "561b3e17-0f51-4c68-aa4e-ecff7f4d2bd3",
   "metadata": {},
   "outputs": [
    {
     "data": {
      "text/plain": [
       "SparseVector(11, {0: 1.0, 1: 2.0, 2: 6.0, 4: 2.0, 5: 3.0, 6: 1.0, 7: 1.0, 10: 3.0})"
      ]
     },
     "execution_count": 39,
     "metadata": {},
     "output_type": "execute_result"
    }
   ],
   "source": [
    "pdf.iloc[0,1]"
   ]
  },
  {
   "cell_type": "code",
   "execution_count": 10,
   "id": "c89d6143-74f6-44df-944f-0090155504dc",
   "metadata": {
    "tags": []
   },
   "outputs": [
    {
     "name": "stdout",
     "output_type": "stream",
     "text": [
      "The lower bound on the log likelihood of the entire corpus: -825.496506446713\n",
      "The upper bound on perplexity: 3.1749865632565886\n",
      "The topics described by their top-weighted terms:\n",
      "+-----+-----------+---------------------------------------------------------------+\n",
      "|topic|termIndices|termWeights                                                    |\n",
      "+-----+-----------+---------------------------------------------------------------+\n",
      "|0    |[6, 9, 7]  |[0.10767123632203073, 0.10199236986356748, 0.09654523704941002]|\n",
      "|1    |[4, 6, 1]  |[0.10598168657220601, 0.09940520744036675, 0.09583399488877938]|\n",
      "|2    |[6, 0, 3]  |[0.12208807663421029, 0.0994020256050733, 0.09443625719697706] |\n",
      "|3    |[10, 4, 2] |[0.10443364261791666, 0.09949740727419742, 0.09934688732133116]|\n",
      "|4    |[1, 7, 6]  |[0.10903533893585092, 0.105973084186274, 0.0972892636143374]   |\n",
      "|5    |[1, 9, 4]  |[0.18840634223007793, 0.17618877869602934, 0.0920274024386615] |\n",
      "|6    |[5, 4, 0]  |[0.15881607973368447, 0.14514785705282326, 0.13738541912517802]|\n",
      "|7    |[2, 4, 5]  |[0.10037444149504433, 0.09977675695102298, 0.0961544535784312] |\n",
      "|8    |[9, 3, 1]  |[0.10509191556533667, 0.09599721042055004, 0.09586374863139345]|\n",
      "|9    |[3, 9, 10] |[0.22656970611141364, 0.11588274095837427, 0.11025404695922608]|\n",
      "+-----+-----------+---------------------------------------------------------------+\n",
      "\n",
      "+-----+---------------------------------------------------------------+------------------------------------------------------------------------------------------------------------------------------------------------------------------------------------------------------------------------+\n",
      "|label|features                                                       |topicDistribution                                                                                                                                                                                                       |\n",
      "+-----+---------------------------------------------------------------+------------------------------------------------------------------------------------------------------------------------------------------------------------------------------------------------------------------------+\n",
      "|0.0  |(11,[0,1,2,4,5,6,7,10],[1.0,2.0,6.0,2.0,3.0,1.0,1.0,3.0])      |[0.004887558095056759,0.00488743047809864,0.004887623467203699,0.004887680347450262,0.0048875905600113964,0.543572714275794,0.41723130914683704,0.00488774612025473,0.004887584584888787,0.004982762924404702]          |\n",
      "|1.0  |(11,[0,1,3,4,7,10],[1.0,3.0,1.0,3.0,2.0,1.0])                  |[0.00815018181975994,0.008150140212852012,0.008150124278251137,0.008150205115282711,0.00815028400206749,0.2858067177703882,0.6488319959892789,0.008150180784601386,0.00815019136286978,0.008309978664648518]            |\n",
      "|2.0  |(11,[0,1,2,5,6,8,9],[1.0,4.0,1.0,4.0,9.0,1.0,2.0])             |[0.004249706652621921,0.004249582496821101,0.00424978929945304,0.004249503822474665,0.004249592756996094,0.6733410912846379,0.2925791827545586,0.004249612763599069,0.004249553380716248,0.004332384788121384]          |\n",
      "|3.0  |(11,[0,1,3,6,8,9,10],[2.0,1.0,3.0,5.0,2.0,3.0,9.0])            |[0.0037589854865003936,0.0037589098920402216,0.0037589783025063547,0.003758949278621254,0.003758889868299115,0.0038337398925705176,0.003904476338560843,0.003758938114693241,0.003758895544524657,0.9659492372816834]   |\n",
      "|4.0  |(11,[0,1,2,3,4,6,9,10],[3.0,1.0,1.0,9.0,3.0,2.0,1.0,3.0])      |[0.0040723240712029415,0.004072317858042047,0.0040723674337741125,0.004072339549958337,0.0040722609135162525,0.004153240959800167,0.00423061615728618,0.004072378952695056,0.004072307123298363,0.9631098469804265]     |\n",
      "|5.0  |(11,[0,1,3,4,5,6,7,8,9],[4.0,2.0,3.0,4.0,5.0,1.0,1.0,1.0,4.0]) |[0.0037589242920108797,0.0037588815520721223,0.0037588737822712498,0.0037588296727578243,0.0037588358881393124,0.0038337859395605276,0.7066869928993975,0.0037589005856287754,0.0037588906770590737,0.26316708471110273]|\n",
      "|6.0  |(11,[0,1,3,6,8,9,10],[2.0,1.0,3.0,5.0,2.0,2.0,9.0])            |[0.003909447151572275,0.0039093713403943065,0.00390944920799338,0.003909416193350641,0.003909354611725737,0.0039873894849062706,0.004060772887943812,0.003909399150171664,0.003909349638095037,0.9645860503338469]      |\n",
      "|7.0  |(11,[0,1,2,3,4,5,6,9,10],[1.0,1.0,1.0,9.0,2.0,1.0,2.0,1.0,3.0])|[0.004442713611947434,0.0044426938718953955,0.004442734650873651,0.004442720036308374,0.00444266569369383,0.004531042923675959,0.004615099480746747,0.004442758339752684,0.004442693040478973,0.959754878350627]        |\n",
      "|8.0  |(11,[0,1,3,4,5,6,7],[4.0,4.0,3.0,4.0,2.0,1.0,3.0])             |[0.0044427977485324835,0.004442776936804742,0.004442826759452994,0.004442744739248242,0.004442845199640385,0.004531174198280649,0.8443174904309795,0.004442778783357622,0.0044427984814092575,0.1200517667222942]       |\n",
      "|9.0  |(11,[0,1,2,4,6,8,9,10],[2.0,8.0,2.0,3.0,2.0,2.0,7.0,2.0])      |[0.003369696729973263,0.0033696563698673255,0.003369685346647848,0.0033696694978583306,0.0033696422460604823,0.9694769008646741,0.003500217860903072,0.003369694126810169,0.003369665689483393,0.003435171267722109]    |\n",
      "|10.0 |(11,[0,1,2,3,5,6,9,10],[1.0,1.0,1.0,9.0,2.0,2.0,3.0,3.0])      |[0.004249326885895191,0.004249267866934566,0.004249341978718132,0.004249291673243076,0.0042492922236421725,0.004333650013981386,0.004413915517736568,0.004249343257410311,0.004249328216682947,0.9615072423657557]      |\n",
      "|11.0 |(11,[0,1,4,5,6,7,9],[4.0,1.0,4.0,5.0,1.0,3.0,1.0])             |[0.004887259110025645,0.00488720091896415,0.00488720257998444,0.004887148149555302,0.004887193890409423,0.004984235777605883,0.9558231580692433,0.004887239795390502,0.004887199220074047,0.004982162488747035]         |\n",
      "+-----+---------------------------------------------------------------+------------------------------------------------------------------------------------------------------------------------------------------------------------------------------------------------------------------------+\n",
      "\n"
     ]
    }
   ],
   "source": [
    "# Trains a LDA model.\n",
    "lda = LDA(k=10, maxIter=10)\n",
    "model = lda.fit(dataset)\n",
    "\n",
    "ll = model.logLikelihood(dataset)\n",
    "lp = model.logPerplexity(dataset)\n",
    "print(\"The lower bound on the log likelihood of the entire corpus: \" + str(ll))\n",
    "print(\"The upper bound on perplexity: \" + str(lp))\n",
    "\n",
    "# Describe topics.\n",
    "topics = model.describeTopics(3)\n",
    "print(\"The topics described by their top-weighted terms:\")\n",
    "topics.show(truncate=False)\n",
    "\n",
    "# Shows the result\n",
    "transformed = model.transform(dataset)\n",
    "transformed.show(truncate=False)\n",
    "# $example off$\n",
    "\n",
    "spark.stop()"
   ]
  },
  {
   "cell_type": "code",
   "execution_count": 16,
   "id": "a7504936-9e69-4e86-a94a-2e11c8787b5a",
   "metadata": {},
   "outputs": [],
   "source": [
    "from pyspark.mllib.clustering import LDA, LDAModel\n",
    "from pyspark.mllib.linalg import Vectors\n",
    "from pyspark import SparkContext"
   ]
  },
  {
   "cell_type": "code",
   "execution_count": 17,
   "id": "9eecdad4-6954-477a-adbd-06f81c45721e",
   "metadata": {},
   "outputs": [],
   "source": [
    "sc = SparkContext(appName=\"LatentDirichletAllocationExample\")"
   ]
  },
  {
   "cell_type": "code",
   "execution_count": 19,
   "id": "74b5a20e-388b-4bc5-9da8-8e0da0a69510",
   "metadata": {},
   "outputs": [],
   "source": [
    "data = sc.textFile(\"data/sample_lda_data.txt\")\n",
    "parsedData = data.map(lambda line: Vectors.dense([float(x) for x in line.strip().split(' ')]))\n",
    "# Index documents with unique IDs\n",
    "corpus = parsedData.zipWithIndex().map(lambda x: [x[1], x[0]]).cache()"
   ]
  },
  {
   "cell_type": "code",
   "execution_count": 5,
   "id": "90052ddb-4ac9-4740-9544-434956c23ca4",
   "metadata": {
    "tags": []
   },
   "outputs": [],
   "source": [
    "df = spark.createDataFrame(\n",
    "   [(0, [\"a\", \"b\", \"c\"]), (1, [\"a\", \"b\", \"b\", \"c\", \"a\"])],\n",
    "   [\"label\", \"raw\"])"
   ]
  },
  {
   "cell_type": "code",
   "execution_count": 7,
   "id": "056e4ecb-cdb1-4580-8474-a25eefe16449",
   "metadata": {},
   "outputs": [
    {
     "data": {
      "text/plain": [
       "[Row(label=0, raw=['a', 'b', 'c']),\n",
       " Row(label=1, raw=['a', 'b', 'b', 'c', 'a'])]"
      ]
     },
     "execution_count": 7,
     "metadata": {},
     "output_type": "execute_result"
    }
   ],
   "source": [
    "df.collect()"
   ]
  },
  {
   "cell_type": "code",
   "execution_count": 10,
   "id": "50a4a132-872a-4300-86e1-d03451ef3a71",
   "metadata": {},
   "outputs": [],
   "source": [
    "cv = CountVectorizer()"
   ]
  },
  {
   "cell_type": "code",
   "execution_count": 11,
   "id": "067ac292-0aef-4d98-bf60-d6bf42ff9473",
   "metadata": {},
   "outputs": [
    {
     "data": {
      "text/plain": [
       "CountVectorizer_330c7f275071"
      ]
     },
     "execution_count": 11,
     "metadata": {},
     "output_type": "execute_result"
    }
   ],
   "source": [
    "cv.setInputCol(\"raw\")"
   ]
  },
  {
   "cell_type": "code",
   "execution_count": 13,
   "id": "ec281690-6e9c-421f-b657-aca6503b19e7",
   "metadata": {},
   "outputs": [
    {
     "data": {
      "text/plain": [
       "CountVectorizer_330c7f275071"
      ]
     },
     "execution_count": 13,
     "metadata": {},
     "output_type": "execute_result"
    }
   ],
   "source": [
    "cv.setOutputCol(\"vectors\")"
   ]
  },
  {
   "cell_type": "code",
   "execution_count": 14,
   "id": "a205bb22-6b6c-44e5-a6a2-14f4f862d650",
   "metadata": {},
   "outputs": [],
   "source": [
    "model = cv.fit(df)"
   ]
  },
  {
   "cell_type": "code",
   "execution_count": 15,
   "id": "2200a799-c8ac-44c7-9952-a6b8ec2d10c2",
   "metadata": {},
   "outputs": [
    {
     "data": {
      "text/plain": [
       "CountVectorizerModel: uid=CountVectorizer_330c7f275071, vocabularySize=3"
      ]
     },
     "execution_count": 15,
     "metadata": {},
     "output_type": "execute_result"
    }
   ],
   "source": [
    "model.setInputCol(\"raw\")"
   ]
  },
  {
   "cell_type": "code",
   "execution_count": 16,
   "id": "4aa67414-ff10-42e0-a46a-04fb6a8ed392",
   "metadata": {},
   "outputs": [
    {
     "name": "stdout",
     "output_type": "stream",
     "text": [
      "+-----+---------------+-------------------------+\n",
      "|label|raw            |vectors                  |\n",
      "+-----+---------------+-------------------------+\n",
      "|0    |[a, b, c]      |(3,[0,1,2],[1.0,1.0,1.0])|\n",
      "|1    |[a, b, b, c, a]|(3,[0,1,2],[2.0,2.0,1.0])|\n",
      "+-----+---------------+-------------------------+\n",
      "\n"
     ]
    }
   ],
   "source": [
    "model.transform(df).show(truncate=False)"
   ]
  }
 ],
 "metadata": {
  "kernelspec": {
   "display_name": "Python 3",
   "language": "python",
   "name": "python3"
  },
  "language_info": {
   "codemirror_mode": {
    "name": "ipython",
    "version": 3
   },
   "file_extension": ".py",
   "mimetype": "text/x-python",
   "name": "python",
   "nbconvert_exporter": "python",
   "pygments_lexer": "ipython3",
   "version": "3.8.8"
  }
 },
 "nbformat": 4,
 "nbformat_minor": 5
}
