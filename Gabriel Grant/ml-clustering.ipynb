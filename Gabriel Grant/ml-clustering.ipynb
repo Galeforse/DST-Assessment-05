{
 "cells": [
  {
   "cell_type": "markdown",
   "id": "6ef8f7c5-fe43-42af-8dec-c7411bf22d6e",
   "metadata": {},
   "source": [
    "Following the example from [the documentation](https://spark.apache.org/docs/latest/ml-clustering.html) using our data generated in [this file](https://github.com/Galeforse/DST-Assessment-05/blob/main/Gabriel%20Grant/rdd%20lda%20test.ipynb).\n",
    "\n",
    "We tried to form data that was similar to that used in examples using the following packages, however due to a lack of understanding of the intricacies of how the package worked and an overall lack of documentation, with only very simple examples. "
   ]
  },
  {
   "cell_type": "code",
   "execution_count": 19,
   "id": "79577d83-b583-4f97-b9f1-44d9c9a67c27",
   "metadata": {},
   "outputs": [],
   "source": [
    "from pyspark.ml.clustering import LDA\n",
    "from pyspark.sql import SparkSession\n",
    "from timeit import default_timer as timer"
   ]
  },
  {
   "cell_type": "code",
   "execution_count": 9,
   "id": "f1e2b19a-2649-4a02-9369-e5d90a417fb3",
   "metadata": {},
   "outputs": [],
   "source": [
    "spark = SparkSession \\\n",
    "        .builder \\\n",
    "        .appName(\"LDAExample\") \\\n",
    "        .getOrCreate()"
   ]
  },
  {
   "cell_type": "code",
   "execution_count": 12,
   "id": "698a1055-9589-45a9-88da-18b43d766500",
   "metadata": {},
   "outputs": [],
   "source": [
    "dataset = spark.read.format(\"libsvm\").load(\"list_5.txt\")"
   ]
  },
  {
   "cell_type": "code",
   "execution_count": 20,
   "id": "38a78463-9f12-496f-9859-c99e6d10e3f4",
   "metadata": {},
   "outputs": [
    {
     "name": "stdout",
     "output_type": "stream",
     "text": [
      "1.1151435000000447\n"
     ]
    }
   ],
   "source": [
    "start = timer()\n",
    "lda = LDA(k=10, maxIter=10)\n",
    "model = lda.fit(dataset)\n",
    "end=timer()\n",
    "print(end-start)"
   ]
  },
  {
   "cell_type": "code",
   "execution_count": 21,
   "id": "b62ee9ca-93f2-435b-9eee-a58aa1266dc2",
   "metadata": {},
   "outputs": [
    {
     "name": "stdout",
     "output_type": "stream",
     "text": [
      "The lower bound on the log likelihood of the entire corpus: -348456.94864570186\n",
      "The upper bound on perplexity: 7.933540108503753\n"
     ]
    }
   ],
   "source": [
    "ll = model.logLikelihood(dataset)\n",
    "lp = model.logPerplexity(dataset)\n",
    "print(\"The lower bound on the log likelihood of the entire corpus: \" + str(ll))\n",
    "print(\"The upper bound on perplexity: \" + str(lp))"
   ]
  },
  {
   "cell_type": "code",
   "execution_count": 22,
   "id": "af0b0512-93df-4003-9bbf-b167fffe0c5c",
   "metadata": {},
   "outputs": [
    {
     "name": "stdout",
     "output_type": "stream",
     "text": [
      "The topics described by their top-weighted terms:\n",
      "+-----+------------------+---------------------------------------------------------------------+\n",
      "|topic|termIndices       |termWeights                                                          |\n",
      "+-----+------------------+---------------------------------------------------------------------+\n",
      "|0    |[5384, 7808, 4889]|[1.8071344793072088E-4, 1.7468557168066586E-4, 1.7444340204665924E-4]|\n",
      "|1    |[44, 205, 1]      |[5.709302163278574E-4, 5.674887747192701E-4, 4.834755514660105E-4]   |\n",
      "|2    |[5609, 2367, 333] |[1.93624790934972E-4, 1.803966503836217E-4, 1.7542956385653924E-4]   |\n",
      "|3    |[84, 0, 43]       |[6.847017460755464E-4, 6.713926338285565E-4, 5.986902714824337E-4]   |\n",
      "|4    |[2492, 724, 6916] |[1.7883069079535424E-4, 1.7792207469456947E-4, 1.7690073960114556E-4]|\n",
      "|5    |[6959, 6397, 5916]|[1.7486058951234507E-4, 1.7192682032662939E-4, 1.7148399564456598E-4]|\n",
      "|6    |[3779, 4589, 5253]|[1.7507729202172428E-4, 1.7399153775893037E-4, 1.7289032144813713E-4]|\n",
      "|7    |[7118, 467, 4286] |[1.835480627763804E-4, 1.7942363954139668E-4, 1.7439780896784886E-4] |\n",
      "|8    |[1399, 6323, 1454]|[2.004215054060056E-4, 1.7726636206913109E-4, 1.7290358211598047E-4] |\n",
      "|9    |[0, 1, 8]         |[0.005724948924506796, 0.005216993185666419, 0.004758900641484921]   |\n",
      "+-----+------------------+---------------------------------------------------------------------+\n",
      "\n"
     ]
    }
   ],
   "source": [
    "topics = model.describeTopics(3)\n",
    "print(\"The topics described by their top-weighted terms:\")\n",
    "topics.show(truncate=False)"
   ]
  },
  {
   "cell_type": "code",
   "execution_count": 24,
   "id": "a510f429-76f8-4a41-aaff-b0ae60fdac4f",
   "metadata": {},
   "outputs": [],
   "source": [
    "import pickle\n",
    "from urllib.request import urlopen\n",
    "\n",
    "x = urlopen(\"https://github.com/Galeforse/DST-Assessment-05/raw/main/Data/TF_IDF_by_date.p\")\n",
    "tf_idf_date = pickle.load(x)\n",
    "\n",
    "x = urlopen(\"https://github.com/Galeforse/DST-Assessment-05/raw/main/Data/Report_counts_dict.p\")\n",
    "counts = pickle.load(x)"
   ]
  },
  {
   "cell_type": "code",
   "execution_count": 34,
   "id": "7b984e2c-5b7a-4e30-b9a3-db46cc7fe130",
   "metadata": {},
   "outputs": [
    {
     "name": "stdout",
     "output_type": "stream",
     "text": [
      "xbox legitimatelooking explainer\n"
     ]
    }
   ],
   "source": [
    "k=list(counts[\"23rd April 2021\"].keys())\n",
    "print(k[5348]+str(\" \")+k[7808]+str(\" \")+k[4889])"
   ]
  },
  {
   "cell_type": "code",
   "execution_count": 35,
   "id": "c3e18fee-cc0b-4e48-8eac-5ea653fcab19",
   "metadata": {},
   "outputs": [
    {
     "name": "stdout",
     "output_type": "stream",
     "text": [
      "portsmouths memory brands\n"
     ]
    }
   ],
   "source": [
    "print(k[44]+str(\" \")+k[205]+str(\" \")+k[1])"
   ]
  },
  {
   "cell_type": "code",
   "execution_count": 36,
   "id": "a22d80c2-24bf-427f-a07b-bad52e918e60",
   "metadata": {},
   "outputs": [
    {
     "name": "stdout",
     "output_type": "stream",
     "text": [
      "ofufsecurity sale cycon\n"
     ]
    }
   ],
   "source": [
    "print(k[5609]+str(\" \")+k[2367]+str(\" \")+k[333])"
   ]
  },
  {
   "cell_type": "markdown",
   "id": "97c98c96-db2a-4283-90ad-16f26b501b82",
   "metadata": {},
   "source": [
    "I'm confused as to how this package exactly works, it doesn't seem to learn LDA in a typical way; there is no use of dictionaries and therefore the topic clustering seems to be random and therefore not particularly interesting to draw conclusions from."
   ]
  },
  {
   "cell_type": "code",
   "execution_count": 37,
   "id": "43cc679f-f0c8-4ceb-814d-f70df4ef8f04",
   "metadata": {},
   "outputs": [
    {
     "name": "stdout",
     "output_type": "stream",
     "text": [
      "12.54532590000008\n"
     ]
    }
   ],
   "source": [
    "start = timer()\n",
    "lda = LDA(k=8, maxIter=200,optimizer=\"online\")\n",
    "model = lda.fit(dataset)\n",
    "end=timer()\n",
    "print(end-start)"
   ]
  },
  {
   "cell_type": "code",
   "execution_count": 38,
   "id": "892c25fd-3dae-4e2e-9e7d-d12ff9b7e912",
   "metadata": {},
   "outputs": [
    {
     "name": "stdout",
     "output_type": "stream",
     "text": [
      "The topics described by their top-weighted terms:\n",
      "+-----+------------------+---------------------------------------------------------------------+\n",
      "|topic|termIndices       |termWeights                                                          |\n",
      "+-----+------------------+---------------------------------------------------------------------+\n",
      "|0    |[5384, 7808, 4889]|[1.290520704780473E-4, 1.2888008045999652E-4, 1.2887317076941954E-4] |\n",
      "|1    |[205, 44, 243]    |[1.4576088119437717E-4, 1.4539663519808353E-4, 1.412127204843433E-4] |\n",
      "|2    |[5609, 2367, 333] |[1.294254108004063E-4, 1.2904698927121221E-4, 1.2890489660882971E-4] |\n",
      "|3    |[0, 1, 2]         |[0.009591771710910177, 0.007675046794296222, 0.0067276047055705385]  |\n",
      "|4    |[2492, 724, 6916] |[1.2900022086073022E-4, 1.2897426270194054E-4, 1.2894508428598487E-4]|\n",
      "|5    |[6959, 6397, 5916]|[1.288865244310082E-4, 1.288027269328787E-4, 1.2879007849391915E-4]  |\n",
      "|6    |[112, 250, 206]   |[1.380448651376551E-4, 1.3519446349803153E-4, 1.3512901990138607E-4] |\n",
      "|7    |[7118, 467, 4286] |[1.2913587915172172E-4, 1.290179841843679E-4, 1.2887432140968997E-4] |\n",
      "+-----+------------------+---------------------------------------------------------------------+\n",
      "\n"
     ]
    }
   ],
   "source": [
    "topics = model.describeTopics(3)\n",
    "print(\"The topics described by their top-weighted terms:\")\n",
    "topics.show(truncate=False)"
   ]
  },
  {
   "cell_type": "code",
   "execution_count": 39,
   "id": "301de73c-5238-4bc8-a011-69906bb5062d",
   "metadata": {},
   "outputs": [
    {
     "name": "stdout",
     "output_type": "stream",
     "text": [
      "memory portsmouths aid\n"
     ]
    }
   ],
   "source": [
    "print(k[205]+str(\" \")+k[44]+str(\" \")+k[243])"
   ]
  },
  {
   "cell_type": "code",
   "execution_count": 6,
   "id": "df597683-db6f-4af6-8217-4151e1da1d60",
   "metadata": {},
   "outputs": [],
   "source": [
    "spark.stop()"
   ]
  }
 ],
 "metadata": {
  "kernelspec": {
   "display_name": "Python 3",
   "language": "python",
   "name": "python3"
  },
  "language_info": {
   "codemirror_mode": {
    "name": "ipython",
    "version": 3
   },
   "file_extension": ".py",
   "mimetype": "text/x-python",
   "name": "python",
   "nbconvert_exporter": "python",
   "pygments_lexer": "ipython3",
   "version": "3.8.8"
  }
 },
 "nbformat": 4,
 "nbformat_minor": 5
}
