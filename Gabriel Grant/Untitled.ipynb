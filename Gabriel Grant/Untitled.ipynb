{
 "cells": [
  {
   "cell_type": "code",
   "execution_count": 1,
   "id": "d9c8eb18-3bd5-4942-a0f1-a981cfb3692f",
   "metadata": {},
   "outputs": [],
   "source": [
    "import datetime\n",
    "import pickle\n",
    "from urllib.request import urlopen\n",
    "import os\n",
    "import pandas as pd\n",
    "import numpy as np\n",
    "import gensim\n",
    "import pickle\n",
    "import matplotlib.pyplot as plt\n",
    "\n",
    "import heapq"
   ]
  },
  {
   "cell_type": "code",
   "execution_count": 13,
   "id": "6018d606-199f-4b2d-8ef5-37a4df78103b",
   "metadata": {},
   "outputs": [],
   "source": [
    "from pyspark.ml.clustering import LDA\n",
    "from pyspark.ml.feature import CountVectorizer\n",
    "from pyspark.sql import SparkSession\n",
    "\n",
    "spark = SparkSession \\\n",
    "    .builder \\\n",
    "    .appName(\"SparkSession\") \\\n",
    "    .getOrCreate()"
   ]
  },
  {
   "cell_type": "code",
   "execution_count": 2,
   "id": "8b295351-7b1d-4eac-9a60-e424ae6a94d5",
   "metadata": {},
   "outputs": [],
   "source": [
    "df = pd.read_csv('https://raw.githubusercontent.com/Galeforse/DST-Assessment-05/main/Data/NCSC%20Reports.csv')"
   ]
  },
  {
   "cell_type": "code",
   "execution_count": 3,
   "id": "429156ce-e99d-4cce-9c17-8a3c15865ec9",
   "metadata": {},
   "outputs": [],
   "source": [
    "import nltk\n",
    "from nltk.corpus import stopwords"
   ]
  },
  {
   "cell_type": "code",
   "execution_count": 4,
   "id": "d7a1329e-7b18-4e53-b6cf-0335f2a41c16",
   "metadata": {},
   "outputs": [
    {
     "data": {
      "text/plain": [
       "180"
      ]
     },
     "execution_count": 4,
     "metadata": {},
     "output_type": "execute_result"
    }
   ],
   "source": [
    "l1 = stopwords.words('english')\n",
    "l2 = ['have', 'with', 'cannot', 'all', 'more', 'less', 'fewer', 'if', 'from', 'new', 'old', 'be', 'This']\n",
    "l1.append(l2)\n",
    "lst1 = [' {} '.format(x) for x in l1]\n",
    "\n",
    "len(lst1)"
   ]
  },
  {
   "cell_type": "code",
   "execution_count": 5,
   "id": "0b74b509-78b9-4f60-b0e7-e4d5cbdfca0b",
   "metadata": {},
   "outputs": [],
   "source": [
    "df['Article'].replace(lst1, \" \", regex=True, inplace=True)\n",
    "df['Article'].replace(r'[^\\w\\s]', \" \", regex=True, inplace=True)\n",
    "df['Article'].replace('[0-9999999999]', \" \", regex=True, inplace=True)"
   ]
  },
  {
   "cell_type": "code",
   "execution_count": 9,
   "id": "ca77877f-efd6-4f8d-977a-6397f7abb37f",
   "metadata": {},
   "outputs": [],
   "source": [
    "df=df.drop(df.columns[0],axis=1)"
   ]
  },
  {
   "cell_type": "code",
   "execution_count": 11,
   "id": "adcd204c-1b59-4994-92a7-0ad2998485c3",
   "metadata": {},
   "outputs": [],
   "source": [
    "df=df.drop(\"Links\",axis=1)"
   ]
  },
  {
   "cell_type": "code",
   "execution_count": 12,
   "id": "80d4024a-2139-4379-a782-2e06f21dfb8a",
   "metadata": {},
   "outputs": [
    {
     "data": {
      "text/html": [
       "<div>\n",
       "<style scoped>\n",
       "    .dataframe tbody tr th:only-of-type {\n",
       "        vertical-align: middle;\n",
       "    }\n",
       "\n",
       "    .dataframe tbody tr th {\n",
       "        vertical-align: top;\n",
       "    }\n",
       "\n",
       "    .dataframe thead th {\n",
       "        text-align: right;\n",
       "    }\n",
       "</style>\n",
       "<table border=\"1\" class=\"dataframe\">\n",
       "  <thead>\n",
       "    <tr style=\"text-align: right;\">\n",
       "      <th></th>\n",
       "      <th>Title</th>\n",
       "      <th>Article</th>\n",
       "      <th>topics</th>\n",
       "    </tr>\n",
       "  </thead>\n",
       "  <tbody>\n",
       "    <tr>\n",
       "      <th>0</th>\n",
       "      <td>23rd April 2021</td>\n",
       "      <td>The NCSC aware malicious piece spyware   kno...</td>\n",
       "      <td>['Cyber attack', 'Cyber strategy', 'Education'...</td>\n",
       "    </tr>\n",
       "    <tr>\n",
       "      <th>1</th>\n",
       "      <td>16th April 2021</td>\n",
       "      <td>Cyber security researchers uncovered series ...</td>\n",
       "      <td>['Cyber strategy', 'Patching', 'Vulnerabilities']</td>\n",
       "    </tr>\n",
       "    <tr>\n",
       "      <th>2</th>\n",
       "      <td>12th April 2021</td>\n",
       "      <td>Cyber security researchers  Esentire  warned...</td>\n",
       "      <td>['Phishing', 'Social media', 'Personal data', ...</td>\n",
       "    </tr>\n",
       "    <tr>\n",
       "      <th>3</th>\n",
       "      <td>2nd April 2021</td>\n",
       "      <td>The UK education sector continues face incre...</td>\n",
       "      <td>['Education', 'Incident management', 'Secure d...</td>\n",
       "    </tr>\n",
       "    <tr>\n",
       "      <th>4</th>\n",
       "      <td>26th March 2021</td>\n",
       "      <td>Earlier month Microsoft confirmed sophistica...</td>\n",
       "      <td>['Cyber attack', 'Education', 'Mitigation', 'P...</td>\n",
       "    </tr>\n",
       "  </tbody>\n",
       "</table>\n",
       "</div>"
      ],
      "text/plain": [
       "             Title                                            Article  \\\n",
       "0  23rd April 2021    The NCSC aware malicious piece spyware   kno...   \n",
       "1  16th April 2021    Cyber security researchers uncovered series ...   \n",
       "2  12th April 2021    Cyber security researchers  Esentire  warned...   \n",
       "3   2nd April 2021    The UK education sector continues face incre...   \n",
       "4  26th March 2021    Earlier month Microsoft confirmed sophistica...   \n",
       "\n",
       "                                              topics  \n",
       "0  ['Cyber attack', 'Cyber strategy', 'Education'...  \n",
       "1  ['Cyber strategy', 'Patching', 'Vulnerabilities']  \n",
       "2  ['Phishing', 'Social media', 'Personal data', ...  \n",
       "3  ['Education', 'Incident management', 'Secure d...  \n",
       "4  ['Cyber attack', 'Education', 'Mitigation', 'P...  "
      ]
     },
     "execution_count": 12,
     "metadata": {},
     "output_type": "execute_result"
    }
   ],
   "source": [
    "df.head()"
   ]
  },
  {
   "cell_type": "code",
   "execution_count": 16,
   "id": "3dcb3072-2fbe-4fc9-82fd-6de756e69deb",
   "metadata": {},
   "outputs": [],
   "source": [
    "w_tokenizer = nltk.tokenize.WhitespaceTokenizer()\n",
    "lemmatizer = nltk.stem.WordNetLemmatizer()\n",
    "def lemmatize_text(text):\n",
    "    return [lemmatizer.lemmatize(w) for w in w_tokenizer.tokenize(text)]"
   ]
  },
  {
   "cell_type": "code",
   "execution_count": 19,
   "id": "8ea6cf32-5eda-4db1-bb7d-24684b94406d",
   "metadata": {},
   "outputs": [],
   "source": [
    "df_lem = df['Article'].apply(lemmatize_text)\n",
    "df_lem_list = df_lem.values.tolist()"
   ]
  },
  {
   "cell_type": "code",
   "execution_count": 23,
   "id": "cb5f7e9e-6136-4198-9dd5-b3f913401c93",
   "metadata": {},
   "outputs": [],
   "source": [
    "lister = [[] for x in range(len(df_lem))]\n",
    "for i in range(len(df_lem_list)):\n",
    "    l = df_lem_list[i]\n",
    "    for token in l:\n",
    "        if (len(token)>4 or token.isupper()):\n",
    "            lister[i].append(token)"
   ]
  },
  {
   "cell_type": "code",
   "execution_count": 27,
   "id": "2dcde9ca-dd18-4b93-aceb-a6ce315ad660",
   "metadata": {},
   "outputs": [
    {
     "data": {
      "text/plain": [
       "221"
      ]
     },
     "execution_count": 27,
     "metadata": {},
     "output_type": "execute_result"
    }
   ],
   "source": [
    "len(lister)"
   ]
  },
  {
   "cell_type": "code",
   "execution_count": 28,
   "id": "8a1e5683-7b36-4094-9df2-d0b7b2a11761",
   "metadata": {},
   "outputs": [
    {
     "data": {
      "text/plain": [
       "list"
      ]
     },
     "execution_count": 28,
     "metadata": {},
     "output_type": "execute_result"
    }
   ],
   "source": [
    "type(lister[0])"
   ]
  },
  {
   "cell_type": "code",
   "execution_count": 31,
   "id": "c29e2067-0358-4925-810b-9ddc7bf640c2",
   "metadata": {},
   "outputs": [],
   "source": [
    "dftemp = spark.createDataFrame([(df[\"Title\"][0],lister[0])],[\"label\",\"raw\"])"
   ]
  },
  {
   "cell_type": "code",
   "execution_count": 33,
   "id": "bc3b22e5-2797-4d9c-8fa8-82c68ed1e0d4",
   "metadata": {},
   "outputs": [],
   "source": [
    "for i in range(1,221):\n",
    "    newrow = spark.createDataFrame([(df[\"Title\"][i],lister[i])],[\"label\",\"raw\"])\n",
    "    dftemp = dftemp.union(newrow)"
   ]
  },
  {
   "cell_type": "code",
   "execution_count": 36,
   "id": "af4b6de8-b3dd-41c1-8e82-0416235de059",
   "metadata": {},
   "outputs": [
    {
     "data": {
      "text/plain": [
       "[Row(label='23rd April 2021', raw=['NCSC', 'aware', 'malicious', 'piece', 'spyware', 'known', 'FluBot', 'affecting', 'Android', 'phone', 'device', 'across', 'UK', 'spyware', 'installed', 'victim', 'receives', 'message', 'asking', 'install', 'tracking', 'missed', 'package', 'delivery', 'nScammers', 'cyber', 'criminal', 'regularly', 'exploit', 'known', 'trusted', 'brand', 'personal', 'FluBot', 'campaign', 'prime', 'example', 'nAndroid', 'urged', 'familiarise', 'guidance', 'vigilant', 'suspicious', 'looking', 'message', 'forwarded', 'Earlier', 'FireEye', 'published', 'saying', 'APT', 'actor', 'actively', 'exploiting', 'vulnerability', 'Pulse', 'Connect', 'VPN', 'appliance', 'follows', 'security', 'update', 'Pulse', 'Secure', 'recently', 'discovered', 'limited', 'number', 'customer', 'experienced', 'evidence', 'exploit', 'behaviour', 'Pulse', 'Connect', 'Secure', 'PCS', 'appliance', 'NCSC', 'aware', 'unauthenticated', 'remote', 'execution', 'vulnerability', 'affecting', 'Pulse', 'Connect', 'Secure', 'PCS', 'version', 'R', 'higher', 'CVE', 'published', 'advice', 'UK', 'organisation', 'using', 'PCS', 'VPN', 'appliance', 'international', 'partner', 'Department', 'Homeland', 'Security', 'DHS', 'Cybersecurity', 'Infrastructure', 'Security', 'Agency', 'CISA', 'published', 'Emergency', 'Directive', 'Alert', 'Media', 'reported', 'University', 'Portsmouth', 'IT', 'system', 'continue', 'offline', 'following', 'cyber', 'attack', 'university', 'posted', 'website', 'continues', 'impacted', 'cyber', 'incident', 'IT', 'system', 'remain', 'offline', 'whilst', 'expert', 'investigate', 'issue', 'securely', 'restore', 'IT', 'system', 'education', 'sector', 'appealing', 'target', 'cyber', 'criminal', 'encourage', 'network', 'defender', 'familiarise', 'NCSC', 'mitigating', 'malware', 'ransomware', 'guidance', 'rehearse', 'scenario', 'event', 'defence', 'breached', 'nSeparately', 'NCSC', 'recently', 'published', 'alert', 'direct', 'response', 'attack', 'education', 'sector', 'cyber', 'criminal']),\n",
       " Row(label='16th April 2021', raw=['Cyber', 'security', 'researcher', 'uncovered', 'series', 'DNS', 'vulnerability', 'could', 'impact', 'million', 'internet', 'connected', 'device', 'worldwide', 'nCalifornia', 'based', 'software', 'company', 'Forescout', 'partnered', 'JSOF', 'Research', 'disclosed', 'vulnerability', 'collectively', 'known', 'NAME', 'WRECK', 'affecting', 'popular', 'TCP', 'IP', 'stack', 'FreeBSD', 'Nucleus', 'NET', 'IPnet', 'nThese', 'vulnerability', 'enable', 'either', 'remote', 'execution', 'denial', 'service', 'sector', 'including', 'government', 'healthcare', 'manufacturing', 'retail', 'UK', 'alone', 'estimated', 'around', 'device', 'could', 'affected', 'Forescout', 'JSOF', 'recommended', 'series', 'mitigation', 'found', 'NCSC', 'published', 'guidance', 'management', 'public', 'domain', 'written', 'administrator', 'public', 'private', 'sector', 'organisation', 'nInformation', 'NCSC', 'Protective', 'DNS', 'PDNS', 'including', 'eligibility', 'criterion', 'found', 'NCSC', 'issued', 'alert', 'encouraging', 'organisation', 'install', 'security', 'update', 'released', 'Microsoft', 'Exchange', 'Server', 'practicable', 'scheduled', 'update', 'cycle', 'Microsoft', 'released', 'security', 'patch', 'address', 'critical', 'severity', 'vulnerability', 'version', 'Microsoft', 'Exchange', 'Server', 'nWhile', 'NCSC', 'information', 'suggest', 'vulnerability', 'actively', 'exploited', 'alert', 'recommends', 'organisation', 'first', 'install', 'latest', 'update', 'immediately', 'follows', 'reporting', 'month', 'vulnerability', 'Exchange', 'server', 'targeted', 'attacker', 'affected', 'version', 'Microsoft', 'Exchange', 'Server', 'nExchange', 'Server', 'nExchange', 'Server', 'nExchange', 'Server', 'nExchange', 'server', 'following', 'exploitation', 'vulnerability', 'month', 'NCSC', 'recommends', 'following', 'vendor', 'practice', 'advice', 'mitigation', 'vulnerability', 'nMore', 'information', 'installing', 'update', 'Microsoft', 'Exchange', 'Server', 'found', 'company', 'Exchange', 'UK', 'US', 'revealed', 'first', 'Russia', 'Foreign', 'Intelligence', 'Service', 'SVR', 'behind', 'series', 'cyber', 'intrusion', 'including', 'SolarWinds', 'compromise', 'National', 'Cyber', 'Security', 'Centre', 'NCSC', 'GCHQ', 'highly', 'likely', 'SVR', 'responsible', 'gaining', 'unauthorised', 'access', 'SolarWinds', 'Orion', 'software', 'subsequent', 'targeting', 'NCSC', 'previously', 'published', 'guidance', 'organisation', 'compromise', 'nDealing', 'SolarWinds', 'Orion', 'compromise', 'nIdentifying', 'suspicious', 'credential', 'usage', 'Foreign', 'Secretary', 'statement', 'action', 'GOV', 'UK'])]"
      ]
     },
     "execution_count": 36,
     "metadata": {},
     "output_type": "execute_result"
    }
   ],
   "source": [
    "dftemp.head(2)"
   ]
  },
  {
   "cell_type": "code",
   "execution_count": null,
   "id": "6e79d146-38b0-453d-900e-f4f733d765a7",
   "metadata": {},
   "outputs": [],
   "source": [
    "cv = CountVectorizer()\n",
    "cv.setInputCol(\"raw\")\n",
    "cv.setOutputCol(\"vectors\")\n",
    "df2 = cv.fit(dftemp)\n",
    "df2.setInputCol(\"raw\")\n",
    "df2.transform(dftemp)"
   ]
  },
  {
   "cell_type": "code",
   "execution_count": 15,
   "id": "1f7b623b-d5ea-4553-ae6e-c019084caa6d",
   "metadata": {},
   "outputs": [
    {
     "data": {
      "text/plain": [
       "'23rd April 2021'"
      ]
     },
     "execution_count": 15,
     "metadata": {},
     "output_type": "execute_result"
    }
   ],
   "source": [
    "df[\"Title\"][0]"
   ]
  }
 ],
 "metadata": {
  "kernelspec": {
   "display_name": "Python 3",
   "language": "python",
   "name": "python3"
  },
  "language_info": {
   "codemirror_mode": {
    "name": "ipython",
    "version": 3
   },
   "file_extension": ".py",
   "mimetype": "text/x-python",
   "name": "python",
   "nbconvert_exporter": "python",
   "pygments_lexer": "ipython3",
   "version": "3.8.8"
  }
 },
 "nbformat": 4,
 "nbformat_minor": 5
}
