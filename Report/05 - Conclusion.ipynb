{
 "cells": [
  {
   "cell_type": "markdown",
   "id": "1f65942b",
   "metadata": {},
   "source": [
    "# Conclusions\n"
   ]
  },
  {
   "cell_type": "markdown",
   "id": "3e001aeb",
   "metadata": {},
   "source": [
    "## Contributors\n",
    "\n",
    "Additional annotated and unannotated work can be find in our individual folders, but not all of this made it into the final report:\n",
    "\n",
    "[Alex Caian](https://github.com/Galeforse/DST-Assessment-04/tree/main/Alex%20Caian)\n",
    "    \n",
    "[Matt Corrie](https://github.com/Galeforse/DST-Assessment-04/tree/main/Matt%20Corrie)\n",
    "\n",
    "[Gabriel Grant](https://github.com/Galeforse/DST-Assessment-04/tree/main/Gabriel%20Grant)"
   ]
  }
 ],
 "metadata": {
  "kernelspec": {
   "display_name": "Python 3",
   "language": "python",
   "name": "python3"
  },
  "language_info": {
   "codemirror_mode": {
    "name": "ipython",
    "version": 3
   },
   "file_extension": ".py",
   "mimetype": "text/x-python",
   "name": "python",
   "nbconvert_exporter": "python",
   "pygments_lexer": "ipython3",
   "version": "3.8.8"
  }
 },
 "nbformat": 4,
 "nbformat_minor": 5
}
