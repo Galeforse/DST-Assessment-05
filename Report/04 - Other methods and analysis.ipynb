{
 "cells": [
  {
   "cell_type": "markdown",
   "id": "6ef8f7c5-fe43-42af-8dec-c7411bf22d6e",
   "metadata": {},
   "source": [
    "## Attempted implementation of the Spark mllib package\n",
    "\n",
    "Following the example from [the documentation](https://spark.apache.org/docs/latest/ml-clustering.html) using our data generated in [this file](https://github.com/Galeforse/DST-Assessment-05/blob/main/Gabriel%20Grant/rdd%20lda%20test.ipynb).\n",
    "\n",
    "We tried to form data that was similar to that used in examples using the following packages, however due to a lack of understanding of the intricacies of how the package worked and an overall lack of documentation, with only very simple examples. Therefore while we could convert our data to be used by this package after many failed attempts at trying to get something working and extensive web research of the problem, we still ended up not finding any particularly useful results.\n",
    "\n",
    "It was hard to implement this on our data without a wide variety of examples to cross reference with. I managed to convert the data to look like the data found in the examples however, in doing so the data seemed to lose meaning and also didn't seem to use any form of dictionary and therefore the topics seemed to be practically random with no relevance between any of the top terms.\n",
    "\n",
    "The previously linked file also contains attempts at another similar implementation of LDA using data formatted as RDDs, however once again converting our data from the very familiar Pandas dataframe to the far more confusing and unknown spark.DataFrame format. However this package would not work with data unless it was in the correct format that it wanted for processing. I tried re-running the pipeline that was used in a previous part of the report to filter and lemmatize the data and see if this process would allow us more suitable results however the amount of investment required to get this to work weighed up against the fact we had already managed to get SparkNLP running both well, and doing a very similar job to what we would be attempting here it didn't seem worth persuing this any further with the time we had available."
   ]
  },
  {
   "cell_type": "code",
   "execution_count": 1,
   "id": "79577d83-b583-4f97-b9f1-44d9c9a67c27",
   "metadata": {},
   "outputs": [],
   "source": [
    "from pyspark.ml.clustering import LDA\n",
    "from pyspark.sql import SparkSession\n",
    "from timeit import default_timer as timer"
   ]
  },
  {
   "cell_type": "markdown",
   "id": "2891bf20-53b9-4454-b96c-a57e90ada130",
   "metadata": {},
   "source": [
    "Here we create a SparkSession; in a confusing twist it seems that certain spark packages only work when a certain type of spark instance is running."
   ]
  },
  {
   "cell_type": "code",
   "execution_count": 2,
   "id": "f1e2b19a-2649-4a02-9369-e5d90a417fb3",
   "metadata": {},
   "outputs": [],
   "source": [
    "spark = SparkSession \\\n",
    "        .builder \\\n",
    "        .appName(\"LDAExample\") \\\n",
    "        .getOrCreate()"
   ]
  },
  {
   "cell_type": "code",
   "execution_count": 3,
   "id": "6912d857-ef6d-481d-8425-e2c5be111117",
   "metadata": {},
   "outputs": [
    {
     "data": {
      "text/plain": [
       "pyspark.sql.session.SparkSession"
      ]
     },
     "execution_count": 3,
     "metadata": {},
     "output_type": "execute_result"
    }
   ],
   "source": [
    "type(spark)"
   ]
  },
  {
   "cell_type": "markdown",
   "id": "aaf33616-e5bb-4263-8006-480ce6a201ec",
   "metadata": {},
   "source": [
    "As we see above this is listed as `pyspark.sql.session.SparkSession` this is different from the Spark we ran in the workshop which worked off of SparkContext, however they seem to be quite similar in function."
   ]
  },
  {
   "cell_type": "code",
   "execution_count": 4,
   "id": "698a1055-9589-45a9-88da-18b43d766500",
   "metadata": {},
   "outputs": [],
   "source": [
    "dataset = spark.read.format(\"libsvm\").load(\"list_5.txt\")"
   ]
  },
  {
   "cell_type": "code",
   "execution_count": 5,
   "id": "38a78463-9f12-496f-9859-c99e6d10e3f4",
   "metadata": {},
   "outputs": [
    {
     "name": "stdout",
     "output_type": "stream",
     "text": [
      "3.5073561999999985\n"
     ]
    }
   ],
   "source": [
    "start = timer()\n",
    "lda = LDA(k=10, maxIter=10)\n",
    "model = lda.fit(dataset)\n",
    "end=timer()\n",
    "print(end-start)"
   ]
  },
  {
   "cell_type": "code",
   "execution_count": 6,
   "id": "b62ee9ca-93f2-435b-9eee-a58aa1266dc2",
   "metadata": {},
   "outputs": [
    {
     "name": "stdout",
     "output_type": "stream",
     "text": [
      "The lower bound on the log likelihood of the entire corpus: -345816.93348027\n",
      "The upper bound on perplexity: 7.8734332106978275\n"
     ]
    }
   ],
   "source": [
    "ll = model.logLikelihood(dataset)\n",
    "lp = model.logPerplexity(dataset)\n",
    "print(\"The lower bound on the log likelihood of the entire corpus: \" + str(ll))\n",
    "print(\"The upper bound on perplexity: \" + str(lp))"
   ]
  },
  {
   "cell_type": "code",
   "execution_count": 7,
   "id": "af0b0512-93df-4003-9bbf-b167fffe0c5c",
   "metadata": {},
   "outputs": [
    {
     "name": "stdout",
     "output_type": "stream",
     "text": [
      "The topics described by their top-weighted terms:\n",
      "+-----+------------------+---------------------------------------------------------------------+\n",
      "|topic|termIndices       |termWeights                                                          |\n",
      "+-----+------------------+---------------------------------------------------------------------+\n",
      "|0    |[2, 3, 0]         |[2.1220105465170717E-4, 2.0555473265004118E-4, 1.9335447291411753E-4]|\n",
      "|1    |[2556, 7049, 3276]|[1.7550251272777155E-4, 1.753752814376797E-4, 1.7440217125461052E-4] |\n",
      "|2    |[299, 237, 474]   |[2.806766970068444E-4, 2.451525197585433E-4, 2.33487290749287E-4]    |\n",
      "|3    |[125, 101, 116]   |[4.88522444078734E-4, 4.7991674529694676E-4, 3.8305296586093734E-4]  |\n",
      "|4    |[299, 237, 474]   |[3.995415062855056E-4, 3.4246963533755864E-4, 3.221562049409293E-4]  |\n",
      "|5    |[1906, 2718, 1200]|[1.7357597850758746E-4, 1.701536244093257E-4, 1.694338983731133E-4]  |\n",
      "|6    |[0, 1, 7]         |[0.005858437384179291, 0.004798537356599913, 0.004138344897170852]   |\n",
      "|7    |[7634, 3340, 2338]|[1.8257875231772E-4, 1.7801922562497545E-4, 1.7240357994150723E-4]   |\n",
      "|8    |[299, 97, 2]      |[3.346066506177313E-4, 2.943280860510282E-4, 2.9054635549082756E-4]  |\n",
      "|9    |[4346, 1278, 5202]|[1.7543472117552628E-4, 1.7518038114197113E-4, 1.7331662142119715E-4]|\n",
      "+-----+------------------+---------------------------------------------------------------------+\n",
      "\n"
     ]
    }
   ],
   "source": [
    "topics = model.describeTopics(3)\n",
    "print(\"The topics described by their top-weighted terms:\")\n",
    "topics.show(truncate=False)"
   ]
  },
  {
   "cell_type": "code",
   "execution_count": 8,
   "id": "a510f429-76f8-4a41-aaff-b0ae60fdac4f",
   "metadata": {},
   "outputs": [],
   "source": [
    "import pickle\n",
    "from urllib.request import urlopen\n",
    "\n",
    "x = urlopen(\"https://github.com/Galeforse/DST-Assessment-05/raw/main/Data/Report_counts_dict.p\")\n",
    "counts = pickle.load(x)"
   ]
  },
  {
   "cell_type": "code",
   "execution_count": 16,
   "id": "7b984e2c-5b7a-4e30-b9a3-db46cc7fe130",
   "metadata": {},
   "outputs": [
    {
     "name": "stdout",
     "output_type": "stream",
     "text": [
      "spyware pcs ncsc\n"
     ]
    }
   ],
   "source": [
    "k=list(counts[\"23rd April 2021\"].keys())\n",
    "print(k[2]+str(\" \")+k[3]+str(\" \")+k[0])"
   ]
  },
  {
   "cell_type": "code",
   "execution_count": 17,
   "id": "c3e18fee-cc0b-4e48-8eac-5ea653fcab19",
   "metadata": {},
   "outputs": [
    {
     "name": "stdout",
     "output_type": "stream",
     "text": [
      "enterprises cyberscoop desire\n"
     ]
    }
   ],
   "source": [
    "print(k[2556]+str(\" \")+k[7049]+str(\" \")+k[3276])"
   ]
  },
  {
   "cell_type": "code",
   "execution_count": 18,
   "id": "a22d80c2-24bf-427f-a07b-bad52e918e60",
   "metadata": {},
   "outputs": [
    {
     "name": "stdout",
     "output_type": "stream",
     "text": [
      "recklessly harnessing discreet\n"
     ]
    }
   ],
   "source": [
    "print(k[299]+str(\" \")+k[237]+str(\" \")+k[474])"
   ]
  },
  {
   "cell_type": "markdown",
   "id": "97c98c96-db2a-4283-90ad-16f26b501b82",
   "metadata": {},
   "source": [
    "I'm confused as to how this package exactly works, it doesn't seem to learn LDA in a typical way; there is no use of dictionaries and therefore the topic clustering seems to be random and therefore not particularly interesting to draw conclusions from. This is mostly due to the fact we had to convert the data to vectorised counts to be used with the package; the package would not work with strings, constantly throwing errors, however without a link to the strings they represent it makes sense that there is no cohesion amongst the results. The examples used purely numerical data and when searching for further examples that used text, it was hard to find examples in Python, and most Python examples instead reccomended the use of the SparkNLP package."
   ]
  },
  {
   "cell_type": "code",
   "execution_count": 12,
   "id": "43cc679f-f0c8-4ceb-814d-f70df4ef8f04",
   "metadata": {},
   "outputs": [
    {
     "name": "stdout",
     "output_type": "stream",
     "text": [
      "13.224187699999998\n"
     ]
    }
   ],
   "source": [
    "start = timer()\n",
    "lda = LDA(k=8, maxIter=200,optimizer=\"online\")\n",
    "model = lda.fit(dataset)\n",
    "end=timer()\n",
    "print(end-start)"
   ]
  },
  {
   "cell_type": "code",
   "execution_count": 13,
   "id": "892c25fd-3dae-4e2e-9e7d-d12ff9b7e912",
   "metadata": {},
   "outputs": [
    {
     "name": "stdout",
     "output_type": "stream",
     "text": [
      "The topics described by their top-weighted terms:\n",
      "+-----+------------------+---------------------------------------------------------------------+\n",
      "|topic|termIndices       |termWeights                                                          |\n",
      "+-----+------------------+---------------------------------------------------------------------+\n",
      "|0    |[2, 3, 0]         |[1.2995505950716996E-4, 1.2976493016961992E-4, 1.2941609796973176E-4]|\n",
      "|1    |[2556, 7049, 3276]|[1.2890833247771697E-4, 1.2890468914848928E-4, 1.288768236700432E-4] |\n",
      "|2    |[299, 237, 474]   |[1.3462094242388926E-4, 1.324381390790369E-4, 1.3165791137095166E-4] |\n",
      "|3    |[125, 101, 2]     |[1.399312753735091E-4, 1.3858388877681222E-4, 1.376339746352359E-4]  |\n",
      "|4    |[299, 237, 474]   |[1.3623260160529753E-4, 1.338991027413662E-4, 1.3309318220729968E-4] |\n",
      "|5    |[1906, 2718, 1200]|[1.2885053889353682E-4, 1.2875273335901836E-4, 1.2873216471309296E-4]|\n",
      "|6    |[0, 1, 2]         |[0.00966607396047121, 0.0075833849721201755, 0.006542041077760093]   |\n",
      "|7    |[7634, 3340, 2338]|[1.2910984313651487E-4, 1.289793717404958E-4, 1.288186793745455E-4]  |\n",
      "+-----+------------------+---------------------------------------------------------------------+\n",
      "\n"
     ]
    }
   ],
   "source": [
    "topics = model.describeTopics(3)\n",
    "print(\"The topics described by their top-weighted terms:\")\n",
    "topics.show(truncate=False)"
   ]
  },
  {
   "cell_type": "code",
   "execution_count": 19,
   "id": "301de73c-5238-4bc8-a011-69906bb5062d",
   "metadata": {},
   "outputs": [
    {
     "name": "stdout",
     "output_type": "stream",
     "text": [
      "deployednfurther defense batik\n"
     ]
    }
   ],
   "source": [
    "print(k[1906]+str(\" \")+k[2718]+str(\" \")+k[1200])"
   ]
  },
  {
   "cell_type": "code",
   "execution_count": 15,
   "id": "df597683-db6f-4af6-8217-4151e1da1d60",
   "metadata": {},
   "outputs": [],
   "source": [
    "spark.stop()"
   ]
  },
  {
   "cell_type": "markdown",
   "id": "1c230e85-80cf-4ce8-bbac-9e2dbdfb1006",
   "metadata": {},
   "source": [
    "## Further Analysis of words and topics achieved in previous parts of the report\n",
    "\n",
    "Below we are going to replicate code from the first part of the report. We are going to compare these \"top words\" that we find with the topics that the original dataset assigned to each article date."
   ]
  },
  {
   "cell_type": "code",
   "execution_count": 10,
   "id": "b6d5bf54-fc43-41f5-b65c-ea98ae483fa9",
   "metadata": {},
   "outputs": [],
   "source": [
    "import pandas as pd\n",
    "import numpy as np\n",
    "import pickle\n",
    "from urllib.request import urlopen"
   ]
  },
  {
   "cell_type": "code",
   "execution_count": 6,
   "id": "d48ddedc-2177-4c55-bb4d-4cfdd16b9edc",
   "metadata": {},
   "outputs": [],
   "source": [
    "df = pd.read_csv('https://raw.githubusercontent.com/Galeforse/DST-Assessment-05/main/Data/NCSC%20Reports.csv')"
   ]
  },
  {
   "cell_type": "code",
   "execution_count": 7,
   "id": "4d7b6be3-780b-45b0-91df-c194b71d166c",
   "metadata": {},
   "outputs": [],
   "source": [
    "x = urlopen(\"https://github.com/Galeforse/DST-Assessment-05/raw/main/Data/Report_counts_dict.p\")\n",
    "report_counts_dict = pickle.load(x)\n",
    "x = urlopen(\"https://github.com/Galeforse/DST-Assessment-05/raw/main/Data/TF_IDF_by_date.p\")\n",
    "tf_idf_date_dict = pickle.load(x)"
   ]
  },
  {
   "cell_type": "code",
   "execution_count": 11,
   "id": "fee78dad-dd68-4bc4-8ad0-6939f00405e9",
   "metadata": {},
   "outputs": [],
   "source": [
    "z = np.zeros((220,11))\n",
    "top10_df = pd.DataFrame(z)\n",
    "top10_df.columns = ['Article','1st Word','2nd Word','3rd Word','4th Word','5th Word','6th Word','7th Word','8th Word','9th Word','10th Word']"
   ]
  },
  {
   "cell_type": "code",
   "execution_count": 12,
   "id": "39fb7161-b7a7-48d9-a86a-7e501be99cdf",
   "metadata": {},
   "outputs": [],
   "source": [
    "import heapq\n",
    "from nltk.corpus import words\n",
    "eng_words = words.words()"
   ]
  },
  {
   "cell_type": "code",
   "execution_count": 13,
   "id": "1ba5c15e-75a2-4561-8fb3-3a2bcec4113e",
   "metadata": {},
   "outputs": [],
   "source": [
    "Dates = list(tf_idf_date_dict.keys())\n",
    "\n",
    "for num, date in enumerate(Dates[0:220]):\n",
    "    top10_df.iloc[num,0] = date\n",
    "    tf_idf_dict = tf_idf_date_dict[date]\n",
    "    t10 = heapq.nlargest(10, tf_idf_dict, key=tf_idf_dict.get)\n",
    "    t10 = {word: tf_idf_dict[word] for word in t10}\n",
    "    t10 = [(k, v) for k, v in zip(t10.keys(), t10.values())]\n",
    "    t10 = sorted(t10, key=lambda x: x[1], reverse=True)\n",
    "    \n",
    "    counter = 0\n",
    "    for word, tfidf in t10:\n",
    "        if counter < 10:\n",
    "            if word in eng_words:\n",
    "                counter= counter+ 1\n",
    "                \n",
    "                top10_df.iloc[num,counter] = word\n",
    "                "
   ]
  },
  {
   "cell_type": "code",
   "execution_count": 14,
   "id": "7e6b1718-5832-49b7-a652-7f8afe1beb57",
   "metadata": {},
   "outputs": [
    {
     "data": {
      "text/html": [
       "<div>\n",
       "<style scoped>\n",
       "    .dataframe tbody tr th:only-of-type {\n",
       "        vertical-align: middle;\n",
       "    }\n",
       "\n",
       "    .dataframe tbody tr th {\n",
       "        vertical-align: top;\n",
       "    }\n",
       "\n",
       "    .dataframe thead th {\n",
       "        text-align: right;\n",
       "    }\n",
       "</style>\n",
       "<table border=\"1\" class=\"dataframe\">\n",
       "  <thead>\n",
       "    <tr style=\"text-align: right;\">\n",
       "      <th></th>\n",
       "      <th>Article</th>\n",
       "      <th>1st Word</th>\n",
       "      <th>2nd Word</th>\n",
       "      <th>3rd Word</th>\n",
       "      <th>4th Word</th>\n",
       "      <th>5th Word</th>\n",
       "      <th>6th Word</th>\n",
       "      <th>7th Word</th>\n",
       "      <th>8th Word</th>\n",
       "      <th>9th Word</th>\n",
       "      <th>10th Word</th>\n",
       "    </tr>\n",
       "  </thead>\n",
       "  <tbody>\n",
       "    <tr>\n",
       "      <th>0</th>\n",
       "      <td>23rd April 2021</td>\n",
       "      <td>pulse</td>\n",
       "      <td>connect</td>\n",
       "      <td>education</td>\n",
       "      <td>university</td>\n",
       "      <td>0.0</td>\n",
       "      <td>0.0</td>\n",
       "      <td>0.0</td>\n",
       "      <td>0.0</td>\n",
       "      <td>0.0</td>\n",
       "      <td>0.0</td>\n",
       "    </tr>\n",
       "    <tr>\n",
       "      <th>1</th>\n",
       "      <td>16th April 2021</td>\n",
       "      <td>exchange</td>\n",
       "      <td>server</td>\n",
       "      <td>0.0</td>\n",
       "      <td>0.0</td>\n",
       "      <td>0.0</td>\n",
       "      <td>0.0</td>\n",
       "      <td>0.0</td>\n",
       "      <td>0.0</td>\n",
       "      <td>0.0</td>\n",
       "      <td>0.0</td>\n",
       "    </tr>\n",
       "    <tr>\n",
       "      <th>2</th>\n",
       "      <td>12th April 2021</td>\n",
       "      <td>job</td>\n",
       "      <td>harmful</td>\n",
       "      <td>urge</td>\n",
       "      <td>0.0</td>\n",
       "      <td>0.0</td>\n",
       "      <td>0.0</td>\n",
       "      <td>0.0</td>\n",
       "      <td>0.0</td>\n",
       "      <td>0.0</td>\n",
       "      <td>0.0</td>\n",
       "    </tr>\n",
       "    <tr>\n",
       "      <th>3</th>\n",
       "      <td>2nd April 2021</td>\n",
       "      <td>education</td>\n",
       "      <td>primary</td>\n",
       "      <td>board</td>\n",
       "      <td>federation</td>\n",
       "      <td>misinformation</td>\n",
       "      <td>obviously</td>\n",
       "      <td>transformation</td>\n",
       "      <td>0.0</td>\n",
       "      <td>0.0</td>\n",
       "      <td>0.0</td>\n",
       "    </tr>\n",
       "    <tr>\n",
       "      <th>4</th>\n",
       "      <td>26th March 2021</td>\n",
       "      <td>digital</td>\n",
       "      <td>career</td>\n",
       "      <td>student</td>\n",
       "      <td>loss</td>\n",
       "      <td>alert</td>\n",
       "      <td>0.0</td>\n",
       "      <td>0.0</td>\n",
       "      <td>0.0</td>\n",
       "      <td>0.0</td>\n",
       "      <td>0.0</td>\n",
       "    </tr>\n",
       "    <tr>\n",
       "      <th>...</th>\n",
       "      <td>...</td>\n",
       "      <td>...</td>\n",
       "      <td>...</td>\n",
       "      <td>...</td>\n",
       "      <td>...</td>\n",
       "      <td>...</td>\n",
       "      <td>...</td>\n",
       "      <td>...</td>\n",
       "      <td>...</td>\n",
       "      <td>...</td>\n",
       "      <td>...</td>\n",
       "    </tr>\n",
       "    <tr>\n",
       "      <th>215</th>\n",
       "      <td>4th November 2016</td>\n",
       "      <td>media</td>\n",
       "      <td>social</td>\n",
       "      <td>according</td>\n",
       "      <td>commit</td>\n",
       "      <td>fraud</td>\n",
       "      <td>easy</td>\n",
       "      <td>0.0</td>\n",
       "      <td>0.0</td>\n",
       "      <td>0.0</td>\n",
       "      <td>0.0</td>\n",
       "    </tr>\n",
       "    <tr>\n",
       "      <th>216</th>\n",
       "      <td>28th October 2016</td>\n",
       "      <td>debit</td>\n",
       "      <td>bank</td>\n",
       "      <td>micro</td>\n",
       "      <td>trend</td>\n",
       "      <td>pager</td>\n",
       "      <td>0.0</td>\n",
       "      <td>0.0</td>\n",
       "      <td>0.0</td>\n",
       "      <td>0.0</td>\n",
       "      <td>0.0</td>\n",
       "    </tr>\n",
       "    <tr>\n",
       "      <th>217</th>\n",
       "      <td>24th October 2016</td>\n",
       "      <td>advertising</td>\n",
       "      <td>growing</td>\n",
       "      <td>number</td>\n",
       "      <td>skimming</td>\n",
       "      <td>0.0</td>\n",
       "      <td>0.0</td>\n",
       "      <td>0.0</td>\n",
       "      <td>0.0</td>\n",
       "      <td>0.0</td>\n",
       "      <td>0.0</td>\n",
       "    </tr>\n",
       "    <tr>\n",
       "      <th>218</th>\n",
       "      <td>17th October 2016</td>\n",
       "      <td>involved</td>\n",
       "      <td>discreet</td>\n",
       "      <td>variant</td>\n",
       "      <td>financial</td>\n",
       "      <td>banking</td>\n",
       "      <td>0.0</td>\n",
       "      <td>0.0</td>\n",
       "      <td>0.0</td>\n",
       "      <td>0.0</td>\n",
       "      <td>0.0</td>\n",
       "    </tr>\n",
       "    <tr>\n",
       "      <th>219</th>\n",
       "      <td>10th October 2016</td>\n",
       "      <td>android</td>\n",
       "      <td>legitimate</td>\n",
       "      <td>family</td>\n",
       "      <td>0.0</td>\n",
       "      <td>0.0</td>\n",
       "      <td>0.0</td>\n",
       "      <td>0.0</td>\n",
       "      <td>0.0</td>\n",
       "      <td>0.0</td>\n",
       "      <td>0.0</td>\n",
       "    </tr>\n",
       "  </tbody>\n",
       "</table>\n",
       "<p>220 rows × 11 columns</p>\n",
       "</div>"
      ],
      "text/plain": [
       "               Article     1st Word    2nd Word   3rd Word    4th Word  \\\n",
       "0      23rd April 2021        pulse     connect  education  university   \n",
       "1      16th April 2021     exchange      server        0.0         0.0   \n",
       "2      12th April 2021          job     harmful       urge         0.0   \n",
       "3       2nd April 2021    education     primary      board  federation   \n",
       "4      26th March 2021      digital      career    student        loss   \n",
       "..                 ...          ...         ...        ...         ...   \n",
       "215  4th November 2016        media      social  according      commit   \n",
       "216  28th October 2016        debit        bank      micro       trend   \n",
       "217  24th October 2016  advertising     growing     number    skimming   \n",
       "218  17th October 2016     involved    discreet    variant   financial   \n",
       "219  10th October 2016      android  legitimate     family         0.0   \n",
       "\n",
       "           5th Word   6th Word        7th Word 8th Word 9th Word  10th Word  \n",
       "0               0.0        0.0             0.0      0.0      0.0        0.0  \n",
       "1               0.0        0.0             0.0      0.0      0.0        0.0  \n",
       "2               0.0        0.0             0.0      0.0      0.0        0.0  \n",
       "3    misinformation  obviously  transformation      0.0      0.0        0.0  \n",
       "4             alert        0.0             0.0      0.0      0.0        0.0  \n",
       "..              ...        ...             ...      ...      ...        ...  \n",
       "215           fraud       easy             0.0      0.0      0.0        0.0  \n",
       "216           pager        0.0             0.0      0.0      0.0        0.0  \n",
       "217             0.0        0.0             0.0      0.0      0.0        0.0  \n",
       "218         banking        0.0             0.0      0.0      0.0        0.0  \n",
       "219             0.0        0.0             0.0      0.0      0.0        0.0  \n",
       "\n",
       "[220 rows x 11 columns]"
      ]
     },
     "execution_count": 14,
     "metadata": {},
     "output_type": "execute_result"
    }
   ],
   "source": [
    "top10_df"
   ]
  },
  {
   "cell_type": "code",
   "execution_count": 15,
   "id": "b0d9a134-e8d3-448f-99f4-1a032e436bea",
   "metadata": {},
   "outputs": [
    {
     "data": {
      "text/html": [
       "<div>\n",
       "<style scoped>\n",
       "    .dataframe tbody tr th:only-of-type {\n",
       "        vertical-align: middle;\n",
       "    }\n",
       "\n",
       "    .dataframe tbody tr th {\n",
       "        vertical-align: top;\n",
       "    }\n",
       "\n",
       "    .dataframe thead th {\n",
       "        text-align: right;\n",
       "    }\n",
       "</style>\n",
       "<table border=\"1\" class=\"dataframe\">\n",
       "  <thead>\n",
       "    <tr style=\"text-align: right;\">\n",
       "      <th></th>\n",
       "      <th>Unnamed: 0</th>\n",
       "      <th>Title</th>\n",
       "      <th>Article</th>\n",
       "      <th>topics</th>\n",
       "      <th>Links</th>\n",
       "    </tr>\n",
       "  </thead>\n",
       "  <tbody>\n",
       "    <tr>\n",
       "      <th>0</th>\n",
       "      <td>0</td>\n",
       "      <td>23rd April 2021</td>\n",
       "      <td>['The NCSC is aware that a malicious piece of ...</td>\n",
       "      <td>['Cyber attack', 'Cyber strategy', 'Education'...</td>\n",
       "      <td>https://www.ncsc.gov.uk/report/weekly-threat-r...</td>\n",
       "    </tr>\n",
       "    <tr>\n",
       "      <th>1</th>\n",
       "      <td>1</td>\n",
       "      <td>16th April 2021</td>\n",
       "      <td>['Cyber security researchers have uncovered a ...</td>\n",
       "      <td>['Cyber strategy', 'Patching', 'Vulnerabilities']</td>\n",
       "      <td>https://www.ncsc.gov.uk/report/weekly-threat-r...</td>\n",
       "    </tr>\n",
       "    <tr>\n",
       "      <th>2</th>\n",
       "      <td>2</td>\n",
       "      <td>12th April 2021</td>\n",
       "      <td>['Cyber security researchers, Esentire, have w...</td>\n",
       "      <td>['Phishing', 'Social media', 'Personal data', ...</td>\n",
       "      <td>https://www.ncsc.gov.uk/report/weekly-threat-r...</td>\n",
       "    </tr>\n",
       "    <tr>\n",
       "      <th>3</th>\n",
       "      <td>3</td>\n",
       "      <td>2nd April 2021</td>\n",
       "      <td>['The UK education sector continues to face an...</td>\n",
       "      <td>['Education', 'Incident management', 'Secure d...</td>\n",
       "      <td>https://www.ncsc.gov.uk/report/weekly-threat-r...</td>\n",
       "    </tr>\n",
       "    <tr>\n",
       "      <th>4</th>\n",
       "      <td>4</td>\n",
       "      <td>26th March 2021</td>\n",
       "      <td>['Earlier this month Microsoft confirmed that ...</td>\n",
       "      <td>['Cyber attack', 'Education', 'Mitigation', 'P...</td>\n",
       "      <td>https://www.ncsc.gov.uk/report/weekly-threat-r...</td>\n",
       "    </tr>\n",
       "  </tbody>\n",
       "</table>\n",
       "</div>"
      ],
      "text/plain": [
       "   Unnamed: 0            Title  \\\n",
       "0           0  23rd April 2021   \n",
       "1           1  16th April 2021   \n",
       "2           2  12th April 2021   \n",
       "3           3   2nd April 2021   \n",
       "4           4  26th March 2021   \n",
       "\n",
       "                                             Article  \\\n",
       "0  ['The NCSC is aware that a malicious piece of ...   \n",
       "1  ['Cyber security researchers have uncovered a ...   \n",
       "2  ['Cyber security researchers, Esentire, have w...   \n",
       "3  ['The UK education sector continues to face an...   \n",
       "4  ['Earlier this month Microsoft confirmed that ...   \n",
       "\n",
       "                                              topics  \\\n",
       "0  ['Cyber attack', 'Cyber strategy', 'Education'...   \n",
       "1  ['Cyber strategy', 'Patching', 'Vulnerabilities']   \n",
       "2  ['Phishing', 'Social media', 'Personal data', ...   \n",
       "3  ['Education', 'Incident management', 'Secure d...   \n",
       "4  ['Cyber attack', 'Education', 'Mitigation', 'P...   \n",
       "\n",
       "                                               Links  \n",
       "0  https://www.ncsc.gov.uk/report/weekly-threat-r...  \n",
       "1  https://www.ncsc.gov.uk/report/weekly-threat-r...  \n",
       "2  https://www.ncsc.gov.uk/report/weekly-threat-r...  \n",
       "3  https://www.ncsc.gov.uk/report/weekly-threat-r...  \n",
       "4  https://www.ncsc.gov.uk/report/weekly-threat-r...  "
      ]
     },
     "execution_count": 15,
     "metadata": {},
     "output_type": "execute_result"
    }
   ],
   "source": [
    "df.head()"
   ]
  },
  {
   "cell_type": "markdown",
   "id": "e19a7311-b0ae-44bd-b5c1-2de6cfe2f435",
   "metadata": {},
   "source": [
    "Below we will take a few entries in the dataset and compare the top words with the topics that are described in the original dataset."
   ]
  },
  {
   "cell_type": "code",
   "execution_count": 16,
   "id": "543c4265-621e-43e3-ac54-33367b0095bc",
   "metadata": {},
   "outputs": [
    {
     "name": "stdout",
     "output_type": "stream",
     "text": [
      "Article      23rd April 2021\n",
      "1st Word               pulse\n",
      "2nd Word             connect\n",
      "3rd Word           education\n",
      "4th Word          university\n",
      "5th Word                 0.0\n",
      "6th Word                 0.0\n",
      "7th Word                 0.0\n",
      "8th Word                 0.0\n",
      "9th Word                 0.0\n",
      "10th Word                0.0\n",
      "Name: 0, dtype: object\n",
      "['Cyber attack', 'Cyber strategy', 'Education', 'Vulnerabilities', 'Secure design and development', 'Research & ', 'Academia']\n"
     ]
    }
   ],
   "source": [
    "print(top10_df.iloc[0])\n",
    "print(df[\"topics\"][0])"
   ]
  },
  {
   "cell_type": "markdown",
   "id": "bae46f50-3bb6-4007-b749-ff74c23fc5ee",
   "metadata": {},
   "source": [
    "Here we can see the relatively strong correlation between education. It is worth noting that all of these topics will involve cyber in some way as that is the data we were working with in order to make have our project be relevant in the cybersecurity field."
   ]
  },
  {
   "cell_type": "code",
   "execution_count": 17,
   "id": "15824c83-50e0-48f4-8842-4ca1fcdc56f7",
   "metadata": {},
   "outputs": [
    {
     "name": "stdout",
     "output_type": "stream",
     "text": [
      "Article      16th April 2021\n",
      "1st Word            exchange\n",
      "2nd Word              server\n",
      "3rd Word                 0.0\n",
      "4th Word                 0.0\n",
      "5th Word                 0.0\n",
      "6th Word                 0.0\n",
      "7th Word                 0.0\n",
      "8th Word                 0.0\n",
      "9th Word                 0.0\n",
      "10th Word                0.0\n",
      "Name: 1, dtype: object\n",
      "['Cyber strategy', 'Patching', 'Vulnerabilities']\n"
     ]
    }
   ],
   "source": [
    "print(top10_df.iloc[1])\n",
    "print(df[\"topics\"][1])"
   ]
  },
  {
   "cell_type": "code",
   "execution_count": 18,
   "id": "80df82c0-4c7c-4c0a-8764-b30c5a0d8c57",
   "metadata": {},
   "outputs": [
    {
     "name": "stdout",
     "output_type": "stream",
     "text": [
      "Article      12th April 2021\n",
      "1st Word                 job\n",
      "2nd Word             harmful\n",
      "3rd Word                urge\n",
      "4th Word                 0.0\n",
      "5th Word                 0.0\n",
      "6th Word                 0.0\n",
      "7th Word                 0.0\n",
      "8th Word                 0.0\n",
      "9th Word                 0.0\n",
      "10th Word                0.0\n",
      "Name: 2, dtype: object\n",
      "['Phishing', 'Social media', 'Personal data', 'Vulnerabilities']\n"
     ]
    }
   ],
   "source": [
    "print(top10_df.iloc[2])\n",
    "print(df[\"topics\"][2])"
   ]
  },
  {
   "cell_type": "code",
   "execution_count": 19,
   "id": "cb87d155-1bd5-4f9a-8c00-0c616df0b3a8",
   "metadata": {},
   "outputs": [
    {
     "name": "stdout",
     "output_type": "stream",
     "text": [
      "Article      2nd April 2021\n",
      "1st Word          education\n",
      "2nd Word            primary\n",
      "3rd Word              board\n",
      "4th Word         federation\n",
      "5th Word     misinformation\n",
      "6th Word          obviously\n",
      "7th Word     transformation\n",
      "8th Word                0.0\n",
      "9th Word                0.0\n",
      "10th Word               0.0\n",
      "Name: 3, dtype: object\n",
      "['Education', 'Incident management', 'Secure design and development']\n"
     ]
    }
   ],
   "source": [
    "print(top10_df.iloc[3])\n",
    "print(df[\"topics\"][3])"
   ]
  },
  {
   "cell_type": "markdown",
   "id": "711b6743-b8d7-446d-8549-2f4e54ff507c",
   "metadata": {},
   "source": [
    "Some articles seem to mention many words more than once that may not seem overly relevant to the topics shown but perhaps when reading the article we would see how relevant these are:"
   ]
  },
  {
   "cell_type": "code",
   "execution_count": 25,
   "id": "fc6db030-2601-40c0-9eb9-062405bf29c1",
   "metadata": {},
   "outputs": [
    {
     "data": {
      "text/plain": [
       "\"['The UK education sector continues to face an increased threat from ransomware attacks with a notable rise since students returned to the classroom.\\\\nRansomware is a type of malware which can make data or systems unusable until the victim makes a payment. This can obviously have a huge impact in an education environment.\\\\nThe Harris Federation, who run a number of primary and secondary schools in the London area, issued a statement confirming they had been victims of a ransomware attack. They have been working with the NCSC and the NCA since the incident.\\\\nLast week we re-issued an alert to the education establishments with updated advice and guidance following the trend of attacks against the sector. The original alert was published in September 2020 and schools, colleges and universities are urged to read and use the advice where possible.\\\\nThe NCSC has also published a number of resources for schools to help them improve their cyber security.', 'A recent report from PwC cites the increase in cyber attacks and spread of misinformation online as top issues globally for CEOs.\\\\nMany companies had their digital transformation underway, but the coronavirus pandemic has accelerated their move to operating online. Although the majority in the report give cyber security as a primary concern, many are not planning on additional investment in their online security and data privacy.\\\\nThe NCSC has created the Board Toolkit to encourage essential discussions about cyber security to take place between the Board and their technical experts.']\""
      ]
     },
     "execution_count": 25,
     "metadata": {},
     "output_type": "execute_result"
    }
   ],
   "source": [
    "df[\"Article\"][3]"
   ]
  },
  {
   "cell_type": "markdown",
   "id": "e2f47bb2-8cde-4e12-b82d-c9ce719f1f52",
   "metadata": {},
   "source": [
    "This paragraph is quite short, highlighting a potential bias in topic modelling as it's sometimes hard to group together a topic out of just a few sentences."
   ]
  },
  {
   "cell_type": "code",
   "execution_count": 20,
   "id": "6f2a83dd-4eab-4915-a8f2-0be1fabeb7f8",
   "metadata": {},
   "outputs": [
    {
     "name": "stdout",
     "output_type": "stream",
     "text": [
      "Article      3rd April 2020\n",
      "1st Word        unfortunate\n",
      "2nd Word           hospital\n",
      "3rd Word           convince\n",
      "4th Word              click\n",
      "5th Word            spotted\n",
      "6th Word                try\n",
      "7th Word              local\n",
      "8th Word                0.0\n",
      "9th Word                0.0\n",
      "10th Word               0.0\n",
      "Name: 52, dtype: object\n",
      "['Cyber threat', 'Phishing', 'Security monitoring', 'Vulnerabilities']\n"
     ]
    }
   ],
   "source": [
    "print(top10_df.iloc[52])\n",
    "print(df[\"topics\"][52])"
   ]
  },
  {
   "cell_type": "code",
   "execution_count": 21,
   "id": "264a1602-e9db-4f67-a828-7dabc5e7ad6c",
   "metadata": {},
   "outputs": [
    {
     "name": "stdout",
     "output_type": "stream",
     "text": [
      "Article      29th November 2019\n",
      "1st Word                weekend\n",
      "2nd Word                   shop\n",
      "3rd Word                  black\n",
      "4th Word               shopping\n",
      "5th Word                   help\n",
      "6th Word                    0.0\n",
      "7th Word                    0.0\n",
      "8th Word                    0.0\n",
      "9th Word                    0.0\n",
      "10th Word                   0.0\n",
      "Name: 69, dtype: object\n",
      "['Cyber attack', 'Cyber threat', 'Personal data', 'Security monitoring', 'Vulnerabilities', 'People-centred security', 'Mitigation']\n"
     ]
    }
   ],
   "source": [
    "print(top10_df.iloc[69])\n",
    "print(df[\"topics\"][69])"
   ]
  },
  {
   "cell_type": "markdown",
   "id": "145cb194-9308-4048-b907-117856e4678d",
   "metadata": {},
   "source": [
    "From the above I draw the conclusion that this article is probably about Black Friday sales, of which increasingly more are taking place online. All of the topics suggested here, particularly \"People-centred security\" are relevant. I'll quickly check the article to see if this is the case and whether using this method has given us a good impression of what kind of topics are taking place, which we see is true!"
   ]
  },
  {
   "cell_type": "code",
   "execution_count": 26,
   "id": "481a9d85-0dde-47ee-816d-7ea332ed74bd",
   "metadata": {},
   "outputs": [
    {
     "data": {
      "text/plain": [
       "\"['The Black Friday and Cyber Monday sales are now upon us with consumers set to be tempted with bargains this weekend and beyond.\\\\nHowever, with the promise of ‘unmissable’ deals there is also an important message for consumers to consider. Ensuring your online accounts are as secure as possible before making the most of those offers is crucial and will help to defend against cyber criminals.\\\\nLast year we wrote a blog post about the increased risk of cyber criminals taking advantage of online shoppers at this time of year. We have also published guidance about how to shop online securely. This advice will help you avoid scams and help you with next steps if you have been unlucky enough to fall victim to cyber crime. \\\\nTo help online shoppers we have also been running a social media campaign which uses the 8 tips in our online shopping guidance. The campaign will help customers to focus on three important areas: preparing to shop, while you are shopping and after you’ve shopped.   \\\\nSo, before you go hunting the best deals take time to look at the guidance and connect with our social media platforms to ensure you are prepared for all the madness of Black Friday and Cyber Monday:\\\\nTwitter (@NCSC)\\\\nInstagram (@cyberhq)\\\\nLinkedIn (National Cyber Security Centre)', 'Over a million T-Mobile customers have been affected following a data breach conducted by a cyber criminal.\\\\nThe telecoms company confirmed last weekend that the malicious actor had obtained personal data, although financial data and passwords were not stolen.\\\\nIn it’s disclosure notice, T-Mobile confirmed it had discovered and shut down the unauthorised access and had reported the incident to authorities. \\\\nEven if passwords or financial data have not been stolen, it is still possible for criminals to use personal data steal identities and gain access to accounts. It’s important to remain aware of potential phishing scams following data breaches. The NCSC’s advice about this is worth reading following any data breaches.']\""
      ]
     },
     "execution_count": 26,
     "metadata": {},
     "output_type": "execute_result"
    }
   ],
   "source": [
    "df[\"Article\"][69]"
   ]
  },
  {
   "cell_type": "code",
   "execution_count": 22,
   "id": "f1f5d930-4abd-4f9b-a592-53a2d792da3a",
   "metadata": {},
   "outputs": [
    {
     "name": "stdout",
     "output_type": "stream",
     "text": [
      "Article      16th February 2018\n",
      "1st Word                 mining\n",
      "2nd Word                   urge\n",
      "3rd Word               forensic\n",
      "4th Word                    0.0\n",
      "5th Word                    0.0\n",
      "6th Word                    0.0\n",
      "7th Word                    0.0\n",
      "8th Word                    0.0\n",
      "9th Word                    0.0\n",
      "10th Word                   0.0\n",
      "Name: 154, dtype: object\n",
      "['Cyber threat']\n"
     ]
    }
   ],
   "source": [
    "print(top10_df.iloc[154])\n",
    "print(df[\"topics\"][154])"
   ]
  },
  {
   "cell_type": "code",
   "execution_count": 23,
   "id": "981f595d-c265-405c-aaef-405891fc84dd",
   "metadata": {},
   "outputs": [
    {
     "data": {
      "text/html": [
       "<div>\n",
       "<style scoped>\n",
       "    .dataframe tbody tr th:only-of-type {\n",
       "        vertical-align: middle;\n",
       "    }\n",
       "\n",
       "    .dataframe tbody tr th {\n",
       "        vertical-align: top;\n",
       "    }\n",
       "\n",
       "    .dataframe thead th {\n",
       "        text-align: right;\n",
       "    }\n",
       "</style>\n",
       "<table border=\"1\" class=\"dataframe\">\n",
       "  <thead>\n",
       "    <tr style=\"text-align: right;\">\n",
       "      <th></th>\n",
       "      <th>Unnamed: 0</th>\n",
       "      <th>Title</th>\n",
       "      <th>Article</th>\n",
       "      <th>topics</th>\n",
       "      <th>Links</th>\n",
       "    </tr>\n",
       "  </thead>\n",
       "  <tbody>\n",
       "    <tr>\n",
       "      <th>201</th>\n",
       "      <td>201</td>\n",
       "      <td>3rd March 2017</td>\n",
       "      <td>['Drone-enabled hacking\\nAn organisation’s mos...</td>\n",
       "      <td>['Cyber threat']</td>\n",
       "      <td>https://www.ncsc.gov.uk/report/weekly-threat-r...</td>\n",
       "    </tr>\n",
       "    <tr>\n",
       "      <th>202</th>\n",
       "      <td>202</td>\n",
       "      <td>24th February 2017</td>\n",
       "      <td>['Ex-employee threats to business\\nA disgruntl...</td>\n",
       "      <td>['Cyber threat']</td>\n",
       "      <td>https://www.ncsc.gov.uk/report/weekly-threat-r...</td>\n",
       "    </tr>\n",
       "    <tr>\n",
       "      <th>203</th>\n",
       "      <td>203</td>\n",
       "      <td>17th February 2017</td>\n",
       "      <td>['Official Launch of the National Cyber Securi...</td>\n",
       "      <td>['Cyber threat']</td>\n",
       "      <td>https://www.ncsc.gov.uk/report/weekly-threat-r...</td>\n",
       "    </tr>\n",
       "    <tr>\n",
       "      <th>204</th>\n",
       "      <td>204</td>\n",
       "      <td>13th February 2017</td>\n",
       "      <td>[\"Polish banks in watering hole attack\\nThe Po...</td>\n",
       "      <td>['Cyber threat']</td>\n",
       "      <td>https://www.ncsc.gov.uk/report/weekly-threat-r...</td>\n",
       "    </tr>\n",
       "    <tr>\n",
       "      <th>205</th>\n",
       "      <td>205</td>\n",
       "      <td>27th January 2017</td>\n",
       "      <td>[\"Twitterbots spreading fake news on the inter...</td>\n",
       "      <td>['Cyber threat']</td>\n",
       "      <td>https://www.ncsc.gov.uk/report/weekly-threat-r...</td>\n",
       "    </tr>\n",
       "    <tr>\n",
       "      <th>206</th>\n",
       "      <td>206</td>\n",
       "      <td>20th January 2017</td>\n",
       "      <td>['Password security\\nIn November 2016, a study...</td>\n",
       "      <td>['Cyber threat']</td>\n",
       "      <td>https://www.ncsc.gov.uk/report/weekly-threat-r...</td>\n",
       "    </tr>\n",
       "    <tr>\n",
       "      <th>207</th>\n",
       "      <td>207</td>\n",
       "      <td>13th January 2017</td>\n",
       "      <td>[\"The year of ransomware...\\n...is how 2016 ha...</td>\n",
       "      <td>['Cyber threat']</td>\n",
       "      <td>https://www.ncsc.gov.uk/report/weekly-threat-r...</td>\n",
       "    </tr>\n",
       "    <tr>\n",
       "      <th>208</th>\n",
       "      <td>208</td>\n",
       "      <td>6th January 2017</td>\n",
       "      <td>['Vulnerabilities in travel booking systems\\nS...</td>\n",
       "      <td>['Cyber threat']</td>\n",
       "      <td>https://www.ncsc.gov.uk/report/weekly-threat-r...</td>\n",
       "    </tr>\n",
       "    <tr>\n",
       "      <th>209</th>\n",
       "      <td>209</td>\n",
       "      <td>16th December 2016</td>\n",
       "      <td>[\"Successful take-down of DDoS for hire servic...</td>\n",
       "      <td>['Cyber threat']</td>\n",
       "      <td>https://www.ncsc.gov.uk/report/weekly-threat-r...</td>\n",
       "    </tr>\n",
       "    <tr>\n",
       "      <th>210</th>\n",
       "      <td>210</td>\n",
       "      <td>9th December 2016</td>\n",
       "      <td>['Infected routers vulnerable to further attac...</td>\n",
       "      <td>['Cyber threat']</td>\n",
       "      <td>https://www.ncsc.gov.uk/report/weekly-threat-r...</td>\n",
       "    </tr>\n",
       "    <tr>\n",
       "      <th>211</th>\n",
       "      <td>211</td>\n",
       "      <td>2nd December 2016</td>\n",
       "      <td>['Mirai targets router vulnerability\\nOn Sunda...</td>\n",
       "      <td>['Cyber threat']</td>\n",
       "      <td>https://www.ncsc.gov.uk/report/weekly-threat-r...</td>\n",
       "    </tr>\n",
       "    <tr>\n",
       "      <th>212</th>\n",
       "      <td>212</td>\n",
       "      <td>25th November 2016</td>\n",
       "      <td>['ATMS in Europe targeted by cyber criminals\\n...</td>\n",
       "      <td>['Cyber threat']</td>\n",
       "      <td>https://www.ncsc.gov.uk/report/weekly-threat-r...</td>\n",
       "    </tr>\n",
       "    <tr>\n",
       "      <th>213</th>\n",
       "      <td>213</td>\n",
       "      <td>18th November 2016</td>\n",
       "      <td>['Carbanak is Back\\nIt is being reported that ...</td>\n",
       "      <td>['Cyber threat']</td>\n",
       "      <td>https://www.ncsc.gov.uk/report/weekly-threat-r...</td>\n",
       "    </tr>\n",
       "    <tr>\n",
       "      <th>214</th>\n",
       "      <td>214</td>\n",
       "      <td>11th November 2016</td>\n",
       "      <td>[\"Threat assessment and trend analysis\\nOld Tr...</td>\n",
       "      <td>['Cyber threat']</td>\n",
       "      <td>https://www.ncsc.gov.uk/report/weekly-threat-r...</td>\n",
       "    </tr>\n",
       "    <tr>\n",
       "      <th>215</th>\n",
       "      <td>215</td>\n",
       "      <td>4th November 2016</td>\n",
       "      <td>[\"The use of social media for cyber-enabled fr...</td>\n",
       "      <td>['Cyber threat']</td>\n",
       "      <td>https://www.ncsc.gov.uk/report/weekly-threat-r...</td>\n",
       "    </tr>\n",
       "    <tr>\n",
       "      <th>216</th>\n",
       "      <td>216</td>\n",
       "      <td>28th October 2016</td>\n",
       "      <td>['Malware-infected ATMs compromise Indian debi...</td>\n",
       "      <td>['Cyber threat']</td>\n",
       "      <td>https://www.ncsc.gov.uk/report/weekly-threat-r...</td>\n",
       "    </tr>\n",
       "    <tr>\n",
       "      <th>217</th>\n",
       "      <td>217</td>\n",
       "      <td>24th October 2016</td>\n",
       "      <td>['Threat assessment and trend analysis\\nOnline...</td>\n",
       "      <td>['Cyber threat']</td>\n",
       "      <td>https://www.ncsc.gov.uk/report/weekly-threat-r...</td>\n",
       "    </tr>\n",
       "    <tr>\n",
       "      <th>218</th>\n",
       "      <td>218</td>\n",
       "      <td>17th October 2016</td>\n",
       "      <td>[\"New Trojan used in financial attacks\\nSymant...</td>\n",
       "      <td>['Cyber threat']</td>\n",
       "      <td>https://www.ncsc.gov.uk/report/weekly-threat-r...</td>\n",
       "    </tr>\n",
       "    <tr>\n",
       "      <th>219</th>\n",
       "      <td>219</td>\n",
       "      <td>10th October 2016</td>\n",
       "      <td>[\"Threat assessment and trend analysis\\nDressc...</td>\n",
       "      <td>['Cyber threat']</td>\n",
       "      <td>https://www.ncsc.gov.uk/report/weekly-threat-r...</td>\n",
       "    </tr>\n",
       "    <tr>\n",
       "      <th>220</th>\n",
       "      <td>220</td>\n",
       "      <td>29th September 2016</td>\n",
       "      <td>['Threat assessment and trend analysis\\nYahoo ...</td>\n",
       "      <td>['Cyber threat']</td>\n",
       "      <td>https://www.ncsc.gov.uk/report/weekly-threat-a...</td>\n",
       "    </tr>\n",
       "  </tbody>\n",
       "</table>\n",
       "</div>"
      ],
      "text/plain": [
       "     Unnamed: 0                Title  \\\n",
       "201         201       3rd March 2017   \n",
       "202         202   24th February 2017   \n",
       "203         203   17th February 2017   \n",
       "204         204   13th February 2017   \n",
       "205         205    27th January 2017   \n",
       "206         206    20th January 2017   \n",
       "207         207    13th January 2017   \n",
       "208         208     6th January 2017   \n",
       "209         209   16th December 2016   \n",
       "210         210    9th December 2016   \n",
       "211         211    2nd December 2016   \n",
       "212         212   25th November 2016   \n",
       "213         213   18th November 2016   \n",
       "214         214   11th November 2016   \n",
       "215         215    4th November 2016   \n",
       "216         216    28th October 2016   \n",
       "217         217    24th October 2016   \n",
       "218         218    17th October 2016   \n",
       "219         219    10th October 2016   \n",
       "220         220  29th September 2016   \n",
       "\n",
       "                                               Article            topics  \\\n",
       "201  ['Drone-enabled hacking\\nAn organisation’s mos...  ['Cyber threat']   \n",
       "202  ['Ex-employee threats to business\\nA disgruntl...  ['Cyber threat']   \n",
       "203  ['Official Launch of the National Cyber Securi...  ['Cyber threat']   \n",
       "204  [\"Polish banks in watering hole attack\\nThe Po...  ['Cyber threat']   \n",
       "205  [\"Twitterbots spreading fake news on the inter...  ['Cyber threat']   \n",
       "206  ['Password security\\nIn November 2016, a study...  ['Cyber threat']   \n",
       "207  [\"The year of ransomware...\\n...is how 2016 ha...  ['Cyber threat']   \n",
       "208  ['Vulnerabilities in travel booking systems\\nS...  ['Cyber threat']   \n",
       "209  [\"Successful take-down of DDoS for hire servic...  ['Cyber threat']   \n",
       "210  ['Infected routers vulnerable to further attac...  ['Cyber threat']   \n",
       "211  ['Mirai targets router vulnerability\\nOn Sunda...  ['Cyber threat']   \n",
       "212  ['ATMS in Europe targeted by cyber criminals\\n...  ['Cyber threat']   \n",
       "213  ['Carbanak is Back\\nIt is being reported that ...  ['Cyber threat']   \n",
       "214  [\"Threat assessment and trend analysis\\nOld Tr...  ['Cyber threat']   \n",
       "215  [\"The use of social media for cyber-enabled fr...  ['Cyber threat']   \n",
       "216  ['Malware-infected ATMs compromise Indian debi...  ['Cyber threat']   \n",
       "217  ['Threat assessment and trend analysis\\nOnline...  ['Cyber threat']   \n",
       "218  [\"New Trojan used in financial attacks\\nSymant...  ['Cyber threat']   \n",
       "219  [\"Threat assessment and trend analysis\\nDressc...  ['Cyber threat']   \n",
       "220  ['Threat assessment and trend analysis\\nYahoo ...  ['Cyber threat']   \n",
       "\n",
       "                                                 Links  \n",
       "201  https://www.ncsc.gov.uk/report/weekly-threat-r...  \n",
       "202  https://www.ncsc.gov.uk/report/weekly-threat-r...  \n",
       "203  https://www.ncsc.gov.uk/report/weekly-threat-r...  \n",
       "204  https://www.ncsc.gov.uk/report/weekly-threat-r...  \n",
       "205  https://www.ncsc.gov.uk/report/weekly-threat-r...  \n",
       "206  https://www.ncsc.gov.uk/report/weekly-threat-r...  \n",
       "207  https://www.ncsc.gov.uk/report/weekly-threat-r...  \n",
       "208  https://www.ncsc.gov.uk/report/weekly-threat-r...  \n",
       "209  https://www.ncsc.gov.uk/report/weekly-threat-r...  \n",
       "210  https://www.ncsc.gov.uk/report/weekly-threat-r...  \n",
       "211  https://www.ncsc.gov.uk/report/weekly-threat-r...  \n",
       "212  https://www.ncsc.gov.uk/report/weekly-threat-r...  \n",
       "213  https://www.ncsc.gov.uk/report/weekly-threat-r...  \n",
       "214  https://www.ncsc.gov.uk/report/weekly-threat-r...  \n",
       "215  https://www.ncsc.gov.uk/report/weekly-threat-r...  \n",
       "216  https://www.ncsc.gov.uk/report/weekly-threat-r...  \n",
       "217  https://www.ncsc.gov.uk/report/weekly-threat-r...  \n",
       "218  https://www.ncsc.gov.uk/report/weekly-threat-r...  \n",
       "219  https://www.ncsc.gov.uk/report/weekly-threat-r...  \n",
       "220  https://www.ncsc.gov.uk/report/weekly-threat-a...  "
      ]
     },
     "execution_count": 23,
     "metadata": {},
     "output_type": "execute_result"
    }
   ],
   "source": [
    "df.tail(20)"
   ]
  },
  {
   "cell_type": "markdown",
   "id": "4b5034b0-02ea-4319-b020-fdd4409fb821",
   "metadata": {},
   "source": [
    "The last lot of entries are classified purely as \"Cyber threat\" and therefore do not suggest and particularly interesting conclusions we would be able to draw from them."
   ]
  },
  {
   "cell_type": "markdown",
   "id": "ac4a0f64-77b8-445d-b1c5-dcbc5824d275",
   "metadata": {},
   "source": [
    "## References\n",
    "\n",
    "[Spark Documentation](https://spark.apache.org/docs/latest/ml-clustering.html)\n",
    "\n",
    "[Further Spark Documentation (RDD)](https://spark.apache.org/docs/latest/mllib-clustering.html)\n",
    "\n",
    "[Official Spark GitHub Repo - contains many examples](https://github.com/apache/spark)"
   ]
  }
 ],
 "metadata": {
  "kernelspec": {
   "display_name": "Python 3",
   "language": "python",
   "name": "python3"
  },
  "language_info": {
   "codemirror_mode": {
    "name": "ipython",
    "version": 3
   },
   "file_extension": ".py",
   "mimetype": "text/x-python",
   "name": "python",
   "nbconvert_exporter": "python",
   "pygments_lexer": "ipython3",
   "version": "3.8.8"
  }
 },
 "nbformat": 4,
 "nbformat_minor": 5
}
